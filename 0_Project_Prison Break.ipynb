{
 "cells": [
  {
   "cell_type": "markdown",
   "metadata": {},
   "source": [
    "<img src=\"assets/Prison_Break_logo.png\" width=\"300\" style=\"margin-left:auto; margin-right:auto\" />\n",
    "\n",
    "<h1><center>Project: Prison Break</center></h1>\n",
    "\n",
    "Prison breaks have long captured public fascination, embodying both the intrigue of strategic evasion and the challenges of confinement. This data science project embarks on an exploration of these daring attempts, leveraging raw Python data analysis skills to unravel underlying insights from a dataset tracking prison escape endeavors.\n",
    "\n",
    "The focus of this project centers on understanding the dynamics and patterns within prison breaks. By delving into historical data, we aim to explore success rates, and identify any discernible patterns across different countries. The primary objective of this project is to showcase proficiency in data analysis using Python. By employing fundamental data manipulation and visualization.\n",
    "\n",
    "Lets start.\n",
    "\n",
    "*This project was completed as part of the Data Science Career Path offered by dataquest.io.*"
   ]
  },
  {
   "cell_type": "markdown",
   "metadata": {},
   "source": [
    "#### Importing Helper Functions"
   ]
  },
  {
   "cell_type": "code",
   "execution_count": null,
   "metadata": {
    "scrolled": true
   },
   "outputs": [],
   "source": [
    "import helper import *"
   ]
  },
  {
   "cell_type": "markdown",
   "metadata": {},
   "source": [
    "#### Get the Data"
   ]
  },
  {
   "cell_type": "markdown",
   "metadata": {},
   "source": [
    "Now lets get the data from the [List of helicoper prison escapes](https://en.wikipedia.org/wiki/List_of_helicopter_prison_escapes) Wikipedia Article"
   ]
  },
  {
   "cell_type": "code",
   "execution_count": null,
   "metadata": {},
   "outputs": [],
   "source": [
    "url = 'https://en.wikipedia.org/wiki/List_of_helicopter_prison_escapes' #wikipedia url"
   ]
  },
  {
   "cell_type": "code",
   "execution_count": null,
   "metadata": {},
   "outputs": [],
   "source": [
    "data = data_from_url(url)"
   ]
  },
  {
   "cell_type": "markdown",
   "metadata": {},
   "source": [
    "#### First Three Rows "
   ]
  },
  {
   "cell_type": "code",
   "execution_count": null,
   "metadata": {},
   "outputs": [],
   "source": [
    "print(data[:3])"
   ]
  },
  {
   "cell_type": "markdown",
   "metadata": {},
   "source": [
    "#### Process the Data\n",
    "First we are going to initialize an index variable with the value of 0. In the for loop, we remove the last entry of every row and increase the index value. The purpose of the index variable is to help us track which row we're modifying."
   ]
  },
  {
   "cell_type": "code",
   "execution_count": null,
   "metadata": {},
   "outputs": [],
   "source": [
    "index = 0\n",
    "\n",
    "for row in data:\n",
    "    data[index] = row[:-1]\n",
    "    index += 1"
   ]
  },
  {
   "cell_type": "code",
   "execution_count": null,
   "metadata": {},
   "outputs": [],
   "source": [
    "print(data[:3])"
   ]
  },
  {
   "cell_type": "markdown",
   "metadata": {},
   "source": [
    "#### Extract the year\n",
    "In the code below, we iterate over data and extract the year out of the date in row[0] with fetch_year(). We assign the value (the year that we just extracted) back to row[0]."
   ]
  },
  {
   "cell_type": "code",
   "execution_count": null,
   "metadata": {},
   "outputs": [],
   "source": [
    "for row in data:\n",
    "    row[0] = fetch_year(row[0]) ##fetch_year() extracts the year of row[0]"
   ]
  },
  {
   "cell_type": "code",
   "execution_count": null,
   "metadata": {},
   "outputs": [],
   "source": [
    "print(data[:3])"
   ]
  },
  {
   "cell_type": "markdown",
   "metadata": {},
   "source": [
    "Let's check what are the earliest and latest dates we have in our dataset."
   ]
  },
  {
   "cell_type": "code",
   "execution_count": null,
   "metadata": {},
   "outputs": [],
   "source": [
    "min_year = min(data, key=lambda x: x[0])[0]\n",
    "max_year = max(data, key=lambda x: x[0])[0]\n",
    "\n",
    "print(min_year)\n",
    "print(max_year)"
   ]
  },
  {
   "cell_type": "markdown",
   "metadata": {},
   "source": [
    "Next, we'll generate a comprehensive list of years spanning from the minimum year to the maximum year. Our objective is to analyze the frequency of prison break attempts for each individual year. Given that the dataset excludes years without any prison breaks, this approach ensures we account for all instances."
   ]
  },
  {
   "cell_type": "code",
   "execution_count": null,
   "metadata": {},
   "outputs": [],
   "source": [
    "years = []\n",
    "\n",
    "for year in range(min_year, max_year + 1):\n",
    "    years.append(year)"
   ]
  },
  {
   "cell_type": "markdown",
   "metadata": {},
   "source": [
    "Let's print years to see if it looks right."
   ]
  },
  {
   "cell_type": "code",
   "execution_count": null,
   "metadata": {},
   "outputs": [],
   "source": [
    "print(years)"
   ]
  },
  {
   "cell_type": "markdown",
   "metadata": {},
   "source": [
    "Following that, we'll generate a list structured such that each element takes the form of [year, 0]."
   ]
  },
  {
   "cell_type": "code",
   "execution_count": null,
   "metadata": {},
   "outputs": [],
   "source": [
    "attempts_per_year = []\n",
    "attempt = 0\n",
    "\n",
    "for year in years:\n",
    "    attempts_per_year.append([year, attempt])"
   ]
  },
  {
   "cell_type": "code",
   "execution_count": null,
   "metadata": {
    "scrolled": true
   },
   "outputs": [],
   "source": [
    "print(attempts_per_year)"
   ]
  },
  {
   "cell_type": "code",
   "execution_count": null,
   "metadata": {},
   "outputs": [],
   "source": [
    "print(attempts_per_year[1])"
   ]
  },
  {
   "cell_type": "markdown",
   "metadata": {},
   "source": [
    "Ultimately, we increase the value of the second entry (initially set as 0 and located at index 1) by 1 whenever a year is encountered within the dataset."
   ]
  },
  {
   "cell_type": "code",
   "execution_count": null,
   "metadata": {},
   "outputs": [],
   "source": [
    "for row in data:\n",
    "    for year_attempt in attempts_per_year:\n",
    "        year = year_attempt[0]\n",
    "        if row[0] == year:\n",
    "            year_attempt[1] += 1\n",
    "            \n",
    "print(attempts_per_year)"
   ]
  },
  {
   "cell_type": "markdown",
   "metadata": {},
   "source": [
    "#### Question 1: In which year did the most attempts at breaking out of prison with a helicopter occur?"
   ]
  },
  {
   "cell_type": "code",
   "execution_count": null,
   "metadata": {},
   "outputs": [],
   "source": [
    "%matplotlib inline\n",
    "barplot(attempts_per_year)"
   ]
  },
  {
   "cell_type": "markdown",
   "metadata": {},
   "source": [
    "With a total of three attempts each, the most helicopter prison break attempts occurred in 1986, 2001, 2007 and 2009."
   ]
  },
  {
   "cell_type": "markdown",
   "metadata": {},
   "source": [
    "#### Question 2: In which countries do the most attempted helicopter prison escapes occur?"
   ]
  },
  {
   "cell_type": "code",
   "execution_count": null,
   "metadata": {},
   "outputs": [],
   "source": [
    "countries_frequency = df['Country'].value_counts()\n",
    "countries_frequency"
   ]
  },
  {
   "cell_type": "markdown",
   "metadata": {},
   "source": [
    "The country with the most helicopter prison escape attempts is France."
   ]
  },
  {
   "cell_type": "markdown",
   "metadata": {},
   "source": [
    "#### Question 3: In which countries do helicopter prison breaks have a higher chance of success?"
   ]
  },
  {
   "cell_type": "code",
   "execution_count": null,
   "metadata": {},
   "outputs": [],
   "source": [
    "succeeded = df['Succeeded'] == 'Yes'\n",
    "success_rate = round(df[succeeded]['Country'].value_counts() / df['Country'].value_counts(), 2).sort_values(ascending=False).fillna(0)\n",
    "success_rate"
   ]
  },
  {
   "cell_type": "code",
   "execution_count": null,
   "metadata": {},
   "outputs": [],
   "source": [
    "df[succeeded]['Country'].value_counts()"
   ]
  },
  {
   "cell_type": "markdown",
   "metadata": {
    "scrolled": true
   },
   "source": [
    "Brazil exhibits the highest success rate in multiple attempts, achieving a perfect record of two successful prison breaks out of two attempts. France, despite having the highest frequency of escape attempts, demonstrates a success rate of 73%, with 11 successful prison breaks out of 15 attempts. Conversely, the United States attains a success rate of 75%, with 6 successful prison breaks out of 8 attempts."
   ]
  },
  {
   "cell_type": "markdown",
   "metadata": {},
   "source": [
    "#### Question 4: Which escapees have done it more than once?"
   ]
  },
  {
   "cell_type": "code",
   "execution_count": null,
   "metadata": {},
   "outputs": [],
   "source": [
    "df['Escapee(s)'].value_counts()"
   ]
  },
  {
   "cell_type": "markdown",
   "metadata": {},
   "source": [
    "Pascal Payet and Michel Vaujour made two escape attempts each, constituting the exceptions in the group of escapees. All other individuals attempted to escape only once, distinguishing a consistent pattern among the remaining escapees."
   ]
  },
  {
   "cell_type": "markdown",
   "metadata": {},
   "source": [
    "#### Conclusion"
   ]
  },
  {
   "cell_type": "markdown",
   "metadata": {},
   "source": [
    "Upon thorough analysis of the dataset, it can be deduced that the years 1986, 2001, 2007, and 2009 witnessed the highest number of prison break attempts involving helicopters. Notably, France emerged as the country with the most unequivocal dominance in such attempts. Concerning the success rate, France demonstrated a notable 73% success rate, while the United States exhibited a slightly higher rate of 75%. Additionally, the analysis identified two individuals who undertook multiple attempts to escape prison.\n",
    "\n",
    "\n",
    "- The first individual is Pascal Payet, born on 7 July 1963 in France, who gained notoriety for audacious prison escapes utilizing hijacked helicopters.\n",
    "\n",
    "- The second individual is Michel Vaujour, born on 16 January 1951 in France, notable for twelve convictions, encompassing a cumulative 27 years in prison, including 17 years in maximum-security facilities. Vaujour faced an additional three-year sentence due to organized crime and six attempted escapes, two of which, as per our analysis, involved the utilization of helicopters."
   ]
  },
  {
   "cell_type": "code",
   "execution_count": null,
   "metadata": {},
   "outputs": [],
   "source": []
  }
 ],
 "metadata": {
  "kernelspec": {
   "display_name": "Python 3 (ipykernel)",
   "language": "python",
   "name": "python3"
  },
  "language_info": {
   "codemirror_mode": {
    "name": "ipython",
    "version": 3
   },
   "file_extension": ".py",
   "mimetype": "text/x-python",
   "name": "python",
   "nbconvert_exporter": "python",
   "pygments_lexer": "ipython3",
   "version": "3.8.18"
  }
 },
 "nbformat": 4,
 "nbformat_minor": 4
}
