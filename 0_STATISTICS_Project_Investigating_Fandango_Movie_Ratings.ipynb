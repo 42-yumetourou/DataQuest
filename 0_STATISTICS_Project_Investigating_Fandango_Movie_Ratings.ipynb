{
 "cells": [
  {
   "cell_type": "markdown",
   "metadata": {},
   "source": [
    "<img src=\"attachment:b1ac0ee6-95af-4bd6-844e-4fd3a254a850.gif\" width=\"350\" style=\"margin-left:auto; margin-right:auto\" />\n",
    "<h1><center>Project: Investigating Fandango Movie Ratings</center></h1>\n",
    "\n",
    "#### The Goal\n",
    "In this project, we'll analyze more recent movie ratings data to determine whether there has been any change in Fandango's rating system after a data journalist named Walt Hickey analyzed movie ratings data.\n",
    "\n",
    "#### The Scenario\n",
    "\n",
    "In October 2015, data journalist Walt Hickey conducted an analysis of movie ratings data, uncovering compelling evidence indicating bias and dishonesty within [Fandango's](https://www.fandango.com/region-error) (the site can only be accessed in the USA) rating system, an online movie ratings aggregator. His findings, presented in a remarkable [piece](https://fivethirtyeight.com/features/fandango-movies-ratings/) of data journalism, shed light on significant insights regarding Fandango's rating practices, which merit thorough examination.\n",
    "\n",
    "Fandango employs a 5-star rating system on its platform, with ratings ranging from 0 stars as the minimum to 5 stars as the maximum. Hickey's analysis revealed a substantial inconsistency between the star ratings presented to users and the actual ratings embedded within the HTML of the page. His investigation unveiled the following findings:\n",
    "\n",
    "- The actual ratings were consistently rounded up to the nearest half-star, rather than rounding to the nearest whole number. For instance, a movie with a rating of 4.1 would be rounded to 4.5 stars instead of 4 stars.\n",
    "\n",
    "- Approximately 8% of the analyzed ratings were rounded up to the nearest whole star, deviating from the expected half-star rounding. For example, a rating of 4.5 would be rounded to 5 stars.\n",
    "\n",
    "- An anomaly was observed in one instance, where a rating of 4 in the HTML was displayed as 5 stars, indicating a somewhat rounding discrepancy.\n",
    "\n",
    "<img src=\"attachment:81c8bf5c-08b3-4776-a229-de8d99e297ab.png\" width=\"350\" style=\"margin-left:auto; margin-right:auto\" /><center>source: [FiveThirtyEight](https://fivethirtyeight.com/features/fandango-movies-ratings/)</center>\n",
    "\n",
    "The visualizations presented above show two distributions of movie ratings utilizing a simple line plot. The variable under examination is the movie rating, with each unique rating represented by its relative frequency (expressed as a percentage) along the y-axis. In reports targeting broader audiences, relative frequencies, particularly percentages, are favored over absolute frequencies. Both distributions exhibit noticable left skewness, indicating that movie ratings on Fandango predominantly fall within the high or very high range. Notably, no ratings below 2 stars are observed in the sample analyzed by Hickey. Moreover, the distribution of displayed ratings is visibly right-shifted in comparison to the actual rating distribution, strongly suggesting that Fandango inflates ratings behind the scenes.\n",
    "\n",
    "#### The Data\n",
    "\n",
    "The data that we will use for this analysis is, on the one hand, that of the journalist Walt Hickery. He publicly shared the dataset he examined on [GitHub](https://github.com/fivethirtyeight/data/tree/master/fandango). We will use this dataset to scrutinize the attributes of Fandango's rating system before his analysis. \n",
    "\n",
    "To compare the system's characteristics after the analysis, we will use the data, made available through one of the dataquest team member. The member gathered movie ratings data for films released between 2016 and 2017, which is also accessible on [GitHub](https://github.com/mircealex/Movie_ratings_2016_17).\n",
    "\n",
    "Lets start.\n",
    "\n",
    "*This project was completed as part of the Data Science Career Path offered by dataquest.io.*"
   ]
  },
  {
   "cell_type": "code",
   "execution_count": 1,
   "metadata": {},
   "outputs": [],
   "source": [
    "# Import packages\n",
    "import pandas as pd\n",
    "import seaborn as sns\n",
    "\n",
    "# Import packages for visualization\n",
    "import matplotlib.pyplot as plt\n",
    "from numpy import arange\n",
    "\n",
    "%matplotlib inline\n",
    "plt.style.use('fivethirtyeight')"
   ]
  },
  {
   "cell_type": "markdown",
   "metadata": {},
   "source": [
    "#### Understanding the Data\n",
    "\n",
    "We will analyze two samples of movie ratings: one collected before `Hickey's` analysis and the other collected after. Let's begin by importing and examining the structure of these two samples.\r\n",
    "\r\n",
    "\r\n",
    "\r\n"
   ]
  },
  {
   "cell_type": "code",
   "execution_count": 2,
   "metadata": {},
   "outputs": [],
   "source": [
    "# Import the relevant datasets\n",
    "hickery_data = pd.read_csv('fandango_score_comparison.csv')\n",
    "dataquest_data = pd.read_csv('movie_ratings_16_17.csv')"
   ]
  },
  {
   "cell_type": "code",
   "execution_count": 3,
   "metadata": {},
   "outputs": [
    {
     "data": {
      "text/html": [
       "<div>\n",
       "<style scoped>\n",
       "    .dataframe tbody tr th:only-of-type {\n",
       "        vertical-align: middle;\n",
       "    }\n",
       "\n",
       "    .dataframe tbody tr th {\n",
       "        vertical-align: top;\n",
       "    }\n",
       "\n",
       "    .dataframe thead th {\n",
       "        text-align: right;\n",
       "    }\n",
       "</style>\n",
       "<table border=\"1\" class=\"dataframe\">\n",
       "  <thead>\n",
       "    <tr style=\"text-align: right;\">\n",
       "      <th></th>\n",
       "      <th>FILM</th>\n",
       "      <th>RottenTomatoes</th>\n",
       "      <th>RottenTomatoes_User</th>\n",
       "      <th>Metacritic</th>\n",
       "      <th>Metacritic_User</th>\n",
       "      <th>IMDB</th>\n",
       "      <th>Fandango_Stars</th>\n",
       "      <th>Fandango_Ratingvalue</th>\n",
       "      <th>RT_norm</th>\n",
       "      <th>RT_user_norm</th>\n",
       "      <th>...</th>\n",
       "      <th>IMDB_norm</th>\n",
       "      <th>RT_norm_round</th>\n",
       "      <th>RT_user_norm_round</th>\n",
       "      <th>Metacritic_norm_round</th>\n",
       "      <th>Metacritic_user_norm_round</th>\n",
       "      <th>IMDB_norm_round</th>\n",
       "      <th>Metacritic_user_vote_count</th>\n",
       "      <th>IMDB_user_vote_count</th>\n",
       "      <th>Fandango_votes</th>\n",
       "      <th>Fandango_Difference</th>\n",
       "    </tr>\n",
       "  </thead>\n",
       "  <tbody>\n",
       "    <tr>\n",
       "      <th>0</th>\n",
       "      <td>Avengers: Age of Ultron (2015)</td>\n",
       "      <td>74</td>\n",
       "      <td>86</td>\n",
       "      <td>66</td>\n",
       "      <td>7.1</td>\n",
       "      <td>7.8</td>\n",
       "      <td>5.0</td>\n",
       "      <td>4.5</td>\n",
       "      <td>3.70</td>\n",
       "      <td>4.3</td>\n",
       "      <td>...</td>\n",
       "      <td>3.90</td>\n",
       "      <td>3.5</td>\n",
       "      <td>4.5</td>\n",
       "      <td>3.5</td>\n",
       "      <td>3.5</td>\n",
       "      <td>4.0</td>\n",
       "      <td>1330</td>\n",
       "      <td>271107</td>\n",
       "      <td>14846</td>\n",
       "      <td>0.5</td>\n",
       "    </tr>\n",
       "    <tr>\n",
       "      <th>1</th>\n",
       "      <td>Cinderella (2015)</td>\n",
       "      <td>85</td>\n",
       "      <td>80</td>\n",
       "      <td>67</td>\n",
       "      <td>7.5</td>\n",
       "      <td>7.1</td>\n",
       "      <td>5.0</td>\n",
       "      <td>4.5</td>\n",
       "      <td>4.25</td>\n",
       "      <td>4.0</td>\n",
       "      <td>...</td>\n",
       "      <td>3.55</td>\n",
       "      <td>4.5</td>\n",
       "      <td>4.0</td>\n",
       "      <td>3.5</td>\n",
       "      <td>4.0</td>\n",
       "      <td>3.5</td>\n",
       "      <td>249</td>\n",
       "      <td>65709</td>\n",
       "      <td>12640</td>\n",
       "      <td>0.5</td>\n",
       "    </tr>\n",
       "    <tr>\n",
       "      <th>2</th>\n",
       "      <td>Ant-Man (2015)</td>\n",
       "      <td>80</td>\n",
       "      <td>90</td>\n",
       "      <td>64</td>\n",
       "      <td>8.1</td>\n",
       "      <td>7.8</td>\n",
       "      <td>5.0</td>\n",
       "      <td>4.5</td>\n",
       "      <td>4.00</td>\n",
       "      <td>4.5</td>\n",
       "      <td>...</td>\n",
       "      <td>3.90</td>\n",
       "      <td>4.0</td>\n",
       "      <td>4.5</td>\n",
       "      <td>3.0</td>\n",
       "      <td>4.0</td>\n",
       "      <td>4.0</td>\n",
       "      <td>627</td>\n",
       "      <td>103660</td>\n",
       "      <td>12055</td>\n",
       "      <td>0.5</td>\n",
       "    </tr>\n",
       "    <tr>\n",
       "      <th>3</th>\n",
       "      <td>Do You Believe? (2015)</td>\n",
       "      <td>18</td>\n",
       "      <td>84</td>\n",
       "      <td>22</td>\n",
       "      <td>4.7</td>\n",
       "      <td>5.4</td>\n",
       "      <td>5.0</td>\n",
       "      <td>4.5</td>\n",
       "      <td>0.90</td>\n",
       "      <td>4.2</td>\n",
       "      <td>...</td>\n",
       "      <td>2.70</td>\n",
       "      <td>1.0</td>\n",
       "      <td>4.0</td>\n",
       "      <td>1.0</td>\n",
       "      <td>2.5</td>\n",
       "      <td>2.5</td>\n",
       "      <td>31</td>\n",
       "      <td>3136</td>\n",
       "      <td>1793</td>\n",
       "      <td>0.5</td>\n",
       "    </tr>\n",
       "    <tr>\n",
       "      <th>4</th>\n",
       "      <td>Hot Tub Time Machine 2 (2015)</td>\n",
       "      <td>14</td>\n",
       "      <td>28</td>\n",
       "      <td>29</td>\n",
       "      <td>3.4</td>\n",
       "      <td>5.1</td>\n",
       "      <td>3.5</td>\n",
       "      <td>3.0</td>\n",
       "      <td>0.70</td>\n",
       "      <td>1.4</td>\n",
       "      <td>...</td>\n",
       "      <td>2.55</td>\n",
       "      <td>0.5</td>\n",
       "      <td>1.5</td>\n",
       "      <td>1.5</td>\n",
       "      <td>1.5</td>\n",
       "      <td>2.5</td>\n",
       "      <td>88</td>\n",
       "      <td>19560</td>\n",
       "      <td>1021</td>\n",
       "      <td>0.5</td>\n",
       "    </tr>\n",
       "  </tbody>\n",
       "</table>\n",
       "<p>5 rows × 22 columns</p>\n",
       "</div>"
      ],
      "text/plain": [
       "                             FILM  RottenTomatoes  RottenTomatoes_User  \\\n",
       "0  Avengers: Age of Ultron (2015)              74                   86   \n",
       "1               Cinderella (2015)              85                   80   \n",
       "2                  Ant-Man (2015)              80                   90   \n",
       "3          Do You Believe? (2015)              18                   84   \n",
       "4   Hot Tub Time Machine 2 (2015)              14                   28   \n",
       "\n",
       "   Metacritic  Metacritic_User  IMDB  Fandango_Stars  Fandango_Ratingvalue  \\\n",
       "0          66              7.1   7.8             5.0                   4.5   \n",
       "1          67              7.5   7.1             5.0                   4.5   \n",
       "2          64              8.1   7.8             5.0                   4.5   \n",
       "3          22              4.7   5.4             5.0                   4.5   \n",
       "4          29              3.4   5.1             3.5                   3.0   \n",
       "\n",
       "   RT_norm  RT_user_norm  ...  IMDB_norm  RT_norm_round  RT_user_norm_round  \\\n",
       "0     3.70           4.3  ...       3.90            3.5                 4.5   \n",
       "1     4.25           4.0  ...       3.55            4.5                 4.0   \n",
       "2     4.00           4.5  ...       3.90            4.0                 4.5   \n",
       "3     0.90           4.2  ...       2.70            1.0                 4.0   \n",
       "4     0.70           1.4  ...       2.55            0.5                 1.5   \n",
       "\n",
       "   Metacritic_norm_round  Metacritic_user_norm_round  IMDB_norm_round  \\\n",
       "0                    3.5                         3.5              4.0   \n",
       "1                    3.5                         4.0              3.5   \n",
       "2                    3.0                         4.0              4.0   \n",
       "3                    1.0                         2.5              2.5   \n",
       "4                    1.5                         1.5              2.5   \n",
       "\n",
       "   Metacritic_user_vote_count  IMDB_user_vote_count  Fandango_votes  \\\n",
       "0                        1330                271107           14846   \n",
       "1                         249                 65709           12640   \n",
       "2                         627                103660           12055   \n",
       "3                          31                  3136            1793   \n",
       "4                          88                 19560            1021   \n",
       "\n",
       "   Fandango_Difference  \n",
       "0                  0.5  \n",
       "1                  0.5  \n",
       "2                  0.5  \n",
       "3                  0.5  \n",
       "4                  0.5  \n",
       "\n",
       "[5 rows x 22 columns]"
      ]
     },
     "execution_count": 3,
     "metadata": {},
     "output_type": "execute_result"
    }
   ],
   "source": [
    "# Brief overview of the Hickery dataset\n",
    "hickery_data.head()"
   ]
  },
  {
   "cell_type": "code",
   "execution_count": 4,
   "metadata": {},
   "outputs": [
    {
     "name": "stdout",
     "output_type": "stream",
     "text": [
      "<class 'pandas.core.frame.DataFrame'>\n",
      "RangeIndex: 146 entries, 0 to 145\n",
      "Data columns (total 22 columns):\n",
      " #   Column                      Non-Null Count  Dtype  \n",
      "---  ------                      --------------  -----  \n",
      " 0   FILM                        146 non-null    object \n",
      " 1   RottenTomatoes              146 non-null    int64  \n",
      " 2   RottenTomatoes_User         146 non-null    int64  \n",
      " 3   Metacritic                  146 non-null    int64  \n",
      " 4   Metacritic_User             146 non-null    float64\n",
      " 5   IMDB                        146 non-null    float64\n",
      " 6   Fandango_Stars              146 non-null    float64\n",
      " 7   Fandango_Ratingvalue        146 non-null    float64\n",
      " 8   RT_norm                     146 non-null    float64\n",
      " 9   RT_user_norm                146 non-null    float64\n",
      " 10  Metacritic_norm             146 non-null    float64\n",
      " 11  Metacritic_user_nom         146 non-null    float64\n",
      " 12  IMDB_norm                   146 non-null    float64\n",
      " 13  RT_norm_round               146 non-null    float64\n",
      " 14  RT_user_norm_round          146 non-null    float64\n",
      " 15  Metacritic_norm_round       146 non-null    float64\n",
      " 16  Metacritic_user_norm_round  146 non-null    float64\n",
      " 17  IMDB_norm_round             146 non-null    float64\n",
      " 18  Metacritic_user_vote_count  146 non-null    int64  \n",
      " 19  IMDB_user_vote_count        146 non-null    int64  \n",
      " 20  Fandango_votes              146 non-null    int64  \n",
      " 21  Fandango_Difference         146 non-null    float64\n",
      "dtypes: float64(15), int64(6), object(1)\n",
      "memory usage: 25.2+ KB\n"
     ]
    }
   ],
   "source": [
    "# Brief overview of the Hickery dataset\n",
    "hickery_data.info()"
   ]
  },
  {
   "cell_type": "code",
   "execution_count": 5,
   "metadata": {
    "scrolled": true
   },
   "outputs": [
    {
     "data": {
      "text/html": [
       "<div>\n",
       "<style scoped>\n",
       "    .dataframe tbody tr th:only-of-type {\n",
       "        vertical-align: middle;\n",
       "    }\n",
       "\n",
       "    .dataframe tbody tr th {\n",
       "        vertical-align: top;\n",
       "    }\n",
       "\n",
       "    .dataframe thead th {\n",
       "        text-align: right;\n",
       "    }\n",
       "</style>\n",
       "<table border=\"1\" class=\"dataframe\">\n",
       "  <thead>\n",
       "    <tr style=\"text-align: right;\">\n",
       "      <th></th>\n",
       "      <th>movie</th>\n",
       "      <th>year</th>\n",
       "      <th>metascore</th>\n",
       "      <th>imdb</th>\n",
       "      <th>tmeter</th>\n",
       "      <th>audience</th>\n",
       "      <th>fandango</th>\n",
       "      <th>n_metascore</th>\n",
       "      <th>n_imdb</th>\n",
       "      <th>n_tmeter</th>\n",
       "      <th>n_audience</th>\n",
       "      <th>nr_metascore</th>\n",
       "      <th>nr_imdb</th>\n",
       "      <th>nr_tmeter</th>\n",
       "      <th>nr_audience</th>\n",
       "    </tr>\n",
       "  </thead>\n",
       "  <tbody>\n",
       "    <tr>\n",
       "      <th>0</th>\n",
       "      <td>10 Cloverfield Lane</td>\n",
       "      <td>2016</td>\n",
       "      <td>76</td>\n",
       "      <td>7.2</td>\n",
       "      <td>90</td>\n",
       "      <td>79</td>\n",
       "      <td>3.5</td>\n",
       "      <td>3.80</td>\n",
       "      <td>3.60</td>\n",
       "      <td>4.50</td>\n",
       "      <td>3.95</td>\n",
       "      <td>4.0</td>\n",
       "      <td>3.5</td>\n",
       "      <td>4.5</td>\n",
       "      <td>4.0</td>\n",
       "    </tr>\n",
       "    <tr>\n",
       "      <th>1</th>\n",
       "      <td>13 Hours</td>\n",
       "      <td>2016</td>\n",
       "      <td>48</td>\n",
       "      <td>7.3</td>\n",
       "      <td>50</td>\n",
       "      <td>83</td>\n",
       "      <td>4.5</td>\n",
       "      <td>2.40</td>\n",
       "      <td>3.65</td>\n",
       "      <td>2.50</td>\n",
       "      <td>4.15</td>\n",
       "      <td>2.5</td>\n",
       "      <td>3.5</td>\n",
       "      <td>2.5</td>\n",
       "      <td>4.0</td>\n",
       "    </tr>\n",
       "    <tr>\n",
       "      <th>2</th>\n",
       "      <td>A Cure for Wellness</td>\n",
       "      <td>2016</td>\n",
       "      <td>47</td>\n",
       "      <td>6.6</td>\n",
       "      <td>40</td>\n",
       "      <td>47</td>\n",
       "      <td>3.0</td>\n",
       "      <td>2.35</td>\n",
       "      <td>3.30</td>\n",
       "      <td>2.00</td>\n",
       "      <td>2.35</td>\n",
       "      <td>2.5</td>\n",
       "      <td>3.5</td>\n",
       "      <td>2.0</td>\n",
       "      <td>2.5</td>\n",
       "    </tr>\n",
       "    <tr>\n",
       "      <th>3</th>\n",
       "      <td>A Dog's Purpose</td>\n",
       "      <td>2017</td>\n",
       "      <td>43</td>\n",
       "      <td>5.2</td>\n",
       "      <td>33</td>\n",
       "      <td>76</td>\n",
       "      <td>4.5</td>\n",
       "      <td>2.15</td>\n",
       "      <td>2.60</td>\n",
       "      <td>1.65</td>\n",
       "      <td>3.80</td>\n",
       "      <td>2.0</td>\n",
       "      <td>2.5</td>\n",
       "      <td>1.5</td>\n",
       "      <td>4.0</td>\n",
       "    </tr>\n",
       "    <tr>\n",
       "      <th>4</th>\n",
       "      <td>A Hologram for the King</td>\n",
       "      <td>2016</td>\n",
       "      <td>58</td>\n",
       "      <td>6.1</td>\n",
       "      <td>70</td>\n",
       "      <td>57</td>\n",
       "      <td>3.0</td>\n",
       "      <td>2.90</td>\n",
       "      <td>3.05</td>\n",
       "      <td>3.50</td>\n",
       "      <td>2.85</td>\n",
       "      <td>3.0</td>\n",
       "      <td>3.0</td>\n",
       "      <td>3.5</td>\n",
       "      <td>3.0</td>\n",
       "    </tr>\n",
       "  </tbody>\n",
       "</table>\n",
       "</div>"
      ],
      "text/plain": [
       "                     movie  year  metascore  imdb  tmeter  audience  fandango  \\\n",
       "0      10 Cloverfield Lane  2016         76   7.2      90        79       3.5   \n",
       "1                 13 Hours  2016         48   7.3      50        83       4.5   \n",
       "2      A Cure for Wellness  2016         47   6.6      40        47       3.0   \n",
       "3          A Dog's Purpose  2017         43   5.2      33        76       4.5   \n",
       "4  A Hologram for the King  2016         58   6.1      70        57       3.0   \n",
       "\n",
       "   n_metascore  n_imdb  n_tmeter  n_audience  nr_metascore  nr_imdb  \\\n",
       "0         3.80    3.60      4.50        3.95           4.0      3.5   \n",
       "1         2.40    3.65      2.50        4.15           2.5      3.5   \n",
       "2         2.35    3.30      2.00        2.35           2.5      3.5   \n",
       "3         2.15    2.60      1.65        3.80           2.0      2.5   \n",
       "4         2.90    3.05      3.50        2.85           3.0      3.0   \n",
       "\n",
       "   nr_tmeter  nr_audience  \n",
       "0        4.5          4.0  \n",
       "1        2.5          4.0  \n",
       "2        2.0          2.5  \n",
       "3        1.5          4.0  \n",
       "4        3.5          3.0  "
      ]
     },
     "execution_count": 5,
     "metadata": {},
     "output_type": "execute_result"
    }
   ],
   "source": [
    "# Brief overview of the Dataquest dataset\n",
    "dataquest_data.head()"
   ]
  },
  {
   "cell_type": "code",
   "execution_count": 6,
   "metadata": {
    "scrolled": true
   },
   "outputs": [
    {
     "name": "stdout",
     "output_type": "stream",
     "text": [
      "<class 'pandas.core.frame.DataFrame'>\n",
      "RangeIndex: 214 entries, 0 to 213\n",
      "Data columns (total 15 columns):\n",
      " #   Column        Non-Null Count  Dtype  \n",
      "---  ------        --------------  -----  \n",
      " 0   movie         214 non-null    object \n",
      " 1   year          214 non-null    int64  \n",
      " 2   metascore     214 non-null    int64  \n",
      " 3   imdb          214 non-null    float64\n",
      " 4   tmeter        214 non-null    int64  \n",
      " 5   audience      214 non-null    int64  \n",
      " 6   fandango      214 non-null    float64\n",
      " 7   n_metascore   214 non-null    float64\n",
      " 8   n_imdb        214 non-null    float64\n",
      " 9   n_tmeter      214 non-null    float64\n",
      " 10  n_audience    214 non-null    float64\n",
      " 11  nr_metascore  214 non-null    float64\n",
      " 12  nr_imdb       214 non-null    float64\n",
      " 13  nr_tmeter     214 non-null    float64\n",
      " 14  nr_audience   214 non-null    float64\n",
      "dtypes: float64(10), int64(4), object(1)\n",
      "memory usage: 25.2+ KB\n"
     ]
    }
   ],
   "source": [
    "# Brief overview of the Dataquest dataset\n",
    "dataquest_data.info()"
   ]
  },
  {
   "cell_type": "markdown",
   "metadata": {},
   "source": [
    "Both datasets are free from of any missing values (NaN). The `Hickey` dataset comprises 146 entries, whereas the `Dataquest` dataset comprises 214 entries. Now, let's extract the columns containing `Fandango's` ratings information into separate variables to facilitate easier access to the specific data we're interested in for subsequent analysis. We'll make copies to avoid any `SettingWithCopyWarning`.\r\n",
    "\r\n",
    "\r\n"
   ]
  },
  {
   "cell_type": "code",
   "execution_count": 7,
   "metadata": {},
   "outputs": [],
   "source": [
    "# Fandango columns of interest\n",
    "fd_columns = ['FILM', 'Fandango_Stars', 'Fandango_Ratingvalue', 'Fandango_votes', 'Fandango_Difference']\n",
    "\n",
    "# Use the created column variable to extract just the relevant columns\n",
    "fd_before = hickery_data[fd_columns].copy()\n",
    "\n",
    "# Dataquest columns of interest\n",
    "dq_columns = ['movie', 'year', 'fandango']\n",
    "\n",
    "# Use the created column variable to extract just the relevant columns\n",
    "fd_after = dataquest_data[dq_columns].copy()"
   ]
  },
  {
   "cell_type": "code",
   "execution_count": 8,
   "metadata": {},
   "outputs": [
    {
     "data": {
      "text/html": [
       "<div>\n",
       "<style scoped>\n",
       "    .dataframe tbody tr th:only-of-type {\n",
       "        vertical-align: middle;\n",
       "    }\n",
       "\n",
       "    .dataframe tbody tr th {\n",
       "        vertical-align: top;\n",
       "    }\n",
       "\n",
       "    .dataframe thead th {\n",
       "        text-align: right;\n",
       "    }\n",
       "</style>\n",
       "<table border=\"1\" class=\"dataframe\">\n",
       "  <thead>\n",
       "    <tr style=\"text-align: right;\">\n",
       "      <th></th>\n",
       "      <th>FILM</th>\n",
       "      <th>Fandango_Stars</th>\n",
       "      <th>Fandango_Ratingvalue</th>\n",
       "      <th>Fandango_votes</th>\n",
       "      <th>Fandango_Difference</th>\n",
       "    </tr>\n",
       "  </thead>\n",
       "  <tbody>\n",
       "    <tr>\n",
       "      <th>22</th>\n",
       "      <td>The Man From U.N.C.L.E. (2015)</td>\n",
       "      <td>4.5</td>\n",
       "      <td>4.1</td>\n",
       "      <td>2686</td>\n",
       "      <td>0.4</td>\n",
       "    </tr>\n",
       "    <tr>\n",
       "      <th>103</th>\n",
       "      <td>Strange Magic (2015)</td>\n",
       "      <td>3.5</td>\n",
       "      <td>3.4</td>\n",
       "      <td>1117</td>\n",
       "      <td>0.1</td>\n",
       "    </tr>\n",
       "    <tr>\n",
       "      <th>74</th>\n",
       "      <td>The Hobbit: The Battle of the Five Armies (2014)</td>\n",
       "      <td>4.5</td>\n",
       "      <td>4.3</td>\n",
       "      <td>15337</td>\n",
       "      <td>0.2</td>\n",
       "    </tr>\n",
       "    <tr>\n",
       "      <th>119</th>\n",
       "      <td>Phoenix (2015)</td>\n",
       "      <td>3.5</td>\n",
       "      <td>3.4</td>\n",
       "      <td>70</td>\n",
       "      <td>0.1</td>\n",
       "    </tr>\n",
       "    <tr>\n",
       "      <th>88</th>\n",
       "      <td>Mad Max: Fury Road (2015)</td>\n",
       "      <td>4.5</td>\n",
       "      <td>4.3</td>\n",
       "      <td>10509</td>\n",
       "      <td>0.2</td>\n",
       "    </tr>\n",
       "  </tbody>\n",
       "</table>\n",
       "</div>"
      ],
      "text/plain": [
       "                                                 FILM  Fandango_Stars  \\\n",
       "22                     The Man From U.N.C.L.E. (2015)             4.5   \n",
       "103                              Strange Magic (2015)             3.5   \n",
       "74   The Hobbit: The Battle of the Five Armies (2014)             4.5   \n",
       "119                                    Phoenix (2015)             3.5   \n",
       "88                          Mad Max: Fury Road (2015)             4.5   \n",
       "\n",
       "     Fandango_Ratingvalue  Fandango_votes  Fandango_Difference  \n",
       "22                    4.1            2686                  0.4  \n",
       "103                   3.4            1117                  0.1  \n",
       "74                    4.3           15337                  0.2  \n",
       "119                   3.4              70                  0.1  \n",
       "88                    4.3           10509                  0.2  "
      ]
     },
     "execution_count": 8,
     "metadata": {},
     "output_type": "execute_result"
    }
   ],
   "source": [
    "# Check the new fandango dataset\n",
    "fd_before.sample(5)"
   ]
  },
  {
   "cell_type": "code",
   "execution_count": 9,
   "metadata": {},
   "outputs": [
    {
     "data": {
      "text/html": [
       "<div>\n",
       "<style scoped>\n",
       "    .dataframe tbody tr th:only-of-type {\n",
       "        vertical-align: middle;\n",
       "    }\n",
       "\n",
       "    .dataframe tbody tr th {\n",
       "        vertical-align: top;\n",
       "    }\n",
       "\n",
       "    .dataframe thead th {\n",
       "        text-align: right;\n",
       "    }\n",
       "</style>\n",
       "<table border=\"1\" class=\"dataframe\">\n",
       "  <thead>\n",
       "    <tr style=\"text-align: right;\">\n",
       "      <th></th>\n",
       "      <th>movie</th>\n",
       "      <th>year</th>\n",
       "      <th>fandango</th>\n",
       "    </tr>\n",
       "  </thead>\n",
       "  <tbody>\n",
       "    <tr>\n",
       "      <th>125</th>\n",
       "      <td>Now You See Me 2</td>\n",
       "      <td>2016</td>\n",
       "      <td>4.0</td>\n",
       "    </tr>\n",
       "    <tr>\n",
       "      <th>74</th>\n",
       "      <td>I.T.</td>\n",
       "      <td>2016</td>\n",
       "      <td>3.5</td>\n",
       "    </tr>\n",
       "    <tr>\n",
       "      <th>72</th>\n",
       "      <td>Hush</td>\n",
       "      <td>2016</td>\n",
       "      <td>4.0</td>\n",
       "    </tr>\n",
       "    <tr>\n",
       "      <th>150</th>\n",
       "      <td>Storks</td>\n",
       "      <td>2016</td>\n",
       "      <td>4.5</td>\n",
       "    </tr>\n",
       "    <tr>\n",
       "      <th>141</th>\n",
       "      <td>Sausage Party</td>\n",
       "      <td>2016</td>\n",
       "      <td>3.5</td>\n",
       "    </tr>\n",
       "  </tbody>\n",
       "</table>\n",
       "</div>"
      ],
      "text/plain": [
       "                movie  year  fandango\n",
       "125  Now You See Me 2  2016       4.0\n",
       "74               I.T.  2016       3.5\n",
       "72               Hush  2016       4.0\n",
       "150            Storks  2016       4.5\n",
       "141     Sausage Party  2016       3.5"
      ]
     },
     "execution_count": 9,
     "metadata": {},
     "output_type": "execute_result"
    }
   ],
   "source": [
    "# Check the new dataquest dataset\n",
    "fd_after.sample(5)"
   ]
  },
  {
   "cell_type": "markdown",
   "metadata": {},
   "source": [
    "#### Is the data suitable?\n",
    "\n",
    "Our objective is to assess any potential differences in Fandango's rating system post Hickey's analysis. Our analysis relates to all movie ratings stored on Fandango's website, regardless of the release year.\n",
    "\n",
    "The data we're analyzing comprises two samples collected before and after the analysis. To accurately depict the population, it's crucial to ensure that these samples are representative. Otherwise, we risk encountering significant sampling error, leading to inaccurate conclusions. From the `README.md` of both sample data we get the following informations\n",
    "\n",
    "##### Hickey's sampling criteria included:\n",
    "\n",
    "- At least 30 fan ratings on Fandango's website (as of Aug. 24, 2015).\n",
    "- Movie tickets available in 2015.\n",
    "\n",
    "This sampling method, while suitable for Hickey's research, may not be representative of the entire population of interest due to potential temporal trends.\n",
    "\n",
    "##### The criteria for the other sample were:\n",
    "\n",
    "- Movie release in 2016 or later.\n",
    "- Considerable number of votes and reviews (specifics unclear).\n",
    "\n",
    "Both samples employed `selective sampling` to align with the researchers' objectives. While effective for their inquiries, these samples may not suit our analysis requirements."
   ]
  },
  {
   "cell_type": "markdown",
   "metadata": {},
   "source": [
    "#### New Goal\n",
    "\n",
    "At this point, we have two main options: \n",
    "Either procure fresh data or refine the scope of our analysis by imposing constraints.\n",
    "\n",
    " Adjusting our analysis objective appears to be the more useful option compared to gathering new data. Moreover, obtaining a new sample predating Hickey's analysis is practically impossible at this time\n",
    "\n",
    "Therefore our revised objective is to find out whether there exists a discrepancy in Fandango's ratings for popular movies released in 2015 compared to those released in 2016.\n",
    "."
   ]
  },
  {
   "cell_type": "markdown",
   "metadata": {},
   "source": [
    "With our revised objective, we aim to analyze two distinct populations:\n",
    "\n",
    "- All Fandango ratings for movies released in 2015, meeting the criteria of being \"popular\", defined as having a minimum of 30 fan ratings.\n",
    "- All Fandango ratings for movies released in 2016, also meeting the criterion of being \"popular\" as defined above by `Hickey`, with a minimum of 30 fan ratings."
   ]
  },
  {
   "cell_type": "code",
   "execution_count": 10,
   "metadata": {},
   "outputs": [
    {
     "data": {
      "text/plain": [
       "count      146.000000\n",
       "mean      3848.787671\n",
       "std       6357.778617\n",
       "min         35.000000\n",
       "25%        222.250000\n",
       "50%       1446.000000\n",
       "75%       4439.500000\n",
       "max      34846.000000\n",
       "Name: Fandango_votes, dtype: float64"
      ]
     },
     "execution_count": 10,
     "metadata": {},
     "output_type": "execute_result"
    }
   ],
   "source": [
    "# Check count of votes for before sample data\n",
    "fd_before['Fandango_votes'].describe()"
   ]
  },
  {
   "cell_type": "code",
   "execution_count": 11,
   "metadata": {},
   "outputs": [
    {
     "data": {
      "text/plain": [
       "0"
      ]
     },
     "execution_count": 11,
     "metadata": {},
     "output_type": "execute_result"
    }
   ],
   "source": [
    "# Check if there are values below 30\n",
    "(fd_before['Fandango_votes'] < 30).sum()"
   ]
  },
  {
   "cell_type": "code",
   "execution_count": 12,
   "metadata": {},
   "outputs": [
    {
     "data": {
      "text/html": [
       "<div>\n",
       "<style scoped>\n",
       "    .dataframe tbody tr th:only-of-type {\n",
       "        vertical-align: middle;\n",
       "    }\n",
       "\n",
       "    .dataframe tbody tr th {\n",
       "        vertical-align: top;\n",
       "    }\n",
       "\n",
       "    .dataframe thead th {\n",
       "        text-align: right;\n",
       "    }\n",
       "</style>\n",
       "<table border=\"1\" class=\"dataframe\">\n",
       "  <thead>\n",
       "    <tr style=\"text-align: right;\">\n",
       "      <th></th>\n",
       "      <th>movie</th>\n",
       "      <th>year</th>\n",
       "      <th>fandango</th>\n",
       "    </tr>\n",
       "  </thead>\n",
       "  <tbody>\n",
       "    <tr>\n",
       "      <th>0</th>\n",
       "      <td>10 Cloverfield Lane</td>\n",
       "      <td>2016</td>\n",
       "      <td>3.5</td>\n",
       "    </tr>\n",
       "    <tr>\n",
       "      <th>1</th>\n",
       "      <td>13 Hours</td>\n",
       "      <td>2016</td>\n",
       "      <td>4.5</td>\n",
       "    </tr>\n",
       "    <tr>\n",
       "      <th>2</th>\n",
       "      <td>A Cure for Wellness</td>\n",
       "      <td>2016</td>\n",
       "      <td>3.0</td>\n",
       "    </tr>\n",
       "    <tr>\n",
       "      <th>3</th>\n",
       "      <td>A Dog's Purpose</td>\n",
       "      <td>2017</td>\n",
       "      <td>4.5</td>\n",
       "    </tr>\n",
       "    <tr>\n",
       "      <th>4</th>\n",
       "      <td>A Hologram for the King</td>\n",
       "      <td>2016</td>\n",
       "      <td>3.0</td>\n",
       "    </tr>\n",
       "    <tr>\n",
       "      <th>...</th>\n",
       "      <td>...</td>\n",
       "      <td>...</td>\n",
       "      <td>...</td>\n",
       "    </tr>\n",
       "    <tr>\n",
       "      <th>209</th>\n",
       "      <td>X-Men: Apocalypse</td>\n",
       "      <td>2016</td>\n",
       "      <td>4.0</td>\n",
       "    </tr>\n",
       "    <tr>\n",
       "      <th>210</th>\n",
       "      <td>XX</td>\n",
       "      <td>2017</td>\n",
       "      <td>3.0</td>\n",
       "    </tr>\n",
       "    <tr>\n",
       "      <th>211</th>\n",
       "      <td>xXx: Return of Xander Cage</td>\n",
       "      <td>2017</td>\n",
       "      <td>4.0</td>\n",
       "    </tr>\n",
       "    <tr>\n",
       "      <th>212</th>\n",
       "      <td>Zoolander 2</td>\n",
       "      <td>2016</td>\n",
       "      <td>2.5</td>\n",
       "    </tr>\n",
       "    <tr>\n",
       "      <th>213</th>\n",
       "      <td>Zootopia</td>\n",
       "      <td>2016</td>\n",
       "      <td>4.5</td>\n",
       "    </tr>\n",
       "  </tbody>\n",
       "</table>\n",
       "<p>214 rows × 3 columns</p>\n",
       "</div>"
      ],
      "text/plain": [
       "                          movie  year  fandango\n",
       "0           10 Cloverfield Lane  2016       3.5\n",
       "1                      13 Hours  2016       4.5\n",
       "2           A Cure for Wellness  2016       3.0\n",
       "3               A Dog's Purpose  2017       4.5\n",
       "4       A Hologram for the King  2016       3.0\n",
       "..                          ...   ...       ...\n",
       "209           X-Men: Apocalypse  2016       4.0\n",
       "210                          XX  2017       3.0\n",
       "211  xXx: Return of Xander Cage  2017       4.0\n",
       "212                 Zoolander 2  2016       2.5\n",
       "213                    Zootopia  2016       4.5\n",
       "\n",
       "[214 rows x 3 columns]"
      ]
     },
     "execution_count": 12,
     "metadata": {},
     "output_type": "execute_result"
    }
   ],
   "source": [
    "# Show the after fandango sample - no count of fan rating included\n",
    "fd_after"
   ]
  },
  {
   "cell_type": "markdown",
   "metadata": {},
   "source": [
    "Despite including movie popularity as one of the sampling criteria, in our second sample it lacks information regarding the number of fan ratings. Thus, we must question the sample's representativeness again, particularly concerning the inclusion of popular movies with over 30 fan ratings.\n",
    "\n",
    "A rapid method to assess the sample's representativeness involves randomly selecting 10 movies from it and verifying the number of fan ratings on Fandango's website. Ideally, a minimum of 8 out of the 10 movies should have 30 fan ratings or more to ensure representativeness."
   ]
  },
  {
   "cell_type": "code",
   "execution_count": 13,
   "metadata": {},
   "outputs": [
    {
     "data": {
      "text/html": [
       "<div>\n",
       "<style scoped>\n",
       "    .dataframe tbody tr th:only-of-type {\n",
       "        vertical-align: middle;\n",
       "    }\n",
       "\n",
       "    .dataframe tbody tr th {\n",
       "        vertical-align: top;\n",
       "    }\n",
       "\n",
       "    .dataframe thead th {\n",
       "        text-align: right;\n",
       "    }\n",
       "</style>\n",
       "<table border=\"1\" class=\"dataframe\">\n",
       "  <thead>\n",
       "    <tr style=\"text-align: right;\">\n",
       "      <th></th>\n",
       "      <th>movie</th>\n",
       "      <th>year</th>\n",
       "      <th>fandango</th>\n",
       "    </tr>\n",
       "  </thead>\n",
       "  <tbody>\n",
       "    <tr>\n",
       "      <th>108</th>\n",
       "      <td>Mechanic: Resurrection</td>\n",
       "      <td>2016</td>\n",
       "      <td>4.0</td>\n",
       "    </tr>\n",
       "    <tr>\n",
       "      <th>206</th>\n",
       "      <td>Warcraft</td>\n",
       "      <td>2016</td>\n",
       "      <td>4.0</td>\n",
       "    </tr>\n",
       "    <tr>\n",
       "      <th>106</th>\n",
       "      <td>Max Steel</td>\n",
       "      <td>2016</td>\n",
       "      <td>3.5</td>\n",
       "    </tr>\n",
       "    <tr>\n",
       "      <th>107</th>\n",
       "      <td>Me Before You</td>\n",
       "      <td>2016</td>\n",
       "      <td>4.5</td>\n",
       "    </tr>\n",
       "    <tr>\n",
       "      <th>51</th>\n",
       "      <td>Fantastic Beasts and Where to Find Them</td>\n",
       "      <td>2016</td>\n",
       "      <td>4.5</td>\n",
       "    </tr>\n",
       "    <tr>\n",
       "      <th>33</th>\n",
       "      <td>Cell</td>\n",
       "      <td>2016</td>\n",
       "      <td>3.0</td>\n",
       "    </tr>\n",
       "    <tr>\n",
       "      <th>59</th>\n",
       "      <td>Genius</td>\n",
       "      <td>2016</td>\n",
       "      <td>3.5</td>\n",
       "    </tr>\n",
       "    <tr>\n",
       "      <th>152</th>\n",
       "      <td>Sully</td>\n",
       "      <td>2016</td>\n",
       "      <td>4.5</td>\n",
       "    </tr>\n",
       "    <tr>\n",
       "      <th>4</th>\n",
       "      <td>A Hologram for the King</td>\n",
       "      <td>2016</td>\n",
       "      <td>3.0</td>\n",
       "    </tr>\n",
       "    <tr>\n",
       "      <th>31</th>\n",
       "      <td>Captain America: Civil War</td>\n",
       "      <td>2016</td>\n",
       "      <td>4.5</td>\n",
       "    </tr>\n",
       "  </tbody>\n",
       "</table>\n",
       "</div>"
      ],
      "text/plain": [
       "                                       movie  year  fandango\n",
       "108                   Mechanic: Resurrection  2016       4.0\n",
       "206                                 Warcraft  2016       4.0\n",
       "106                                Max Steel  2016       3.5\n",
       "107                            Me Before You  2016       4.5\n",
       "51   Fantastic Beasts and Where to Find Them  2016       4.5\n",
       "33                                      Cell  2016       3.0\n",
       "59                                    Genius  2016       3.5\n",
       "152                                    Sully  2016       4.5\n",
       "4                    A Hologram for the King  2016       3.0\n",
       "31                Captain America: Civil War  2016       4.5"
      ]
     },
     "execution_count": 13,
     "metadata": {},
     "output_type": "execute_result"
    }
   ],
   "source": [
    "# Create a sample of 10 movies\n",
    "fd_after.sample(10, random_state = 1)"
   ]
  },
  {
   "cell_type": "markdown",
   "metadata": {},
   "source": [
    "Above we used a value of 1 as the random seed. This is good practice because it suggests that we weren't trying out various random seeds just to get a favorable sample.\n",
    "\n",
    "As of April 2018, these are the fan ratings we found:\n",
    "| Movie | Rating |\n",
    "|-------|---------|\n",
    "|Mechanic: Resurrection\t|2247|\n",
    "|Warcraft\t|7271|\n",
    "|Max Steel\t|493|\n",
    "|Me Before You\t|5263|\n",
    "|Fantastic Beasts and Where to Find Them\t|13400|\n",
    "|Cell\t|17|\n",
    "|Genius\t|127|\n",
    "|Sully\t|11877|\n",
    "|A Hologram for the King\t|500|\n",
    "|Captain America: Civil War\t|35057|"
   ]
  },
  {
   "cell_type": "markdown",
   "metadata": {},
   "source": [
    "9 out of 10  movies in the table above are popular. Therefore we can assume, that 90% of the movies in the sample are popular, this provides us with enough assurance to proceed further.\n",
    "\n",
    "Some movies were not released in 2015 and 2016. We need to isolate only the sample points that belong to our populations of interest. Lets do this task!\n",
    "\r\n",
    "\r\n",
    "\r\n"
   ]
  },
  {
   "cell_type": "code",
   "execution_count": 14,
   "metadata": {
    "scrolled": true
   },
   "outputs": [
    {
     "data": {
      "text/plain": [
       "year\n",
       "2016    191\n",
       "Name: count, dtype: int64"
      ]
     },
     "execution_count": 14,
     "metadata": {},
     "output_type": "execute_result"
    }
   ],
   "source": [
    "# Just isolate the year column for 2016\n",
    "fd_2016 = fd_after[fd_after['year'] == 2016]\n",
    "\n",
    "# Check the values generated\n",
    "fd_2016['year'].value_counts(dropna=False)"
   ]
  },
  {
   "cell_type": "markdown",
   "metadata": {},
   "source": [
    "For the sample data generated by Hickey, there is no column refering to the year, but we can extract the year from the movie title"
   ]
  },
  {
   "cell_type": "code",
   "execution_count": 15,
   "metadata": {},
   "outputs": [
    {
     "data": {
      "text/plain": [
       "Year\n",
       "2015    129\n",
       "Name: count, dtype: int64"
      ]
     },
     "execution_count": 15,
     "metadata": {},
     "output_type": "execute_result"
    }
   ],
   "source": [
    "# create regex pattern\n",
    "pattern = r'2015'\n",
    "\n",
    "# use pattern to extract just the values containing the pattern\n",
    "fd_2015 = fd_before['FILM'].str.contains(pattern)\n",
    "\n",
    "# use boolean indexing to create new df with only 2015 movies\n",
    "fd_2015 = fd_before[fd_2015].copy()\n",
    "\n",
    "# create new column with year\n",
    "fd_2015['Year'] = fd_2015['FILM'].str[-5:-1]\n",
    "\n",
    "# Check new df and values of year column\n",
    "fd_2015['Year'].value_counts(dropna=False)"
   ]
  },
  {
   "cell_type": "markdown",
   "metadata": {},
   "source": [
    "#### Distribution Shapes for 2015 and 2016\n",
    "\n",
    "After completing these initial steps, we are prepared to begin the analysis of the two previously isolated samples. Our primary objective remains to find out if there exists a disparity between the ratings provided by Fandango for popular movies in 2015 compared to those in 2016.\n",
    "\n",
    "We will begin by comparing the distribution shapes of the two datasets using kernel density plots.\r\n",
    "\r\n",
    "\r\n",
    "\r\n",
    "\r\n",
    "\r\n"
   ]
  },
  {
   "cell_type": "code",
   "execution_count": 16,
   "metadata": {},
   "outputs": [
    {
     "data": {
      "image/png": "[encoded data removed]",
      "text/plain": [
       "<Figure size 800x500 with 1 Axes>"
      ]
     },
     "metadata": {},
     "output_type": "display_data"
    }
   ],
   "source": [
    "plt.figure(figsize=(8,5))\n",
    "\n",
    "# Create the two kde plots\n",
    "ax1 = fd_2015['Fandango_Stars'].plot.kde(grid=False, label = 2015, legend = True, color='coral')\n",
    "ax2 = fd_2016['fandango'].plot.kde(grid=False, label = 2016, legend = True, color='slateblue')\n",
    "\n",
    "# use ax1 to customize the grid\n",
    "ax1.grid(axis='x', alpha=0.5, color='darkgrey', linewidth=0.5)\n",
    "\n",
    "# Add title, xlabel, ylabel and adjust the xlim and xticks\n",
    "plt.title('Distribution Shapes of Fandango ratings (2015 vs. 2016)', fontsize=17, weight='bold', y=1.05)\n",
    "plt.xlabel('Stars', fontsize=12)\n",
    "plt.ylabel('Density', fontsize=12)\n",
    "plt.xlim(0, 5)\n",
    "plt.xticks(arange(0,5.1,.5)) \n",
    "plt.legend(loc='upper left')\n",
    "\n",
    "# Show the plot\n",
    "plt.show()"
   ]
  },
  {
   "cell_type": "markdown",
   "metadata": {},
   "source": [
    "Several noteworthy observations arise from the figure above:\n",
    "\n",
    "- The distribution for 2016 is subtly shifted to the left in comparison to the 2015 distribution.\n",
    "- Both distributions do have strong left-skewness.\n",
    "  \n",
    "The left-skewed nature of both distributions implies that movies on Fandango predominantly receive high and very high fan ratings, which, considering Fandango's role in ticket sales, raises some skepticism. \n",
    "\n",
    "The slight leftward shift in the 2016 distribution is particularly relevant to our analysis. It indicates that ratings were marginally lower in 2016 than in 2015, suggesting a visible difference in Fandango's ratings for popular movies between the two years. Additionally, this shift highlights the direction of the difference, with 2016 ratings leaning slightly lower compared to those in 2015."
   ]
  },
  {
   "cell_type": "markdown",
   "metadata": {},
   "source": [
    "#### Comparing Relative Frequencies\n",
    "\n",
    "The kernel density plots presented in the previous section revealed a clear difference between the two distributions and offered insight into the nature of this disparity: movies in 2016 received marginally lower ratings compared to those in 2015.\r\n",
    "\r\n",
    "Although examining the distributions via kernel density plots was an informative initial step, further analysis of more detailed data is necessary at this point."
   ]
  },
  {
   "cell_type": "code",
   "execution_count": 17,
   "metadata": {},
   "outputs": [
    {
     "data": {
      "text/plain": [
       "Fandango_Stars\n",
       "3.0     8.527132\n",
       "3.5    17.829457\n",
       "4.0    28.682171\n",
       "4.5    37.984496\n",
       "5.0     6.976744\n",
       "Name: proportion, dtype: float64"
      ]
     },
     "execution_count": 17,
     "metadata": {},
     "output_type": "execute_result"
    }
   ],
   "source": [
    "# Show the frequency distribution for 2015 movie ratings\n",
    "fd_2015['Fandango_Stars'].value_counts(normalize = True).sort_index() * 100"
   ]
  },
  {
   "cell_type": "code",
   "execution_count": 18,
   "metadata": {},
   "outputs": [
    {
     "data": {
      "text/plain": [
       "fandango\n",
       "2.5     3.141361\n",
       "3.0     7.329843\n",
       "3.5    24.083770\n",
       "4.0    40.314136\n",
       "4.5    24.607330\n",
       "5.0     0.523560\n",
       "Name: proportion, dtype: float64"
      ]
     },
     "execution_count": 18,
     "metadata": {},
     "output_type": "execute_result"
    }
   ],
   "source": [
    "# Show the frequency distribution for 2016 movie ratings\n",
    "fd_2016['fandango'].value_counts(normalize = True).sort_index() * 100"
   ]
  },
  {
   "cell_type": "markdown",
   "metadata": {},
   "source": [
    "Above, we computed the frequency distributions for the 2015 and 2016 sample datasets. We utilized the `normalize` parameter within the `value_counts()` function to convert the values into `proportions`. Subsequently, we multiplied the results by 100 to express them as `percentages`.\r\n",
    "\r\n",
    "As observed, the minimum star rating for the 2015 sample is 3.0, whereas for the 2016 sample, it is 2.5. This indicates a wider range of ratings in the 2016 sample.\r\n",
    "\r\n",
    "Regarding the maximum ratings, both samples include 5-star ratings. However, the 2015 sample exhibits a considerably higher frequency of 5-star ratings compared to the 2016 sample. Specifically, while the 2015 sample comprises approximately 7% of 5-star ratings, this proportion drastically decreases to just 0.5% in the 2016 sample.\r\n",
    "\r\n",
    "Furthermore, an interesting shift occurs in ratings between 3 and 5 stars. In 2015, around 38% of the ratings were 4.5 stars, 29% were 4 stars, and 18% were 3.5 stars. Conversely, in 2016, there is a nochangeration in these proportions. The percentage of 4.5-star ratings decreased by over 10% in 2016 (to 25%), whereas 4-star r ined, and 3.5-star ratings increased compared to 2015. Given that ratings of 3.5 and 4.0 stars are generally considered high, this shift challengtional pattern observed in the kernel density plots."
   ]
  },
  {
   "cell_type": "markdown",
   "metadata": {},
   "source": [
    "#### Determining the Direction of the Change\n",
    "\n",
    "Based on the preceding two tables, we have proven a distinct disparity between the two distributions. Nevertheless, the specific direction of this difference is not as clear as illustrated in the kernel density plots.\r\n",
    "\r\n",
    "\r\n"
   ]
  },
  {
   "cell_type": "code",
   "execution_count": 19,
   "metadata": {},
   "outputs": [],
   "source": [
    "fd_2015_mean = fd_2015['Fandango_Stars'].mean()\n",
    "fd_2016_mean = fd_2016['fandango'].mean()\n",
    "\n",
    "fd_2015_mode = fd_2015['Fandango_Stars'].mode()[0]\n",
    "fd_2016_mode = fd_2016['fandango'].mode()[0]\n",
    "\n",
    "fd_2015_median = fd_2015['Fandango_Stars'].median()\n",
    "fd_2016_median = fd_2016['fandango'].median()"
   ]
  },
  {
   "cell_type": "code",
   "execution_count": 20,
   "metadata": {},
   "outputs": [
    {
     "data": {
      "text/html": [
       "<div>\n",
       "<style scoped>\n",
       "    .dataframe tbody tr th:only-of-type {\n",
       "        vertical-align: middle;\n",
       "    }\n",
       "\n",
       "    .dataframe tbody tr th {\n",
       "        vertical-align: top;\n",
       "    }\n",
       "\n",
       "    .dataframe thead th {\n",
       "        text-align: right;\n",
       "    }\n",
       "</style>\n",
       "<table border=\"1\" class=\"dataframe\">\n",
       "  <thead>\n",
       "    <tr style=\"text-align: right;\">\n",
       "      <th></th>\n",
       "      <th>2015</th>\n",
       "      <th>2016</th>\n",
       "    </tr>\n",
       "  </thead>\n",
       "  <tbody>\n",
       "    <tr>\n",
       "      <th>mean</th>\n",
       "      <td>4.085271</td>\n",
       "      <td>3.887435</td>\n",
       "    </tr>\n",
       "    <tr>\n",
       "      <th>mode</th>\n",
       "      <td>4.500000</td>\n",
       "      <td>4.000000</td>\n",
       "    </tr>\n",
       "    <tr>\n",
       "      <th>median</th>\n",
       "      <td>4.000000</td>\n",
       "      <td>4.000000</td>\n",
       "    </tr>\n",
       "  </tbody>\n",
       "</table>\n",
       "</div>"
      ],
      "text/plain": [
       "            2015      2016\n",
       "mean    4.085271  3.887435\n",
       "mode    4.500000  4.000000\n",
       "median  4.000000  4.000000"
      ]
     },
     "execution_count": 20,
     "metadata": {},
     "output_type": "execute_result"
    }
   ],
   "source": [
    "summary = pd.DataFrame()\n",
    "\n",
    "summary['2015'] = [fd_2015_mean, fd_2015_mode, fd_2015_median]\n",
    "summary['2016'] = [fd_2016_mean, fd_2016_mode, fd_2016_median]\n",
    "\n",
    "summary.index = ['mean', 'mode', 'median']\n",
    "\n",
    "summary"
   ]
  },
  {
   "cell_type": "code",
   "execution_count": 21,
   "metadata": {},
   "outputs": [
    {
     "data": {
      "text/plain": [
       "<matplotlib.legend.Legend at 0x2923252db70>"
      ]
     },
     "execution_count": 21,
     "metadata": {},
     "output_type": "execute_result"
    },
    {
     "data": {
      "image/png": "[encoded data removed]",
      "text/plain": [
       "<Figure size 800x500 with 1 Axes>"
      ]
     },
     "metadata": {},
     "output_type": "display_data"
    }
   ],
   "source": [
    "plt.figure(figsize=(8,5))\n",
    "\n",
    "ax1 = summary['2015'].plot.bar(align='center', color='coral', width=.25, label='2015', grid=False)\n",
    "ax2 = summary['2016'].plot.bar(align='edge', color='slateblue', width=.25, label='2016', rot=0, grid=False)\n",
    "\n",
    "# use ax1 to customize the grid\n",
    "ax1.grid(axis='y', alpha=0.5, color='darkgrey', linewidth=0.5)\n",
    "plt.ylim(0,5)\n",
    "plt.yticks(arange(0,5.1,0.5))\n",
    "plt.title('Comparing summary statistics: 2015 vs. 2016', y=1.05, fontsize=17, weight='bold')\n",
    "plt.ylabel('Stars', fontsize=11)\n",
    "plt.legend()"
   ]
  },
  {
   "cell_type": "markdown",
   "metadata": {},
   "source": [
    "As we an see in the summary table and also the plot above, the mean rating was lower in 2016 compared to 2015. We'll calculate the difference as follow:\n",
    "\n",
    "```\n",
    "mean of 2015 - mean of 2016 / mean of 2015\n",
    "```\r\n"
   ]
  },
  {
   "cell_type": "code",
   "execution_count": 22,
   "metadata": {},
   "outputs": [
    {
     "name": "stderr",
     "output_type": "stream",
     "text": [
      "C:\\Users\\mexic\\AppData\\Local\\Temp\\ipykernel_39012\\892429535.py:1: FutureWarning: Series.__getitem__ treating keys as positions is deprecated. In a future version, integer keys will always be treated as labels (consistent with DataFrame behavior). To access a value by position, use `ser.iloc[pos]`\n",
      "  (summary.iloc[0][0] - summary.iloc[0][1]) / summary.iloc[0][0]\n"
     ]
    },
    {
     "data": {
      "text/plain": [
       "0.04842683568951993"
      ]
     },
     "execution_count": 22,
     "metadata": {},
     "output_type": "execute_result"
    }
   ],
   "source": [
    "(summary.iloc[0][0] - summary.iloc[0][1]) / summary.iloc[0][0]"
   ]
  },
  {
   "cell_type": "markdown",
   "metadata": {},
   "source": [
    "This means a drop of almost 5% relative to the mean rating in 2015.\n",
    "\n",
    "Although the median remains consistent across both distributions, the mode in 2016 is lower by 0.5. When considering the mean as well, it corroborates the direction of change observed in the kernel density plot: on average, popular movies released in 2016 received slightly lower ratings compared to those released in 2015.\r\n",
    "\r\n",
    "\r\n"
   ]
  },
  {
   "cell_type": "markdown",
   "metadata": {},
   "source": [
    "#### Conclusion\n",
    "\n",
    "Our analysis revealed a subtle divergence between Fandango's ratings for popular movies in 2015 and 2016, indicating that, on average, popular movies released in 2016 received lower ratings on Fandango compared to those in 2015. While the precise cause of this change remains uncertain, it is highly probable that Fandango addressed the biased rating system identified by Hickey's analysis, leading to this alteration.\n",
    "\n",
    "Fandango's representatives attributed the biased rounding to a system glitch rather than deliberate manipulation, committing to correct the issue quickly. Although it's presumed that this resolution has been implemented, confirmation is challenging as the actual rating value no longer appears in the HTML pages.\r\n",
    "\r\n",
    "\r\n",
    "\n",
    "\r\n",
    "\r\n",
    "\r\n"
   ]
  }
 ],
 "metadata": {
  "kernelspec": {
   "display_name": "Python 3 (ipykernel)",
   "language": "python",
   "name": "python3"
  },
  "language_info": {
   "codemirror_mode": {
    "name": "ipython",
    "version": 3
   },
   "file_extension": ".py",
   "mimetype": "text/x-python",
   "name": "python",
   "nbconvert_exporter": "python",
   "pygments_lexer": "ipython3",
   "version": "3.10.13"
  }
 },
 "nbformat": 4,
 "nbformat_minor": 4
}
