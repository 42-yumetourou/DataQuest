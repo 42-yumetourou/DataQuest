{
 "cells": [
  {
   "cell_type": "markdown",
   "id": "88459fc5",
   "metadata": {},
   "source": [
    "<img src=\"assets/apple.png\" width=\"200\" style=\"margin-left:auto; margin-right:auto\" />", "<img src=\"assets/play.svg\" width=\"200\" style=\"margin-left:auto; margin-right:auto\" />\n",
    "\n",
    "# Project: Profitable App Profiles\n",
    "\n",
    "The primary aim of this project is to conduct a comprehensive analysis of mobile applications, seeking to identify app profiles that exhibit profitability within the App Store and Google Play markets.\n",
    "\n",
    "This objective is pursued through the examination of two distinct datasets. One dataset pertains to the Google Play Store Apps, encompassing information on roughly ten thousand Android applications available on Google Play. The other dataset, Mobile App Store, encompasses data on approximately seven thousand iOS applications featured in the App Store.\n",
    "\n",
    "The analysis undertaken unveils specific app categories that enjoy considerable popularity across both platforms. Consequently, investing in app development within these identified categories is deemed particularly lucrative and promising for potential profitability.\n",
    "\n",
    "Lets start.\n",
    "\n",
    "*This project was completed as part of the Data Science Career Path offered by dataquest.io.*"
   ]
  },
  {
   "cell_type": "markdown",
   "id": "21e662b3",
   "metadata": {},
   "source": [
    "#### The Data"
   ]
  },
  {
   "cell_type": "markdown",
   "id": "1366842f",
   "metadata": {},
   "source": [
    "The number of apps available in the Google Play Store was around 2.65 million as of July 1, 2023 [[source]](https://de.statista.com/statistik/daten/studie/74368/umfrage/anzahl-der-verfuegbaren-apps-im-google-play-store/#:~:text=Die%20Anzahl%20der%20im%20Google,bei%20rund%202%2C67%20Millionen.) and The number of apps available in the Apple Store was around 2 million [[source]](https://www.apple.com/de/app-store/#:~:text=Wir%20bieten%20fast%20zwei%20Millionen,einem%20guten%20Gefühl%20nutzen%20kannst).\n",
    "\n",
    "Gathering data for a vast quantity of over four million applications demands substantial resources in terms of both time and financial investment. Therefore, our approach focuses on analyzing a representative subset of the data. Fortunately, two datasets have emerged that align well with our intended objectives:\n",
    "\n",
    "- A dataset comprising information on roughly ten thousand Android applications sourced from [Google Play](https://www.kaggle.com/datasets/lava18/google-play-store-apps).\n",
    "\n",
    "- A dataset encompassing data pertaining to approximately seven thousand iOS applications sourced from the [App Store](https://www.kaggle.com/datasets/ramamet4/app-store-apple-data-set-10k-apps).\n",
    "\n",
    "First, we'll begin by accessing the two data sets, and then we'll proceed to delve into an in-depth examination of the data."
   ]
  },
  {
   "cell_type": "code",
   "execution_count": 1,
   "id": "195b4636",
   "metadata": {},
   "outputs": [],
   "source": [
    "from csv import reader\n",
    "\n",
    "### The Google Play data set ###\n",
    "opened_file = open('googleplaystore.csv', encoding='utf-8')\n",
    "read_file = reader(opened_file)\n",
    "android = list(read_file)\n",
    "android_header = android[0] #save only the header\n",
    "android = android[1:] #save data without header\n",
    "\n",
    "### The App Store data set ###\n",
    "opened_file = open('AppleStore.csv', encoding='utf-8')\n",
    "read_file = reader(opened_file)\n",
    "ios = list(read_file)\n",
    "ios_header = ios[0] \n",
    "ios = ios[1:]"
   ]
  },
  {
   "cell_type": "markdown",
   "id": "917f7314",
   "metadata": {},
   "source": [
    "To facilitate the exploration of the two datasets, a function named `explore_data()` will be developed. This function is designed to enable iterative inspection of rows in a format conducive to user comprehension. Moreover, the function will be equipped with a feature to present the count of rows and columns within any specified dataset."
   ]
  },
  {
   "cell_type": "code",
   "execution_count": 2,
   "id": "a1d5a1b0",
   "metadata": {
    "scrolled": true
   },
   "outputs": [
    {
     "name": "stdout",
     "output_type": "stream",
     "text": [
      "['App', 'Category', 'Rating', 'Reviews', 'Size', 'Installs', 'Type', 'Price', 'Content Rating', 'Genres', 'Last Updated', 'Current Ver', 'Android Ver']\n",
      "\n",
      "\n",
      "['Photo Editor & Candy Camera & Grid & ScrapBook', 'ART_AND_DESIGN', '4.1', '159', '19M', '10,000+', 'Free', '0', 'Everyone', 'Art & Design', 'January 7, 2018', '1.0.0', '4.0.3 and up']\n",
      "\n",
      "\n",
      "['Coloring book moana', 'ART_AND_DESIGN', '3.9', '967', '14M', '500,000+', 'Free', '0', 'Everyone', 'Art & Design;Pretend Play', 'January 15, 2018', '2.0.0', '4.0.3 and up']\n",
      "\n",
      "\n",
      "['U Launcher Lite – FREE Live Cool Themes, Hide Apps', 'ART_AND_DESIGN', '4.7', '87510', '8.7M', '5,000,000+', 'Free', '0', 'Everyone', 'Art & Design', 'August 1, 2018', '1.2.4', '4.0.3 and up']\n",
      "\n",
      "\n",
      "Number of rows: 10841\n",
      "Number of columns: 13\n"
     ]
    }
   ],
   "source": [
    "def explore_data(dataset, start, end, rows_and_columns=False):\n",
    "    dataset_slice = dataset[start:end]\n",
    "    \n",
    "    for row in dataset_slice:\n",
    "        print(row)\n",
    "        print('\\n')\n",
    "        \n",
    "    if rows_and_columns:\n",
    "        print('Number of rows:', len(dataset))\n",
    "        print('Number of columns:', len(dataset[0]))\n",
    "        \n",
    "print(android_header)\n",
    "print('\\n')\n",
    "explore_data(android, 0, 3, True)"
   ]
  },
  {
   "cell_type": "markdown",
   "id": "45556198",
   "metadata": {},
   "source": [
    "Observing the Google Play dataset, we find it contains 10841 apps and 13 columns. At a brief glance, the columns most likely pertinent for our analysis are `'App'`, `'Category'`, `'Reviews'`, `'Installs'`, `'Type'`, `'Price'`, and `'Genres'`.\n",
    "\n",
    "Moving forward, let's shift our attention to the App Store dataset."
   ]
  },
  {
   "cell_type": "code",
   "execution_count": 3,
   "id": "3bbbba9f",
   "metadata": {
    "scrolled": true
   },
   "outputs": [
    {
     "name": "stdout",
     "output_type": "stream",
     "text": [
      "['id', 'track_name', 'size_bytes', 'currency', 'price', 'rating_count_tot', 'rating_count_ver', 'user_rating', 'user_rating_ver', 'ver', 'cont_rating', 'prime_genre', 'sup_devices.num', 'ipadSc_urls.num', 'lang.num', 'vpp_lic']\n",
      "\n",
      "\n",
      "['284882215', 'Facebook', '389879808', 'USD', '0.0', '2974676', '212', '3.5', '3.5', '95.0', '4+', 'Social Networking', '37', '1', '29', '1']\n",
      "\n",
      "\n",
      "['389801252', 'Instagram', '113954816', 'USD', '0.0', '2161558', '1289', '4.5', '4.0', '10.23', '12+', 'Photo & Video', '37', '0', '29', '1']\n",
      "\n",
      "\n",
      "['529479190', 'Clash of Clans', '116476928', 'USD', '0.0', '2130805', '579', '4.5', '4.5', '9.24.12', '9+', 'Games', '38', '5', '18', '1']\n",
      "\n",
      "\n",
      "Number of rows: 7197\n",
      "Number of columns: 16\n"
     ]
    }
   ],
   "source": [
    "print(ios_header)\n",
    "print('\\n')\n",
    "explore_data(ios, 0, 3, True)"
   ]
  },
  {
   "cell_type": "markdown",
   "id": "ae81d8c4",
   "metadata": {},
   "source": [
    "Within this dataset, there are 7197 iOS apps available, and the columns that seem to be interesting arer: `'track_name'`, `'currency'`, `'price'`, `'rating_count_tot'`, `'rating_count_ver'`, and `'prime_genre'`. \n",
    "\n",
    "Although not all column names are self-explanatory in their meanings, comprehensive information regarding each column can be found in the data set [documentation](https://www.kaggle.com/datasets/ramamet4/app-store-apple-data-set-10k-apps)."
   ]
  },
  {
   "cell_type": "markdown",
   "id": "44b67e96",
   "metadata": {},
   "source": [
    "#### Data Cleaning"
   ]
  },
  {
   "cell_type": "markdown",
   "id": "9ee7fbd1",
   "metadata": {},
   "source": [
    "##### Deleting Wrong Data"
   ]
  },
  {
   "cell_type": "markdown",
   "id": "979e090f",
   "metadata": {},
   "source": [
    "The Google Play data set has an error for row 10472. Let's print this row and compare it against the header and another row that is correct."
   ]
  },
  {
   "cell_type": "code",
   "execution_count": 4,
   "id": "c76d816f",
   "metadata": {
    "scrolled": true
   },
   "outputs": [
    {
     "name": "stdout",
     "output_type": "stream",
     "text": [
      "['Life Made WI-Fi Touchscreen Photo Frame', '1.9', '19', '3.0M', '1,000+', 'Free', '0', 'Everyone', '', 'February 11, 2018', '1.0.19', '4.0 and up']\n",
      "\n",
      "\n",
      "['App', 'Category', 'Rating', 'Reviews', 'Size', 'Installs', 'Type', 'Price', 'Content Rating', 'Genres', 'Last Updated', 'Current Ver', 'Android Ver']\n",
      "\n",
      "\n",
      "['Photo Editor & Candy Camera & Grid & ScrapBook', 'ART_AND_DESIGN', '4.1', '159', '19M', '10,000+', 'Free', '0', 'Everyone', 'Art & Design', 'January 7, 2018', '1.0.0', '4.0.3 and up']\n"
     ]
    }
   ],
   "source": [
    "print(android[10472])  # incorrect row\n",
    "print('\\n')\n",
    "print(android_header)  # header\n",
    "print('\\n')\n",
    "print(android[0])      # correct row"
   ]
  },
  {
   "cell_type": "markdown",
   "id": "46d59f8c",
   "metadata": {},
   "source": [
    "Row 10472 represents the app \"Life Made WI-Fi Touchscreen Photo Frame,\" and it appears to have a rating of 19. However, this value is evidently inaccurate, considering that the maximum rating for a Google Play app is 5. This issue arises due to a missing value in the `'Category'` column, as discussed in the corresponding section. As a result, we will proceed to remove this particular row from the dataset."
   ]
  },
  {
   "cell_type": "code",
   "execution_count": 5,
   "id": "187c9ff6",
   "metadata": {},
   "outputs": [
    {
     "name": "stdout",
     "output_type": "stream",
     "text": [
      "10841\n",
      "10840\n"
     ]
    }
   ],
   "source": [
    "print(len(android))\n",
    "\n",
    "del android[10472] \n",
    "print(len(android))"
   ]
  },
  {
   "cell_type": "markdown",
   "id": "4942dbd6",
   "metadata": {},
   "source": [
    "#### Removing Duplicate Entries - Android"
   ]
  },
  {
   "cell_type": "markdown",
   "id": "bf3b6f51",
   "metadata": {},
   "source": [
    "Upon thorough exploration of the Google Play dataset, it becomes apparent that certain applications have multiple entries. For instance, the application 'Instagram' is represented by four separate entries. To address this, a `for` loop incorporating a conditional `if` statement is constructed."
   ]
  },
  {
   "cell_type": "code",
   "execution_count": 6,
   "id": "c21590df",
   "metadata": {},
   "outputs": [
    {
     "name": "stdout",
     "output_type": "stream",
     "text": [
      "['Instagram', 'SOCIAL', '4.5', '66577313', 'Varies with device', '1,000,000,000+', 'Free', '0', 'Teen', 'Social', 'July 31, 2018', 'Varies with device', 'Varies with device']\n",
      "['Instagram', 'SOCIAL', '4.5', '66577446', 'Varies with device', '1,000,000,000+', 'Free', '0', 'Teen', 'Social', 'July 31, 2018', 'Varies with device', 'Varies with device']\n",
      "['Instagram', 'SOCIAL', '4.5', '66577313', 'Varies with device', '1,000,000,000+', 'Free', '0', 'Teen', 'Social', 'July 31, 2018', 'Varies with device', 'Varies with device']\n",
      "['Instagram', 'SOCIAL', '4.5', '66509917', 'Varies with device', '1,000,000,000+', 'Free', '0', 'Teen', 'Social', 'July 31, 2018', 'Varies with device', 'Varies with device']\n"
     ]
    }
   ],
   "source": [
    "for app in android:\n",
    "    name = app[0]\n",
    "    if name == 'Instagram':\n",
    "        print(app)"
   ]
  },
  {
   "cell_type": "markdown",
   "id": "18122e81",
   "metadata": {},
   "source": [
    "Upon inspection of the printed **rows** corresponding to the Instagram application, a notable disparity becomes evident primarily within the **fourth position of each row**, denoting the count of reviews.\n",
    "\n",
    "This discrepancy in numerical values indicates varying data collection instances. Leveraging this insight, we can establish a criterion for eliminating duplicates; specifically, a higher count of reviews implies a more recent dataset.\n",
    "\n",
    "Rather than employing random elimination of duplicates, our methodology entails retaining solely the entry with the highest count of reviews for each app while discarding the remaining entries.\n",
    "\n",
    "Proceeding to delve deeper into the presence of duplicate Android applications involves the utilization of a `for` loop. To facilitate this process, two empty `lists` are initialized, and values are selectively appended based on their existence within these lists.\n",
    "\n",
    "Finally, a subset of examples depicting duplicated apps is presented through `print` statements."
   ]
  },
  {
   "cell_type": "code",
   "execution_count": 7,
   "id": "86433cbd",
   "metadata": {},
   "outputs": [
    {
     "name": "stdout",
     "output_type": "stream",
     "text": [
      "Number of unique apps:  9659\n",
      "Number of duplicate apps:  1181\n",
      "-------------------------------------------------\n",
      "Example of duplicate apps:  ['Quick PDF Scanner + OCR FREE', 'Box', 'Google My Business', 'ZOOM Cloud Meetings', 'join.me - Simple Meetings']\n"
     ]
    }
   ],
   "source": [
    "unique_apps = []\n",
    "duplicate_apps = []\n",
    "\n",
    "for app in android:\n",
    "    name = app[0]\n",
    "    \n",
    "    if name in unique_apps:\n",
    "        duplicate_apps.append(name)\n",
    "    else:\n",
    "        unique_apps.append(name)\n",
    "\n",
    "print('Number of unique apps: ', len(unique_apps))\n",
    "print('Number of duplicate apps: ', len(duplicate_apps))\n",
    "print('-------------------------------------------------')\n",
    "print('Example of duplicate apps: ', duplicate_apps[0:5])"
   ]
  },
  {
   "cell_type": "markdown",
   "id": "9c84eb80",
   "metadata": {},
   "source": [
    "As you can see above, there are 1181 cases where an app occurs more than once.\n",
    "\n",
    "Next we create a dictionary, where each dictionary key is a unique app name and the corresponding dictionary value is the highest number of reviews of that app."
   ]
  },
  {
   "cell_type": "code",
   "execution_count": 8,
   "id": "fddd3e22",
   "metadata": {
    "scrolled": true
   },
   "outputs": [
    {
     "name": "stdout",
     "output_type": "stream",
     "text": [
      "Number of non-duplicate rows: 9659\n"
     ]
    }
   ],
   "source": [
    "reviews_max = {}\n",
    "\n",
    "for app in android:\n",
    "    name = app[0]\n",
    "    n_reviews = float(app[3])\n",
    "    \n",
    "    if name in reviews_max and reviews_max[name] < n_reviews:\n",
    "        reviews_max[name] = n_reviews\n",
    "    elif name not in reviews_max:\n",
    "        reviews_max[name] = n_reviews\n",
    "      \n",
    "print('Number of non-duplicate rows:', len(reviews_max))"
   ]
  },
  {
   "cell_type": "code",
   "execution_count": 9,
   "id": "5454a0e8",
   "metadata": {},
   "outputs": [
    {
     "name": "stdout",
     "output_type": "stream",
     "text": [
      "Expected length: 9659\n",
      "Actual length: 9659\n"
     ]
    }
   ],
   "source": [
    "print('Expected length:', len(android) - 1181)\n",
    "print('Actual length:', len(reviews_max))"
   ]
  },
  {
   "cell_type": "markdown",
   "id": "65f256cb",
   "metadata": {},
   "source": [
    "As evident from the information provided above, we stored 9659 unique apps with the newest rating count (highest number of reviews) into the `reviews_max` dictionary.\n",
    "\n",
    "Next, we will create two empty `lists` and store the unique rows with the newest rating count into one `list` and the names of the unique apps into the other `list`.\n",
    "\n",
    "We will use a `for` loop once again and `append` the values to the `lists`"
   ]
  },
  {
   "cell_type": "code",
   "execution_count": 10,
   "id": "30b9e2f5",
   "metadata": {
    "scrolled": true
   },
   "outputs": [
    {
     "name": "stdout",
     "output_type": "stream",
     "text": [
      "['Photo Editor & Candy Camera & Grid & ScrapBook', 'ART_AND_DESIGN', '4.1', '159', '19M', '10,000+', 'Free', '0', 'Everyone', 'Art & Design', 'January 7, 2018', '1.0.0', '4.0.3 and up']\n",
      "\n",
      "\n",
      "['U Launcher Lite – FREE Live Cool Themes, Hide Apps', 'ART_AND_DESIGN', '4.7', '87510', '8.7M', '5,000,000+', 'Free', '0', 'Everyone', 'Art & Design', 'August 1, 2018', '1.2.4', '4.0.3 and up']\n",
      "\n",
      "\n",
      "['Sketch - Draw & Paint', 'ART_AND_DESIGN', '4.5', '215644', '25M', '50,000,000+', 'Free', '0', 'Teen', 'Art & Design', 'June 8, 2018', 'Varies with device', '4.2 and up']\n",
      "\n",
      "\n",
      "Number of rows: 9659\n",
      "Number of columns: 13\n"
     ]
    }
   ],
   "source": [
    "android_clean = []\n",
    "already_added  = []\n",
    "\n",
    "for app in android:\n",
    "    name = app[0]\n",
    "    n_reviews = float(app[3])\n",
    "\n",
    "    if name not in already_added and n_reviews == reviews_max[name]:\n",
    "        android_clean.append(app)\n",
    "        already_added.append(name)\n",
    "\n",
    "explore_data(android_clean, 0, 3, True)"
   ]
  },
  {
   "cell_type": "markdown",
   "id": "275d43f2",
   "metadata": {},
   "source": [
    "Length of the `android_clean` list is *9659*, which confirms that we added all unique rows from the android dataset to our new `list`. The `already_added` `list` just includes the names of all the unique apps. It count *9659* names, which is the number of our unique rows."
   ]
  },
  {
   "cell_type": "markdown",
   "id": "5f90d4c4",
   "metadata": {},
   "source": [
    "#### Removing Duplicate Entries - Ios"
   ]
  },
  {
   "cell_type": "markdown",
   "id": "09632c5f",
   "metadata": {},
   "source": [
    "Now, let's examine whether there are any duplicates in the iOS data as well. We can employ the same code but with a change in datasets. The iOS dataset incorporates an 'id' column, which we will utilize for this check. This serves as a prime illustration of code reuse for the same objective. Alternatively, we could create a function and employ it for this purpose."
   ]
  },
  {
   "cell_type": "code",
   "execution_count": 11,
   "id": "0893804d",
   "metadata": {
    "scrolled": true
   },
   "outputs": [
    {
     "name": "stdout",
     "output_type": "stream",
     "text": [
      "Number of unique apps:  7197\n",
      "Number of duplicate apps:  0\n",
      "-------------------------------------------------\n",
      "Example of duplicate apps:  []\n"
     ]
    }
   ],
   "source": [
    "unique_apps = []\n",
    "duplicate_apps = []\n",
    "\n",
    "for app in ios:\n",
    "    name = app[0]\n",
    "    \n",
    "    if name in unique_apps:\n",
    "        duplicate_apps.append(name)\n",
    "    else:\n",
    "        unique_apps.append(name)\n",
    "\n",
    "print('Number of unique apps: ', len(unique_apps))\n",
    "print('Number of duplicate apps: ', len(duplicate_apps))\n",
    "print('-------------------------------------------------')\n",
    "print('Example of duplicate apps: ', duplicate_apps[0:5])"
   ]
  },
  {
   "cell_type": "markdown",
   "id": "320a094c",
   "metadata": {},
   "source": [
    "As evident from the iOS dataset, there are no duplicates present, and therefore, there's no need to remove any duplicates at this stage. \n",
    "\n",
    "Moving forward, our next step involves analyzing the language of the apps, with a specific focus on English apps only."
   ]
  },
  {
   "cell_type": "markdown",
   "id": "a74a3942",
   "metadata": {},
   "source": [
    "#### Removing Non-English Apps\n",
    "\n",
    "Upon thorough exploration of the datasets, we observed that certain app names imply they are not targeted towards an English-speaking audience. Below, we present a few examples from both datasets for illustration."
   ]
  },
  {
   "cell_type": "code",
   "execution_count": 12,
   "id": "a764970a",
   "metadata": {},
   "outputs": [
    {
     "name": "stdout",
     "output_type": "stream",
     "text": [
      "['445375097', '爱奇艺PPS -《欢乐颂2》电视剧热播', '224617472', 'USD', '0.0', '14844', '0', '4.0', '0.0', '6.3.3', '17+', 'Entertainment', '38', '5', '3', '1']\n",
      "爱奇艺PPS -《欢乐颂2》电视剧热播\n",
      "['中国語 AQリスニング', 'FAMILY', 'NaN', '21', '17M', '5,000+', 'Free', '0', 'Everyone', 'Education', 'June 22, 2016', '2.4.0', '4.0 and up']\n",
      "中国語 AQリスニング\n"
     ]
    }
   ],
   "source": [
    "print(ios[813])\n",
    "print(ios[813][1])\n",
    "print(android_clean[4412])\n",
    "print(android_clean[4412][0])"
   ]
  },
  {
   "cell_type": "code",
   "execution_count": 13,
   "id": "acc64ec4",
   "metadata": {},
   "outputs": [
    {
     "name": "stdout",
     "output_type": "stream",
     "text": [
      "97\n",
      "75\n"
     ]
    }
   ],
   "source": [
    "print(ord('a')) # with ord we can look for the corresponding number of the letter\n",
    "print(ord('K'))"
   ]
  },
  {
   "cell_type": "markdown",
   "id": "7873c07e",
   "metadata": {},
   "source": [
    "The numbers corresponding to the characters we commonly use in an English text are all in the range *0 to 127*, according to the ASCII (American Standard Code for Information Interchange) system. \n",
    "\n",
    "We will create a `function`, which is checking whether or not the string is english. We initialize a counter, if it is above 3, we return False. The counter prevents use from rejecting english apps with special characters."
   ]
  },
  {
   "cell_type": "code",
   "execution_count": 14,
   "id": "935f9f16",
   "metadata": {},
   "outputs": [],
   "source": [
    "def character_check(string):\n",
    "    non_ascii = 0\n",
    "    for character in string:\n",
    "        if ord(character) > 127:\n",
    "            non_ascii += 1\n",
    "            \n",
    "    if non_ascii > 3:\n",
    "        return False\n",
    "    else:\n",
    "        return True"
   ]
  },
  {
   "cell_type": "markdown",
   "id": "2bcfc2cf",
   "metadata": {},
   "source": [
    "While the `function` is not without imperfections, its efficacy in filtering out non-English applications is notable. However, a residual subset of non-English apps might bypass the implemented filter.\n",
    "\n",
    "Subsequently, we proceed to employ the `character_check()` function on both datasets, aiming to systematically exclude non-English applications."
   ]
  },
  {
   "cell_type": "code",
   "execution_count": 15,
   "id": "edff4c88",
   "metadata": {},
   "outputs": [
    {
     "name": "stdout",
     "output_type": "stream",
     "text": [
      "True\n",
      "True\n",
      "False\n",
      "True\n",
      "False\n",
      "True\n"
     ]
    }
   ],
   "source": [
    "print(character_check('Instachat 😜'))\n",
    "print(character_check('Docs To Go™ Free Office Suite'))\n",
    "print(character_check('爱奇艺PPS -《欢乐颂2》电视剧热播'))\n",
    "print(character_check('Instagram'))\n",
    "print(character_check('Inst爱奇艺艺PPSagram'))\n",
    "print(character_check('Inst爱奇艺PPSagram'))"
   ]
  },
  {
   "cell_type": "markdown",
   "id": "ea75e6bc",
   "metadata": {},
   "source": [
    "Now we will use the `function` `character_check()` and filter our datasets "
   ]
  },
  {
   "cell_type": "code",
   "execution_count": 16,
   "id": "ece263e9",
   "metadata": {},
   "outputs": [],
   "source": [
    "android_english_clean = []\n",
    "ios_english_clean = []\n",
    "\n",
    "for row in android_clean:\n",
    "    name = row[0]\n",
    "        \n",
    "    if character_check(name):\n",
    "        android_english_clean.append(row)\n",
    "        \n",
    "for row in ios:\n",
    "    name = row[1]\n",
    "    \n",
    "    if character_check(name):\n",
    "        ios_english_clean.append(row)"
   ]
  },
  {
   "cell_type": "code",
   "execution_count": 17,
   "id": "ff58035c",
   "metadata": {},
   "outputs": [
    {
     "name": "stdout",
     "output_type": "stream",
     "text": [
      "['Photo Editor & Candy Camera & Grid & ScrapBook', 'ART_AND_DESIGN', '4.1', '159', '19M', '10,000+', 'Free', '0', 'Everyone', 'Art & Design', 'January 7, 2018', '1.0.0', '4.0.3 and up']\n",
      "\n",
      "\n",
      "['U Launcher Lite – FREE Live Cool Themes, Hide Apps', 'ART_AND_DESIGN', '4.7', '87510', '8.7M', '5,000,000+', 'Free', '0', 'Everyone', 'Art & Design', 'August 1, 2018', '1.2.4', '4.0.3 and up']\n",
      "\n",
      "\n",
      "['Sketch - Draw & Paint', 'ART_AND_DESIGN', '4.5', '215644', '25M', '50,000,000+', 'Free', '0', 'Teen', 'Art & Design', 'June 8, 2018', 'Varies with device', '4.2 and up']\n",
      "\n",
      "\n",
      "Number of rows: 9614\n",
      "Number of columns: 13\n",
      "\n",
      "\n",
      "['284882215', 'Facebook', '389879808', 'USD', '0.0', '2974676', '212', '3.5', '3.5', '95.0', '4+', 'Social Networking', '37', '1', '29', '1']\n",
      "\n",
      "\n",
      "['389801252', 'Instagram', '113954816', 'USD', '0.0', '2161558', '1289', '4.5', '4.0', '10.23', '12+', 'Photo & Video', '37', '0', '29', '1']\n",
      "\n",
      "\n",
      "['529479190', 'Clash of Clans', '116476928', 'USD', '0.0', '2130805', '579', '4.5', '4.5', '9.24.12', '9+', 'Games', '38', '5', '18', '1']\n",
      "\n",
      "\n",
      "Number of rows: 6183\n",
      "Number of columns: 16\n"
     ]
    }
   ],
   "source": [
    "explore_data(android_english_clean, 0, 3, True)\n",
    "print('\\n')\n",
    "explore_data(ios_english_clean, 0, 3, True)"
   ]
  },
  {
   "cell_type": "markdown",
   "id": "9866c524",
   "metadata": {},
   "source": [
    "Now our datasets contain just english apps. Our android dataset contains 9614 rows and our ios dataset 6183. Without clearing other languages our datasets contained 9659 (android) and 7197 (ios) rows.\n",
    "\n",
    "We only want to analyze apps, that are free to download and install, therefore we need to exclude the apps, which are non-free. We will do this in the next step."
   ]
  },
  {
   "cell_type": "markdown",
   "id": "0a33b654",
   "metadata": {},
   "source": [
    "#### Isolating the Free Apps\n",
    "\n",
    "Our exclusive attention is directed towards applications that are offered for free download and installation. The datasets encompass a mix of both free and non-free applications, necessitating the isolation of solely the free applications for the purpose of our analysis. Thus, our subsequent step involves extracting and segregating the free apps from both datasets."
   ]
  },
  {
   "cell_type": "code",
   "execution_count": 18,
   "id": "08f31c24",
   "metadata": {},
   "outputs": [
    {
     "name": "stdout",
     "output_type": "stream",
     "text": [
      "Number of rows free + non-free (android):  9614\n",
      "Number of rows free apps (android):  8864\n",
      "\n",
      "\n",
      "Number of rows free + non-free (ios):  6183\n",
      "Number of rows free apps (ios):  3222\n"
     ]
    }
   ],
   "source": [
    "android_final = []\n",
    "ios_final = []\n",
    "\n",
    "for row in android_english_clean:\n",
    "    price_type = row[7]\n",
    "    \n",
    "    if price_type == '0':\n",
    "        android_final.append(row)\n",
    "\n",
    "for row in ios_english_clean:\n",
    "    price = row[4]\n",
    "    \n",
    "    if price == '0.0':\n",
    "        ios_final.append(row)\n",
    "        \n",
    "print('Number of rows free + non-free (android): ', len(android_english_clean))\n",
    "print('Number of rows free apps (android): ', len(android_final))\n",
    "print('\\n')\n",
    "print('Number of rows free + non-free (ios): ', len(ios_english_clean))\n",
    "print('Number of rows free apps (ios): ', len(ios_final))"
   ]
  },
  {
   "cell_type": "markdown",
   "id": "9cbe4342",
   "metadata": {},
   "source": [
    "Upon completing the data cleaning process concerning pricing, the android dataset now comprises *8864* rows, while the iOS dataset encompasses *3222* rows.\n",
    "\n",
    "Thus far, the following tasks have been accomplished:\n",
    "\n",
    "- Elimination of inaccurate data\n",
    "- Removal of duplicated app entries\n",
    "- Exclusion of non-English applications\n",
    "- Isolation of applications offered at no cost\n",
    "\n",
    "Aligned with our introductory objectives, our aim is to discern app profiles that possess the potential to allure a larger user base, as user count significantly impacts revenue.\n",
    "\n",
    "To ascertain the viability of an app idea, a three-step validation strategy is proposed:\n",
    "\n",
    "1) Development and release of a minimal Android version on Google Play.\n",
    "2) Further development contingent upon a favorable user response.\n",
    "3) Consideration of an iOS version's development for the App Store if the app proves profitable within six months.\n",
    "\n",
    "Given the ultimate objective of featuring the app on both Google Play and the App Store, the pursuit involves identifying app profiles thriving in both markets. For example, a profile exhibiting success in both markets could entail a productivity app integrating gamification elements.\n",
    "\n",
    "Moving forward, a comprehensive analysis of the dataset remains imperative. Subsequent steps will involve scrutinizing the most prevalent genres. This will include the generation of a frequency table for the `prime_genre` column within the iOS dataset, alongside the `Genres` and `Category` columns within the android dataset."
   ]
  },
  {
   "cell_type": "markdown",
   "id": "1e51c2ec",
   "metadata": {},
   "source": [
    "#### Most Common Apps by Genre"
   ]
  },
  {
   "cell_type": "code",
   "execution_count": 19,
   "id": "23722cd7",
   "metadata": {},
   "outputs": [
    {
     "name": "stdout",
     "output_type": "stream",
     "text": [
      "['App', 'Category', 'Rating', 'Reviews', 'Size', 'Installs', 'Type', 'Price', 'Content Rating', 'Genres', 'Last Updated', 'Current Ver', 'Android Ver']\n",
      "\n",
      "\n",
      "The category column in the android header is at index 1.\n",
      "The genre column in the android header is at index 9.\n",
      "\n",
      "\n",
      "['id', 'track_name', 'size_bytes', 'currency', 'price', 'rating_count_tot', 'rating_count_ver', 'user_rating', 'user_rating_ver', 'ver', 'cont_rating', 'prime_genre', 'sup_devices.num', 'ipadSc_urls.num', 'lang.num', 'vpp_lic']\n",
      "\n",
      "\n",
      "The genre column in the ios header is at index 11.\n",
      "\n",
      "\n"
     ]
    }
   ],
   "source": [
    "print(android_header)\n",
    "print('\\n')\n",
    "print('''The category column in the android header is at index 1.\n",
    "The genre column in the android header is at index 9.''')\n",
    "print('\\n')\n",
    "print(ios_header)\n",
    "print('\\n')\n",
    "print('The genre column in the ios header is at index 11.')\n",
    "print('\\n')"
   ]
  },
  {
   "cell_type": "markdown",
   "id": "a1afcf73",
   "metadata": {},
   "source": [
    "We will construct two distinct `functions` intended for analyzing frequency tables:\n",
    "\n",
    "Firstly, a `function` designed to produce frequency tables illustrating percentages. <br> Secondly, an additional function dedicated to presenting these percentages in a descending order for enhanced analysis and readability."
   ]
  },
  {
   "cell_type": "markdown",
   "id": "60550376",
   "metadata": {},
   "source": [
    "##### `freq_table` function"
   ]
  },
  {
   "cell_type": "code",
   "execution_count": 20,
   "id": "d6863b48",
   "metadata": {},
   "outputs": [],
   "source": [
    "def freq_table(dataset, index):\n",
    "    freq_dict = {}\n",
    "    total = 0\n",
    "    \n",
    "    for row in dataset:\n",
    "        total += 1\n",
    "        column = row[index] \n",
    "        if column in freq_dict:\n",
    "            freq_dict[column] +=1\n",
    "        else:\n",
    "            freq_dict[column] = 1\n",
    "            \n",
    "    freq_dict_percentages = {}\n",
    "    for key in freq_dict:\n",
    "        percentage = (freq_dict[key] / total) * 100\n",
    "        freq_dict_percentages[key] = percentage\n",
    "        \n",
    "    return freq_dict_percentages"
   ]
  },
  {
   "cell_type": "code",
   "execution_count": 21,
   "id": "728a29fb",
   "metadata": {
    "scrolled": true
   },
   "outputs": [
    {
     "data": {
      "text/plain": [
       "{'ART_AND_DESIGN': 0.6430505415162455,\n",
       " 'AUTO_AND_VEHICLES': 0.9250902527075812,\n",
       " 'BEAUTY': 0.5979241877256317,\n",
       " 'BOOKS_AND_REFERENCE': 2.1435018050541514,\n",
       " 'BUSINESS': 4.591606498194946,\n",
       " 'COMICS': 0.6204873646209386,\n",
       " 'COMMUNICATION': 3.2378158844765346,\n",
       " 'DATING': 1.861462093862816,\n",
       " 'EDUCATION': 1.1620036101083033,\n",
       " 'ENTERTAINMENT': 0.9589350180505415,\n",
       " 'EVENTS': 0.7107400722021661,\n",
       " 'FINANCE': 3.7003610108303246,\n",
       " 'FOOD_AND_DRINK': 1.2409747292418771,\n",
       " 'HEALTH_AND_FITNESS': 3.0798736462093865,\n",
       " 'HOUSE_AND_HOME': 0.8235559566787004,\n",
       " 'LIBRARIES_AND_DEMO': 0.9363718411552346,\n",
       " 'LIFESTYLE': 3.9034296028880866,\n",
       " 'GAME': 9.724729241877256,\n",
       " 'FAMILY': 18.907942238267147,\n",
       " 'MEDICAL': 3.531137184115524,\n",
       " 'SOCIAL': 2.6624548736462095,\n",
       " 'SHOPPING': 2.2450361010830324,\n",
       " 'PHOTOGRAPHY': 2.944494584837545,\n",
       " 'SPORTS': 3.395758122743682,\n",
       " 'TRAVEL_AND_LOCAL': 2.33528880866426,\n",
       " 'TOOLS': 8.461191335740072,\n",
       " 'PERSONALIZATION': 3.3167870036101084,\n",
       " 'PRODUCTIVITY': 3.892148014440433,\n",
       " 'PARENTING': 0.6543321299638989,\n",
       " 'WEATHER': 0.8009927797833934,\n",
       " 'VIDEO_PLAYERS': 1.7937725631768955,\n",
       " 'NEWS_AND_MAGAZINES': 2.7978339350180503,\n",
       " 'MAPS_AND_NAVIGATION': 1.3989169675090252}"
      ]
     },
     "execution_count": 21,
     "metadata": {},
     "output_type": "execute_result"
    }
   ],
   "source": [
    "freq_table(android_final, 1) #freq_table for category in android dataset"
   ]
  },
  {
   "cell_type": "markdown",
   "id": "11e0165f",
   "metadata": {},
   "source": [
    "##### `display_table()` function"
   ]
  },
  {
   "cell_type": "code",
   "execution_count": 22,
   "id": "90155377",
   "metadata": {},
   "outputs": [],
   "source": [
    "def display_table(dataset, index):\n",
    "    table = freq_table(dataset, index)\n",
    "    table_display = []\n",
    "    for key in table:\n",
    "        key_val_as_tuple = (table[key], key)\n",
    "        table_display.append(key_val_as_tuple)\n",
    "\n",
    "    table_sorted = sorted(table_display, reverse = True)\n",
    "    for entry in table_sorted:\n",
    "        print(entry[1], ':', entry[0]) #print key first and then percentage"
   ]
  },
  {
   "cell_type": "code",
   "execution_count": 23,
   "id": "6cb02cd8",
   "metadata": {
    "scrolled": true
   },
   "outputs": [
    {
     "name": "stdout",
     "output_type": "stream",
     "text": [
      "FAMILY : 18.907942238267147\n",
      "GAME : 9.724729241877256\n",
      "TOOLS : 8.461191335740072\n",
      "BUSINESS : 4.591606498194946\n",
      "LIFESTYLE : 3.9034296028880866\n",
      "PRODUCTIVITY : 3.892148014440433\n",
      "FINANCE : 3.7003610108303246\n",
      "MEDICAL : 3.531137184115524\n",
      "SPORTS : 3.395758122743682\n",
      "PERSONALIZATION : 3.3167870036101084\n",
      "COMMUNICATION : 3.2378158844765346\n",
      "HEALTH_AND_FITNESS : 3.0798736462093865\n",
      "PHOTOGRAPHY : 2.944494584837545\n",
      "NEWS_AND_MAGAZINES : 2.7978339350180503\n",
      "SOCIAL : 2.6624548736462095\n",
      "TRAVEL_AND_LOCAL : 2.33528880866426\n",
      "SHOPPING : 2.2450361010830324\n",
      "BOOKS_AND_REFERENCE : 2.1435018050541514\n",
      "DATING : 1.861462093862816\n",
      "VIDEO_PLAYERS : 1.7937725631768955\n",
      "MAPS_AND_NAVIGATION : 1.3989169675090252\n",
      "FOOD_AND_DRINK : 1.2409747292418771\n",
      "EDUCATION : 1.1620036101083033\n",
      "ENTERTAINMENT : 0.9589350180505415\n",
      "LIBRARIES_AND_DEMO : 0.9363718411552346\n",
      "AUTO_AND_VEHICLES : 0.9250902527075812\n",
      "HOUSE_AND_HOME : 0.8235559566787004\n",
      "WEATHER : 0.8009927797833934\n",
      "EVENTS : 0.7107400722021661\n",
      "PARENTING : 0.6543321299638989\n",
      "ART_AND_DESIGN : 0.6430505415162455\n",
      "COMICS : 0.6204873646209386\n",
      "BEAUTY : 0.5979241877256317\n"
     ]
    }
   ],
   "source": [
    "display_table(android_final, 1) #freq_table for category in android dataset, sorted desc"
   ]
  },
  {
   "cell_type": "code",
   "execution_count": 24,
   "id": "9f8a2e3f",
   "metadata": {
    "scrolled": true
   },
   "outputs": [
    {
     "name": "stdout",
     "output_type": "stream",
     "text": [
      "Tools : 8.449909747292418\n",
      "Entertainment : 6.069494584837545\n",
      "Education : 5.347472924187725\n",
      "Business : 4.591606498194946\n",
      "Productivity : 3.892148014440433\n",
      "Lifestyle : 3.892148014440433\n",
      "Finance : 3.7003610108303246\n",
      "Medical : 3.531137184115524\n",
      "Sports : 3.463447653429603\n",
      "Personalization : 3.3167870036101084\n",
      "Communication : 3.2378158844765346\n",
      "Action : 3.1024368231046933\n",
      "Health & Fitness : 3.0798736462093865\n",
      "Photography : 2.944494584837545\n",
      "News & Magazines : 2.7978339350180503\n",
      "Social : 2.6624548736462095\n",
      "Travel & Local : 2.3240072202166067\n",
      "Shopping : 2.2450361010830324\n",
      "Books & Reference : 2.1435018050541514\n",
      "Simulation : 2.0419675090252705\n",
      "Dating : 1.861462093862816\n",
      "Arcade : 1.8501805054151623\n",
      "Video Players & Editors : 1.7712093862815883\n",
      "Casual : 1.7599277978339352\n",
      "Maps & Navigation : 1.3989169675090252\n",
      "Food & Drink : 1.2409747292418771\n",
      "Puzzle : 1.128158844765343\n",
      "Racing : 0.9927797833935018\n",
      "Role Playing : 0.9363718411552346\n",
      "Libraries & Demo : 0.9363718411552346\n",
      "Auto & Vehicles : 0.9250902527075812\n",
      "Strategy : 0.9138086642599278\n",
      "House & Home : 0.8235559566787004\n",
      "Weather : 0.8009927797833934\n",
      "Events : 0.7107400722021661\n",
      "Adventure : 0.6768953068592057\n",
      "Comics : 0.6092057761732852\n",
      "Beauty : 0.5979241877256317\n",
      "Art & Design : 0.5979241877256317\n",
      "Parenting : 0.4963898916967509\n",
      "Card : 0.45126353790613716\n",
      "Casino : 0.42870036101083037\n",
      "Trivia : 0.41741877256317694\n",
      "Educational;Education : 0.39485559566787\n",
      "Board : 0.3835740072202166\n",
      "Educational : 0.3722924187725632\n",
      "Education;Education : 0.33844765342960287\n",
      "Word : 0.2594765342960289\n",
      "Casual;Pretend Play : 0.236913357400722\n",
      "Music : 0.2030685920577617\n",
      "Racing;Action & Adventure : 0.16922382671480143\n",
      "Puzzle;Brain Games : 0.16922382671480143\n",
      "Entertainment;Music & Video : 0.16922382671480143\n",
      "Casual;Brain Games : 0.13537906137184114\n",
      "Casual;Action & Adventure : 0.13537906137184114\n",
      "Arcade;Action & Adventure : 0.12409747292418773\n",
      "Action;Action & Adventure : 0.10153429602888085\n",
      "Educational;Pretend Play : 0.09025270758122744\n",
      "Simulation;Action & Adventure : 0.078971119133574\n",
      "Parenting;Education : 0.078971119133574\n",
      "Entertainment;Brain Games : 0.078971119133574\n",
      "Board;Brain Games : 0.078971119133574\n",
      "Parenting;Music & Video : 0.06768953068592057\n",
      "Educational;Brain Games : 0.06768953068592057\n",
      "Casual;Creativity : 0.06768953068592057\n",
      "Art & Design;Creativity : 0.06768953068592057\n",
      "Education;Pretend Play : 0.056407942238267145\n",
      "Role Playing;Pretend Play : 0.04512635379061372\n",
      "Education;Creativity : 0.04512635379061372\n",
      "Role Playing;Action & Adventure : 0.033844765342960284\n",
      "Puzzle;Action & Adventure : 0.033844765342960284\n",
      "Entertainment;Creativity : 0.033844765342960284\n",
      "Entertainment;Action & Adventure : 0.033844765342960284\n",
      "Educational;Creativity : 0.033844765342960284\n",
      "Educational;Action & Adventure : 0.033844765342960284\n",
      "Education;Music & Video : 0.033844765342960284\n",
      "Education;Brain Games : 0.033844765342960284\n",
      "Education;Action & Adventure : 0.033844765342960284\n",
      "Adventure;Action & Adventure : 0.033844765342960284\n",
      "Video Players & Editors;Music & Video : 0.02256317689530686\n",
      "Sports;Action & Adventure : 0.02256317689530686\n",
      "Simulation;Pretend Play : 0.02256317689530686\n",
      "Puzzle;Creativity : 0.02256317689530686\n",
      "Music;Music & Video : 0.02256317689530686\n",
      "Entertainment;Pretend Play : 0.02256317689530686\n",
      "Casual;Education : 0.02256317689530686\n",
      "Board;Action & Adventure : 0.02256317689530686\n",
      "Video Players & Editors;Creativity : 0.01128158844765343\n",
      "Trivia;Education : 0.01128158844765343\n",
      "Travel & Local;Action & Adventure : 0.01128158844765343\n",
      "Tools;Education : 0.01128158844765343\n",
      "Strategy;Education : 0.01128158844765343\n",
      "Strategy;Creativity : 0.01128158844765343\n",
      "Strategy;Action & Adventure : 0.01128158844765343\n",
      "Simulation;Education : 0.01128158844765343\n",
      "Role Playing;Brain Games : 0.01128158844765343\n",
      "Racing;Pretend Play : 0.01128158844765343\n",
      "Puzzle;Education : 0.01128158844765343\n",
      "Parenting;Brain Games : 0.01128158844765343\n",
      "Music & Audio;Music & Video : 0.01128158844765343\n",
      "Lifestyle;Pretend Play : 0.01128158844765343\n",
      "Lifestyle;Education : 0.01128158844765343\n",
      "Health & Fitness;Education : 0.01128158844765343\n",
      "Health & Fitness;Action & Adventure : 0.01128158844765343\n",
      "Entertainment;Education : 0.01128158844765343\n",
      "Communication;Creativity : 0.01128158844765343\n",
      "Comics;Creativity : 0.01128158844765343\n",
      "Casual;Music & Video : 0.01128158844765343\n",
      "Card;Action & Adventure : 0.01128158844765343\n",
      "Books & Reference;Education : 0.01128158844765343\n",
      "Art & Design;Pretend Play : 0.01128158844765343\n",
      "Art & Design;Action & Adventure : 0.01128158844765343\n",
      "Arcade;Pretend Play : 0.01128158844765343\n",
      "Adventure;Education : 0.01128158844765343\n"
     ]
    }
   ],
   "source": [
    "display_table(android_final, 9) #freq_table for genre in android dataset, sorted desc"
   ]
  },
  {
   "cell_type": "code",
   "execution_count": 25,
   "id": "c257a4a6",
   "metadata": {},
   "outputs": [
    {
     "name": "stdout",
     "output_type": "stream",
     "text": [
      "Games : 58.16263190564867\n",
      "Entertainment : 7.883302296710118\n",
      "Photo & Video : 4.9658597144630665\n",
      "Education : 3.662321539416512\n",
      "Social Networking : 3.2898820608317814\n",
      "Shopping : 2.60707635009311\n",
      "Utilities : 2.5139664804469275\n",
      "Sports : 2.1415270018621975\n",
      "Music : 2.0484171322160147\n",
      "Health & Fitness : 2.0173805090006205\n",
      "Productivity : 1.7380509000620732\n",
      "Lifestyle : 1.5828677839851024\n",
      "News : 1.3345747982619491\n",
      "Travel : 1.2414649286157666\n",
      "Finance : 1.1173184357541899\n",
      "Weather : 0.8690254500310366\n",
      "Food & Drink : 0.8069522036002483\n",
      "Reference : 0.5586592178770949\n",
      "Business : 0.5276225946617008\n",
      "Book : 0.4345127250155183\n",
      "Navigation : 0.186219739292365\n",
      "Medical : 0.186219739292365\n",
      "Catalogs : 0.12414649286157665\n"
     ]
    }
   ],
   "source": [
    "display_table(ios_final, 11)  #freq_table for genre in ios dataset, sorted desc"
   ]
  },
  {
   "cell_type": "markdown",
   "id": "1e89f812",
   "metadata": {},
   "source": [
    "#### Analyzing the Frequency Tables\n",
    "We'll start with the `prime_genre` column of the ios dataset. After that we look at the android dataset columns"
   ]
  },
  {
   "cell_type": "code",
   "execution_count": 26,
   "id": "9ee9df3d",
   "metadata": {},
   "outputs": [
    {
     "name": "stdout",
     "output_type": "stream",
     "text": [
      "Games : 58.16263190564867\n",
      "Entertainment : 7.883302296710118\n",
      "Photo & Video : 4.9658597144630665\n",
      "Education : 3.662321539416512\n",
      "Social Networking : 3.2898820608317814\n",
      "Shopping : 2.60707635009311\n",
      "Utilities : 2.5139664804469275\n",
      "Sports : 2.1415270018621975\n",
      "Music : 2.0484171322160147\n",
      "Health & Fitness : 2.0173805090006205\n",
      "Productivity : 1.7380509000620732\n",
      "Lifestyle : 1.5828677839851024\n",
      "News : 1.3345747982619491\n",
      "Travel : 1.2414649286157666\n",
      "Finance : 1.1173184357541899\n",
      "Weather : 0.8690254500310366\n",
      "Food & Drink : 0.8069522036002483\n",
      "Reference : 0.5586592178770949\n",
      "Business : 0.5276225946617008\n",
      "Book : 0.4345127250155183\n",
      "Navigation : 0.186219739292365\n",
      "Medical : 0.186219739292365\n",
      "Catalogs : 0.12414649286157665\n"
     ]
    }
   ],
   "source": [
    "most_common_genre_ios = display_table(ios_final, 11)"
   ]
  },
  {
   "cell_type": "markdown",
   "id": "7fb2edc3",
   "metadata": {},
   "source": [
    "As you can see above, the most common genre for the apple app store, for just english free apps is the `Games` genre with *~58%*. Far behind on second place is the `Entertainment` genre with *~8%*. `Games`makes up by far the largest part of the genre in the app store among english free apps. Most of the other genres are represent up to *~3%*.\n",
    "\n",
    "If we look at the frequency table above we can conclude, that most of the free english apps are related to entertainment categories. Like `Games` = *~58%*, `Entertainment` = *~8%*, `Photo & Video` = *~5%* or `Social Networking` = *~3%*. But we cant say, that  `Games` is the category with the most users. There could be tousands of free english games in the app store without any user. The frequency table just shows us the amount of apps, not the user count.\n",
    "\n",
    "With this information alone, we cant recommend an app profile for the app store market. Next lets look at the android dataset"
   ]
  },
  {
   "cell_type": "code",
   "execution_count": 27,
   "id": "92f39f93",
   "metadata": {
    "scrolled": true
   },
   "outputs": [
    {
     "name": "stdout",
     "output_type": "stream",
     "text": [
      "FAMILY : 18.907942238267147\n",
      "GAME : 9.724729241877256\n",
      "TOOLS : 8.461191335740072\n",
      "BUSINESS : 4.591606498194946\n",
      "LIFESTYLE : 3.9034296028880866\n",
      "PRODUCTIVITY : 3.892148014440433\n",
      "FINANCE : 3.7003610108303246\n",
      "MEDICAL : 3.531137184115524\n",
      "SPORTS : 3.395758122743682\n",
      "PERSONALIZATION : 3.3167870036101084\n",
      "COMMUNICATION : 3.2378158844765346\n",
      "HEALTH_AND_FITNESS : 3.0798736462093865\n",
      "PHOTOGRAPHY : 2.944494584837545\n",
      "NEWS_AND_MAGAZINES : 2.7978339350180503\n",
      "SOCIAL : 2.6624548736462095\n",
      "TRAVEL_AND_LOCAL : 2.33528880866426\n",
      "SHOPPING : 2.2450361010830324\n",
      "BOOKS_AND_REFERENCE : 2.1435018050541514\n",
      "DATING : 1.861462093862816\n",
      "VIDEO_PLAYERS : 1.7937725631768955\n",
      "MAPS_AND_NAVIGATION : 1.3989169675090252\n",
      "FOOD_AND_DRINK : 1.2409747292418771\n",
      "EDUCATION : 1.1620036101083033\n",
      "ENTERTAINMENT : 0.9589350180505415\n",
      "LIBRARIES_AND_DEMO : 0.9363718411552346\n",
      "AUTO_AND_VEHICLES : 0.9250902527075812\n",
      "HOUSE_AND_HOME : 0.8235559566787004\n",
      "WEATHER : 0.8009927797833934\n",
      "EVENTS : 0.7107400722021661\n",
      "PARENTING : 0.6543321299638989\n",
      "ART_AND_DESIGN : 0.6430505415162455\n",
      "COMICS : 0.6204873646209386\n",
      "BEAUTY : 0.5979241877256317\n"
     ]
    }
   ],
   "source": [
    "most_common_category_android = display_table(android_final, 1) #category"
   ]
  },
  {
   "cell_type": "code",
   "execution_count": 28,
   "id": "96597f18",
   "metadata": {
    "scrolled": true
   },
   "outputs": [
    {
     "name": "stdout",
     "output_type": "stream",
     "text": [
      "Tools : 8.449909747292418\n",
      "Entertainment : 6.069494584837545\n",
      "Education : 5.347472924187725\n",
      "Business : 4.591606498194946\n",
      "Productivity : 3.892148014440433\n",
      "Lifestyle : 3.892148014440433\n",
      "Finance : 3.7003610108303246\n",
      "Medical : 3.531137184115524\n",
      "Sports : 3.463447653429603\n",
      "Personalization : 3.3167870036101084\n",
      "Communication : 3.2378158844765346\n",
      "Action : 3.1024368231046933\n",
      "Health & Fitness : 3.0798736462093865\n",
      "Photography : 2.944494584837545\n",
      "News & Magazines : 2.7978339350180503\n",
      "Social : 2.6624548736462095\n",
      "Travel & Local : 2.3240072202166067\n",
      "Shopping : 2.2450361010830324\n",
      "Books & Reference : 2.1435018050541514\n",
      "Simulation : 2.0419675090252705\n",
      "Dating : 1.861462093862816\n",
      "Arcade : 1.8501805054151623\n",
      "Video Players & Editors : 1.7712093862815883\n",
      "Casual : 1.7599277978339352\n",
      "Maps & Navigation : 1.3989169675090252\n",
      "Food & Drink : 1.2409747292418771\n",
      "Puzzle : 1.128158844765343\n",
      "Racing : 0.9927797833935018\n",
      "Role Playing : 0.9363718411552346\n",
      "Libraries & Demo : 0.9363718411552346\n",
      "Auto & Vehicles : 0.9250902527075812\n",
      "Strategy : 0.9138086642599278\n",
      "House & Home : 0.8235559566787004\n",
      "Weather : 0.8009927797833934\n",
      "Events : 0.7107400722021661\n",
      "Adventure : 0.6768953068592057\n",
      "Comics : 0.6092057761732852\n",
      "Beauty : 0.5979241877256317\n",
      "Art & Design : 0.5979241877256317\n",
      "Parenting : 0.4963898916967509\n",
      "Card : 0.45126353790613716\n",
      "Casino : 0.42870036101083037\n",
      "Trivia : 0.41741877256317694\n",
      "Educational;Education : 0.39485559566787\n",
      "Board : 0.3835740072202166\n",
      "Educational : 0.3722924187725632\n",
      "Education;Education : 0.33844765342960287\n",
      "Word : 0.2594765342960289\n",
      "Casual;Pretend Play : 0.236913357400722\n",
      "Music : 0.2030685920577617\n",
      "Racing;Action & Adventure : 0.16922382671480143\n",
      "Puzzle;Brain Games : 0.16922382671480143\n",
      "Entertainment;Music & Video : 0.16922382671480143\n",
      "Casual;Brain Games : 0.13537906137184114\n",
      "Casual;Action & Adventure : 0.13537906137184114\n",
      "Arcade;Action & Adventure : 0.12409747292418773\n",
      "Action;Action & Adventure : 0.10153429602888085\n",
      "Educational;Pretend Play : 0.09025270758122744\n",
      "Simulation;Action & Adventure : 0.078971119133574\n",
      "Parenting;Education : 0.078971119133574\n",
      "Entertainment;Brain Games : 0.078971119133574\n",
      "Board;Brain Games : 0.078971119133574\n",
      "Parenting;Music & Video : 0.06768953068592057\n",
      "Educational;Brain Games : 0.06768953068592057\n",
      "Casual;Creativity : 0.06768953068592057\n",
      "Art & Design;Creativity : 0.06768953068592057\n",
      "Education;Pretend Play : 0.056407942238267145\n",
      "Role Playing;Pretend Play : 0.04512635379061372\n",
      "Education;Creativity : 0.04512635379061372\n",
      "Role Playing;Action & Adventure : 0.033844765342960284\n",
      "Puzzle;Action & Adventure : 0.033844765342960284\n",
      "Entertainment;Creativity : 0.033844765342960284\n",
      "Entertainment;Action & Adventure : 0.033844765342960284\n",
      "Educational;Creativity : 0.033844765342960284\n",
      "Educational;Action & Adventure : 0.033844765342960284\n",
      "Education;Music & Video : 0.033844765342960284\n",
      "Education;Brain Games : 0.033844765342960284\n",
      "Education;Action & Adventure : 0.033844765342960284\n",
      "Adventure;Action & Adventure : 0.033844765342960284\n",
      "Video Players & Editors;Music & Video : 0.02256317689530686\n",
      "Sports;Action & Adventure : 0.02256317689530686\n",
      "Simulation;Pretend Play : 0.02256317689530686\n",
      "Puzzle;Creativity : 0.02256317689530686\n",
      "Music;Music & Video : 0.02256317689530686\n",
      "Entertainment;Pretend Play : 0.02256317689530686\n",
      "Casual;Education : 0.02256317689530686\n",
      "Board;Action & Adventure : 0.02256317689530686\n",
      "Video Players & Editors;Creativity : 0.01128158844765343\n",
      "Trivia;Education : 0.01128158844765343\n",
      "Travel & Local;Action & Adventure : 0.01128158844765343\n",
      "Tools;Education : 0.01128158844765343\n",
      "Strategy;Education : 0.01128158844765343\n",
      "Strategy;Creativity : 0.01128158844765343\n",
      "Strategy;Action & Adventure : 0.01128158844765343\n",
      "Simulation;Education : 0.01128158844765343\n",
      "Role Playing;Brain Games : 0.01128158844765343\n",
      "Racing;Pretend Play : 0.01128158844765343\n",
      "Puzzle;Education : 0.01128158844765343\n",
      "Parenting;Brain Games : 0.01128158844765343\n",
      "Music & Audio;Music & Video : 0.01128158844765343\n",
      "Lifestyle;Pretend Play : 0.01128158844765343\n",
      "Lifestyle;Education : 0.01128158844765343\n",
      "Health & Fitness;Education : 0.01128158844765343\n",
      "Health & Fitness;Action & Adventure : 0.01128158844765343\n",
      "Entertainment;Education : 0.01128158844765343\n",
      "Communication;Creativity : 0.01128158844765343\n",
      "Comics;Creativity : 0.01128158844765343\n",
      "Casual;Music & Video : 0.01128158844765343\n",
      "Card;Action & Adventure : 0.01128158844765343\n",
      "Books & Reference;Education : 0.01128158844765343\n",
      "Art & Design;Pretend Play : 0.01128158844765343\n",
      "Art & Design;Action & Adventure : 0.01128158844765343\n",
      "Arcade;Pretend Play : 0.01128158844765343\n",
      "Adventure;Education : 0.01128158844765343\n"
     ]
    }
   ],
   "source": [
    "most_common_genre_android = display_table(android_final, 9) #genre"
   ]
  },
  {
   "cell_type": "markdown",
   "id": "e8d8038e",
   "metadata": {},
   "source": [
    "Before we analyze the android frequency table for `Category` and `Genre` we should look at the columns. An app can belong to multiple `Genres` (apart from its main `Category`). For eg, a musical family game will belong to Music, Game, Family genres. This means the genre column is a detailed representation of the category column. For our purpose, looking at the category column is sufficient, because we want to see the distribution within the app store.\n",
    "\n",
    "The most common `Category` in the free english android app store is `Family` with *~19%*, on second place is `Games` with *~10%*.\n",
    "\n",
    "Like the apple store, there are a lot of `Categories` in the android store which are represent up to *~3%*. As we mentioned before, representation of a `Genre` does not say anything about the user count. In contrast to the apple store, the most common free english apps in the android store are related to the `Category` `Family`, `Games` are on the second place. Like the apple store, Although the `Games` `Category` is not that strongly represented in like in the app store, it is still a very common `Category` in the android store. However, if we investigate this further, we can see that the `Family` `Category` means mostly games for kids.\n",
    "\n",
    "While in the app store, most apps where in `Categories`which we can describe with the keyword `Entertainment`, the distribution of the free english apps in the android store is much more heterogeneous between `Entertainment` and apps we can describe as `practical purposes` eg, `Tools`, `Business` and `Productivity`. However, it is evident that `practical purpose` apps are more prominently represented on Google Play in comparison to the App Store. This observation is further corroborated by the frequency table we have for the 'Genres' column."
   ]
  },
  {
   "cell_type": "markdown",
   "id": "56d07309",
   "metadata": {},
   "source": [
    "#### Most Popular Apps by Genre\n",
    "\n",
    "Until now, our analysis indicates that the App Store primarily consists of apps designed for entertainment, whereas Google Play displays a more balanced variety of both practical and recreational apps. However, our focus now shifts towards understanding the types of apps that have the highest number of users.\n",
    "\n",
    "To determine the most popular genres with the highest number of users, one approach is to calculate the average number of `installs` for each app genre. In the `Google Play dataset`, this information is directly available in the `'Installs'` column. However, for the `App Store dataset`, the corresponding data is missing. To address this, we'll use the total number of user ratings as a proxy, which we can find in the `'rating_count_tot'` column.\n",
    "\n",
    "Below, we proceed to compute the `average number of user ratings per app` genre on the App Store:"
   ]
  },
  {
   "cell_type": "markdown",
   "id": "2cb4d1e7",
   "metadata": {},
   "source": [
    "#### Most Common Genres by User Ratings (Ios)"
   ]
  },
  {
   "cell_type": "code",
   "execution_count": 29,
   "id": "86321aa8",
   "metadata": {
    "scrolled": true
   },
   "outputs": [
    {
     "name": "stdout",
     "output_type": "stream",
     "text": [
      "Social Networking --> Average number of user ratings: 71548\n",
      "Photo & Video --> Average number of user ratings: 28442\n",
      "Games --> Average number of user ratings: 22789\n",
      "Music --> Average number of user ratings: 57327\n",
      "Reference --> Average number of user ratings: 74942\n",
      "Health & Fitness --> Average number of user ratings: 23298\n",
      "Weather --> Average number of user ratings: 52280\n",
      "Utilities --> Average number of user ratings: 18684\n",
      "Travel --> Average number of user ratings: 28244\n",
      "Shopping --> Average number of user ratings: 26920\n",
      "News --> Average number of user ratings: 21248\n",
      "Navigation --> Average number of user ratings: 86090\n",
      "Lifestyle --> Average number of user ratings: 16486\n",
      "Entertainment --> Average number of user ratings: 14030\n",
      "Food & Drink --> Average number of user ratings: 33334\n",
      "Sports --> Average number of user ratings: 23009\n",
      "Book --> Average number of user ratings: 39758\n",
      "Finance --> Average number of user ratings: 31468\n",
      "Education --> Average number of user ratings: 7004\n",
      "Productivity --> Average number of user ratings: 21028\n",
      "Business --> Average number of user ratings: 7491\n",
      "Catalogs --> Average number of user ratings: 4004\n",
      "Medical --> Average number of user ratings: 612\n"
     ]
    }
   ],
   "source": [
    "freq_genre_ios = freq_table(ios_final, 11)\n",
    "\n",
    "for genre in freq_genre_ios:\n",
    "    total = 0\n",
    "    len_genre = 0\n",
    "    \n",
    "    for row in ios_final:\n",
    "        app_genre = row[11]\n",
    "        if app_genre == genre:\n",
    "            ratings = float(row[5])\n",
    "            total += ratings\n",
    "            len_genre += 1\n",
    "    \n",
    "    avg_rating_count = round(total / len_genre)\n",
    "    print(genre, '--> Average number of user ratings:', avg_rating_count)"
   ]
  },
  {
   "cell_type": "markdown",
   "id": "bf5cee5f",
   "metadata": {},
   "source": [
    "Above we calculated the average number of user ratings per `Genre`. The result confirms the assumption, that the number of apps by genre does not necessarily reflect the number of users. The user ratings give a good idea of how many users use a particular app of a genre. The average number of user ratings for each genre have been summarized here. Based on the average number of user ratings count, the `Gaming` `Genre` is not the most popular `Genre`. Rather, `Social Networking`, `Reference` and `Navigation` apps, which are just represented by *~3.29%* , *~0.56%* and *~0.19%* in the free english dataset, seem to have the most users on average. \n"
   ]
  },
  {
   "cell_type": "markdown",
   "id": "9c784119",
   "metadata": {},
   "source": [
    "#### Bias\n",
    "Among the app `Genres`, `Navigation` apps boast the highest number of user reviews. However, this number is significantly impacted by two dominant apps, namely `Waze` and `Google Maps`, which together accumulate  half a million user reviews:"
   ]
  },
  {
   "cell_type": "code",
   "execution_count": 30,
   "id": "38c715df",
   "metadata": {
    "scrolled": true
   },
   "outputs": [
    {
     "name": "stdout",
     "output_type": "stream",
     "text": [
      "Waze - GPS Navigation, Maps & Real-time Traffic : 345046\n",
      "Google Maps - Navigation & Transit : 154911\n",
      "Geocaching® : 12811\n",
      "CoPilot GPS – Car Navigation & Offline Maps : 3582\n",
      "ImmobilienScout24: Real Estate Search in Germany : 187\n",
      "Railway Route Search : 5\n"
     ]
    }
   ],
   "source": [
    "for app in ios_final:\n",
    "    if app[-5] == 'Navigation':\n",
    "        print(app[1], ':', app[5]) # print name and number of ratings"
   ]
  },
  {
   "cell_type": "markdown",
   "id": "8354b530",
   "metadata": {},
   "source": [
    "We observe a similar trend with `Social Networking` and `Reference`apps. The average number of user reviews is heavily influenced by a handful of giants such as `Facebook`, `Pinterest` and `Skype`.\n",
    "As for `Reference` apps, they have an average of 74942 user ratings. However, this figure is significantly impacted by apps like the `Bible`, `Dictionary.com` and also `Google Translate` (see below).\n",
    "\n",
    "Consequently, these apps may appear more popular than they truly are. The average number of ratings seems skewed due to a few apps with hundreds of thousands of user reviews, while other apps struggle to surpass the 10000 threshold. \n",
    "\n",
    "To gain a clearer perspective, we could improve our analysis by excluding these extremely popular apps from each genre and then reevaluate the averages.\n"
   ]
  },
  {
   "cell_type": "code",
   "execution_count": 31,
   "id": "72287bfd",
   "metadata": {
    "scrolled": true
   },
   "outputs": [
    {
     "name": "stdout",
     "output_type": "stream",
     "text": [
      "Bible : 985920\n",
      "Dictionary.com Dictionary & Thesaurus : 200047\n",
      "Dictionary.com Dictionary & Thesaurus for iPad : 54175\n",
      "Google Translate : 26786\n",
      "Muslim Pro: Ramadan 2017 Prayer Times, Azan, Quran : 18418\n",
      "New Furniture Mods - Pocket Wiki & Game Tools for Minecraft PC Edition : 17588\n",
      "Merriam-Webster Dictionary : 16849\n",
      "Night Sky : 12122\n",
      "City Maps for Minecraft PE - The Best Maps for Minecraft Pocket Edition (MCPE) : 8535\n",
      "LUCKY BLOCK MOD ™ for Minecraft PC Edition - The Best Pocket Wiki & Mods Installer Tools : 4693\n",
      "GUNS MODS for Minecraft PC Edition - Mods Tools : 1497\n",
      "Guides for Pokémon GO - Pokemon GO News and Cheats : 826\n",
      "WWDC : 762\n",
      "Horror Maps for Minecraft PE - Download The Scariest Maps for Minecraft Pocket Edition (MCPE) Free : 718\n",
      "VPN Express : 14\n",
      "Real Bike Traffic Rider Virtual Reality Glasses : 8\n",
      "教えて!goo : 0\n",
      "Jishokun-Japanese English Dictionary & Translator : 0\n"
     ]
    }
   ],
   "source": [
    "for app in ios_final:\n",
    "    if app[-5] == 'Reference':\n",
    "        print(app[1], ':', app[5])"
   ]
  },
  {
   "cell_type": "code",
   "execution_count": 32,
   "id": "23ec45d4",
   "metadata": {
    "scrolled": true
   },
   "outputs": [
    {
     "name": "stdout",
     "output_type": "stream",
     "text": [
      "Zillow Real Estate - Homes for Sale & for Rent : 342969\n",
      "Tinder : 143040\n",
      "Text Free: Free Texting + Calling + MMS : 100477\n",
      "Countdown‼ (Event Reminders and Timer) : 60490\n",
      "PINK Nation : 49816\n",
      "happn — Dating app — Find and meet your crush : 20546\n",
      "Perfect365 - Custom makeup designs and beauty tips : 19540\n",
      "ipsy - Makeup, subscription and beauty tips : 17489\n",
      "cute icon&wallpaper dressup - CocoPPa : 12508\n",
      "Bumble – Find a Date, Meet Friends & Network : 10109\n",
      "IKEA Catalog : 8939\n",
      "Monogram - Wallpaper & Backgrounds Maker HD DIY with Glitter Themes : 7427\n",
      "Nerve — Truth or Dare Dirty Houseparty Party Games : 6658\n",
      "Tile - Find & track your lost phone, wallet, keys : 5684\n",
      "Yellow - Make new friends : 3809\n",
      "Home - Design & Decor Shopping : 3354\n",
      "T-Mobile Tuesdays : 3213\n",
      "Player for Acapella Triller illuminati Edition : 2476\n",
      "Funny Face - Filters Swap Effects Pic for Snapchat : 2471\n",
      "SafeTrek - Personal Safety : 2227\n",
      "Philips Hue : 1999\n",
      "Alipay - Makes Life Easy : 1926\n",
      "Yoshirt - Design Your Own Custom Tshirt, Tote Bag, Socks and More : 1849\n",
      "adidas Confirmed : 1434\n",
      "Mega Millions & Powerball - lottery games in the US with winning number results, lotto jackpots and prize payouts : 1255\n",
      "Celebtwin: Celebrity Looks Like Lite : 1111\n",
      "myChevrolet : 1083\n",
      "Gather - In real life : 813\n",
      "Live Wallpapers & Themes Free - Moving Backgrounds : 708\n",
      "Baby Skins and Aphmau Skins and Boy Skins and Girl Skins For Minecraft PE : 610\n",
      "BoycottTrump : 601\n",
      "Shell by Bellabeat - Baby Heartbeat Listener : 587\n",
      "Hallmark eCards : 520\n",
      "Live Wallpapers for iPhone 6s and 6s Plus : 513\n",
      "Project Color™ by The Home Depot : 490\n",
      "Sprinkle of Jesus : 485\n",
      "Champs Sports : 330\n",
      "Musical Video Maker & Editor Live Videoly Studio : 312\n",
      "Zoopla Property Search -UK Homes for Sale and Rent : 210\n",
      "Autohome-Find new＆Used Cars For Sale : 194\n",
      "Cosmojis : 134\n",
      "OnCamera : 111\n",
      "Sephojis – Sephora Emoji Keyboard & GIFs : 84\n",
      "Smart Virtual Boyfriend : 46\n",
      "Tapage by My Little App : 41\n",
      "Catch Santa Claus in my house for Christmas : 37\n",
      "Vice Lipstick : 31\n",
      "SnapMatch - Single and Group Matching : 12\n",
      "Le Fooding Restaurant and Stylish Bedrooms Guide : 6\n",
      "和我信 : 0\n",
      "Tchapper Messenger - Keep it private : 0\n"
     ]
    }
   ],
   "source": [
    "for app in ios_final:\n",
    "    if app[11] == 'Lifestyle':\n",
    "        print(app[1], ':', app[5])"
   ]
  },
  {
   "cell_type": "markdown",
   "id": "90bca941",
   "metadata": {},
   "source": [
    "The `Lifestyle` `Genre` seems to be interesting. It looks like different apps are gathering in this `Genre`. On the one hand there are dating apps like `Tinder` and `Bumble` but at the same time there is also information about real estate like `Zillow Real Estate` but also apps for the `IKEA Catalog` or `ipsy - Makeup, subscription and beauty tips`. \n",
    "\n",
    "One thing we could do is creating an app which gathers useful `Lifestyle` information and helps the user and helps users to use a single app for all these topics. The user has the opportunity to select the topics that are of interest to him and then gets access to apps that might be of interest to him.\n",
    "\n",
    "This idea seems to fit well with the fact that the App Store is dominated by `Entertainment` apps. This suggests the market might be a bit saturated with `Entertainment` apps, which means a practical `Lifestyle` app might have more of a chance to stand out among the huge number of apps on the App Store.\n",
    "\n",
    "Other genres that seem popular include weather, book, food and drink, or finance. \n",
    "Now let's analyze the Google Play market a bit."
   ]
  },
  {
   "cell_type": "markdown",
   "id": "79750763",
   "metadata": {},
   "source": [
    "#### Most Popular Apps by Genre (android)\n",
    "\n",
    "We possess data regarding the number of installations for the Google Play market, which allows us to gain a more comprehensive understanding of genre popularity. Nonetheless, the install figures appear to lack precision as they are predominantly open-ended (e.g., 100+, 1,000+, 5,000+, etc.)\n",
    "\n",
    "We're going to leave the numbers as they are, which means that we'll consider that an app with 100,000+ installs has 100,000 installs, and an app with 1,000,000+ installs has 1,000,000 installs, and so on.\n",
    "\n",
    "In order to carry out the computations successfully, we must convert each install number to a floating-point format. This requires removing the commas and plus characters, as their presence would result in a conversion failure and raise an error. We will accomplish this task within the loop below, where we will also compute the average number of installs for each genre (category)."
   ]
  },
  {
   "cell_type": "code",
   "execution_count": 33,
   "id": "5ab11f3a",
   "metadata": {
    "scrolled": true
   },
   "outputs": [
    {
     "name": "stdout",
     "output_type": "stream",
     "text": [
      "ART_AND_DESIGN --> Average number of user ratings: 1986335\n",
      "AUTO_AND_VEHICLES --> Average number of user ratings: 647318\n",
      "BEAUTY --> Average number of user ratings: 513152\n",
      "BOOKS_AND_REFERENCE --> Average number of user ratings: 8767812\n",
      "BUSINESS --> Average number of user ratings: 1712290\n",
      "COMICS --> Average number of user ratings: 817657\n",
      "COMMUNICATION --> Average number of user ratings: 38456119\n",
      "DATING --> Average number of user ratings: 854029\n",
      "EDUCATION --> Average number of user ratings: 1833495\n",
      "ENTERTAINMENT --> Average number of user ratings: 11640706\n",
      "EVENTS --> Average number of user ratings: 253542\n",
      "FINANCE --> Average number of user ratings: 1387692\n",
      "FOOD_AND_DRINK --> Average number of user ratings: 1924898\n",
      "HEALTH_AND_FITNESS --> Average number of user ratings: 4188822\n",
      "HOUSE_AND_HOME --> Average number of user ratings: 1331541\n",
      "LIBRARIES_AND_DEMO --> Average number of user ratings: 638504\n",
      "LIFESTYLE --> Average number of user ratings: 1437816\n",
      "GAME --> Average number of user ratings: 15588016\n",
      "FAMILY --> Average number of user ratings: 3695642\n",
      "MEDICAL --> Average number of user ratings: 120551\n",
      "SOCIAL --> Average number of user ratings: 23253652\n",
      "SHOPPING --> Average number of user ratings: 7036877\n",
      "PHOTOGRAPHY --> Average number of user ratings: 17840110\n",
      "SPORTS --> Average number of user ratings: 3638640\n",
      "TRAVEL_AND_LOCAL --> Average number of user ratings: 13984078\n",
      "TOOLS --> Average number of user ratings: 10801391\n",
      "PERSONALIZATION --> Average number of user ratings: 5201483\n",
      "PRODUCTIVITY --> Average number of user ratings: 16787331\n",
      "PARENTING --> Average number of user ratings: 542604\n",
      "WEATHER --> Average number of user ratings: 5074486\n",
      "VIDEO_PLAYERS --> Average number of user ratings: 24727872\n",
      "NEWS_AND_MAGAZINES --> Average number of user ratings: 9549178\n",
      "MAPS_AND_NAVIGATION --> Average number of user ratings: 4056942\n"
     ]
    }
   ],
   "source": [
    "freq_category_android = freq_table(android_final, 1)\n",
    "\n",
    "for genre in freq_category_android:\n",
    "    total = 0\n",
    "    len_genre = 0\n",
    "    \n",
    "    for row in android_final:\n",
    "        app_genre = row[1]\n",
    "        if app_genre == genre:\n",
    "            installs = row[5]\n",
    "            installs = installs.replace('+', '')\n",
    "            installs = installs.replace(',', '')\n",
    "            installs = float(installs)\n",
    "            total += installs\n",
    "            len_genre += 1\n",
    "            \n",
    "    avg_number_installs = round(total / len_genre)\n",
    "    print(genre, '--> Average number of user ratings:',  avg_number_installs)"
   ]
  },
  {
   "cell_type": "markdown",
   "id": "223d83cd",
   "metadata": {},
   "source": [
    "We will look at the average installs per `Category`. Most of the installations were carried out for the apps in the `Communication` `Category` --> *38.456.119* avg. installs, followed by the `Category` `Video Players` --> *24.727.872* avg. installs. On the third place regarding installs of free english apps in the android store is the `Category` `Social` with *23.253.652* avg. installs. `Games` is on the sixth place, with *15.588.016* avg. installs."
   ]
  },
  {
   "cell_type": "code",
   "execution_count": 34,
   "id": "bdc9a320",
   "metadata": {},
   "outputs": [
    {
     "name": "stdout",
     "output_type": "stream",
     "text": [
      "WhatsApp Messenger : 1,000,000,000+\n",
      "imo beta free calls and text : 100,000,000+\n",
      "Android Messages : 100,000,000+\n",
      "Google Duo - High Quality Video Calls : 500,000,000+\n",
      "Messenger – Text and Video Chat for Free : 1,000,000,000+\n",
      "imo free video calls and chat : 500,000,000+\n",
      "Skype - free IM & video calls : 1,000,000,000+\n",
      "Who : 100,000,000+\n",
      "GO SMS Pro - Messenger, Free Themes, Emoji : 100,000,000+\n",
      "LINE: Free Calls & Messages : 500,000,000+\n",
      "Google Chrome: Fast & Secure : 1,000,000,000+\n",
      "Firefox Browser fast & private : 100,000,000+\n",
      "UC Browser - Fast Download Private & Secure : 500,000,000+\n",
      "Gmail : 1,000,000,000+\n",
      "Hangouts : 1,000,000,000+\n",
      "Messenger Lite: Free Calls & Messages : 100,000,000+\n",
      "Kik : 100,000,000+\n",
      "KakaoTalk: Free Calls & Text : 100,000,000+\n",
      "Opera Mini - fast web browser : 100,000,000+\n",
      "Opera Browser: Fast and Secure : 100,000,000+\n",
      "Telegram : 100,000,000+\n",
      "Truecaller: Caller ID, SMS spam blocking & Dialer : 100,000,000+\n",
      "UC Browser Mini -Tiny Fast Private & Secure : 100,000,000+\n",
      "Viber Messenger : 500,000,000+\n",
      "WeChat : 100,000,000+\n",
      "Yahoo Mail – Stay Organized : 100,000,000+\n",
      "BBM - Free Calls & Messages : 100,000,000+\n"
     ]
    }
   ],
   "source": [
    "for app in android_final:\n",
    "    if app[1] == 'COMMUNICATION' and (app[5] == '1,000,000,000+'\n",
    "                                      or app[5] == '500,000,000+'\n",
    "                                      or app[5] == '100,000,000+'):\n",
    "        print(app[0], ':', app[5])"
   ]
  },
  {
   "cell_type": "markdown",
   "id": "af9fd63c",
   "metadata": {},
   "source": [
    "The number for the `communication` apps avg. installs (38.456.119) is heavily skewed up by a few apps that have over one billion installs (`WhatsApp`, `Facebook Messenger`, `Skype`, `Google Chrome`, `Gmail`, and `Hangouts`), and a few others with over 100 and 500 million installs (see above).\n",
    "\n",
    "Once more, our primary concern revolves around the potential misperception of app genres appearing more popular than they genuinely are. Additionally, these niches seem to be controlled by a few dominant giants, making it challenging to compete against them.\n",
    "\n",
    "While the game genre appears to be quite popular, our previous findings revealed market saturation in this area. Consequently, we aim to provide an alternative app recommendation if feasible.\n",
    "\n",
    "The `Lifestyle` `Category` looks fairly popular as well, with an average number of installs of 1.437.816. It's interesting to explore this in more depth, since we found this genre has some potential to work well on the App Store, and our aim is to recommend an app genre that shows potential for being profitable on both the App Store and Google Play. \n",
    "\n",
    "Let's take a look at some of the apps from this genre and their number of installs:"
   ]
  },
  {
   "cell_type": "code",
   "execution_count": 35,
   "id": "d036ce83",
   "metadata": {
    "scrolled": true
   },
   "outputs": [
    {
     "name": "stdout",
     "output_type": "stream",
     "text": [
      "Dollhouse Decorating Games : 5,000,000+\n",
      "metroZONE : 10,000,000+\n",
      "Easy Hair Style Design : 100,000+\n",
      "Talking Babsy Baby: Baby Games : 10,000,000+\n",
      "Black Wallpaper, AMOLED, Dark Background: Darkify : 5,000,000+\n",
      "Girly Wallpapers Backgrounds : 1,000,000+\n",
      "Chart - Myanmar Keyboard : 5,000,000+\n",
      "Easy Makeup Tutorials : 1,000,000+\n",
      "Horoscopes – Daily Zodiac Horoscope and Astrology : 10,000,000+\n",
      "Entel : 1,000,000+\n",
      "ZenUI Safeguard : 1,000,000+\n",
      "Live 4D Results ! (MY & SG) : 5,000,000+\n",
      "Diary with lock : 10,000,000+\n",
      "FOSSIL Q: DESIGN YOUR DIAL : 500,000+\n",
      "Telstra : 5,000,000+\n",
      "Family Locator - GPS Tracker : 10,000,000+\n",
      "Van Nien 2018 - Lich Van su & Lich Am : 1,000,000+\n",
      "Safeway : 1,000,000+\n",
      "HTC Speak : 10,000,000+\n",
      "Kawaii Easy Drawing : How to draw Step by Step : 5,000,000+\n",
      "Tattoodo - Find your next tattoo : 1,000,000+\n",
      "H&M : 10,000,000+\n",
      "Samsung+ : 50,000,000+\n",
      "Anime Avatar Creator: Make Your Own Avatar : 1,000,000+\n",
      "Beautiful Design Birthday Cake : 500,000+\n",
      "Pronunciation and know the name of the caller from his number : 500,000+\n",
      "Super Slime Simulator - Satisfying Slime App : 1,000,000+\n",
      "Caf - My Account : 5,000,000+\n",
      "H Pack : 1,000,000+\n",
      "Family convenience store FamilyMart : 1,000,000+\n",
      "w UN map : 1,000,000+\n",
      "Official Matsumoto Kiyoshi application : 1,000,000+\n",
      "Galaxy Gift : 10,000,000+\n",
      "PASS by KT (formerly KT certified) : 1,000,000+\n",
      "Safety stepping stone : 1,000,000+\n",
      "Rate Guide Bill Letter : 10,000,000+\n",
      "US Mission - buy gourmet movie KTV : 500,000+\n",
      "OK cashbag [point of pleasure] : 10,000,000+\n",
      "MK eCatalog : 1,000,000+\n",
      "Vaniday - Beauty Booking App : 100,000+\n",
      "Fashion in Vogue : 100,000+\n",
      "Mirror : 10,000,000+\n",
      "StyleSeat : 500,000+\n",
      "Wedding Countdown Widget : 1,000,000+\n",
      "My Day - Countdown Calendar 🗓️ : 1,000,000+\n",
      "justWink Greeting Cards : 1,000,000+\n",
      "Wedding LookBook by The Knot : 100,000+\n",
      "Big Days - Events Countdown : 1,000,000+\n",
      "Wedding Planner by WeddingWire - Venues, Checklist : 1,000,000+\n",
      "Been Together (Ad) - D-day : 10,000,000+\n",
      "WedMeGood - Wedding Planner : 100,000+\n",
      "DIY Garden Ideas : 500,000+\n",
      "Brit + Co : 10,000+\n",
      "Creative Ideas - DIY & Craft : 100,000+\n",
      "Homestyler Interior Design & Decorating Ideas : 5,000,000+\n",
      "JOANN - Crafts & Coupons : 1,000,000+\n",
      "Wheretoget: Shop in style : 500,000+\n",
      "My Dressing - Fashion closet : 500,000+\n",
      "Chictopia : 10,000+\n",
      "Scarf Fashion Designer : 1,000,000+\n",
      "Zara : 10,000,000+\n",
      "Real Estate by Movoto : 100,000+\n",
      "Etta Homes : 50,000+\n",
      "Houlihan Lawrence : 5,000+\n",
      "Home Scouting® MLS Mobile : 100,000+\n",
      "Housing-Real Estate & Property : 1,000,000+\n",
      "ZipRealty Real Estate & Homes : 100,000+\n",
      "Sotheby's International Realty : 50,000+\n",
      "Zoopla Property Search UK - Home to buy & rent : 1,000,000+\n",
      "Neighborhoods & Apartments : 100,000+\n",
      "Keller Williams Real Estate : 1,000,000+\n",
      "Relax Rain ~ Rain Sounds : 5,000,000+\n",
      "Relax Ocean ~ Nature Sounds : 500,000+\n",
      "Bed Time Fan - White Noise Sleep Sounds : 500,000+\n",
      "Nature Sounds : 1,000,000+\n",
      "SleepyTime: Bedtime Calculator : 500,000+\n",
      "White Noise Baby : 1,000,000+\n",
      "White Noise ~ Sleeping Sounds : 100,000+\n",
      "Journey - Diary, Journal : 1,000,000+\n",
      "7 Day Food Journal Challenge : 100,000+\n",
      "B-Dubs® : 500,000+\n",
      "C by GE : 10,000+\n",
      "CPlus for Craigslist - Officially Licensed : 1,000,000+\n",
      "Community by C Space : 5,000+\n",
      "Moto LED for Moto X & E [Root] : 500,000+\n",
      "f'east : 5,000+\n",
      "G-SHOCK+ : 100,000+\n",
      "G-SHOCK Connected : 50,000+\n",
      "G-Homa : 50,000+\n",
      "Niche: College, K-12, and Neighborhood Search : 5,000+\n",
      "Cook'n Recipe App : 10,000+\n",
      "Eat'n Park : 50,000+\n",
      "Band O'Clock : 100,000+\n",
      "Fossil Q : 500,000+\n",
      "Fossil Q Legacy : 50,000+\n",
      "Type S LED : 100,000+\n",
      "Tinder : 100,000,000+\n",
      "AT&T Digital Life : 1,000,000+\n",
      "AT&T Smart Limits℠ : 10,000,000+\n",
      "T-Mobile Tuesdays : 5,000,000+\n",
      "T-shirt design - Snaptee : 1,000,000+\n",
      "Kicker U Lite : 50,000+\n",
      "Be U Salons Hair-Beauty Deals In Delhi & Bangalore : 100,000+\n",
      "WowBox : 5,000,000+\n",
      "PLAYBULB X : 100,000+\n",
      "Z App : 50,000+\n",
      "Best Blood Type AB: Food Diet & Personality : 1,000+\n",
      "Kenmore Smart AC : 5,000+\n",
      "LG AC Smart Diagnosis : 100,000+\n",
      "All Type Ac Repair & Services : 10,000+\n",
      "Digital Clock : Simple, Tiny, Ad-free Desk Clock. : 50,000+\n",
      "Tafsiir Quraan MP3 Af Soomaali Quraanka Kariimka : 1,000+\n",
      "What's Up : 1,000,000+\n",
      "Elim AG : 100+\n",
      "Lakeside AG Moultrie : 50+\n",
      "DREAM-e: Dream Analysis A.I. : 10,000+\n",
      "AJ Men's Grooming : 100+\n",
      "AJ and Alyssa : 100+\n",
      "A.J. Green Wallpapers 4 Fans : 5+\n",
      "Book of AK-47 : 500+\n",
      "Al-Moazin Lite (Prayer Times) : 10,000,000+\n",
      "12 Step Meditations & Sober Prayers AA NA AL-ANON : 50,000+\n",
      "Taha Al Junaid Quran Mp3 : 50,000+\n",
      "Muslim Pro - Prayer Times, Azan, Quran & Qibla : 10,000,000+\n",
      "Trell: An app for Explorers | Best Wanderlust App : 100,000+\n",
      "Diary with lock password : 5,000,000+\n",
      "The PCH App : 1,000,000+\n",
      "Access Point Finder : 10,000+\n",
      "SleepCloud Backup for Sleep as Android : 100,000+\n",
      "Sleep as Android: Sleep cycle tracker, smart alarm : 10,000,000+\n",
      "CAPTCHA Pack for Sleep as Android : 50,000+\n",
      "Sleep as Microsoft Band Add-On : 1,000+\n",
      "Timely Alarm Clock : 10,000,000+\n",
      "Alarm Clock Plus★ : 5,000,000+\n",
      "Au Pair Legend : 1,000+\n",
      "view.com.au - Buy, Rent or Research Real Estate : 50,000+\n",
      "Neuvaine au Saint-Esprit : 10,000+\n",
      "Neuvaines et prières au Coeur Sacré de Jésus : 5,000+\n",
      "Au Rubis les bijoutiers : 100+\n",
      "AV MAX : 1,000+\n",
      "MyAV Remote for Denon & Marantz AV Receivers : 50,000+\n",
      "Kinot Tisha'a Be'av - Ashkenaz : 5,000+\n",
      "Armani Exchange Connected : 10,000+\n",
      "AX!OM : 50+\n",
      "AX Selfie : 500+\n",
      "Ay Telekom Oim : 100+\n",
      "Holy Quran Mehmet Emin Ay : 10,000+\n",
      "Lunar Calendar Lite : 100,000+\n",
      "Long Realty AZ Home Search : 10,000+\n",
      "Graffiti Letters (A-Z) : 50,000+\n",
      "Barista Coffee Dictionary A-Z : 10,000+\n",
      "Ba Zi Fortune : 100,000+\n",
      "BC Liquor Stores : 50,000+\n",
      "BC's Pizza : 1,000+\n",
      "BC Mobile Intro - Americas : 50+\n",
      "BC Pizza : 500+\n",
      "bd's Mongolian Grill : 10,000+\n",
      "Helping BD : 100+\n",
      "Be My Eyes - Helping the blind : 500,000+\n",
      "CE BF : 50+\n",
      "Freedom Christian BF : 10+\n",
      "Cute Questions BF : 1,000+\n",
      "BG BRIDAL GALLERY : 1,000+\n",
      "Photo Background Changer 2018 - Blur Background : 5,000,000+\n",
      "Barbers.BH : 10+\n",
      "Lexus Tech BH Service Pro : 10+\n",
      "B'H BURGER HEIM : 10+\n",
      "BI-LO : 10,000+\n",
      "BI-LO Rx : 10,000+\n",
      "happn – Local dating app : 10,000,000+\n",
      "BMH-BJ Congregation : 10+\n",
      "BURGER KING® App : 5,000,000+\n",
      "BURGER KING® MOBILE APP : 5,000,000+\n",
      "Free Coupons for Burger King : 5,000+\n",
      "BK Murli Offline April 2017 : 5,000+\n",
      "Read it easy for BK : 50+\n",
      "Dr Bk Sachin bhai : 1,000+\n",
      "BK Suraj bhai : 1,000+\n",
      "BK Shivani Videos : 1,000+\n",
      "Official Madhuban Murli : 10,000+\n",
      "Bk Usha behn : 1,000+\n",
      "Burger King Italia : 500,000+\n",
      "bm offers : 50,000+\n",
      "BN PERKS™ : 100+\n",
      "Bangla Calendar 1425: (EN-BN-AR) Holiday : 1,000+\n",
      "Bee.Bo : 1,000+\n",
      "BP and Sugar Test Prank : 1,000,000+\n",
      "BP Log lite : 100+\n",
      "bp Magazine for Bipolar : 1,000+\n",
      "Bar BQ Tonight Dublin : 50+\n",
      "Pick-a-Paint : 50,000+\n",
      "BR : 100,000+\n",
      "BT Church : 1,000+\n",
      "MagicLight BT : 10,000+\n",
      "sustainability@BU : 1,000+\n",
      "On a Bu Pour Vous OBPV : 10+\n",
      "Büfe BU : 100+\n",
      "van Gennip Textiles BV : 100+\n",
      "StartPage Private Search : 100,000+\n",
      "Philips Hue : 1,000,000+\n",
      "BW App : 5,000+\n",
      "Bell and Wyson Camera BW Pix + : 1,000+\n",
      "One Today by Google : 100,000+\n",
      "CA Speakers Free : 5,000+\n",
      "CB Underground : 500+\n",
      "Design innovation CD Cassette : 500+\n",
      "DIY Crafts Cds : 50,000+\n",
      "CD Live - Club del Deportista : 500+\n",
      "Creative CD Letter Holder : 10+\n",
      "Best Design CD Ideas : 10+\n",
      "DIY cd rom ideas : 500+\n",
      "DIY Recycled CD Wall Art : 1,000+\n",
      "DIY CD Craft Ideas : 1,000+\n",
      "Music Collector Inventory Organizer UPC Discogs : 10,000+\n",
      "CE KISIO : 100+\n",
      "CE AR LOG : 1+\n",
      "CE Airbus : 100+\n",
      "CF SHOP! : 10,000+\n",
      "CF Appreciation : 1,000+\n",
      "Unity CF : 100+\n",
      "Overcomers CF - GA : 100+\n",
      "Team CF : 100+\n",
      "CF Calculator : 1,000+\n",
      "CF Climb : 100+\n",
      "Villarreal CF Wallpapers 4 Fans : 50+\n",
      "Valencia CF Wallpapers 4 Fans : 100+\n",
      "Málaga CF Wallpapers 4 Fans : 10+\n",
      "Calvary.ch App : 500+\n",
      "autoricardo.ch – vehicles : 100,000+\n",
      "Legit Check App by Ch Daniel : 1,000+\n",
      "usgang.ch : 100,000+\n",
      "CI Staff App : 10+\n",
      "Company Kitchen : 10,000+\n",
      "Ck Coif : 10+\n",
      "DAILY: Free Classifieds App for Android : 500,000+\n",
      "App for Craigslist Pro - Buy & Sell Postings : 100,000+\n",
      "CL Pebble Apps : 5,000+\n",
      "E2CR CL : 10+\n",
      "Color CL : 100+\n",
      "Co-op CRS : 100,000+\n",
      "VCalendar - VenkatRama and Co : 10,000+\n",
      "Aquarium Co-Op Podcast : 1,000+\n",
      "Co-Dependents Anonymous : 500+\n",
      "Holl & Co Barbers : 500+\n",
      "CP Clicker : 10,000+\n",
      "CP HAPPS - Pittsburgh Events : 5,000+\n",
      "CP Surprise : 100,000+\n",
      "CP Parquet : 100+\n",
      "theCut : 50,000+\n",
      "C.S. Lewis Daily Quotes : 10,000+\n",
      "The Church at CW : 100+\n",
      "CX-95WIFI : 500+\n",
      "Theme for Tecno Camon CX / C8 : 10,000+\n",
      "Oración CX : 5,000+\n",
      "CX-41 : 100+\n",
      "Recycling Cy : 1,000+\n",
      "Cy-Fair Christian Church : 100+\n",
      "CZ-USA : 1,000+\n",
      "KFC CZ : 100,000+\n",
      "Breweries (CZ/SK) : 50,000+\n",
      "Vira.cz Widget : 1,000+\n",
      "DB HOME : 100+\n",
      "The Divine Feminine App: the DF App : 1,000+\n",
      "MexiRoomies - roomies, mexico, df, apt, house room : 500+\n",
      "Aproveita DF : 1+\n",
      "DG Hair : 10+\n",
      "Daily Horoscope : 10,000,000+\n",
      "D-H Pharmacy : 1,000+\n",
      "DH Mariage : 50+\n",
      "S-Home DK : 1,000+\n",
      "Salah Widget (DK+Malmo) : 10,000+\n",
      "DK Childcare Centers : 500+\n",
      "Dr. D.K. Olukoya Sermons : 100+\n",
      "Dr D K Olukoya : 1+\n",
      "DK Hair Design : 10+\n",
      "Notes : Colorful Notepad Note,To Do,Reminder,Memo : 1,000,000+\n",
      "DP and Status Images | All Latest Status 2018 : 10,000+\n",
      "100000+ Messages - DP, Status, Jokes & GIF 2018 : 10,000+\n",
      "Taco Bell : 1,000,000+\n",
      "Culver's : 100,000+\n",
      "DT : 100+\n",
      "du app : 1,000,000+\n",
      "Sports DV : 10,000+\n",
      "DV Youth : 100+\n",
      "White Classic Petite Watch Theme for DW : 500+\n",
      "DX Alerts : 1,000+\n",
      "My Dy Dice - 3D Dice Roller : 100+\n",
      "dy n fly : 50+\n",
      "EB Experience : 1+\n",
      "TN Electricity (TNEB) : 10,000+\n",
      "EC Security : 1,000+\n",
      "ec.tv : 50+\n",
      "Arrayanes EC : 100+\n",
      "EG India : 100+\n",
      "Propertyfinder : 100,000+\n",
      "EH! : 1,000+\n",
      "EJ Ecuador : 100+\n",
      "Nights Keeper (do not disturb) : 500,000+\n",
      "EK Platinum : 10,000+\n",
      "Ek Onkar Mantras : 5,000+\n",
      "Voice Lock Screen : 1,000,000+\n",
      "The Holy Rosary : 1,000,000+\n",
      "EO Bijbel Open : 10,000+\n",
      "EO LAC : 10+\n",
      "EP Church Annapolis : 100+\n",
      "EP Horlogerie : 1,000+\n",
      "EP Joaillerie : 5,000+\n",
      "ER : 500+\n",
      "EU Exit poll : 100+\n",
      "GastroHunter.EU : 10+\n",
      "MOTOBAZAR EU : 100+\n",
      "NissanConnect® EV & Services : 50,000+\n",
      "Emerge EV App (eBike App) : 1,000+\n",
      "EV Real Estate Search : 5,000+\n",
      "Ev Dizayn : 5,000+\n",
      "myChevrolet : 1,000,000+\n",
      "EvAk Smart Home : 500+\n",
      "Ex Quotes : 50,000+\n",
      "How To Get Your Ex Back Fast : 5,000+\n",
      "EY Staff ENTERTAINER : 10,000+\n",
      "My EZ-Link Mobile : 100,000+\n",
      "Comunidad De Fe Minitries : 500+\n",
      "Ríos de Fe : 1,000+\n",
      "Candy simply-Fi : 100,000+\n",
      "Tassa.fi Finland : 50,000+\n",
      "Lennox iComfort Wi-Fi : 50,000+\n",
      "Fish|Hunt FL : 100,000+\n",
      "Discovery Church Florida : 1,000+\n",
      "South Florida AA Meetings : 1,000+\n",
      "Trinity Church Deltona, FL : 500+\n",
      "Beacon Baptist Jupiter, FL : 100+\n",
      "Alachua County Sheriff FL : 100+\n",
      "Jax Sheriff (FL) : 5,000+\n",
      "My MLS App : 100,000+\n",
      "LifePoint Church - FL : 50+\n",
      "Gainesville Florida Police Department : 500+\n",
      "South Florida MLS : 10,000+\n",
      "F N Bail Bonds : 500+\n",
      "Sona - Nær við allastaðni : 1,000+\n",
      "GKPB FP Online Church : 1,000+\n",
      "FQ Magazine : 100+\n",
      "FQ India : 10+\n",
      "Fuel Rewards® program : 1,000,000+\n",
      "Scoreboard FR : 100+\n",
      "lesparticuliers.fr : 50,000+\n",
      "iHoroscope - 2018 Daily Horoscope & Astrology : 10,000,000+\n"
     ]
    }
   ],
   "source": [
    "for app in android_final:\n",
    "    if app[1] == 'LIFESTYLE':\n",
    "        print(app[0], ':', app[5])"
   ]
  },
  {
   "cell_type": "code",
   "execution_count": 36,
   "id": "88b3019b",
   "metadata": {
    "scrolled": true
   },
   "outputs": [
    {
     "name": "stdout",
     "output_type": "stream",
     "text": [
      "Tinder : 100,000,000+\n"
     ]
    }
   ],
   "source": [
    "for app in android_final:\n",
    "    if app[1] == 'LIFESTYLE' and (app[5] == '1,000,000,000+'\n",
    "                                            or app[5] == '500,000,000+'\n",
    "                                            or app[5] == '100,000,000+'):\n",
    "        print(app[0], ':', app[5])"
   ]
  },
  {
   "cell_type": "markdown",
   "id": "d7b2a511",
   "metadata": {},
   "source": [
    "There is only one very popular app (Tinder). Let's try to get some ideas about the apps in this `Category` which can be categorized in the middle in terms of popularity (between 1,000,000 and 100,000,000 downloads):"
   ]
  },
  {
   "cell_type": "code",
   "execution_count": 37,
   "id": "f46bce82",
   "metadata": {
    "scrolled": true
   },
   "outputs": [
    {
     "name": "stdout",
     "output_type": "stream",
     "text": [
      "Dollhouse Decorating Games : 5,000,000+\n",
      "metroZONE : 10,000,000+\n",
      "Talking Babsy Baby: Baby Games : 10,000,000+\n",
      "Black Wallpaper, AMOLED, Dark Background: Darkify : 5,000,000+\n",
      "Girly Wallpapers Backgrounds : 1,000,000+\n",
      "Chart - Myanmar Keyboard : 5,000,000+\n",
      "Easy Makeup Tutorials : 1,000,000+\n",
      "Horoscopes – Daily Zodiac Horoscope and Astrology : 10,000,000+\n",
      "Entel : 1,000,000+\n",
      "ZenUI Safeguard : 1,000,000+\n",
      "Live 4D Results ! (MY & SG) : 5,000,000+\n",
      "Diary with lock : 10,000,000+\n",
      "Telstra : 5,000,000+\n",
      "Family Locator - GPS Tracker : 10,000,000+\n",
      "Van Nien 2018 - Lich Van su & Lich Am : 1,000,000+\n",
      "Safeway : 1,000,000+\n",
      "HTC Speak : 10,000,000+\n",
      "Kawaii Easy Drawing : How to draw Step by Step : 5,000,000+\n",
      "Tattoodo - Find your next tattoo : 1,000,000+\n",
      "H&M : 10,000,000+\n",
      "Samsung+ : 50,000,000+\n",
      "Anime Avatar Creator: Make Your Own Avatar : 1,000,000+\n",
      "Super Slime Simulator - Satisfying Slime App : 1,000,000+\n",
      "Caf - My Account : 5,000,000+\n",
      "H Pack : 1,000,000+\n",
      "Family convenience store FamilyMart : 1,000,000+\n",
      "w UN map : 1,000,000+\n",
      "Official Matsumoto Kiyoshi application : 1,000,000+\n",
      "Galaxy Gift : 10,000,000+\n",
      "PASS by KT (formerly KT certified) : 1,000,000+\n",
      "Safety stepping stone : 1,000,000+\n",
      "Rate Guide Bill Letter : 10,000,000+\n",
      "OK cashbag [point of pleasure] : 10,000,000+\n",
      "MK eCatalog : 1,000,000+\n",
      "Mirror : 10,000,000+\n",
      "Wedding Countdown Widget : 1,000,000+\n",
      "My Day - Countdown Calendar 🗓️ : 1,000,000+\n",
      "justWink Greeting Cards : 1,000,000+\n",
      "Big Days - Events Countdown : 1,000,000+\n",
      "Wedding Planner by WeddingWire - Venues, Checklist : 1,000,000+\n",
      "Been Together (Ad) - D-day : 10,000,000+\n",
      "Homestyler Interior Design & Decorating Ideas : 5,000,000+\n",
      "JOANN - Crafts & Coupons : 1,000,000+\n",
      "Scarf Fashion Designer : 1,000,000+\n",
      "Zara : 10,000,000+\n",
      "Housing-Real Estate & Property : 1,000,000+\n",
      "Zoopla Property Search UK - Home to buy & rent : 1,000,000+\n",
      "Keller Williams Real Estate : 1,000,000+\n",
      "Relax Rain ~ Rain Sounds : 5,000,000+\n",
      "Nature Sounds : 1,000,000+\n",
      "White Noise Baby : 1,000,000+\n",
      "Journey - Diary, Journal : 1,000,000+\n",
      "CPlus for Craigslist - Officially Licensed : 1,000,000+\n",
      "AT&T Digital Life : 1,000,000+\n",
      "AT&T Smart Limits℠ : 10,000,000+\n",
      "T-Mobile Tuesdays : 5,000,000+\n",
      "T-shirt design - Snaptee : 1,000,000+\n",
      "WowBox : 5,000,000+\n",
      "What's Up : 1,000,000+\n",
      "Al-Moazin Lite (Prayer Times) : 10,000,000+\n",
      "Muslim Pro - Prayer Times, Azan, Quran & Qibla : 10,000,000+\n",
      "Diary with lock password : 5,000,000+\n",
      "The PCH App : 1,000,000+\n",
      "Sleep as Android: Sleep cycle tracker, smart alarm : 10,000,000+\n",
      "Timely Alarm Clock : 10,000,000+\n",
      "Alarm Clock Plus★ : 5,000,000+\n",
      "Photo Background Changer 2018 - Blur Background : 5,000,000+\n",
      "happn – Local dating app : 10,000,000+\n",
      "BURGER KING® App : 5,000,000+\n",
      "BURGER KING® MOBILE APP : 5,000,000+\n",
      "BP and Sugar Test Prank : 1,000,000+\n",
      "Philips Hue : 1,000,000+\n",
      "Daily Horoscope : 10,000,000+\n",
      "Notes : Colorful Notepad Note,To Do,Reminder,Memo : 1,000,000+\n",
      "Taco Bell : 1,000,000+\n",
      "du app : 1,000,000+\n",
      "Voice Lock Screen : 1,000,000+\n",
      "The Holy Rosary : 1,000,000+\n",
      "myChevrolet : 1,000,000+\n",
      "Fuel Rewards® program : 1,000,000+\n",
      "iHoroscope - 2018 Daily Horoscope & Astrology : 10,000,000+\n"
     ]
    }
   ],
   "source": [
    "for app in android_final:\n",
    "    if app[1] == 'LIFESTYLE' and (app[5] == '1,000,000+'\n",
    "                                            or app[5] == '5,000,000+'\n",
    "                                            or app[5] == '10,000,000+'\n",
    "                                            or app[5] == '50,000,000+'):\n",
    "        print(app[0], ':', app[5])"
   ]
  },
  {
   "cell_type": "markdown",
   "id": "062b7a8b",
   "metadata": {},
   "source": [
    "This niche seems to be dominated by a different kind of apps, like `Telecommunication Provider` apps, an app named `Family Locator - GPS Tracker` or `Timely Alarm Clock` some apps about the Quran or apps for restaurants. An app that can be used as a multifunctional tool to map relevant lifestyle topics in a personalized way could be a helpful tool for users who have used many different apps from the `Lifestyle` `Category` so far."
   ]
  },
  {
   "cell_type": "markdown",
   "id": "cc5f071b",
   "metadata": {},
   "source": [
    "| Category | Popularity   |\n",
    "|:----------:|:----------:|\n",
    "|Lifestlye (android)      | 1.437.816 installs |\n",
    "|Lifestyle (ios)| 16.486 avg user ratings|"
   ]
  },
  {
   "cell_type": "markdown",
   "id": "00c8cb29",
   "metadata": {},
   "source": [
    "#### Conclusion\n",
    "\n",
    "Within this endeavor, our analysis centered on data derived from the `App Store` and `Google Play`, aimed at identifying an app profile conducive to profitability within both markets.\n",
    "\n",
    "Our findings suggest that developing an application catering to diverse Lifestyle content holds promising potential for success in both the `Google Play` and `App Store` domains. Notably, the `Lifestyle` category exhibits lower popularity, presenting an opportunity to introduce a significant and unchallenged application within this segment."
   ]
  }
 ],
 "metadata": {
  "kernelspec": {
   "display_name": "Python 3 (ipykernel)",
   "language": "python",
   "name": "python3"
  },
  "language_info": {
   "codemirror_mode": {
    "name": "ipython",
    "version": 3
   },
   "file_extension": ".py",
   "mimetype": "text/x-python",
   "name": "python",
   "nbconvert_exporter": "python",
   "pygments_lexer": "ipython3",
   "version": "3.8.18"
  }
 },
 "nbformat": 4,
 "nbformat_minor": 5
}
