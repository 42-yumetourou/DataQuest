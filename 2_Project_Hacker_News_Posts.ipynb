{
 "cells": [
  {
   "cell_type": "markdown",
   "id": "3a3f7667-b735-4d62-a883-98d493f3929b",
   "metadata": {},
   "source": [
   "<img src=\"assets/image_2.jpeg\" width=\"350\" style=\"margin-left:auto; margin-right:auto\" />\n",
    "\n",
    "<h1><center>Project: Hacker News Posts</center></h1>\n",
    "\n",
    "This analysis entails a comparative analysis of two distinct categories of posts on Hacker News. Therefore we will explore the Hacker News [dataset](https://www.kaggle.com/datasets/hacker-news/hacker-news-posts). Regarding the information on kaggle, this dataset contains Hacker News posts for 12 month, up to September 26 2016. The Data is coming from the Hacker News [website](https://news.ycombinator.com). \n",
    "\n",
    "##### What is Hacker News?\n",
    "Hacker News is a prominent platform where technology-related stories, referred to as 'posts,' undergo voting and commentary. The two categories under examination are delineated by posts commencing with either `'Show HN'` or `'Ask HN'`. `'Show HN'` posts are submissions aimed at showcasing projects, products, or intriguing content to the Hacker News community. Conversely, `'Ask HN'` posts are submissions directed at the Hacker News community to pose specific inquiries, such as soliciting recommendations for exemplary online courses.\n",
    "\n",
    "##### What is the project about?\n",
    "Our specific focus involves a comparative investigation between these two post types, aiming to discern:\n",
    "- Do Ask HN or Show HN receive more comments on average?\n",
    "- Do posts created at a certain time receive more comments on average?\n",
    "\n",
    "It is to note that the dataset utilized underwent a reduction process, wherein nearly 300,000 rows were initially narrowed down to approximately 20,000 rows. This reduction involved the elimination of submissions lacking any comments, followed by a random sampling of the remaining submissions.\n",
    "##### The dataset\n",
    "The dataset includes the following columns:\n",
    "- **ID**: The ID of the user\n",
    "- **title**: title of the post\n",
    "- **url**: the url of the item being linked to\n",
    "- **num_points**: the number of upvotes the post received\n",
    "- **num_comments**: the number of comments the post received\n",
    "- **author**: the name of the account that made the post\n",
    "- **created_at**: the date and time the post was made (the time zone is Eastern Time in the US)\n",
    "\n",
    "Lets start.\n",
    "\n",
    "*This project was completed as part of the Data Science Career Path offered by dataquest.io.*"
   ]
  },
  {
   "cell_type": "markdown",
   "id": "6f308845-5d16-4d8d-b4fc-43fb2e7a6c2b",
   "metadata": {},
   "source": [
    "#### The Data"
   ]
  },
  {
   "cell_type": "code",
   "execution_count": 1,
   "id": "aa7b7ffe",
   "metadata": {},
   "outputs": [],
   "source": [
    "from csv import reader\n",
    "import datetime as dt\n",
    "\n",
    "# Read in the data.\n",
    "opened_file = open('hacker_news.csv')\n",
    "hn = list(reader(opened_file))"
   ]
  },
  {
   "cell_type": "code",
   "execution_count": 2,
   "id": "dc8452b7",
   "metadata": {
    "scrolled": true
   },
   "outputs": [
    {
     "data": {
      "text/plain": [
       "[['id', 'title', 'url', 'num_points', 'num_comments', 'author', 'created_at'],\n",
       " ['12224879',\n",
       "  'Interactive Dynamic Video',\n",
       "  'http://www.interactivedynamicvideo.com/',\n",
       "  '386',\n",
       "  '52',\n",
       "  'ne0phyte',\n",
       "  '8/4/2016 11:52'],\n",
       " ['10975351',\n",
       "  'How to Use Open Source and Shut the Fuck Up at the Same Time',\n",
       "  'http://hueniverse.com/2016/01/26/how-to-use-open-source-and-shut-the-fuck-up-at-the-same-time/',\n",
       "  '39',\n",
       "  '10',\n",
       "  'josep2',\n",
       "  '1/26/2016 19:30'],\n",
       " ['11964716',\n",
       "  \"Florida DJs May Face Felony for April Fools' Water Joke\",\n",
       "  'http://www.thewire.com/entertainment/2013/04/florida-djs-april-fools-water-joke/63798/',\n",
       "  '2',\n",
       "  '1',\n",
       "  'vezycash',\n",
       "  '6/23/2016 22:20'],\n",
       " ['11919867',\n",
       "  'Technology ventures: From Idea to Enterprise',\n",
       "  'https://www.amazon.com/Technology-Ventures-Enterprise-Thomas-Byers/dp/0073523429',\n",
       "  '3',\n",
       "  '1',\n",
       "  'hswarna',\n",
       "  '6/17/2016 0:01']]"
      ]
     },
     "execution_count": 2,
     "metadata": {},
     "output_type": "execute_result"
    }
   ],
   "source": [
    "hn[:5] # print the first 5 rows of hn (hacker_news dataset)"
   ]
  },
  {
   "cell_type": "markdown",
   "id": "cf6ca9f6-ccf1-4c1b-8c40-fa376c02dcc0",
   "metadata": {},
   "source": [
    "#### Removing Headers from List of Lists"
   ]
  },
  {
   "cell_type": "code",
   "execution_count": 3,
   "id": "75410531",
   "metadata": {},
   "outputs": [
    {
     "data": {
      "text/plain": [
       "['id', 'title', 'url', 'num_points', 'num_comments', 'author', 'created_at']"
      ]
     },
     "execution_count": 3,
     "metadata": {},
     "output_type": "execute_result"
    }
   ],
   "source": [
    "headers = hn[0] #storing the header row into a separate variable\n",
    "headers"
   ]
  },
  {
   "cell_type": "code",
   "execution_count": 4,
   "id": "1044dd3e",
   "metadata": {
    "scrolled": true
   },
   "outputs": [
    {
     "data": {
      "text/plain": [
       "[['12224879',\n",
       "  'Interactive Dynamic Video',\n",
       "  'http://www.interactivedynamicvideo.com/',\n",
       "  '386',\n",
       "  '52',\n",
       "  'ne0phyte',\n",
       "  '8/4/2016 11:52'],\n",
       " ['10975351',\n",
       "  'How to Use Open Source and Shut the Fuck Up at the Same Time',\n",
       "  'http://hueniverse.com/2016/01/26/how-to-use-open-source-and-shut-the-fuck-up-at-the-same-time/',\n",
       "  '39',\n",
       "  '10',\n",
       "  'josep2',\n",
       "  '1/26/2016 19:30'],\n",
       " ['11964716',\n",
       "  \"Florida DJs May Face Felony for April Fools' Water Joke\",\n",
       "  'http://www.thewire.com/entertainment/2013/04/florida-djs-april-fools-water-joke/63798/',\n",
       "  '2',\n",
       "  '1',\n",
       "  'vezycash',\n",
       "  '6/23/2016 22:20'],\n",
       " ['11919867',\n",
       "  'Technology ventures: From Idea to Enterprise',\n",
       "  'https://www.amazon.com/Technology-Ventures-Enterprise-Thomas-Byers/dp/0073523429',\n",
       "  '3',\n",
       "  '1',\n",
       "  'hswarna',\n",
       "  '6/17/2016 0:01'],\n",
       " ['10301696',\n",
       "  'Note by Note: The Making of Steinway L1037 (2007)',\n",
       "  'http://www.nytimes.com/2007/11/07/movies/07stein.html?_r=0',\n",
       "  '8',\n",
       "  '2',\n",
       "  'walterbell',\n",
       "  '9/30/2015 4:12']]"
      ]
     },
     "execution_count": 4,
     "metadata": {},
     "output_type": "execute_result"
    }
   ],
   "source": [
    "hn = hn[1:] #storing the data without header into the hn variable\n",
    "hn[:5]"
   ]
  },
  {
   "cell_type": "markdown",
   "id": "9ea0d626-0413-422b-975d-db995c91284d",
   "metadata": {},
   "source": [
    "The dataset encompasses post titles, the corresponding count of comments per post, and the posting date. Our initial exploration will delve into examining the comment counts categorized by post types."
   ]
  },
  {
   "cell_type": "markdown",
   "id": "3ed8fd0f-204c-4815-8d0f-6b31a3dba2a5",
   "metadata": {},
   "source": [
    "#### Extracting Posts by Post Types"
   ]
  },
  {
   "cell_type": "markdown",
   "id": "0bdbeacc-532c-405a-82d8-2f02e5b1c1e7",
   "metadata": {},
   "source": [
    "In the steps below, we will discern posts commencing with either `'Ask HN'` or `'Show HN'` and subsequently partition the dataset into distinct lists based on these two post types."
   ]
  },
  {
   "cell_type": "code",
   "execution_count": 5,
   "id": "b8f6f75f",
   "metadata": {},
   "outputs": [],
   "source": [
    "# Identify posts initiated by either 'Ask HN' or 'Show HN', subsequently segmenting the dataset into distinct lists based on these defined post types\n",
    "ask_posts = []\n",
    "show_posts = []\n",
    "other_posts = []\n",
    "\n",
    "for row in hn:\n",
    "    title = row[1]\n",
    "    \n",
    "    if title.lower().startswith('ask hn'): #using startswith comment to separate ask and show posts\n",
    "        ask_posts.append(row)\n",
    "    elif title.lower().startswith('show hn'): \n",
    "        show_posts.append(row)\n",
    "    else:\n",
    "        other_posts.append(row)"
   ]
  },
  {
   "cell_type": "code",
   "execution_count": 6,
   "id": "147ecace",
   "metadata": {},
   "outputs": [
    {
     "name": "stdout",
     "output_type": "stream",
     "text": [
      "1744\n",
      "1162\n",
      "17194\n"
     ]
    }
   ],
   "source": [
    "print(len(ask_posts)) #3488 posts with ask hn\n",
    "print(len(show_posts)) #1162 posts with show hn\n",
    "print(len(other_posts)) # 17193 other posts, without ask or show hn"
   ]
  },
  {
   "cell_type": "markdown",
   "id": "0bc1c6a8-f0ce-41b8-b99c-7bec50d6853d",
   "metadata": {},
   "source": [
    "#### Determining the Mean Comment Count for 'Ask HN' and 'Show HN' Posts"
   ]
  },
  {
   "cell_type": "markdown",
   "id": "04febb0d-928f-4fb0-8c69-c5923be588cf",
   "metadata": {},
   "source": [
    "We will proceed to compute the mean comment count garnered by each category of posts."
   ]
  },
  {
   "cell_type": "code",
   "execution_count": 7,
   "id": "1baf2f75",
   "metadata": {},
   "outputs": [
    {
     "name": "stdout",
     "output_type": "stream",
     "text": [
      "14.038417431192661\n"
     ]
    }
   ],
   "source": [
    "# Calculate the average number of comments `Ask HN` posts receive\n",
    "total_ask_comments = 0\n",
    "\n",
    "for row in ask_posts:\n",
    "    comments = int(row[4])\n",
    "    if comments != 0:\n",
    "        total_ask_comments += comments\n",
    "\n",
    "avg_ask_comments = total_ask_comments / len(ask_posts)\n",
    "\n",
    "print(avg_ask_comments) #avg comments on ask posts ~14"
   ]
  },
  {
   "cell_type": "code",
   "execution_count": 8,
   "id": "51c59aed",
   "metadata": {},
   "outputs": [
    {
     "name": "stdout",
     "output_type": "stream",
     "text": [
      "10.31669535283993\n"
     ]
    }
   ],
   "source": [
    "total_show_comments = 0\n",
    "\n",
    "\n",
    "for row in show_posts:\n",
    "    comments = int(row[4])\n",
    "    if comments != 0:\n",
    "        total_show_comments += comments\n",
    "        \n",
    "avg_show_comments = total_show_comments / len(show_posts)\n",
    "\n",
    "print(avg_show_comments) #avg comment on show posts ~10."
   ]
  },
  {
   "cell_type": "markdown",
   "id": "51b2918a",
   "metadata": {},
   "source": [
    "Following the categorization into the `'Show Post'` and `'Ask Post'` sections and a comprehensive analysis of each segment, it is evident that a post in the `'Ask Post'` category typically garners approximately 14 comments on average, whereas a post in the `'Show Post'` category tends to accumulate around 10 comments on average."
   ]
  },
  {
   "cell_type": "markdown",
   "id": "f585630d-721a-4104-936f-bf1893e0c81c",
   "metadata": {},
   "source": [
    "#### Determining the Amount of Ask Posts and Corresponding Comments by Hour of Creation"
   ]
  },
  {
   "cell_type": "markdown",
   "id": "5dd2c6e9-f304-4d77-acc9-9b7b7caab031",
   "metadata": {},
   "source": [
    "Next, we aim to determine if there is a optimal timing to maximize the amount of comments garnered by `'Ask posts'`. Initially, we will determine the quantity of `'Ask posts'` generated during each hour of the day, along with the count of comments these posts received. Subsequently, we will compute the average count of comments received by `'Ask posts'` created at each hour throughout the day."
   ]
  },
  {
   "cell_type": "code",
   "execution_count": 9,
   "id": "1986d08d",
   "metadata": {},
   "outputs": [
    {
     "name": "stdout",
     "output_type": "stream",
     "text": [
      "Amount of ask posts by hour: {'09': 45, '13': 85, '10': 59, '14': 107, '16': 108, '23': 68, '12': 73, '17': 100, '15': 116, '21': 109, '20': 80, '02': 58, '18': 109, '03': 54, '05': 46, '19': 110, '01': 60, '22': 71, '08': 48, '04': 47, '00': 55, '06': 44, '07': 34, '11': 58}\n",
      "\n",
      "\n",
      "Amount of comments by hour: {'09': 251, '13': 1253, '10': 793, '14': 1416, '16': 1814, '23': 543, '12': 687, '17': 1146, '15': 4477, '21': 1745, '20': 1722, '02': 1381, '18': 1439, '03': 421, '05': 464, '19': 1188, '01': 683, '22': 479, '08': 492, '04': 337, '00': 447, '06': 397, '07': 267, '11': 641}\n"
     ]
    }
   ],
   "source": [
    "# First: Create a list with date and number of comments per date\n",
    "result_list = []\n",
    "\n",
    "for row in ask_posts:\n",
    "    created_at = row[6]\n",
    "    comments = int(row[4])\n",
    "    result_list.append([created_at, comments])\n",
    "\n",
    "# Second: Calculate the amount of ask posts created during each hour of day and the number of comments received\n",
    "counts_by_hour = {}\n",
    "comments_by_hour = {}\n",
    "\n",
    "for row in result_list:\n",
    "    created_date = row[0]\n",
    "    comment = row[1]\n",
    "    date = dt.datetime.strptime(created_date, '%m/%d/%Y %H:%M')\n",
    "    hour = date.strftime('%H')\n",
    "    \n",
    "    if hour not in counts_by_hour:\n",
    "        counts_by_hour[hour] = 1\n",
    "        comments_by_hour[hour] = comment\n",
    "    else:\n",
    "        counts_by_hour[hour] += 1\n",
    "        comments_by_hour[hour] += comment\n",
    "\n",
    "print('Amount of ask posts by hour: ' + str(counts_by_hour)) \n",
    "print('\\n')\n",
    "print('Amount of comments by hour: '  + str(comments_by_hour))"
   ]
  },
  {
   "cell_type": "code",
   "execution_count": 10,
   "id": "604174d9",
   "metadata": {},
   "outputs": [
    {
     "data": {
      "text/plain": [
       "116"
      ]
     },
     "execution_count": 10,
     "metadata": {},
     "output_type": "execute_result"
    }
   ],
   "source": [
    "max(counts_by_hour.values()) # Maximum value for amount of post by hour is 116 at 3 p.m"
   ]
  },
  {
   "cell_type": "code",
   "execution_count": 11,
   "id": "88c763d8",
   "metadata": {
    "scrolled": true
   },
   "outputs": [
    {
     "data": {
      "text/plain": [
       "4477"
      ]
     },
     "execution_count": 11,
     "metadata": {},
     "output_type": "execute_result"
    }
   ],
   "source": [
    "max(comments_by_hour.values()) # Maximum value for comments by hour is 4477 at 3 p.m"
   ]
  },
  {
   "cell_type": "markdown",
   "id": "f1f15305-6624-4f5d-96e1-60deaa513008",
   "metadata": {},
   "source": [
    "#### Calculating the Average Number of Comments for Ask HN Posts by Hour"
   ]
  },
  {
   "cell_type": "code",
   "execution_count": 12,
   "id": "384d584b",
   "metadata": {
    "scrolled": true
   },
   "outputs": [
    {
     "data": {
      "text/plain": [
       "[['09', 5.6],\n",
       " ['13', 14.7],\n",
       " ['10', 13.4],\n",
       " ['14', 13.2],\n",
       " ['16', 16.8],\n",
       " ['23', 8.0],\n",
       " ['12', 9.4],\n",
       " ['17', 11.5],\n",
       " ['15', 38.6],\n",
       " ['21', 16.0],\n",
       " ['20', 21.5],\n",
       " ['02', 23.8],\n",
       " ['18', 13.2],\n",
       " ['03', 7.8],\n",
       " ['05', 10.1],\n",
       " ['19', 10.8],\n",
       " ['01', 11.4],\n",
       " ['22', 6.7],\n",
       " ['08', 10.2],\n",
       " ['04', 7.2],\n",
       " ['00', 8.1],\n",
       " ['06', 9.0],\n",
       " ['07', 7.9],\n",
       " ['11', 11.1]]"
      ]
     },
     "execution_count": 12,
     "metadata": {},
     "output_type": "execute_result"
    }
   ],
   "source": [
    "# Compute the mean quantity of comments that 'Ask HN' posts, generated at each hour of the day, receive\n",
    "avg_by_hour = []\n",
    "\n",
    "for comment in comments_by_hour:\n",
    "    avg_by_hour.append([comment, round(comments_by_hour[comment] / counts_by_hour[comment],1)])\n",
    "\n",
    "avg_by_hour"
   ]
  },
  {
   "cell_type": "markdown",
   "id": "2d977e9c-1ee1-4e33-be29-54d11d2fca57",
   "metadata": {},
   "source": [
    "#### Sorting and Printing Values from a List of Lists"
   ]
  },
  {
   "cell_type": "code",
   "execution_count": 13,
   "id": "1df4d144",
   "metadata": {
    "scrolled": true
   },
   "outputs": [
    {
     "data": {
      "text/plain": [
       "[[5.6, '09'],\n",
       " [14.7, '13'],\n",
       " [13.4, '10'],\n",
       " [13.2, '14'],\n",
       " [16.8, '16'],\n",
       " [8.0, '23'],\n",
       " [9.4, '12'],\n",
       " [11.5, '17'],\n",
       " [38.6, '15'],\n",
       " [16.0, '21'],\n",
       " [21.5, '20'],\n",
       " [23.8, '02'],\n",
       " [13.2, '18'],\n",
       " [7.8, '03'],\n",
       " [10.1, '05'],\n",
       " [10.8, '19'],\n",
       " [11.4, '01'],\n",
       " [6.7, '22'],\n",
       " [10.2, '08'],\n",
       " [7.2, '04'],\n",
       " [8.1, '00'],\n",
       " [9.0, '06'],\n",
       " [7.9, '07'],\n",
       " [11.1, '11']]"
      ]
     },
     "execution_count": 13,
     "metadata": {},
     "output_type": "execute_result"
    }
   ],
   "source": [
    "switch_avg_by_hour = []\n",
    "\n",
    "for element in avg_by_hour:\n",
    "    switch_avg_by_hour.append([element[1], element[0]])\n",
    "    \n",
    "switch_avg_by_hour"
   ]
  },
  {
   "cell_type": "markdown",
   "id": "50e56558-c6cc-40e1-baaf-9c44b186848d",
   "metadata": {},
   "source": [
    "Below we'll switch the values of the list, therefore the count will be the first element of the list and the hour the second."
   ]
  },
  {
   "cell_type": "code",
   "execution_count": 14,
   "id": "f4939114",
   "metadata": {},
   "outputs": [
    {
     "data": {
      "text/plain": [
       "[[38.6, '15'], [23.8, '02'], [21.5, '20'], [16.8, '16'], [16.0, '21']]"
      ]
     },
     "execution_count": 14,
     "metadata": {},
     "output_type": "execute_result"
    }
   ],
   "source": [
    "sorted_switch = sorted(switch_avg_by_hour, reverse=True)\n",
    "sorted_switch[:5]"
   ]
  },
  {
   "cell_type": "markdown",
   "id": "b4e0ef1e-9a8c-4d9d-a2b1-c799d2c27889",
   "metadata": {},
   "source": [
    "#### The 5 Hours with the Highest Average Comments"
   ]
  },
  {
   "cell_type": "code",
   "execution_count": 15,
   "id": "41ab07a2",
   "metadata": {},
   "outputs": [
    {
     "name": "stdout",
     "output_type": "stream",
     "text": [
      "10:00 o'clock -> 38.6 average comments per post.\n",
      "21:00 o'clock -> 23.8 average comments per post.\n",
      "15:00 o'clock -> 21.5 average comments per post.\n",
      "11:00 o'clock -> 16.8 average comments per post.\n",
      "16:00 o'clock -> 16.0 average comments per post.\n"
     ]
    }
   ],
   "source": [
    "# Sort the values and print the the 5 hours with the highest average comments.\n",
    "from datetime import timedelta\n",
    "\n",
    "for element in sorted_switch[:5]:\n",
    "    template = \"{time} o'clock -> {avg_posts} average comments per post.\"\n",
    "    avg_posts = element[0]\n",
    "    time = dt.datetime.strptime(element[1], '%H')\n",
    "    time = time - timedelta(hours=5) #correcting the time zone, for Central European Standard Time\n",
    "    time_str = time.strftime('%H:%M')\n",
    "    \n",
    "    output = template.format(time=time_str, avg_posts=avg_posts)\n",
    "    print(output)"
   ]
  },
  {
   "cell_type": "markdown",
   "id": "6409dd17",
   "metadata": {},
   "source": [
    "Looking at the results, you can see, that posting into the `'Ask posts'` section at 10 o'clock will give you the most comments for your post on average *38.6*. The second most comments on average (*23.8*) are at 21 o'clock. There exists an approximate 60% surge in the comment count between the hours exhibiting the highest and second-highest average numbers of comments."
   ]
  },
  {
   "cell_type": "markdown",
   "id": "0f603949-0505-47ba-b1bb-0b341e2ecdf4",
   "metadata": {},
   "source": [
    "#### Determine if `'Show posts'` or `'Ask posts'` Receive More Points On Average"
   ]
  },
  {
   "cell_type": "code",
   "execution_count": 16,
   "id": "44e09d15",
   "metadata": {},
   "outputs": [
    {
     "data": {
      "text/plain": [
       "15.061926605504587"
      ]
     },
     "execution_count": 16,
     "metadata": {},
     "output_type": "execute_result"
    }
   ],
   "source": [
    "# Calculate the average number of points `Ask HN` posts receive\n",
    "ask_posts_point = 0\n",
    "\n",
    "for row in ask_posts:\n",
    "    points = int(row[3])\n",
    "    \n",
    "    if points != 0:\n",
    "        ask_posts_point += points\n",
    "        \n",
    "avg_ask_points = ask_posts_point / len(ask_posts)   \n",
    "\n",
    "avg_ask_points #15.1 on average"
   ]
  },
  {
   "cell_type": "code",
   "execution_count": 17,
   "id": "dab1005b",
   "metadata": {},
   "outputs": [
    {
     "data": {
      "text/plain": [
       "27.555077452667813"
      ]
     },
     "execution_count": 17,
     "metadata": {},
     "output_type": "execute_result"
    }
   ],
   "source": [
    "# Calculate the average number of points `Show HN` posts receive\n",
    "show_posts_point = 0\n",
    "\n",
    "for row in show_posts:\n",
    "    points = int(row[3])\n",
    "    \n",
    "    if points != 0:\n",
    "        show_posts_point += points\n",
    "        \n",
    "avg_show_points = show_posts_point / len(show_posts)  \n",
    "\n",
    "avg_show_points # 27.5 on average"
   ]
  },
  {
   "cell_type": "markdown",
   "id": "60a0140d",
   "metadata": {},
   "source": [
    "As depicted above, posts crafted within the `'Show posts'` category exhibit a notably higher average point count (27.5) in contrast to the `'Ask posts'` category (15.1). This distinction might be attributed to the nature of `'Show posts'` that typically showcase user-generated content, often representing noteworthy accomplishments. Consequently, users tend to manifest their commendation through points, thereby contributing to the higher average points observed within the `'Show posts'` section compared to the `'Ask posts'` section. \n",
    "\n",
    "In further analysis, we will concentrate on the `'Show posts'` section characterized by elevated point counts, exploring whether specific posting times correlate with higher point reception."
   ]
  },
  {
   "cell_type": "markdown",
   "id": "a9ece253-3bfd-4444-997f-7300d0e0ea46",
   "metadata": {},
   "source": [
    "#### Show Posts Data"
   ]
  },
  {
   "cell_type": "code",
   "execution_count": 18,
   "id": "13fceb1c",
   "metadata": {},
   "outputs": [
    {
     "data": {
      "text/plain": [
       "[['10627194',\n",
       "  'Show HN: Wio Link  ESP8266 Based Web of Things Hardware Development Platform',\n",
       "  'https://iot.seeed.cc',\n",
       "  '26',\n",
       "  '22',\n",
       "  'kfihihc',\n",
       "  '11/25/2015 14:03'],\n",
       " ['10646440',\n",
       "  'Show HN: Something pointless I made',\n",
       "  'http://dn.ht/picklecat/',\n",
       "  '747',\n",
       "  '102',\n",
       "  'dhotson',\n",
       "  '11/29/2015 22:46'],\n",
       " ['11590768',\n",
       "  'Show HN: Shanhu.io, a programming playground powered by e8vm',\n",
       "  'https://shanhu.io',\n",
       "  '1',\n",
       "  '1',\n",
       "  'h8liu',\n",
       "  '4/28/2016 18:05'],\n",
       " ['12178806',\n",
       "  'Show HN: Webscope  Easy way for web developers to communicate with Clients',\n",
       "  'http://webscopeapp.com',\n",
       "  '3',\n",
       "  '3',\n",
       "  'fastbrick',\n",
       "  '7/28/2016 7:11'],\n",
       " ['10872799',\n",
       "  'Show HN: GeoScreenshot  Easily test Geo-IP based web pages',\n",
       "  'https://www.geoscreenshot.com/',\n",
       "  '1',\n",
       "  '9',\n",
       "  'kpsychwave',\n",
       "  '1/9/2016 20:45']]"
      ]
     },
     "execution_count": 18,
     "metadata": {},
     "output_type": "execute_result"
    }
   ],
   "source": [
    "show_posts[:5]"
   ]
  },
  {
   "cell_type": "code",
   "execution_count": 19,
   "id": "17b2dcfe",
   "metadata": {},
   "outputs": [],
   "source": [
    "# Save the creation date and the points into a list\n",
    "result_list_show = []\n",
    "\n",
    "for row in show_posts:\n",
    "    created_at = row[6] #date and time of posting\n",
    "    points = int(row[3]) #points\n",
    "    result_list_show.append([created_at, points])"
   ]
  },
  {
   "cell_type": "code",
   "execution_count": 20,
   "id": "57771d1c",
   "metadata": {},
   "outputs": [],
   "source": [
    "# Save the creation hour and points/count into a dictionary\n",
    "counts_by_hour_show = {}\n",
    "points_by_hour = {}\n",
    "\n",
    "for row in result_list_show:\n",
    "    created_at = row[0]\n",
    "    points = row[1]\n",
    "    date = dt.datetime.strptime(created_at, '%m/%d/%Y %H:%M')\n",
    "    hour = date.strftime('%H')\n",
    "    \n",
    "    if hour not in counts_by_hour_show:\n",
    "        counts_by_hour_show[hour] = 1\n",
    "        points_by_hour[hour] = points\n",
    "    else:\n",
    "        counts_by_hour_show[hour] += 1\n",
    "        points_by_hour[hour] += points"
   ]
  },
  {
   "cell_type": "code",
   "execution_count": 21,
   "id": "bdfb9d99",
   "metadata": {},
   "outputs": [],
   "source": [
    "# Save the average points by hour into a list\n",
    "avg_by_hour_show = []\n",
    "\n",
    "for hour in points_by_hour:\n",
    "    avg_by_hour_show.append([hour, round((points_by_hour[hour] / counts_by_hour_show[hour]),1)])"
   ]
  },
  {
   "cell_type": "code",
   "execution_count": 22,
   "id": "998cd2a4",
   "metadata": {
    "scrolled": true
   },
   "outputs": [
    {
     "data": {
      "text/plain": [
       "[[42.4, '23'],\n",
       " [41.7, '12'],\n",
       " [40.3, '22'],\n",
       " [37.8, '00'],\n",
       " [36.3, '18'],\n",
       " [33.6, '11'],\n",
       " [30.9, '19'],\n",
       " [30.3, '20'],\n",
       " [28.6, '15'],\n",
       " [28.3, '16'],\n",
       " [27.1, '17'],\n",
       " [25.4, '14'],\n",
       " [25.1, '03'],\n",
       " [25.0, '01'],\n",
       " [24.6, '13'],\n",
       " [23.4, '06'],\n",
       " [19.0, '07'],\n",
       " [18.9, '10'],\n",
       " [18.4, '21'],\n",
       " [18.4, '09'],\n",
       " [15.3, '08'],\n",
       " [14.8, '04'],\n",
       " [11.3, '02'],\n",
       " [5.5, '05']]"
      ]
     },
     "execution_count": 22,
     "metadata": {},
     "output_type": "execute_result"
    }
   ],
   "source": [
    "# switch the values and sort them by average points\n",
    "switch_avg_by_hour_show = []\n",
    "\n",
    "for point in avg_by_hour_show:\n",
    "    switch_avg_by_hour_show.append([point[1], point[0]])\n",
    "\n",
    "sorted_switch_show = sorted(switch_avg_by_hour_show, reverse=True)\n",
    "sorted_switch_show"
   ]
  },
  {
   "cell_type": "code",
   "execution_count": 23,
   "id": "31e7635e",
   "metadata": {
    "scrolled": true
   },
   "outputs": [
    {
     "name": "stdout",
     "output_type": "stream",
     "text": [
      "At 18:00 o'clock were 42.4 points on average at the show post section\n",
      "At 07:00 o'clock were 41.7 points on average at the show post section\n",
      "At 17:00 o'clock were 40.3 points on average at the show post section\n",
      "At 19:00 o'clock were 37.8 points on average at the show post section\n",
      "At 13:00 o'clock were 36.3 points on average at the show post section\n"
     ]
    }
   ],
   "source": [
    "for element in sorted_switch_show[:5]:\n",
    "    avg = element[0]\n",
    "    \n",
    "    hours = dt.datetime.strptime(element[1], '%H')\n",
    "    hours = hours - timedelta(hours=5) #adjust for Central European Standard Time\n",
    "    hours_str = hours.strftime('%H:%M')\n",
    "    \n",
    "    template = \"At {hours_str} o'clock were {avg} points on average at the show post section\"\n",
    "    output = template.format(avg=avg, hours_str=hours_str)\n",
    "\n",
    "    print(output)"
   ]
  },
  {
   "cell_type": "markdown",
   "id": "168885e8",
   "metadata": {},
   "source": [
    "We executed a similar procedure for the `'Show Posts'` section as previously conducted for the `'Ask Posts'` section. However, in this instance, our analysis focused on determining the average points per post within the `'Show Posts'` section, diverging from the earlier examination that centered on the average comments per post within the `'Ask Posts'` section. \n",
    "\n",
    "Presented above are the top five instances where the average points per post in the `'Show Posts'` section reached peak values. Specifically, at 18:00 o'clock, the average points per post approximate 42.4. An early morning post (Central European Standard Time) at 7:00 o'clock garnered the second-highest average points per post (41.7).\n"
   ]
  },
  {
   "cell_type": "markdown",
   "id": "142c11e0-f25e-4c90-927b-44db5c9122be",
   "metadata": {},
   "source": [
    "#### The `'Other Posts`' Section"
   ]
  },
  {
   "cell_type": "markdown",
   "id": "08e29f99",
   "metadata": {},
   "source": [
    "Having scrutinized the average comments within the `'Ask Posts'` section and the average points within the `'Show Posts'` section, our subsequent step involves an analysis of the `'Other Posts'` section. This examination aims to establish a comparative assessment against the figures observed in the `'Ask Posts'` and `'Show Posts'`  sections."
   ]
  },
  {
   "cell_type": "markdown",
   "id": "117bb24a-e612-43df-9f3e-afcb315f204c",
   "metadata": {},
   "source": [
    "#### Other Posts Data"
   ]
  },
  {
   "cell_type": "code",
   "execution_count": 24,
   "id": "21bd1a39",
   "metadata": {
    "scrolled": true
   },
   "outputs": [
    {
     "data": {
      "text/plain": [
       "[['12224879',\n",
       "  'Interactive Dynamic Video',\n",
       "  'http://www.interactivedynamicvideo.com/',\n",
       "  '386',\n",
       "  '52',\n",
       "  'ne0phyte',\n",
       "  '8/4/2016 11:52'],\n",
       " ['10975351',\n",
       "  'How to Use Open Source and Shut the Fuck Up at the Same Time',\n",
       "  'http://hueniverse.com/2016/01/26/how-to-use-open-source-and-shut-the-fuck-up-at-the-same-time/',\n",
       "  '39',\n",
       "  '10',\n",
       "  'josep2',\n",
       "  '1/26/2016 19:30'],\n",
       " ['11964716',\n",
       "  \"Florida DJs May Face Felony for April Fools' Water Joke\",\n",
       "  'http://www.thewire.com/entertainment/2013/04/florida-djs-april-fools-water-joke/63798/',\n",
       "  '2',\n",
       "  '1',\n",
       "  'vezycash',\n",
       "  '6/23/2016 22:20'],\n",
       " ['11919867',\n",
       "  'Technology ventures: From Idea to Enterprise',\n",
       "  'https://www.amazon.com/Technology-Ventures-Enterprise-Thomas-Byers/dp/0073523429',\n",
       "  '3',\n",
       "  '1',\n",
       "  'hswarna',\n",
       "  '6/17/2016 0:01'],\n",
       " ['10301696',\n",
       "  'Note by Note: The Making of Steinway L1037 (2007)',\n",
       "  'http://www.nytimes.com/2007/11/07/movies/07stein.html?_r=0',\n",
       "  '8',\n",
       "  '2',\n",
       "  'walterbell',\n",
       "  '9/30/2015 4:12']]"
      ]
     },
     "execution_count": 24,
     "metadata": {},
     "output_type": "execute_result"
    }
   ],
   "source": [
    "other_posts[:5]"
   ]
  },
  {
   "cell_type": "code",
   "execution_count": 25,
   "id": "950130c8",
   "metadata": {},
   "outputs": [],
   "source": [
    "other_posts_point = 0\n",
    "\n",
    "for row in other_posts[1:]:\n",
    "    points = int(row[3])\n",
    "    \n",
    "    if points != 0:\n",
    "        other_posts_point += points\n",
    "        \n",
    "avg_other_post_points = other_posts_point / len(other_posts)  "
   ]
  },
  {
   "cell_type": "code",
   "execution_count": 26,
   "id": "3f06cbf1",
   "metadata": {},
   "outputs": [],
   "source": [
    "other_posts_comment = 0\n",
    "\n",
    "for row in other_posts[1:]:\n",
    "    comment = int(row[4])\n",
    "    \n",
    "    if comment != 0:\n",
    "        other_posts_comment += comment\n",
    "        \n",
    "avg_other_posts_comment = other_posts_comment / len(other_posts)     "
   ]
  },
  {
   "cell_type": "code",
   "execution_count": 27,
   "id": "e9f6b586",
   "metadata": {},
   "outputs": [
    {
     "name": "stdout",
     "output_type": "stream",
     "text": [
      "55.38432011166686\n",
      "26.870012795161102\n"
     ]
    }
   ],
   "source": [
    "print(avg_other_post_points)\n",
    "print(avg_other_posts_comment)"
   ]
  },
  {
   "cell_type": "markdown",
   "id": "28388ac2",
   "metadata": {},
   "source": [
    "The average point count for posts categorized under `'Other Posts'` stands notably higher at ~55.4 compared to the average point counts in the `'Show Posts'` (27.5) and `'Ask Posts'` (15.1) sections. Additionally, the average comment count for `'Other Posts'` (26.9) significantly surpasses the approximately 14 average comments per post in the 'ask' section and the approximately 10 average comments per post in the 'show' section. \n",
    "\n",
    "For further investigation, we will delve deeper into the instances when the average comments and points reach their peaks."
   ]
  },
  {
   "cell_type": "code",
   "execution_count": 28,
   "id": "5fce7aee",
   "metadata": {},
   "outputs": [],
   "source": [
    "result_list_other_points = []\n",
    "result_list_other_comments = []\n",
    "\n",
    "for row in other_posts[1:]:\n",
    "    created_at = row[6] #date and time of posting\n",
    "    points = int(row[3]) #points count\n",
    "    comments = int(row[4]) #comments count\n",
    "    result_list_other_points.append([created_at, points])\n",
    "    result_list_other_comments.append([created_at, comments])"
   ]
  },
  {
   "cell_type": "markdown",
   "id": "005d8634",
   "metadata": {},
   "source": [
    "First, we'll create the two dictionaires for the points count."
   ]
  },
  {
   "cell_type": "code",
   "execution_count": 29,
   "id": "d488cfd5",
   "metadata": {},
   "outputs": [],
   "source": [
    "counts_by_hour_other= {}\n",
    "points_by_hour_other = {}\n",
    "\n",
    "for row in result_list_other_points:\n",
    "    created_at = row[0]\n",
    "    points = row[1]\n",
    "    date = dt.datetime.strptime(created_at, '%m/%d/%Y %H:%M')\n",
    "    hour = date.strftime('%H')\n",
    "    \n",
    "    if hour not in counts_by_hour_other:\n",
    "        counts_by_hour_other[hour] = 1\n",
    "        points_by_hour_other[hour] = points\n",
    "    else:\n",
    "        counts_by_hour_other[hour] += 1\n",
    "        points_by_hour_other[hour] += points"
   ]
  },
  {
   "cell_type": "markdown",
   "id": "46ed22a6-3d81-4fca-b3fc-81328bfd8f00",
   "metadata": {},
   "source": [
    "Next, we'll create the two dictionaires for the comments count."
   ]
  },
  {
   "cell_type": "code",
   "execution_count": 30,
   "id": "740635c0",
   "metadata": {},
   "outputs": [],
   "source": [
    "counts_by_hour_other_comments= {}\n",
    "by_hour_other_comments = {}\n",
    "\n",
    "for row in result_list_other_comments:\n",
    "    created_at = row[0]\n",
    "    comments = row[1]\n",
    "    date = dt.datetime.strptime(created_at, '%m/%d/%Y %H:%M')\n",
    "    hour = date.strftime('%H')\n",
    "    \n",
    "    if hour not in counts_by_hour_other_comments:\n",
    "        counts_by_hour_other_comments[hour] = 1\n",
    "        by_hour_other_comments[hour] = comments\n",
    "    else:\n",
    "        counts_by_hour_other_comments[hour] += 1\n",
    "        by_hour_other_comments[hour] += comments"
   ]
  },
  {
   "cell_type": "markdown",
   "id": "840d80e9-490a-4541-95d7-6f9911021495",
   "metadata": {},
   "source": [
    "#### Data Processing Like Ask Posts and Show Posts"
   ]
  },
  {
   "cell_type": "code",
   "execution_count": 31,
   "id": "f8640469",
   "metadata": {},
   "outputs": [],
   "source": [
    "points_avg_by_hour_other = []\n",
    "\n",
    "for hour in points_by_hour_other:\n",
    "    points_avg_by_hour_other.append([hour, round((points_by_hour_other[hour] / counts_by_hour_other[hour]),1)])\n",
    "\n",
    "comments_avg_by_hour_other = []\n",
    "\n",
    "for hour in by_hour_other_comments:\n",
    "    comments_avg_by_hour_other.append([hour, round((by_hour_other_comments[hour] / counts_by_hour_other_comments[hour]),1)])"
   ]
  },
  {
   "cell_type": "code",
   "execution_count": 32,
   "id": "903d7502",
   "metadata": {},
   "outputs": [],
   "source": [
    "switch_avg_by_hour_other_points = []\n",
    "\n",
    "for point in points_avg_by_hour_other:\n",
    "    switch_avg_by_hour_other_points.append([point[1], point[0]])\n",
    "switch_avg_by_hour_other_points = sorted(switch_avg_by_hour_other_points, reverse=True)\n",
    "\n",
    "switch_avg_by_hour_other_comments = []\n",
    "\n",
    "for comment in comments_avg_by_hour_other:\n",
    "    switch_avg_by_hour_other_comments.append([comment[1], comment[0]])\n",
    "switch_avg_by_hour_other_comments = sorted(switch_avg_by_hour_other_comments, reverse=True)"
   ]
  },
  {
   "cell_type": "markdown",
   "id": "57f50238-fd01-485c-b757-7a4c9ee826fb",
   "metadata": {},
   "source": [
    "#### Other Posts Results: Points and Comments"
   ]
  },
  {
   "cell_type": "code",
   "execution_count": 33,
   "id": "f17127fe",
   "metadata": {},
   "outputs": [
    {
     "name": "stdout",
     "output_type": "stream",
     "text": [
      "At 08:00 o'clock, there are 62.5 points on average in the other post section\n",
      "At 09:00 o'clock, there are 61.8 points on average in the other post section\n",
      "At 10:00 o'clock, there are 60.5 points on average in the other post section\n",
      "At 05:00 o'clock, there are 60.5 points on average in the other post section\n",
      "At 14:00 o'clock, there are 60.0 points on average in the other post section\n"
     ]
    }
   ],
   "source": [
    "for row in switch_avg_by_hour_other_points[:5]:\n",
    "    avg_points = row[0]\n",
    "    time = dt.datetime.strptime(row[1], '%H')\n",
    "    time = time - timedelta(hours=5)\n",
    "    hour_str = time.strftime('%H:%M')\n",
    "    \n",
    "    template = \"At {hour_str} o'clock, there are {avg_points} points on average in the other post section\"\n",
    "    output = template.format(hour_str=hour_str, avg_points=avg_points)\n",
    "    print(output)"
   ]
  },
  {
   "cell_type": "code",
   "execution_count": 34,
   "id": "29d8561b",
   "metadata": {},
   "outputs": [
    {
     "name": "stdout",
     "output_type": "stream",
     "text": [
      "At 09:00 o'clock, there are 32.3 comments on average in the other post section\n",
      "At 08:00 o'clock, there are 30.9 comments on average in the other post section\n",
      "At 07:00 o'clock, there are 30.3 comments on average in the other post section\n",
      "At 06:00 o'clock, there are 29.6 comments on average in the other post section\n",
      "At 10:00 o'clock, there are 29.5 comments on average in the other post section\n"
     ]
    }
   ],
   "source": [
    "for row in switch_avg_by_hour_other_comments[:5]:\n",
    "    avg_comments = row[0]\n",
    "    time = dt.datetime.strptime(row[1], '%H')\n",
    "    time = time - timedelta(hours=5)\n",
    "    hour_str = time.strftime('%H:%M')\n",
    "    \n",
    "    template = \"At {hour_str} o'clock, there are {avg_comments} comments on average in the other post section\"\n",
    "    output = template.format(hour_str=hour_str, avg_comments=avg_comments)\n",
    "    print(output)"
   ]
  },
  {
   "cell_type": "markdown",
   "id": "ecfa6375-ad44-4b03-b3b7-0b531d493c6c",
   "metadata": {},
   "source": [
    "The segment denoted as `'Other Posts'` exhibits the peak average points at 8 a.m., reaching 62.5. Simultaneously, the apex average comment count within the `'Other Posts'` section is observed at 9 a.m., totaling approximately 32 comments. The `'Other Posts'` section exhibits the highest average values for comments and points. This trend could be attributed to its broader scope, fostering more extensive discussions on diverse topics. Conversely, the `'Ask Posts'` primarily revolve around question-related topics, while the `'Show Posts'` predominantly feature user-generated projects and related discussions."
   ]
  },
  {
   "cell_type": "markdown",
   "id": "14ff8a20",
   "metadata": {},
   "source": [
    "#### Conclusion\n"
   ]
  },
  {
   "cell_type": "markdown",
   "id": "425ec813-9191-4b8c-b28e-87457c9a71ac",
   "metadata": {},
   "source": [
    "In this project, we conducted an analysis encompassing the `'Ask Posts'`, `'Show Posts'`, and `'Other Posts'` sections extracted from the Hacker News website. The objective was to identify the post types and corresponding time frames that tend to accumulate the highest average comments and points. Based on our comprehensive analysis, with a specific focus on the `'Ask Posts'` and `'Show Posts'` sections, our recommendation is to create a post in the `'Ask Post'` section, between 10:00 and 11:00 (Central European Standard Time), to achieve the highest average comment count. For optimizing average points, our suggestion is to create a post in the `'Show Post'` and creating it between 18:00 and 19:00 (Central European Standard Time).\n",
    "\n",
    "However, it is crucial to acknowledge that our analysis was conducted on a dataset that excluded posts lacking any comments. Consequently, a more accurate statement would be that among the posts that received comments, the average comment count was higher for `'Ask Posts'` and the average point count was higher for `'Show Posts'` (excluding the `'Other Posts'` section)."
   ]
  }
 ],
 "metadata": {
  "kernelspec": {
   "display_name": "Python 3 (ipykernel)",
   "language": "python",
   "name": "python3"
  },
  "language_info": {
   "codemirror_mode": {
    "name": "ipython",
    "version": 3
   },
   "file_extension": ".py",
   "mimetype": "text/x-python",
   "name": "python",
   "nbconvert_exporter": "python",
   "pygments_lexer": "ipython3",
   "version": "3.8.18"
  }
 },
 "nbformat": 4,
 "nbformat_minor": 5
}
