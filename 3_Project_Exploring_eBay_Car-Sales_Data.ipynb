{
 "cells": [
  {
   "cell_type": "markdown",
   "id": "c4829a2d-1e19-4ab6-b1a1-f9ef5711c8ad",
   "metadata": {},
   "source": [
   "<img src=\"assets/ebay.png\" width=\"350\" style=\"margin-left:auto; margin-right:auto\" />\n",
    "\n",
    "<h1><center>Project: Used Car Listings on eBay Kleinanzeigen</center></h1>\n",
    "\n",
    "In this project we will analyze a [dataset](https://app.dataquest.io/c/54/m/294/guided-project%3A-exploring-ebay-car-sales-data/1/introduction?path=2&slug=data-scientist&version=2.3) comprising used cars sourced from eBay Kleinanzeigen, which is a classifieds segment on the German eBay website. On this platform, individuals buy, sell and trade a range of goods, including used cars. This section is specifically aimed at local communities and offers a diverse selection of used vehicles, from budget options to high-end models. Users can navigate an extensive selection, engage directly with sellers to negotiate offers, explore vehicle histories, and obtain important details to make informed purchasing decisions.\n",
    "\n",
    "The dataset was initially gathered through web scraping and subsequently made available on Kaggle. The current dataset utilized in this analysis consists of 50,000 data points, curated by Dataquest. This version was prepared to simulate a less-refined representation of the data. The principal objective of this project revolves around data cleansing and the analyzation of the included used car listings.\n",
    "\n",
    "The accompanying data dictionary outlining the dataset's attributes is provided below:\n",
    "\n",
    "- `dateCrawled`: When this ad was first crawled. All field-values are taken from this date.\n",
    "- `name`: Name of the car.\n",
    "- `seller`: Whether the seller is private or a dealer.\n",
    "- `offerType`: The type of listing\n",
    "- `price`: The price on the ad to sell the car.\n",
    "- `abtest`: Whether the listing is included in an A/B test.\n",
    "- `vehicleType`: The vehicle Type.\n",
    "- `yearOfRegistration`: The year in which the car was first registered.\n",
    "- `gearbox`: The transmission type.\n",
    "- `powerPS`: The power of the car in PS.\n",
    "- `model`: The car model name.\n",
    "- `kilometer`: How many kilometers the car has driven.\n",
    "- `monthOfRegistration`: The month in which which year the car was first registered.\n",
    "- `fuelType`: What type of fuel the car uses.\n",
    "- `brand`: The brand of the car.\n",
    "- `notRepairedDamage`: If the car has a damage which is not yet repaired.\n",
    "- `dateCreated`: The date on which the eBay listing was created.\n",
    "- `nrOfPictures`: The number of pictures in the ad.\n",
    "- `postalCode`: The postal code for the location of the vehicle.\n",
    "- `lastSeenOnline`: When the crawler saw this ad last online.\n",
    "  \n",
    "Lets start\n",
    "\n",
    "*This project was completed as part of the Data Science Career Path offered by dataquest.io.*"
   ]
  },
  {
   "cell_type": "markdown",
   "id": "9f725bfb-fef5-46ef-b234-710245752093",
   "metadata": {},
   "source": [
    "#### The Data"
   ]
  },
  {
   "cell_type": "code",
   "execution_count": 1,
   "id": "b11080a9",
   "metadata": {},
   "outputs": [],
   "source": [
    "#import packages\n",
    "import pandas as pd\n",
    "import numpy as np\n",
    "import matplotlib.pyplot as plt\n",
    "%matplotlib inline"
   ]
  },
  {
   "cell_type": "code",
   "execution_count": 2,
   "id": "f5b400c9",
   "metadata": {},
   "outputs": [
    {
     "name": "stdout",
     "output_type": "stream",
     "text": [
      "<class 'pandas.core.frame.DataFrame'>\n",
      "RangeIndex: 50000 entries, 0 to 49999\n",
      "Data columns (total 20 columns):\n",
      " #   Column               Non-Null Count  Dtype \n",
      "---  ------               --------------  ----- \n",
      " 0   dateCrawled          50000 non-null  object\n",
      " 1   name                 50000 non-null  object\n",
      " 2   seller               50000 non-null  object\n",
      " 3   offerType            50000 non-null  object\n",
      " 4   price                50000 non-null  object\n",
      " 5   abtest               50000 non-null  object\n",
      " 6   vehicleType          44905 non-null  object\n",
      " 7   yearOfRegistration   50000 non-null  int64 \n",
      " 8   gearbox              47320 non-null  object\n",
      " 9   powerPS              50000 non-null  int64 \n",
      " 10  model                47242 non-null  object\n",
      " 11  odometer             50000 non-null  object\n",
      " 12  monthOfRegistration  50000 non-null  int64 \n",
      " 13  fuelType             45518 non-null  object\n",
      " 14  brand                50000 non-null  object\n",
      " 15  notRepairedDamage    40171 non-null  object\n",
      " 16  dateCreated          50000 non-null  object\n",
      " 17  nrOfPictures         50000 non-null  int64 \n",
      " 18  postalCode           50000 non-null  int64 \n",
      " 19  lastSeen             50000 non-null  object\n",
      "dtypes: int64(5), object(15)\n",
      "memory usage: 7.6+ MB\n"
     ]
    }
   ],
   "source": [
    "autos = pd.read_csv('autos.csv', encoding='Latin-1')\n",
    "\n",
    "autos.info()"
   ]
  },
  {
   "cell_type": "code",
   "execution_count": 3,
   "id": "d2af5ef3-2aa4-4bad-99c4-fcf26a2d39d5",
   "metadata": {},
   "outputs": [
    {
     "data": {
      "text/html": [
       "<div>\n",
       "<style scoped>\n",
       "    .dataframe tbody tr th:only-of-type {\n",
       "        vertical-align: middle;\n",
       "    }\n",
       "\n",
       "    .dataframe tbody tr th {\n",
       "        vertical-align: top;\n",
       "    }\n",
       "\n",
       "    .dataframe thead th {\n",
       "        text-align: right;\n",
       "    }\n",
       "</style>\n",
       "<table border=\"1\" class=\"dataframe\">\n",
       "  <thead>\n",
       "    <tr style=\"text-align: right;\">\n",
       "      <th></th>\n",
       "      <th>dateCrawled</th>\n",
       "      <th>name</th>\n",
       "      <th>seller</th>\n",
       "      <th>offerType</th>\n",
       "      <th>price</th>\n",
       "      <th>abtest</th>\n",
       "      <th>vehicleType</th>\n",
       "      <th>yearOfRegistration</th>\n",
       "      <th>gearbox</th>\n",
       "      <th>powerPS</th>\n",
       "      <th>model</th>\n",
       "      <th>odometer</th>\n",
       "      <th>monthOfRegistration</th>\n",
       "      <th>fuelType</th>\n",
       "      <th>brand</th>\n",
       "      <th>notRepairedDamage</th>\n",
       "      <th>dateCreated</th>\n",
       "      <th>nrOfPictures</th>\n",
       "      <th>postalCode</th>\n",
       "      <th>lastSeen</th>\n",
       "    </tr>\n",
       "  </thead>\n",
       "  <tbody>\n",
       "    <tr>\n",
       "      <th>0</th>\n",
       "      <td>2016-03-26 17:47:46</td>\n",
       "      <td>Peugeot_807_160_NAVTECH_ON_BOARD</td>\n",
       "      <td>privat</td>\n",
       "      <td>Angebot</td>\n",
       "      <td>$5,000</td>\n",
       "      <td>control</td>\n",
       "      <td>bus</td>\n",
       "      <td>2004</td>\n",
       "      <td>manuell</td>\n",
       "      <td>158</td>\n",
       "      <td>andere</td>\n",
       "      <td>150,000km</td>\n",
       "      <td>3</td>\n",
       "      <td>lpg</td>\n",
       "      <td>peugeot</td>\n",
       "      <td>nein</td>\n",
       "      <td>2016-03-26 00:00:00</td>\n",
       "      <td>0</td>\n",
       "      <td>79588</td>\n",
       "      <td>2016-04-06 06:45:54</td>\n",
       "    </tr>\n",
       "    <tr>\n",
       "      <th>1</th>\n",
       "      <td>2016-04-04 13:38:56</td>\n",
       "      <td>BMW_740i_4_4_Liter_HAMANN_UMBAU_Mega_Optik</td>\n",
       "      <td>privat</td>\n",
       "      <td>Angebot</td>\n",
       "      <td>$8,500</td>\n",
       "      <td>control</td>\n",
       "      <td>limousine</td>\n",
       "      <td>1997</td>\n",
       "      <td>automatik</td>\n",
       "      <td>286</td>\n",
       "      <td>7er</td>\n",
       "      <td>150,000km</td>\n",
       "      <td>6</td>\n",
       "      <td>benzin</td>\n",
       "      <td>bmw</td>\n",
       "      <td>nein</td>\n",
       "      <td>2016-04-04 00:00:00</td>\n",
       "      <td>0</td>\n",
       "      <td>71034</td>\n",
       "      <td>2016-04-06 14:45:08</td>\n",
       "    </tr>\n",
       "    <tr>\n",
       "      <th>2</th>\n",
       "      <td>2016-03-26 18:57:24</td>\n",
       "      <td>Volkswagen_Golf_1.6_United</td>\n",
       "      <td>privat</td>\n",
       "      <td>Angebot</td>\n",
       "      <td>$8,990</td>\n",
       "      <td>test</td>\n",
       "      <td>limousine</td>\n",
       "      <td>2009</td>\n",
       "      <td>manuell</td>\n",
       "      <td>102</td>\n",
       "      <td>golf</td>\n",
       "      <td>70,000km</td>\n",
       "      <td>7</td>\n",
       "      <td>benzin</td>\n",
       "      <td>volkswagen</td>\n",
       "      <td>nein</td>\n",
       "      <td>2016-03-26 00:00:00</td>\n",
       "      <td>0</td>\n",
       "      <td>35394</td>\n",
       "      <td>2016-04-06 20:15:37</td>\n",
       "    </tr>\n",
       "    <tr>\n",
       "      <th>3</th>\n",
       "      <td>2016-03-12 16:58:10</td>\n",
       "      <td>Smart_smart_fortwo_coupe_softouch/F1/Klima/Pan...</td>\n",
       "      <td>privat</td>\n",
       "      <td>Angebot</td>\n",
       "      <td>$4,350</td>\n",
       "      <td>control</td>\n",
       "      <td>kleinwagen</td>\n",
       "      <td>2007</td>\n",
       "      <td>automatik</td>\n",
       "      <td>71</td>\n",
       "      <td>fortwo</td>\n",
       "      <td>70,000km</td>\n",
       "      <td>6</td>\n",
       "      <td>benzin</td>\n",
       "      <td>smart</td>\n",
       "      <td>nein</td>\n",
       "      <td>2016-03-12 00:00:00</td>\n",
       "      <td>0</td>\n",
       "      <td>33729</td>\n",
       "      <td>2016-03-15 03:16:28</td>\n",
       "    </tr>\n",
       "    <tr>\n",
       "      <th>4</th>\n",
       "      <td>2016-04-01 14:38:50</td>\n",
       "      <td>Ford_Focus_1_6_Benzin_TÜV_neu_ist_sehr_gepfleg...</td>\n",
       "      <td>privat</td>\n",
       "      <td>Angebot</td>\n",
       "      <td>$1,350</td>\n",
       "      <td>test</td>\n",
       "      <td>kombi</td>\n",
       "      <td>2003</td>\n",
       "      <td>manuell</td>\n",
       "      <td>0</td>\n",
       "      <td>focus</td>\n",
       "      <td>150,000km</td>\n",
       "      <td>7</td>\n",
       "      <td>benzin</td>\n",
       "      <td>ford</td>\n",
       "      <td>nein</td>\n",
       "      <td>2016-04-01 00:00:00</td>\n",
       "      <td>0</td>\n",
       "      <td>39218</td>\n",
       "      <td>2016-04-01 14:38:50</td>\n",
       "    </tr>\n",
       "  </tbody>\n",
       "</table>\n",
       "</div>"
      ],
      "text/plain": [
       "           dateCrawled                                               name  \\\n",
       "0  2016-03-26 17:47:46                   Peugeot_807_160_NAVTECH_ON_BOARD   \n",
       "1  2016-04-04 13:38:56         BMW_740i_4_4_Liter_HAMANN_UMBAU_Mega_Optik   \n",
       "2  2016-03-26 18:57:24                         Volkswagen_Golf_1.6_United   \n",
       "3  2016-03-12 16:58:10  Smart_smart_fortwo_coupe_softouch/F1/Klima/Pan...   \n",
       "4  2016-04-01 14:38:50  Ford_Focus_1_6_Benzin_TÜV_neu_ist_sehr_gepfleg...   \n",
       "\n",
       "   seller offerType   price   abtest vehicleType  yearOfRegistration  \\\n",
       "0  privat   Angebot  $5,000  control         bus                2004   \n",
       "1  privat   Angebot  $8,500  control   limousine                1997   \n",
       "2  privat   Angebot  $8,990     test   limousine                2009   \n",
       "3  privat   Angebot  $4,350  control  kleinwagen                2007   \n",
       "4  privat   Angebot  $1,350     test       kombi                2003   \n",
       "\n",
       "     gearbox  powerPS   model   odometer  monthOfRegistration fuelType  \\\n",
       "0    manuell      158  andere  150,000km                    3      lpg   \n",
       "1  automatik      286     7er  150,000km                    6   benzin   \n",
       "2    manuell      102    golf   70,000km                    7   benzin   \n",
       "3  automatik       71  fortwo   70,000km                    6   benzin   \n",
       "4    manuell        0   focus  150,000km                    7   benzin   \n",
       "\n",
       "        brand notRepairedDamage          dateCreated  nrOfPictures  \\\n",
       "0     peugeot              nein  2016-03-26 00:00:00             0   \n",
       "1         bmw              nein  2016-04-04 00:00:00             0   \n",
       "2  volkswagen              nein  2016-03-26 00:00:00             0   \n",
       "3       smart              nein  2016-03-12 00:00:00             0   \n",
       "4        ford              nein  2016-04-01 00:00:00             0   \n",
       "\n",
       "   postalCode             lastSeen  \n",
       "0       79588  2016-04-06 06:45:54  \n",
       "1       71034  2016-04-06 14:45:08  \n",
       "2       35394  2016-04-06 20:15:37  \n",
       "3       33729  2016-03-15 03:16:28  \n",
       "4       39218  2016-04-01 14:38:50  "
      ]
     },
     "execution_count": 3,
     "metadata": {},
     "output_type": "execute_result"
    }
   ],
   "source": [
    "autos.head()"
   ]
  },
  {
   "cell_type": "markdown",
   "id": "8c3546ed",
   "metadata": {},
   "source": [
    "We created a dataframe named 'autos' with the csv file 'autos.csv'. There are 15 string columns and 5 int columns in this dataframe. Furthermore, there is a total of 20 columns with ~50000 rows. Some columns have null values, but none have more than ~20% null values. The column names use camelcase instead of Python's preferred snakecase, which means we can't just replace spaces with underscores.\n",
    "\n",
    "We'll first clean the column names to make the data easier to work with."
   ]
  },
  {
   "cell_type": "markdown",
   "id": "1a381831-0a5f-432c-a382-488482caa2d6",
   "metadata": {},
   "source": [
    "#### Clean Columns"
   ]
  },
  {
   "cell_type": "code",
   "execution_count": 4,
   "id": "c151403d",
   "metadata": {},
   "outputs": [
    {
     "data": {
      "text/plain": [
       "Index(['dateCrawled', 'name', 'seller', 'offerType', 'price', 'abtest',\n",
       "       'vehicleType', 'yearOfRegistration', 'gearbox', 'powerPS', 'model',\n",
       "       'odometer', 'monthOfRegistration', 'fuelType', 'brand',\n",
       "       'notRepairedDamage', 'dateCreated', 'nrOfPictures', 'postalCode',\n",
       "       'lastSeen'],\n",
       "      dtype='object')"
      ]
     },
     "execution_count": 4,
     "metadata": {},
     "output_type": "execute_result"
    }
   ],
   "source": [
    "autos.columns"
   ]
  },
  {
   "cell_type": "code",
   "execution_count": 5,
   "id": "14e67dc3",
   "metadata": {},
   "outputs": [],
   "source": [
    "columns = ['date_crawled', 'name', 'seller', 'offer_type', 'price', 'abtest',\n",
    "       'vehicle_type', 'registration_year', 'gearbox', 'power_ps', 'model',\n",
    "       'odometer', 'registration_month', 'fuel_type', 'brand',\n",
    "       'unrepaired_damage', 'ad_created', 'nr_of_pictures', 'postal_code',\n",
    "       'last_seen']"
   ]
  },
  {
   "cell_type": "code",
   "execution_count": 6,
   "id": "6de275d6",
   "metadata": {},
   "outputs": [],
   "source": [
    "autos.columns = columns"
   ]
  },
  {
   "cell_type": "markdown",
   "id": "2053317e",
   "metadata": {},
   "source": [
    "In the code above, we first looked at the columns names, then saved the columns to the variable columns and did some changes to the names. From camelcase to snakecase. Finally we reassigned the new column names to the dataframe.ns."
   ]
  },
  {
   "cell_type": "markdown",
   "id": "29a432bd-292d-42fe-a1be-7d04bb7fbe50",
   "metadata": {},
   "source": [
    "#### Data Exploration and Cleansing\n",
    "\n",
    "We will start by conducting an exploratory analysis of the data to identify evident areas which require data cleansing.\n"
   ]
  },
  {
   "cell_type": "code",
   "execution_count": 7,
   "id": "f5f7962b",
   "metadata": {},
   "outputs": [
    {
     "data": {
      "text/html": [
       "<div>\n",
       "<style scoped>\n",
       "    .dataframe tbody tr th:only-of-type {\n",
       "        vertical-align: middle;\n",
       "    }\n",
       "\n",
       "    .dataframe tbody tr th {\n",
       "        vertical-align: top;\n",
       "    }\n",
       "\n",
       "    .dataframe thead th {\n",
       "        text-align: right;\n",
       "    }\n",
       "</style>\n",
       "<table border=\"1\" class=\"dataframe\">\n",
       "  <thead>\n",
       "    <tr style=\"text-align: right;\">\n",
       "      <th></th>\n",
       "      <th>date_crawled</th>\n",
       "      <th>name</th>\n",
       "      <th>seller</th>\n",
       "      <th>offer_type</th>\n",
       "      <th>price</th>\n",
       "      <th>abtest</th>\n",
       "      <th>vehicle_type</th>\n",
       "      <th>registration_year</th>\n",
       "      <th>gearbox</th>\n",
       "      <th>power_ps</th>\n",
       "      <th>model</th>\n",
       "      <th>odometer</th>\n",
       "      <th>registration_month</th>\n",
       "      <th>fuel_type</th>\n",
       "      <th>brand</th>\n",
       "      <th>unrepaired_damage</th>\n",
       "      <th>ad_created</th>\n",
       "      <th>nr_of_pictures</th>\n",
       "      <th>postal_code</th>\n",
       "      <th>last_seen</th>\n",
       "    </tr>\n",
       "  </thead>\n",
       "  <tbody>\n",
       "    <tr>\n",
       "      <th>count</th>\n",
       "      <td>50000</td>\n",
       "      <td>50000</td>\n",
       "      <td>50000</td>\n",
       "      <td>50000</td>\n",
       "      <td>50000</td>\n",
       "      <td>50000</td>\n",
       "      <td>44905</td>\n",
       "      <td>50000.000000</td>\n",
       "      <td>47320</td>\n",
       "      <td>50000.000000</td>\n",
       "      <td>47242</td>\n",
       "      <td>50000</td>\n",
       "      <td>50000.000000</td>\n",
       "      <td>45518</td>\n",
       "      <td>50000</td>\n",
       "      <td>40171</td>\n",
       "      <td>50000</td>\n",
       "      <td>50000.0</td>\n",
       "      <td>50000.000000</td>\n",
       "      <td>50000</td>\n",
       "    </tr>\n",
       "    <tr>\n",
       "      <th>unique</th>\n",
       "      <td>48213</td>\n",
       "      <td>38754</td>\n",
       "      <td>2</td>\n",
       "      <td>2</td>\n",
       "      <td>2357</td>\n",
       "      <td>2</td>\n",
       "      <td>8</td>\n",
       "      <td>NaN</td>\n",
       "      <td>2</td>\n",
       "      <td>NaN</td>\n",
       "      <td>245</td>\n",
       "      <td>13</td>\n",
       "      <td>NaN</td>\n",
       "      <td>7</td>\n",
       "      <td>40</td>\n",
       "      <td>2</td>\n",
       "      <td>76</td>\n",
       "      <td>NaN</td>\n",
       "      <td>NaN</td>\n",
       "      <td>39481</td>\n",
       "    </tr>\n",
       "    <tr>\n",
       "      <th>top</th>\n",
       "      <td>2016-04-02 11:37:04</td>\n",
       "      <td>Ford_Fiesta</td>\n",
       "      <td>privat</td>\n",
       "      <td>Angebot</td>\n",
       "      <td>$0</td>\n",
       "      <td>test</td>\n",
       "      <td>limousine</td>\n",
       "      <td>NaN</td>\n",
       "      <td>manuell</td>\n",
       "      <td>NaN</td>\n",
       "      <td>golf</td>\n",
       "      <td>150,000km</td>\n",
       "      <td>NaN</td>\n",
       "      <td>benzin</td>\n",
       "      <td>volkswagen</td>\n",
       "      <td>nein</td>\n",
       "      <td>2016-04-03 00:00:00</td>\n",
       "      <td>NaN</td>\n",
       "      <td>NaN</td>\n",
       "      <td>2016-04-07 06:17:27</td>\n",
       "    </tr>\n",
       "    <tr>\n",
       "      <th>freq</th>\n",
       "      <td>3</td>\n",
       "      <td>78</td>\n",
       "      <td>49999</td>\n",
       "      <td>49999</td>\n",
       "      <td>1421</td>\n",
       "      <td>25756</td>\n",
       "      <td>12859</td>\n",
       "      <td>NaN</td>\n",
       "      <td>36993</td>\n",
       "      <td>NaN</td>\n",
       "      <td>4024</td>\n",
       "      <td>32424</td>\n",
       "      <td>NaN</td>\n",
       "      <td>30107</td>\n",
       "      <td>10687</td>\n",
       "      <td>35232</td>\n",
       "      <td>1946</td>\n",
       "      <td>NaN</td>\n",
       "      <td>NaN</td>\n",
       "      <td>8</td>\n",
       "    </tr>\n",
       "    <tr>\n",
       "      <th>mean</th>\n",
       "      <td>NaN</td>\n",
       "      <td>NaN</td>\n",
       "      <td>NaN</td>\n",
       "      <td>NaN</td>\n",
       "      <td>NaN</td>\n",
       "      <td>NaN</td>\n",
       "      <td>NaN</td>\n",
       "      <td>2005.073280</td>\n",
       "      <td>NaN</td>\n",
       "      <td>116.355920</td>\n",
       "      <td>NaN</td>\n",
       "      <td>NaN</td>\n",
       "      <td>5.723360</td>\n",
       "      <td>NaN</td>\n",
       "      <td>NaN</td>\n",
       "      <td>NaN</td>\n",
       "      <td>NaN</td>\n",
       "      <td>0.0</td>\n",
       "      <td>50813.627300</td>\n",
       "      <td>NaN</td>\n",
       "    </tr>\n",
       "    <tr>\n",
       "      <th>std</th>\n",
       "      <td>NaN</td>\n",
       "      <td>NaN</td>\n",
       "      <td>NaN</td>\n",
       "      <td>NaN</td>\n",
       "      <td>NaN</td>\n",
       "      <td>NaN</td>\n",
       "      <td>NaN</td>\n",
       "      <td>105.712813</td>\n",
       "      <td>NaN</td>\n",
       "      <td>209.216627</td>\n",
       "      <td>NaN</td>\n",
       "      <td>NaN</td>\n",
       "      <td>3.711984</td>\n",
       "      <td>NaN</td>\n",
       "      <td>NaN</td>\n",
       "      <td>NaN</td>\n",
       "      <td>NaN</td>\n",
       "      <td>0.0</td>\n",
       "      <td>25779.747957</td>\n",
       "      <td>NaN</td>\n",
       "    </tr>\n",
       "    <tr>\n",
       "      <th>min</th>\n",
       "      <td>NaN</td>\n",
       "      <td>NaN</td>\n",
       "      <td>NaN</td>\n",
       "      <td>NaN</td>\n",
       "      <td>NaN</td>\n",
       "      <td>NaN</td>\n",
       "      <td>NaN</td>\n",
       "      <td>1000.000000</td>\n",
       "      <td>NaN</td>\n",
       "      <td>0.000000</td>\n",
       "      <td>NaN</td>\n",
       "      <td>NaN</td>\n",
       "      <td>0.000000</td>\n",
       "      <td>NaN</td>\n",
       "      <td>NaN</td>\n",
       "      <td>NaN</td>\n",
       "      <td>NaN</td>\n",
       "      <td>0.0</td>\n",
       "      <td>1067.000000</td>\n",
       "      <td>NaN</td>\n",
       "    </tr>\n",
       "    <tr>\n",
       "      <th>25%</th>\n",
       "      <td>NaN</td>\n",
       "      <td>NaN</td>\n",
       "      <td>NaN</td>\n",
       "      <td>NaN</td>\n",
       "      <td>NaN</td>\n",
       "      <td>NaN</td>\n",
       "      <td>NaN</td>\n",
       "      <td>1999.000000</td>\n",
       "      <td>NaN</td>\n",
       "      <td>70.000000</td>\n",
       "      <td>NaN</td>\n",
       "      <td>NaN</td>\n",
       "      <td>3.000000</td>\n",
       "      <td>NaN</td>\n",
       "      <td>NaN</td>\n",
       "      <td>NaN</td>\n",
       "      <td>NaN</td>\n",
       "      <td>0.0</td>\n",
       "      <td>30451.000000</td>\n",
       "      <td>NaN</td>\n",
       "    </tr>\n",
       "    <tr>\n",
       "      <th>50%</th>\n",
       "      <td>NaN</td>\n",
       "      <td>NaN</td>\n",
       "      <td>NaN</td>\n",
       "      <td>NaN</td>\n",
       "      <td>NaN</td>\n",
       "      <td>NaN</td>\n",
       "      <td>NaN</td>\n",
       "      <td>2003.000000</td>\n",
       "      <td>NaN</td>\n",
       "      <td>105.000000</td>\n",
       "      <td>NaN</td>\n",
       "      <td>NaN</td>\n",
       "      <td>6.000000</td>\n",
       "      <td>NaN</td>\n",
       "      <td>NaN</td>\n",
       "      <td>NaN</td>\n",
       "      <td>NaN</td>\n",
       "      <td>0.0</td>\n",
       "      <td>49577.000000</td>\n",
       "      <td>NaN</td>\n",
       "    </tr>\n",
       "    <tr>\n",
       "      <th>75%</th>\n",
       "      <td>NaN</td>\n",
       "      <td>NaN</td>\n",
       "      <td>NaN</td>\n",
       "      <td>NaN</td>\n",
       "      <td>NaN</td>\n",
       "      <td>NaN</td>\n",
       "      <td>NaN</td>\n",
       "      <td>2008.000000</td>\n",
       "      <td>NaN</td>\n",
       "      <td>150.000000</td>\n",
       "      <td>NaN</td>\n",
       "      <td>NaN</td>\n",
       "      <td>9.000000</td>\n",
       "      <td>NaN</td>\n",
       "      <td>NaN</td>\n",
       "      <td>NaN</td>\n",
       "      <td>NaN</td>\n",
       "      <td>0.0</td>\n",
       "      <td>71540.000000</td>\n",
       "      <td>NaN</td>\n",
       "    </tr>\n",
       "    <tr>\n",
       "      <th>max</th>\n",
       "      <td>NaN</td>\n",
       "      <td>NaN</td>\n",
       "      <td>NaN</td>\n",
       "      <td>NaN</td>\n",
       "      <td>NaN</td>\n",
       "      <td>NaN</td>\n",
       "      <td>NaN</td>\n",
       "      <td>9999.000000</td>\n",
       "      <td>NaN</td>\n",
       "      <td>17700.000000</td>\n",
       "      <td>NaN</td>\n",
       "      <td>NaN</td>\n",
       "      <td>12.000000</td>\n",
       "      <td>NaN</td>\n",
       "      <td>NaN</td>\n",
       "      <td>NaN</td>\n",
       "      <td>NaN</td>\n",
       "      <td>0.0</td>\n",
       "      <td>99998.000000</td>\n",
       "      <td>NaN</td>\n",
       "    </tr>\n",
       "  </tbody>\n",
       "</table>\n",
       "</div>"
      ],
      "text/plain": [
       "               date_crawled         name  seller offer_type  price abtest  \\\n",
       "count                 50000        50000   50000      50000  50000  50000   \n",
       "unique                48213        38754       2          2   2357      2   \n",
       "top     2016-04-02 11:37:04  Ford_Fiesta  privat    Angebot     $0   test   \n",
       "freq                      3           78   49999      49999   1421  25756   \n",
       "mean                    NaN          NaN     NaN        NaN    NaN    NaN   \n",
       "std                     NaN          NaN     NaN        NaN    NaN    NaN   \n",
       "min                     NaN          NaN     NaN        NaN    NaN    NaN   \n",
       "25%                     NaN          NaN     NaN        NaN    NaN    NaN   \n",
       "50%                     NaN          NaN     NaN        NaN    NaN    NaN   \n",
       "75%                     NaN          NaN     NaN        NaN    NaN    NaN   \n",
       "max                     NaN          NaN     NaN        NaN    NaN    NaN   \n",
       "\n",
       "       vehicle_type  registration_year  gearbox      power_ps  model  \\\n",
       "count         44905       50000.000000    47320  50000.000000  47242   \n",
       "unique            8                NaN        2           NaN    245   \n",
       "top       limousine                NaN  manuell           NaN   golf   \n",
       "freq          12859                NaN    36993           NaN   4024   \n",
       "mean            NaN        2005.073280      NaN    116.355920    NaN   \n",
       "std             NaN         105.712813      NaN    209.216627    NaN   \n",
       "min             NaN        1000.000000      NaN      0.000000    NaN   \n",
       "25%             NaN        1999.000000      NaN     70.000000    NaN   \n",
       "50%             NaN        2003.000000      NaN    105.000000    NaN   \n",
       "75%             NaN        2008.000000      NaN    150.000000    NaN   \n",
       "max             NaN        9999.000000      NaN  17700.000000    NaN   \n",
       "\n",
       "         odometer  registration_month fuel_type       brand unrepaired_damage  \\\n",
       "count       50000        50000.000000     45518       50000             40171   \n",
       "unique         13                 NaN         7          40                 2   \n",
       "top     150,000km                 NaN    benzin  volkswagen              nein   \n",
       "freq        32424                 NaN     30107       10687             35232   \n",
       "mean          NaN            5.723360       NaN         NaN               NaN   \n",
       "std           NaN            3.711984       NaN         NaN               NaN   \n",
       "min           NaN            0.000000       NaN         NaN               NaN   \n",
       "25%           NaN            3.000000       NaN         NaN               NaN   \n",
       "50%           NaN            6.000000       NaN         NaN               NaN   \n",
       "75%           NaN            9.000000       NaN         NaN               NaN   \n",
       "max           NaN           12.000000       NaN         NaN               NaN   \n",
       "\n",
       "                 ad_created  nr_of_pictures   postal_code            last_seen  \n",
       "count                 50000         50000.0  50000.000000                50000  \n",
       "unique                   76             NaN           NaN                39481  \n",
       "top     2016-04-03 00:00:00             NaN           NaN  2016-04-07 06:17:27  \n",
       "freq                   1946             NaN           NaN                    8  \n",
       "mean                    NaN             0.0  50813.627300                  NaN  \n",
       "std                     NaN             0.0  25779.747957                  NaN  \n",
       "min                     NaN             0.0   1067.000000                  NaN  \n",
       "25%                     NaN             0.0  30451.000000                  NaN  \n",
       "50%                     NaN             0.0  49577.000000                  NaN  \n",
       "75%                     NaN             0.0  71540.000000                  NaN  \n",
       "max                     NaN             0.0  99998.000000                  NaN  "
      ]
     },
     "execution_count": 7,
     "metadata": {},
     "output_type": "execute_result"
    }
   ],
   "source": [
    "autos.describe(include='all') #show count, unique, top, freq, etc. of every column"
   ]
  },
  {
   "cell_type": "code",
   "execution_count": 8,
   "id": "a6554334-ca4f-4ea7-a03b-7fe7fbd3b605",
   "metadata": {},
   "outputs": [
    {
     "name": "stdout",
     "output_type": "stream",
     "text": [
      "seller\n",
      "privat        49999\n",
      "gewerblich        1\n",
      "Name: count, dtype: int64\n",
      "\n",
      "\n",
      "offer_type\n",
      "Angebot    49999\n",
      "Gesuch         1\n",
      "Name: count, dtype: int64\n"
     ]
    }
   ],
   "source": [
    "print(autos['seller'].value_counts())\n",
    "print('\\n')\n",
    "print(autos['offer_type'].value_counts())"
   ]
  },
  {
   "cell_type": "markdown",
   "id": "6cc4d429-02b7-4f28-9ba7-a800172d66ff",
   "metadata": {},
   "source": [
    "Our initial observations reveal following aspects:\n",
    "\n",
    "Regarding the text columns, we observe, that all (or nearly all) of the values from the following columns are the same\n",
    "\n",
    "- `'seller'`\n",
    "- `'offer_type'`\n",
    "\n",
    "We'll drop these columns due to there inbalance distribution."
   ]
  },
  {
   "cell_type": "code",
   "execution_count": 9,
   "id": "c64d2815-1c42-4d66-8547-051502178033",
   "metadata": {},
   "outputs": [],
   "source": [
    "autos = autos.drop([\"seller\", \"offer_type\"], axis=1)"
   ]
  },
  {
   "cell_type": "code",
   "execution_count": 10,
   "id": "82e3d6f5",
   "metadata": {
    "scrolled": true
   },
   "outputs": [
    {
     "name": "stdout",
     "output_type": "stream",
     "text": [
      "abtest\n",
      "test       25756\n",
      "control    24244\n",
      "Name: count, dtype: int64\n",
      "\n",
      "\n",
      "gearbox\n",
      "manuell      36993\n",
      "automatik    10327\n",
      "Name: count, dtype: int64\n"
     ]
    }
   ],
   "source": [
    "print(autos['abtest'].value_counts())\n",
    "print('\\n')\n",
    "print(autos['gearbox'].value_counts())"
   ]
  },
  {
   "cell_type": "markdown",
   "id": "1337098e-a863-4ec1-86fd-a07e0939db83",
   "metadata": {},
   "source": [
    "Above we used the `.describe(include='all')` method to show all the information about our columns. We then dived deeper into some columns, e.g. `'seller'` and `'offer_Type'` which are incredible inbalanced and therefore should be exluded from further analysis. Therefore we did drop these two columns. Other columns, like `'gearbox'` and `'abtest'` are also bivariate format, but with sensible distribution. \r\n"
   ]
  },
  {
   "cell_type": "code",
   "execution_count": 11,
   "id": "c095b5c7",
   "metadata": {
    "scrolled": true
   },
   "outputs": [
    {
     "name": "stdout",
     "output_type": "stream",
     "text": [
      "object\n",
      "object\n"
     ]
    }
   ],
   "source": [
    "print(autos['price'].dtypes)\n",
    "print(autos['odometer'].dtypes)"
   ]
  },
  {
   "cell_type": "code",
   "execution_count": 12,
   "id": "91e475ed-15bd-4863-b8f7-9f6ea73d889c",
   "metadata": {},
   "outputs": [
    {
     "data": {
      "text/plain": [
       "array(['150,000km', '70,000km', '50,000km', '80,000km', '10,000km',\n",
       "       '30,000km', '125,000km', '90,000km', '20,000km', '60,000km',\n",
       "       '5,000km', '100,000km', '40,000km'], dtype=object)"
      ]
     },
     "execution_count": 12,
     "metadata": {},
     "output_type": "execute_result"
    }
   ],
   "source": [
    "autos['odometer'].unique()"
   ]
  },
  {
   "cell_type": "markdown",
   "id": "605de1cf-fe11-4a31-818f-c5aea6ec8af1",
   "metadata": {},
   "source": [
    "As seen in the describe table above, the `'price'` and `'odometer'` columns look suspicious. While looking into it, The type seems to be `'object'` and not `'integer'`. The two columns contain numerical data with extra characters being stored as text. Our next step involves cleansing and converting these columns accordingly. "
   ]
  },
  {
   "cell_type": "code",
   "execution_count": 13,
   "id": "94f7a683",
   "metadata": {
    "scrolled": true
   },
   "outputs": [
    {
     "data": {
      "text/plain": [
       "0    150000\n",
       "1    150000\n",
       "2     70000\n",
       "3     70000\n",
       "4    150000\n",
       "Name: odometer_km, dtype: int32"
      ]
     },
     "execution_count": 13,
     "metadata": {},
     "output_type": "execute_result"
    }
   ],
   "source": [
    "#transform odometer column to int and remove 'km' or ',' \n",
    "autos['odometer'] = autos['odometer'].str.replace('km', '').str.replace(',', '').astype(int) \n",
    "\n",
    "#rename the odometer column\n",
    "autos.rename({'odometer' : 'odometer_km'}, axis=1, inplace=True)\n",
    "\n",
    "autos['odometer_km'].head()"
   ]
  },
  {
   "cell_type": "code",
   "execution_count": 14,
   "id": "9c8579cc",
   "metadata": {},
   "outputs": [
    {
     "data": {
      "text/plain": [
       "0    5000\n",
       "1    8500\n",
       "2    8990\n",
       "3    4350\n",
       "4    1350\n",
       "Name: price, dtype: int32"
      ]
     },
     "execution_count": 14,
     "metadata": {},
     "output_type": "execute_result"
    }
   ],
   "source": [
    "#transform price column to int and remove '$' or ',' \n",
    "autos['price'] = autos['price'].str.replace('$', '').str.replace(',', '').astype(int)\n",
    "\n",
    "autos['price'].head()"
   ]
  },
  {
   "cell_type": "markdown",
   "id": "f33151c6-3bfa-4f05-b633-a8ef9f4af7bf",
   "metadata": {},
   "source": [
    "#### Diving Deeper Into Odometer and Price Column\n",
    "\n",
    "Now we will explore more of the odometer_km and price columns and look for values that seem to be unrealistic."
   ]
  },
  {
   "cell_type": "code",
   "execution_count": 15,
   "id": "c84b41e4-da24-4ad2-9abe-77d6b33abe82",
   "metadata": {
    "scrolled": true
   },
   "outputs": [
    {
     "data": {
      "text/plain": [
       "odometer_km\n",
       "150000    32424\n",
       "125000     5170\n",
       "100000     2169\n",
       "90000      1757\n",
       "80000      1436\n",
       "70000      1230\n",
       "60000      1164\n",
       "50000      1027\n",
       "40000       819\n",
       "30000       789\n",
       "20000       784\n",
       "10000       264\n",
       "5000        967\n",
       "Name: count, dtype: int64"
      ]
     },
     "execution_count": 15,
     "metadata": {},
     "output_type": "execute_result"
    }
   ],
   "source": [
    "autos['odometer_km'].value_counts().sort_index(ascending=False)"
   ]
  },
  {
   "cell_type": "markdown",
   "id": "746b2d71-f531-48f5-967b-eea6dd7833e6",
   "metadata": {},
   "source": [
    "The observations signify that the entries in this field include rounded values, implying that sellers likely selected from predetermined options for this particular attribute. Furthermore, there is a dominance of high kilometers vehicles compared to those with low kilometers.\n",
    "\n",
    "\r\n"
   ]
  },
  {
   "cell_type": "code",
   "execution_count": 16,
   "id": "e87f2451",
   "metadata": {
    "scrolled": true
   },
   "outputs": [
    {
     "name": "stdout",
     "output_type": "stream",
     "text": [
      "count    5.000000e+04\n",
      "mean     9.840044e+03\n",
      "std      4.811044e+05\n",
      "min      0.000000e+00\n",
      "25%      1.100000e+03\n",
      "50%      2.950000e+03\n",
      "75%      7.200000e+03\n",
      "max      1.000000e+08\n",
      "Name: price, dtype: float64\n",
      "(2357,)\n"
     ]
    },
    {
     "data": {
      "text/plain": [
       "price\n",
       "0       1421\n",
       "500      781\n",
       "1500     734\n",
       "2500     643\n",
       "1000     639\n",
       "1200     639\n",
       "600      531\n",
       "800      498\n",
       "3500     498\n",
       "2000     460\n",
       "999      434\n",
       "750      433\n",
       "900      420\n",
       "650      419\n",
       "850      410\n",
       "Name: count, dtype: int64"
      ]
     },
     "execution_count": 16,
     "metadata": {},
     "output_type": "execute_result"
    }
   ],
   "source": [
    "print(autos[\"price\"].describe())\n",
    "print(autos[\"price\"].unique().shape)\n",
    "autos[\"price\"].value_counts().head(15)"
   ]
  },
  {
   "cell_type": "markdown",
   "id": "b38cb165-ff38-4fda-ba3f-d36a04ee7647",
   "metadata": {},
   "source": [
    "As with the `'odometer'`, the `'prices'` appear to be rounded. However, considering the presence of 2357 different values in this column, this doesnt seem to be the right conclusion. Hence it might be possible, that sellers in general tend to round the values for the offer.\n",
    "\n",
    "There are 1421 listings marked with a price of $0, which represents 2% of all cars. One consideration might be to remove these specific lines. Furthermore, the stated maximum price reaches an extraordinary sum of one hundred million dollars, prompting a closer look at the highest-priced entries."
   ]
  },
  {
   "cell_type": "code",
   "execution_count": 17,
   "id": "7b9d737f",
   "metadata": {},
   "outputs": [
    {
     "data": {
      "text/plain": [
       "price\n",
       "99999999    1\n",
       "27322222    1\n",
       "12345678    3\n",
       "11111111    2\n",
       "10000000    1\n",
       "3890000     1\n",
       "1300000     1\n",
       "1234566     1\n",
       "999999      2\n",
       "999990      1\n",
       "350000      1\n",
       "345000      1\n",
       "299000      1\n",
       "295000      1\n",
       "265000      1\n",
       "Name: count, dtype: int64"
      ]
     },
     "execution_count": 17,
     "metadata": {},
     "output_type": "execute_result"
    }
   ],
   "source": [
    "autos[\"price\"].value_counts().sort_index(ascending=False).head(15)"
   ]
  },
  {
   "cell_type": "markdown",
   "id": "3b09c014",
   "metadata": {},
   "source": [
    "In the preceding cells, adjustments were made to the dataset, primarily focusing on the `'odometer_km'` and `'price'` columns. While the `'odometer_km'` column doesn't have any outliers, the `'price'` column does. Consequently, in the subsequent step below, values exceeding 150,000 will be omitted.This value appears to be a reasonable threshold for the maximum price. Notably, values such as $0 were not excluded, considering the possibility that sellers might offer the car for free, considering the vehicle's condition."
   ]
  },
  {
   "cell_type": "code",
   "execution_count": 18,
   "id": "b3daf2ea-5140-4df9-87df-27bdf871e928",
   "metadata": {},
   "outputs": [
    {
     "data": {
      "text/plain": [
       "count     48545.000000\n",
       "mean       5800.920321\n",
       "std        7858.229641\n",
       "min           1.000000\n",
       "25%        1200.000000\n",
       "50%        3000.000000\n",
       "75%        7450.000000\n",
       "max      145000.000000\n",
       "Name: price, dtype: float64"
      ]
     },
     "execution_count": 18,
     "metadata": {},
     "output_type": "execute_result"
    }
   ],
   "source": [
    "autos = autos[autos[\"price\"].between(1,151000)]\n",
    "autos[\"price\"].describe()"
   ]
  },
  {
   "cell_type": "markdown",
   "id": "a8b67d88-2f99-4ad8-93d1-b65bf13ba419",
   "metadata": {},
   "source": [
    "#### The Date Columns\n",
    "\n",
    "Several columns within the dataset encompass date-related information:\n",
    "\n",
    "- `'date_crawled'`\n",
    "- `'registration_month'`\n",
    "- `'registration_year'`\n",
    "- `'ad_created'`\n",
    "- `'last_seen'`\n",
    "\n",
    "These columns are made up of data that was crawled and data that contains meta information from the crawler. The non-registration data is stored as character strings.\n",
    "\n",
    "Lets dive deeper into these columns and learn something about the data "
   ]
  },
  {
   "cell_type": "code",
   "execution_count": 19,
   "id": "76896634-2154-4fd6-9fab-2fda16f34aaf",
   "metadata": {
    "scrolled": true
   },
   "outputs": [
    {
     "data": {
      "text/html": [
       "<div>\n",
       "<style scoped>\n",
       "    .dataframe tbody tr th:only-of-type {\n",
       "        vertical-align: middle;\n",
       "    }\n",
       "\n",
       "    .dataframe tbody tr th {\n",
       "        vertical-align: top;\n",
       "    }\n",
       "\n",
       "    .dataframe thead th {\n",
       "        text-align: right;\n",
       "    }\n",
       "</style>\n",
       "<table border=\"1\" class=\"dataframe\">\n",
       "  <thead>\n",
       "    <tr style=\"text-align: right;\">\n",
       "      <th></th>\n",
       "      <th>date_crawled</th>\n",
       "      <th>ad_created</th>\n",
       "      <th>last_seen</th>\n",
       "    </tr>\n",
       "  </thead>\n",
       "  <tbody>\n",
       "    <tr>\n",
       "      <th>0</th>\n",
       "      <td>2016-03-26 17:47:46</td>\n",
       "      <td>2016-03-26 00:00:00</td>\n",
       "      <td>2016-04-06 06:45:54</td>\n",
       "    </tr>\n",
       "    <tr>\n",
       "      <th>1</th>\n",
       "      <td>2016-04-04 13:38:56</td>\n",
       "      <td>2016-04-04 00:00:00</td>\n",
       "      <td>2016-04-06 14:45:08</td>\n",
       "    </tr>\n",
       "    <tr>\n",
       "      <th>2</th>\n",
       "      <td>2016-03-26 18:57:24</td>\n",
       "      <td>2016-03-26 00:00:00</td>\n",
       "      <td>2016-04-06 20:15:37</td>\n",
       "    </tr>\n",
       "    <tr>\n",
       "      <th>3</th>\n",
       "      <td>2016-03-12 16:58:10</td>\n",
       "      <td>2016-03-12 00:00:00</td>\n",
       "      <td>2016-03-15 03:16:28</td>\n",
       "    </tr>\n",
       "    <tr>\n",
       "      <th>4</th>\n",
       "      <td>2016-04-01 14:38:50</td>\n",
       "      <td>2016-04-01 00:00:00</td>\n",
       "      <td>2016-04-01 14:38:50</td>\n",
       "    </tr>\n",
       "  </tbody>\n",
       "</table>\n",
       "</div>"
      ],
      "text/plain": [
       "          date_crawled           ad_created            last_seen\n",
       "0  2016-03-26 17:47:46  2016-03-26 00:00:00  2016-04-06 06:45:54\n",
       "1  2016-04-04 13:38:56  2016-04-04 00:00:00  2016-04-06 14:45:08\n",
       "2  2016-03-26 18:57:24  2016-03-26 00:00:00  2016-04-06 20:15:37\n",
       "3  2016-03-12 16:58:10  2016-03-12 00:00:00  2016-03-15 03:16:28\n",
       "4  2016-04-01 14:38:50  2016-04-01 00:00:00  2016-04-01 14:38:50"
      ]
     },
     "execution_count": 19,
     "metadata": {},
     "output_type": "execute_result"
    }
   ],
   "source": [
    "autos[['date_crawled', 'ad_created', 'last_seen']][:5] #look at the frist five rows from the specific columns"
   ]
  },
  {
   "cell_type": "markdown",
   "id": "e46ebd3e-3901-4a7c-9c6b-e9105be84964",
   "metadata": {},
   "source": [
    "We'll now look into the `'date_crawled'` column, we'll extract the date with `.str[:10]` and count the values. The output for every counted date will be in percentage due to `normalize=True`. We do not exclude the missing values, we then rank the values by date with `sort_index()` and by values with `sort_values()`."
   ]
  },
  {
   "cell_type": "markdown",
   "id": "b3c3f46c-857c-4f4c-b04f-2cd04ab0b479",
   "metadata": {},
   "source": [
    "##### Date Crawled"
   ]
  },
  {
   "cell_type": "code",
   "execution_count": 20,
   "id": "ab144227",
   "metadata": {
    "scrolled": true
   },
   "outputs": [
    {
     "data": {
      "text/plain": [
       "date_crawled\n",
       "2016-03-05    0.025296\n",
       "2016-03-06    0.014049\n",
       "2016-03-07    0.036028\n",
       "2016-03-08    0.033289\n",
       "2016-03-09    0.033103\n",
       "2016-03-10    0.032197\n",
       "2016-03-11    0.032588\n",
       "2016-03-12    0.036935\n",
       "2016-03-13    0.015676\n",
       "2016-03-14    0.036564\n",
       "2016-03-15    0.034298\n",
       "2016-03-16    0.029601\n",
       "2016-03-17    0.031620\n",
       "2016-03-18    0.012895\n",
       "2016-03-19    0.034792\n",
       "2016-03-20    0.037882\n",
       "2016-03-21    0.037367\n",
       "2016-03-22    0.032959\n",
       "2016-03-23    0.032218\n",
       "2016-03-24    0.029334\n",
       "2016-03-25    0.031620\n",
       "2016-03-26    0.032218\n",
       "2016-03-27    0.031064\n",
       "2016-03-28    0.034834\n",
       "2016-03-29    0.034113\n",
       "2016-03-30    0.033659\n",
       "2016-03-31    0.031847\n",
       "2016-04-01    0.033701\n",
       "2016-04-02    0.035493\n",
       "2016-04-03    0.038603\n",
       "2016-04-04    0.036502\n",
       "2016-04-05    0.013081\n",
       "2016-04-06    0.003172\n",
       "2016-04-07    0.001401\n",
       "Name: proportion, dtype: float64"
      ]
     },
     "execution_count": 20,
     "metadata": {},
     "output_type": "execute_result"
    }
   ],
   "source": [
    "#show the date plus value_counts per date, sorted by index value\n",
    "autos['date_crawled'].str[:10].value_counts(normalize=True, dropna=False).sort_index(ascending=True) "
   ]
  },
  {
   "cell_type": "code",
   "execution_count": 21,
   "id": "c66d593e-2a3e-4e80-a65e-9f0c73d1d673",
   "metadata": {
    "scrolled": true
   },
   "outputs": [
    {
     "data": {
      "text/plain": [
       "date_crawled\n",
       "2016-04-07    0.001401\n",
       "2016-04-06    0.003172\n",
       "2016-03-18    0.012895\n",
       "2016-04-05    0.013081\n",
       "2016-03-06    0.014049\n",
       "2016-03-13    0.015676\n",
       "2016-03-05    0.025296\n",
       "2016-03-24    0.029334\n",
       "2016-03-16    0.029601\n",
       "2016-03-27    0.031064\n",
       "2016-03-25    0.031620\n",
       "2016-03-17    0.031620\n",
       "2016-03-31    0.031847\n",
       "2016-03-10    0.032197\n",
       "2016-03-23    0.032218\n",
       "2016-03-26    0.032218\n",
       "2016-03-11    0.032588\n",
       "2016-03-22    0.032959\n",
       "2016-03-09    0.033103\n",
       "2016-03-08    0.033289\n",
       "2016-03-30    0.033659\n",
       "2016-04-01    0.033701\n",
       "2016-03-29    0.034113\n",
       "2016-03-15    0.034298\n",
       "2016-03-19    0.034792\n",
       "2016-03-28    0.034834\n",
       "2016-04-02    0.035493\n",
       "2016-03-07    0.036028\n",
       "2016-04-04    0.036502\n",
       "2016-03-14    0.036564\n",
       "2016-03-12    0.036935\n",
       "2016-03-21    0.037367\n",
       "2016-03-20    0.037882\n",
       "2016-04-03    0.038603\n",
       "Name: proportion, dtype: float64"
      ]
     },
     "execution_count": 21,
     "metadata": {},
     "output_type": "execute_result"
    }
   ],
   "source": [
    "#show the date plus value_counts per date, sorted by values ascending\n",
    "autos['date_crawled'].str[:10].value_counts(normalize=True, dropna=False).sort_values()"
   ]
  },
  {
   "cell_type": "markdown",
   "id": "caf9deaf-49a8-450c-accb-386506e0235e",
   "metadata": {},
   "source": [
    "The website seems to be got crawled daily for an approximate duration of one month spanning March and April 2016. As you can see below, the distribution of crawled listings across each day exhibits an approximately uniform pattern."
   ]
  },
  {
   "cell_type": "code",
   "execution_count": 22,
   "id": "0894c5e8-f98a-495a-81fa-514f30b88c66",
   "metadata": {
    "scrolled": true
   },
   "outputs": [
    {
     "data": {
      "image/png": "[encoded data removed]",
      "text/plain": [
       "<Figure size 900x400 with 1 Axes>"
      ]
     },
     "metadata": {},
     "output_type": "display_data"
    }
   ],
   "source": [
    "plt.figure(figsize=(9, 4))\n",
    "autos['date_crawled'].str[:10].value_counts(normalize=True, dropna=False).sort_index().plot(kind='line', rot=45, \n",
    "                                                                                            linewidth=0.8, color='lightcoral', alpha=0.8)\n",
    "plt.xlabel('Dates', size=8)\n",
    "plt.ylabel('Percentage Share per Date', size=8)\n",
    "plt.title('Date Crawled', size=8)\n",
    "plt.show()"
   ]
  },
  {
   "cell_type": "markdown",
   "id": "69b362b8-3317-45d3-8223-3d1236679189",
   "metadata": {},
   "source": [
    "##### Ad Created"
   ]
  },
  {
   "cell_type": "code",
   "execution_count": 23,
   "id": "d6f5d879",
   "metadata": {
    "scrolled": true
   },
   "outputs": [
    {
     "data": {
      "image/png": "[encoded data removed]",
      "text/plain": [
       "<Figure size 900x400 with 1 Axes>"
      ]
     },
     "metadata": {},
     "output_type": "display_data"
    }
   ],
   "source": [
    "plt.figure(figsize=(9, 4))\n",
    "autos['ad_created'].str[:10].value_counts(normalize=True, dropna=False).sort_index(ascending=True).plot(kind='line', rot=45, \n",
    "                                                                                                        linewidth=0.8, color='teal', alpha=0.8)\n",
    "plt.xlabel('Dates', size=8)\n",
    "plt.ylabel('Percentage Share per Date', size=8)\n",
    "plt.title('Ad Created', size=8)\n",
    "plt.show()"
   ]
  },
  {
   "cell_type": "markdown",
   "id": "3fc42241-dc86-423f-a13f-ad5753711f0d",
   "metadata": {},
   "source": [
    "The range of ad created dates is quite various. While few of the created ads are quite old (with the oldest at around 9 months.), most of the ads fall within 1-2 months of the listing date. The maximum value is 0.0389. Hence 3.89% of the ads were created on 3th April of 2016."
   ]
  },
  {
   "cell_type": "code",
   "execution_count": 24,
   "id": "0ce3f5b1",
   "metadata": {
    "scrolled": true
   },
   "outputs": [
    {
     "data": {
      "image/png": "[encoded data removed]",
      "text/plain": [
       "<Figure size 900x400 with 1 Axes>"
      ]
     },
     "metadata": {},
     "output_type": "display_data"
    }
   ],
   "source": [
    "plt.figure(figsize=(9, 4))\n",
    "autos['last_seen'].str[:10].value_counts(normalize=True, dropna=False).sort_index(ascending=True).plot(kind='line', rot=45, \n",
    "                                                                                                        linewidth=0.8, color='indigo', alpha=0.8)\n",
    "plt.xlabel('Dates', size=8)\n",
    "plt.xlabel('Dates', size=8)\n",
    "plt.ylabel('Percentage Share per Date', size=8)\n",
    "plt.title('Last Seen', size=8)\n",
    "plt.show()"
   ]
  },
  {
   "cell_type": "markdown",
   "id": "69663300-9ee7-4615-8d60-f616544fb976",
   "metadata": {},
   "source": [
    "Since the crawler recorded the date it last saw any listing, it allows us to determine on what day a listing was removed, presumably signifying the sale of the respective car.\n",
    "\n",
    "In the concluding three days the count of `last_seen` values increased disproportionately. Given that this figure is 6 to 10 times greater than the counts observed on preceding days, it is improbable that such a surge corresponds to a increase in car sales. It is more plausible that these elevated values are associated with the end of the crawling process. Hence these values are not indicative of actual car sales.\n",
    "\n",
    "Next we will look deeper into the colum 'registration_year'."
   ]
  },
  {
   "cell_type": "markdown",
   "id": "fd92b0ee-f47a-42a4-8fd8-d6772f563eb5",
   "metadata": {},
   "source": [
    "#### Addressing Inaccuracies in Registration Year Data\n",
    "\r\n",
    "\r\n",
    "\r\n"
   ]
  },
  {
   "cell_type": "code",
   "execution_count": 25,
   "id": "16f4a8f7",
   "metadata": {},
   "outputs": [
    {
     "data": {
      "text/plain": [
       "count    48545.000000\n",
       "mean      2004.753445\n",
       "std         88.661893\n",
       "min       1000.000000\n",
       "25%       1999.000000\n",
       "50%       2004.000000\n",
       "75%       2008.000000\n",
       "max       9999.000000\n",
       "Name: registration_year, dtype: float64"
      ]
     },
     "execution_count": 25,
     "metadata": {},
     "output_type": "execute_result"
    }
   ],
   "source": [
    "autos['registration_year'].describe()"
   ]
  },
  {
   "cell_type": "markdown",
   "id": "20bcf0d5-efa8-4028-8482-7200c0092635",
   "metadata": {},
   "source": [
    "The `registration_year` values have strange characteristics. The mean is given as 2005, with a remarkably high standard deviation of 105, suggesting the existence of data associated with 1900.\n",
    "\n",
    "The range of `registration_year` spans from the minimum value of year 1000 (long before cars were invented) to the maximum value of year 9999 (long in the future). Taking into account the logical limitation that a car can't be first registered before the listing was seen, any car with a registration year after 2016 is inaccurate. Consequently, values above 2016 are excluded. \n",
    "\n",
    "Determining the earliest valid year is challenging. Practically, the range extends to the initial decades of the 1900s. One option is to remove the listings with these values. Let's answer the question: What percentage of our data in this column is invalid?"
   ]
  },
  {
   "cell_type": "code",
   "execution_count": 26,
   "id": "0f7553d0",
   "metadata": {},
   "outputs": [
    {
     "data": {
      "text/plain": [
       "registration_year\n",
       "True     0.961191\n",
       "False    0.038809\n",
       "Name: proportion, dtype: float64"
      ]
     },
     "execution_count": 26,
     "metadata": {},
     "output_type": "execute_result"
    }
   ],
   "source": [
    "# Show percentage of values with registration_year between 1900 and 2016\n",
    "autos['registration_year'].between(1900, 2016).value_counts(normalize=True)"
   ]
  },
  {
   "cell_type": "markdown",
   "id": "ea5c965f",
   "metadata": {},
   "source": [
    "Roughly 96% of the cars are registered between 1900 - 2016. If we go further with the analysis, we would exclude about 4% of oberservations. Lets examine, how many values are above 2016."
   ]
  },
  {
   "cell_type": "code",
   "execution_count": 27,
   "id": "2a624cd8",
   "metadata": {},
   "outputs": [
    {
     "data": {
      "text/plain": [
       "registration_year\n",
       "False    0.961603\n",
       "True     0.038397\n",
       "Name: proportion, dtype: float64"
      ]
     },
     "execution_count": 27,
     "metadata": {},
     "output_type": "execute_result"
    }
   ],
   "source": [
    "# Show percentage of values with registration_year between 2017 and 2023\n",
    "autos['registration_year'].between(2017,2023).value_counts(normalize=True)"
   ]
  },
  {
   "cell_type": "code",
   "execution_count": 28,
   "id": "732f48f6-9255-4250-bc2e-f3e1694acc25",
   "metadata": {
    "scrolled": true
   },
   "outputs": [],
   "source": [
    "# Exclude all values not between 1900 - 2016\n",
    "autos = autos[autos[\"registration_year\"].between(1900,2016)]"
   ]
  },
  {
   "cell_type": "code",
   "execution_count": 29,
   "id": "dde6bdc3-bd73-49d8-b97b-c4795ca2eee9",
   "metadata": {},
   "outputs": [
    {
     "data": {
      "text/plain": [
       "registration_year\n",
       "2000    0.067615\n",
       "2005    0.062922\n",
       "1999    0.062086\n",
       "2004    0.057928\n",
       "2003    0.057843\n",
       "2006    0.057221\n",
       "2001    0.056471\n",
       "2002    0.053278\n",
       "1998    0.050620\n",
       "2007    0.048777\n",
       "Name: proportion, dtype: float64"
      ]
     },
     "execution_count": 29,
     "metadata": {},
     "output_type": "execute_result"
    }
   ],
   "source": [
    "# Examine the percentage distribution of registration year, show just first 10 values.\n",
    "autos['registration_year'].value_counts(normalize=True).head(10)"
   ]
  },
  {
   "cell_type": "markdown",
   "id": "6470e62f",
   "metadata": {},
   "source": [
    "As showen above, nearly all values are related to dates, which are above 2016. Dates beyond 2016 are inaccurate. Hence we can exclude these values a keep the range 1900 - 2016. Next we'll explore the price by brand."
   ]
  },
  {
   "cell_type": "markdown",
   "id": "f0f60d97-8cc2-499e-ae81-fb74e6eab0ae",
   "metadata": {},
   "source": [
    "#### Price by Brand"
   ]
  },
  {
   "cell_type": "code",
   "execution_count": 30,
   "id": "eeda0eda",
   "metadata": {},
   "outputs": [
    {
     "data": {
      "text/plain": [
       "array(['peugeot', 'bmw', 'volkswagen', 'smart', 'ford', 'chrysler',\n",
       "       'seat', 'renault', 'mercedes_benz', 'audi', 'sonstige_autos',\n",
       "       'opel', 'mazda', 'porsche', 'mini', 'toyota', 'dacia', 'nissan',\n",
       "       'jeep', 'saab', 'volvo', 'mitsubishi', 'jaguar', 'fiat', 'skoda',\n",
       "       'subaru', 'kia', 'citroen', 'chevrolet', 'hyundai', 'honda',\n",
       "       'daewoo', 'suzuki', 'trabant', 'land_rover', 'alfa_romeo', 'lada',\n",
       "       'rover', 'daihatsu', 'lancia'], dtype=object)"
      ]
     },
     "execution_count": 30,
     "metadata": {},
     "output_type": "execute_result"
    }
   ],
   "source": [
    "# Show the brands listed\n",
    "autos['brand'].unique()"
   ]
  },
  {
   "cell_type": "code",
   "execution_count": 31,
   "id": "bddda149",
   "metadata": {
    "scrolled": true
   },
   "outputs": [
    {
     "data": {
      "text/plain": [
       "brand\n",
       "volkswagen        0.211354\n",
       "bmw               0.110028\n",
       "opel              0.107627\n",
       "mercedes_benz     0.096462\n",
       "audi              0.086582\n",
       "ford              0.069930\n",
       "renault           0.047170\n",
       "peugeot           0.029854\n",
       "fiat              0.025653\n",
       "seat              0.018281\n",
       "skoda             0.016416\n",
       "nissan            0.015280\n",
       "mazda             0.015195\n",
       "smart             0.014166\n",
       "citroen           0.014016\n",
       "toyota            0.012709\n",
       "hyundai           0.010030\n",
       "sonstige_autos    0.009773\n",
       "volvo             0.009151\n",
       "mini              0.008765\n",
       "mitsubishi        0.008230\n",
       "honda             0.007844\n",
       "kia               0.007072\n",
       "alfa_romeo        0.006644\n",
       "suzuki            0.005936\n",
       "porsche           0.005872\n",
       "chevrolet         0.005701\n",
       "chrysler          0.003515\n",
       "dacia             0.002636\n",
       "daihatsu          0.002507\n",
       "jeep              0.002272\n",
       "subaru            0.002143\n",
       "land_rover        0.002100\n",
       "saab              0.001650\n",
       "jaguar            0.001564\n",
       "daewoo            0.001500\n",
       "trabant           0.001393\n",
       "rover             0.001329\n",
       "lancia            0.001072\n",
       "lada              0.000579\n",
       "Name: proportion, dtype: float64"
      ]
     },
     "execution_count": 31,
     "metadata": {},
     "output_type": "execute_result"
    }
   ],
   "source": [
    "# Show the distribution by brand\n",
    "autos['brand'].value_counts(normalize=True,).sort_values(ascending=False)"
   ]
  },
  {
   "cell_type": "markdown",
   "id": "df3a6a28-d780-47a8-a760-462b537d6ff6",
   "metadata": {},
   "source": [
    "The german manufactures dominate the upper section of the rankings, collectively constituting nearly 50% of the comprehensive listings (Volkswagen ~21.4%, Mercedes-Benz ~9.4%, Audi ~ 8.5% and BMW ~10.8%). Just Porsche ist quite weak with ~0.5%, but that's probably because porsche is a very expensive premium brand and there aren't that many offers for these car.\n",
    "\n",
    "Volkswagen stands out prominently as the preeminent brand. With about double the cars for sale of the next two brands combined. In contrast, numerous brands hold a less substantial share of the overall listings. Consequently, our analytical focus will be restricted to brands that account for more than 5% of the total listings."
   ]
  },
  {
   "cell_type": "code",
   "execution_count": 32,
   "id": "0afe3478-bb7d-4b66-a50c-06c198a03905",
   "metadata": {},
   "outputs": [
    {
     "name": "stdout",
     "output_type": "stream",
     "text": [
      "Index(['volkswagen', 'bmw', 'opel', 'mercedes_benz', 'audi', 'ford'], dtype='object', name='brand')\n"
     ]
    }
   ],
   "source": [
    "# Filter the brands by value_counts\n",
    "brand_counts = autos[\"brand\"].value_counts(normalize=True)\n",
    "valuable_brands = brand_counts[brand_counts > .05].index\n",
    "\n",
    "print(valuable_brands)"
   ]
  },
  {
   "cell_type": "code",
   "execution_count": 33,
   "id": "6f1369cf",
   "metadata": {
    "scrolled": true
   },
   "outputs": [],
   "source": [
    "mean_prices = {}\n",
    "\n",
    "for brands in valuable_brands:\n",
    "    brand = autos[autos[\"brand\"] == brands]\n",
    "    price_mean = brand[\"price\"].mean()\n",
    "    mean_prices[brands] = int(price_mean)"
   ]
  },
  {
   "cell_type": "code",
   "execution_count": 34,
   "id": "54194a4b-3a4d-4061-8f17-9db9b92c1df8",
   "metadata": {},
   "outputs": [],
   "source": [
    "mean_prices_sort = pd.Series(mean_prices).sort_values(ascending=False)\n",
    "mean_prices_df = pd.DataFrame(mean_prices_sort, columns=['mean_price'])"
   ]
  },
  {
   "cell_type": "markdown",
   "id": "02da2099",
   "metadata": {},
   "source": [
    "Above, we computed the mean price for each brand, revealing a notable price disparity among the top brands. Upon scrutinizing the data, Mercedes-Benz, Audi, and BMW emerge as brands exhibiting the highest mean prices, while Opel and Ford showcase the lowest mean prices. Volkswagen, in contrast, maintains an intermediate mean price, a characteristic that may contribute to its popularity.ion."
   ]
  },
  {
   "cell_type": "code",
   "execution_count": 35,
   "id": "390dfdcd-5873-4b2e-aece-475c253f40ce",
   "metadata": {},
   "outputs": [
    {
     "data": {
      "text/html": [
       "<div>\n",
       "<style scoped>\n",
       "    .dataframe tbody tr th:only-of-type {\n",
       "        vertical-align: middle;\n",
       "    }\n",
       "\n",
       "    .dataframe tbody tr th {\n",
       "        vertical-align: top;\n",
       "    }\n",
       "\n",
       "    .dataframe thead th {\n",
       "        text-align: right;\n",
       "    }\n",
       "</style>\n",
       "<table border=\"1\" class=\"dataframe\">\n",
       "  <thead>\n",
       "    <tr style=\"text-align: right;\">\n",
       "      <th></th>\n",
       "      <th>mean_kilometer</th>\n",
       "      <th>mean_price</th>\n",
       "    </tr>\n",
       "  </thead>\n",
       "  <tbody>\n",
       "    <tr>\n",
       "      <th>bmw</th>\n",
       "      <td>132633</td>\n",
       "      <td>8201</td>\n",
       "    </tr>\n",
       "    <tr>\n",
       "      <th>mercedes_benz</th>\n",
       "      <td>130826</td>\n",
       "      <td>8554</td>\n",
       "    </tr>\n",
       "    <tr>\n",
       "      <th>opel</th>\n",
       "      <td>129310</td>\n",
       "      <td>2975</td>\n",
       "    </tr>\n",
       "    <tr>\n",
       "      <th>audi</th>\n",
       "      <td>129188</td>\n",
       "      <td>9295</td>\n",
       "    </tr>\n",
       "    <tr>\n",
       "      <th>volkswagen</th>\n",
       "      <td>128707</td>\n",
       "      <td>5402</td>\n",
       "    </tr>\n",
       "    <tr>\n",
       "      <th>ford</th>\n",
       "      <td>124266</td>\n",
       "      <td>3749</td>\n",
       "    </tr>\n",
       "  </tbody>\n",
       "</table>\n",
       "</div>"
      ],
      "text/plain": [
       "               mean_kilometer  mean_price\n",
       "bmw                    132633        8201\n",
       "mercedes_benz          130826        8554\n",
       "opel                   129310        2975\n",
       "audi                   129188        9295\n",
       "volkswagen             128707        5402\n",
       "ford                   124266        3749"
      ]
     },
     "execution_count": 35,
     "metadata": {},
     "output_type": "execute_result"
    }
   ],
   "source": [
    "mean_kilometer = {}\n",
    "\n",
    "for brands in valuable_brands:\n",
    "    brand = autos[autos[\"brand\"] == brands]\n",
    "    kilometer_mean = brand[\"odometer_km\"].mean()\n",
    "    mean_kilometer[brands] = int(kilometer_mean)\n",
    "    \n",
    "mean_kilometer_sort = pd.Series(mean_kilometer).sort_values(ascending=False)\n",
    "mean_price_kilometer = pd.DataFrame(mean_kilometer_sort, columns=['mean_kilometer'])\n",
    "mean_price_kilometer['mean_price'] = mean_prices_df\n",
    "mean_price_kilometer"
   ]
  },
  {
   "cell_type": "markdown",
   "id": "a6a6ca68",
   "metadata": {},
   "source": [
    "In the above section we have expanded the analysis and also listed the average kilometers driven per brand. As you can see in the graph above, most of the brands have a average kilometer count from about 125000km - 130000km. The variation in kilometers among the top brands exhibits less disparity compared to the variation observed in prices. Specifically, all kilometers fall within a 10% range for the leading brands. \n",
    "\n",
    "Additionally, we can observe a trend. Wherein more expensive vehicles tend to feature higher kilometer, the less expensive counterparts tend to exhibit lower kilometers."
   ]
  },
  {
   "cell_type": "markdown",
   "id": "b99763d6-2a22-403d-a1db-75656c700366",
   "metadata": {},
   "source": [
    "#### The Most Common Brand-Model Combinations\n",
    "\n",
    "Next we are going to look into the most common brand-model combinations. Below we used the `.groupby()` operation, to complete these task."
   ]
  },
  {
   "cell_type": "code",
   "execution_count": 36,
   "id": "77738ee1",
   "metadata": {},
   "outputs": [
    {
     "name": "stdout",
     "output_type": "stream",
     "text": [
      "brand          model   \n",
      "volkswagen     golf        3707\n",
      "bmw            3er         2615\n",
      "volkswagen     polo        1609\n",
      "opel           corsa       1592\n",
      "volkswagen     passat      1349\n",
      "opel           astra       1348\n",
      "audi           a4          1231\n",
      "mercedes_benz  c_klasse    1136\n",
      "bmw            5er         1132\n",
      "mercedes_benz  e_klasse     958\n",
      "dtype: int64\n"
     ]
    }
   ],
   "source": [
    "grouped = autos.groupby(['brand', 'model'])\n",
    "\n",
    "# Show the 10 most common brand-model combinations\n",
    "print(grouped.size().sort_values(ascending=False).head(10))"
   ]
  },
  {
   "cell_type": "markdown",
   "id": "0761d6de-3096-450e-890e-259ef029d536",
   "metadata": {},
   "source": [
    "Based on this dataset, the most renowned brand-model pairing is represented by the Volkswagen Golf. Broadly speaking, Volkswagen boasts three distinct models within the top 10 listings. In comparison, BMW, Mercedes-Benz, and Opel each feature two models among the top 10, whereas Audi is represented by a singular model, namely the Audi A4."
   ]
  },
  {
   "cell_type": "markdown",
   "id": "127a101b-75e6-456c-a5ef-4a506089b2e1",
   "metadata": {},
   "source": [
    "#### Cars with and without damage"
   ]
  },
  {
   "cell_type": "code",
   "execution_count": 37,
   "id": "b602822d",
   "metadata": {
    "scrolled": true
   },
   "outputs": [
    {
     "data": {
      "text/plain": [
       "unrepaired_damage\n",
       "nein    33815\n",
       "ja       4540\n",
       "Name: count, dtype: int64"
      ]
     },
     "execution_count": 37,
     "metadata": {},
     "output_type": "execute_result"
    }
   ],
   "source": [
    "# 33815 cars without damage, 4540 cars with damage\n",
    "autos['unrepaired_damage'].value_counts()"
   ]
  },
  {
   "cell_type": "markdown",
   "id": "b1a98a98-f140-44df-946f-f8118a378b2e",
   "metadata": {},
   "source": [
    "We shall partition the `autos` dataset into two discrete subsets: one comprising vehicles with reported damage and another encompassing vehicles lacking any information regarding damage."
   ]
  },
  {
   "cell_type": "code",
   "execution_count": 38,
   "id": "e7b82650-a13a-42b9-905d-e7a8b6c5c709",
   "metadata": {
    "scrolled": true
   },
   "outputs": [],
   "source": [
    "damage = autos[autos['unrepaired_damage'] == 'ja']\n",
    "no_damage = autos[autos['unrepaired_damage'] == 'nein']"
   ]
  },
  {
   "cell_type": "markdown",
   "id": "5e42f078-7a29-4c4a-83fa-f08f8ff9081b",
   "metadata": {},
   "source": [
    "Ultimately, we will compute the mean price for the two distinct categories and consolidate the results into a unified dataframe. As anticipated, vehicles with indications of damage manifest a markedly lower mean price when contrasted with those without such indications. Cars lacking damage exhibit an average price that is more than three times higher than their damaged counterparts.\n"
   ]
  },
  {
   "cell_type": "code",
   "execution_count": 39,
   "id": "33daac2f-59de-4a21-a07d-f583143fd5c0",
   "metadata": {},
   "outputs": [
    {
     "data": {
      "text/html": [
       "<div>\n",
       "<style scoped>\n",
       "    .dataframe tbody tr th:only-of-type {\n",
       "        vertical-align: middle;\n",
       "    }\n",
       "\n",
       "    .dataframe tbody tr th {\n",
       "        vertical-align: top;\n",
       "    }\n",
       "\n",
       "    .dataframe thead th {\n",
       "        text-align: right;\n",
       "    }\n",
       "</style>\n",
       "<table border=\"1\" class=\"dataframe\">\n",
       "  <thead>\n",
       "    <tr style=\"text-align: right;\">\n",
       "      <th></th>\n",
       "      <th>mean_price</th>\n",
       "    </tr>\n",
       "  </thead>\n",
       "  <tbody>\n",
       "    <tr>\n",
       "      <th>damage</th>\n",
       "      <td>2241</td>\n",
       "    </tr>\n",
       "    <tr>\n",
       "      <th>no_damage</th>\n",
       "      <td>7046</td>\n",
       "    </tr>\n",
       "  </tbody>\n",
       "</table>\n",
       "</div>"
      ],
      "text/plain": [
       "           mean_price\n",
       "damage           2241\n",
       "no_damage        7046"
      ]
     },
     "execution_count": 39,
     "metadata": {},
     "output_type": "execute_result"
    }
   ],
   "source": [
    "dmg_series = pd.Series([round(damage['price'].mean(),), round(no_damage['price'].mean(),)], index=['damage', 'no_damage'])\n",
    "damage_df = pd.DataFrame(dmg_series, columns=['mean_price'])\n",
    "damage_df"
   ]
  },
  {
   "cell_type": "markdown",
   "id": "c957976e-4398-498f-a6bf-4da42a6ccc84",
   "metadata": {},
   "source": [
    "#### Conclusion"
   ]
  },
  {
   "cell_type": "markdown",
   "id": "a204f94b-aa34-4fe5-924a-483c3525fd64",
   "metadata": {},
   "source": [
    "The primary aim of this project encompassed data cleaning and analysis of the provided used car listings. Following the completion of the data cleansing process, we processed the data and subsequently undertook a comprehensive dataset analysis. Based on the processed dataset, we identified the prominent brands, with four out of the six prominent brands originating from German manufacturers, and `Volkswagen` emerging as the most prevalent brand in the dataset. In terms of mean price, `Audi` exhibited the highest mean price value, while `Opel` demonstrated the lowest mean price value.\n",
    "\n",
    "Upon delving into brand-model combinations, it is discerned that the most prevalent model is the `VW Golf`, followed by the `BMW 3 Series`. Other models such as the `VW Polo`, `Opel Corsa`, and `VW Passat`, while less frequent, still maintain a presence within the top 10.\n",
    "\n",
    "Conclusively, an examination was conducted to compare the prices of listed cars with and without damage. Unsurprisingly, the findings indicated that cars without damage possessed higher market value. Due to our analysis within the scope of this dataset revealed that, on average, cars without damage are priced at over three times the value of their damaged counterparts."
   ]
  }
 ],
 "metadata": {
  "kernelspec": {
   "display_name": "Python 3 (ipykernel)",
   "language": "python",
   "name": "python3"
  },
  "language_info": {
   "codemirror_mode": {
    "name": "ipython",
    "version": 3
   },
   "file_extension": ".py",
   "mimetype": "text/x-python",
   "name": "python",
   "nbconvert_exporter": "python",
   "pygments_lexer": "ipython3",
   "version": "3.8.18"
  }
 },
 "nbformat": 4,
 "nbformat_minor": 5
}
