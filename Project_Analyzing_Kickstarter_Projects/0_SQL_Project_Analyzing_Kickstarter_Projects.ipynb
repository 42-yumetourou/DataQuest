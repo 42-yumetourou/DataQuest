{
 "cells": [
  {
   "attachments": {
   },
   "cell_type": "markdown",
   "id": "5774480c-7629-4ecd-bea9-06388fb2c1bc",
   "metadata": {},
   "source": [
    "<img src=\"Project_Analyzing_Kickstarter_Projects/kickstarter.png\" style=\"display:block; margin:auto\" width=350>\n",
    "\n",
    "<div align=\"center\"> <h1 align=\"center\"> Project: Analyzing Kickstarter Projects </h1> </div>\n",
    "\n",
    "#### The Goal\n",
    "In the context of this project, we. take on the role of a data analyst at a startup. The product team is considering launching a campaign on Kickstarter to test the viability of some offerings. Our task is to pull data that will help the team understand what might influence the success of a campaign. In addition to addressing the specified questions below, a supplementary objective of this project is to demonstrate proficiency in basic `SQL`, underscored by data analysis skills employing `Python`.\n",
    "\n",
    "Concretely, we try to unravel the answer to the following question:\n",
    "\n",
    "- What types of projects are most likely to be successful?\n",
    "- Which projects fail?\n",
    "  \n",
    "#### The Data\n",
    "The data source is a selection of fields from  [Kaggle](https://www.kaggle.com/datasets/kemical/kickstarter-projects). Below are the definitions of the used columns in this data:\n",
    "\n",
    "- `ID`: Unique identifier for Kickstarter projects\n",
    "- `name`: Name of project\n",
    "- `category`: Category of project\n",
    "- `main_category`: Main category of project\n",
    "- `goal`: Fundraising goal\n",
    "- `pledged`: Amount pledged\n",
    "- `state`: Current status of the project (e.g., successful, canceled)\n",
    "- `backers`: Number of individuals supporting the project\n",
    "\n",
    "#### Use SQL in Jupyter Notebook\n",
    "Before delving into the analysis, let's first highlight the advantages behind incorporating `SQL` into `Jupyter Notebook`. `SQL` serves as a powerful language for interacting with `relational databases`, many data scientists work with SQL regularly. The integration of `SQL` in `Jupyter Notebook` offers several advantages:\n",
    "\n",
    "- `Query and Manipulate Data`: Conduct direct data querying and manipulation within the notebook environment.\n",
    "- `Facilitate Sharing`: Effortlessly share `SQL` queries and outcomes with others by exporting the notebook as a `PDF` or `HTML` file.\n",
    "- `Integration with Python Code`: Combine `SQL` queries seamlessly with `Python` code to create more complex analyses and visualizations.\n",
    "\n",
    "To integrate `SQL` in `Jupyter Notebook`, we installed the widely used `SQL` kernel, `IPython-SQL`, via the Anaconda terminal using the command `pip install ipython-sql`. Once the kernel is installed, initiation involves loading the `SQL` extension with the command `%load_ext sql`.\n",
    "\n",
    "Now let's start the project!\n",
    "\n",
    "*This project was completed as part of the Data Science Career Path offered by dataquest.io.*"
   ]
  },
  {
   "cell_type": "markdown",
   "id": "8b6e0168-fce9-41a4-ac98-830ca1b9475c",
   "metadata": {},
   "source": [
    "#### Retrieving Column Data Types\n",
    "\n",
    "The initial phase in engaging with a database involves acquiring a comprehensive understanding of the data within it. This database consists of one table, `ksprojects`."
   ]
  },
  {
   "cell_type": "code",
   "execution_count": 1,
   "id": "222b9209-6207-4695-a5c8-1b6fc09fa865",
   "metadata": {
    "scrolled": true
   },
   "outputs": [],
   "source": [
    "# Load the SQL extension\n",
    "%load_ext sql\n",
    "\n",
    "# Initiate the database\n",
    "%sql sqlite:///ksprojects.db\n",
    "\n",
    "# Load python packages\n",
    "import matplotlib.pyplot as plt"
   ]
  },
  {
   "cell_type": "code",
   "execution_count": 2,
   "id": "27a1503a-de5b-4163-832a-d8ac7c5008bb",
   "metadata": {},
   "outputs": [
    {
     "name": "stdout",
     "output_type": "stream",
     "text": [
      " * sqlite:///ksprojects.db\n",
      "Done.\n"
     ]
    },
    {
     "data": {
      "text/html": [
       "<table>\n",
       "    <thead>\n",
       "        <tr>\n",
       "            <th>cid</th>\n",
       "            <th>name</th>\n",
       "            <th>type</th>\n",
       "            <th>notnull</th>\n",
       "            <th>dflt_value</th>\n",
       "            <th>pk</th>\n",
       "        </tr>\n",
       "    </thead>\n",
       "    <tbody>\n",
       "        <tr>\n",
       "            <td>0</td>\n",
       "            <td>ID</td>\n",
       "            <td>INTEGER</td>\n",
       "            <td>0</td>\n",
       "            <td>None</td>\n",
       "            <td>0</td>\n",
       "        </tr>\n",
       "        <tr>\n",
       "            <td>1</td>\n",
       "            <td>name</td>\n",
       "            <td>TEXT</td>\n",
       "            <td>0</td>\n",
       "            <td>None</td>\n",
       "            <td>0</td>\n",
       "        </tr>\n",
       "        <tr>\n",
       "            <td>2</td>\n",
       "            <td>category</td>\n",
       "            <td>TEXT</td>\n",
       "            <td>0</td>\n",
       "            <td>None</td>\n",
       "            <td>0</td>\n",
       "        </tr>\n",
       "        <tr>\n",
       "            <td>3</td>\n",
       "            <td>main_category</td>\n",
       "            <td>TEXT</td>\n",
       "            <td>0</td>\n",
       "            <td>None</td>\n",
       "            <td>0</td>\n",
       "        </tr>\n",
       "        <tr>\n",
       "            <td>4</td>\n",
       "            <td>goal</td>\n",
       "            <td>REAL</td>\n",
       "            <td>0</td>\n",
       "            <td>None</td>\n",
       "            <td>0</td>\n",
       "        </tr>\n",
       "        <tr>\n",
       "            <td>5</td>\n",
       "            <td>pledged</td>\n",
       "            <td>REAL</td>\n",
       "            <td>0</td>\n",
       "            <td>None</td>\n",
       "            <td>0</td>\n",
       "        </tr>\n",
       "        <tr>\n",
       "            <td>6</td>\n",
       "            <td>state</td>\n",
       "            <td>TEXT</td>\n",
       "            <td>0</td>\n",
       "            <td>None</td>\n",
       "            <td>0</td>\n",
       "        </tr>\n",
       "        <tr>\n",
       "            <td>7</td>\n",
       "            <td>backers</td>\n",
       "            <td>INTEGER</td>\n",
       "            <td>0</td>\n",
       "            <td>None</td>\n",
       "            <td>0</td>\n",
       "        </tr>\n",
       "    </tbody>\n",
       "</table>"
      ],
      "text/plain": [
       "[(0, 'ID', 'INTEGER', 0, None, 0),\n",
       " (1, 'name', 'TEXT', 0, None, 0),\n",
       " (2, 'category', 'TEXT', 0, None, 0),\n",
       " (3, 'main_category', 'TEXT', 0, None, 0),\n",
       " (4, 'goal', 'REAL', 0, None, 0),\n",
       " (5, 'pledged', 'REAL', 0, None, 0),\n",
       " (6, 'state', 'TEXT', 0, None, 0),\n",
       " (7, 'backers', 'INTEGER', 0, None, 0)]"
      ]
     },
     "execution_count": 2,
     "metadata": {},
     "output_type": "execute_result"
    }
   ],
   "source": [
    "# List the names and data types for the specific table in the database. \n",
    "%sql PRAGMA table_info(ksprojects)"
   ]
  },
  {
   "cell_type": "markdown",
   "id": "6b5ef7f7-61cf-4b2f-a702-33460d4fc3fb",
   "metadata": {},
   "source": [
    "Above, we have employed the `PRAGMA table_info()` command to visualize the columns of the `ksprojects` table. This command provides comprehensive information about the structure of the columns within our dataset, explained as follows:\n",
    "\n",
    "- `cid`: Gives the Index ID of every column\n",
    "- `name`: Column name\n",
    "- `type`: Column type\n",
    "- `notnull`: Has a NOT NULL constraint\n",
    "- `dflt_value`:\tDefault value\n",
    "- `pk`: Is part of the Primary Key"
   ]
  },
  {
   "cell_type": "markdown",
   "id": "c62a82cb-97e4-4a2c-9eea-aa3b4d1e831f",
   "metadata": {},
   "source": [
    "#### Initial Selection of Rows and Columns\n",
    "\n",
    "To start, even a database with one table likely contains data that's not necessary to our analysis. In this step, we'll specify which columns to read from the table.\n",
    "\n",
    "In the initial phase, even a database featuring one table may contain unnecessary data for our analytical objectives. In this stage, we'll specify which columns to read from the table.\n",
    "\r\n",
    "\r\n",
    "\r\n"
   ]
  },
  {
   "cell_type": "code",
   "execution_count": 3,
   "id": "1d0ad60a-c8af-4d35-b2aa-74836444ea0b",
   "metadata": {
    "scrolled": true
   },
   "outputs": [
    {
     "name": "stdout",
     "output_type": "stream",
     "text": [
      " * sqlite:///ksprojects.db\n",
      "Done.\n"
     ]
    },
    {
     "data": {
      "text/html": [
       "<table>\n",
       "    <thead>\n",
       "        <tr>\n",
       "            <th>main_category</th>\n",
       "            <th>goal</th>\n",
       "            <th>backers</th>\n",
       "            <th>pledged</th>\n",
       "        </tr>\n",
       "    </thead>\n",
       "    <tbody>\n",
       "        <tr>\n",
       "            <td>Publishing</td>\n",
       "            <td>1000.0</td>\n",
       "            <td>0</td>\n",
       "            <td>0.0</td>\n",
       "        </tr>\n",
       "        <tr>\n",
       "            <td>Film &amp; Video</td>\n",
       "            <td>30000.0</td>\n",
       "            <td>15</td>\n",
       "            <td>2421.0</td>\n",
       "        </tr>\n",
       "        <tr>\n",
       "            <td>Film &amp; Video</td>\n",
       "            <td>45000.0</td>\n",
       "            <td>3</td>\n",
       "            <td>220.0</td>\n",
       "        </tr>\n",
       "        <tr>\n",
       "            <td>Music</td>\n",
       "            <td>5000.0</td>\n",
       "            <td>1</td>\n",
       "            <td>1.0</td>\n",
       "        </tr>\n",
       "        <tr>\n",
       "            <td>Film &amp; Video</td>\n",
       "            <td>19500.0</td>\n",
       "            <td>14</td>\n",
       "            <td>1283.0</td>\n",
       "        </tr>\n",
       "        <tr>\n",
       "            <td>Food</td>\n",
       "            <td>50000.0</td>\n",
       "            <td>224</td>\n",
       "            <td>52375.0</td>\n",
       "        </tr>\n",
       "        <tr>\n",
       "            <td>Food</td>\n",
       "            <td>1000.0</td>\n",
       "            <td>16</td>\n",
       "            <td>1205.0</td>\n",
       "        </tr>\n",
       "        <tr>\n",
       "            <td>Food</td>\n",
       "            <td>25000.0</td>\n",
       "            <td>40</td>\n",
       "            <td>453.0</td>\n",
       "        </tr>\n",
       "        <tr>\n",
       "            <td>Design</td>\n",
       "            <td>125000.0</td>\n",
       "            <td>58</td>\n",
       "            <td>8233.0</td>\n",
       "        </tr>\n",
       "        <tr>\n",
       "            <td>Film &amp; Video</td>\n",
       "            <td>65000.0</td>\n",
       "            <td>43</td>\n",
       "            <td>6240.57</td>\n",
       "        </tr>\n",
       "    </tbody>\n",
       "</table>"
      ],
      "text/plain": [
       "[('Publishing', 1000.0, 0, 0.0),\n",
       " ('Film & Video', 30000.0, 15, 2421.0),\n",
       " ('Film & Video', 45000.0, 3, 220.0),\n",
       " ('Music', 5000.0, 1, 1.0),\n",
       " ('Film & Video', 19500.0, 14, 1283.0),\n",
       " ('Food', 50000.0, 224, 52375.0),\n",
       " ('Food', 1000.0, 16, 1205.0),\n",
       " ('Food', 25000.0, 40, 453.0),\n",
       " ('Design', 125000.0, 58, 8233.0),\n",
       " ('Film & Video', 65000.0, 43, 6240.57)]"
      ]
     },
     "execution_count": 3,
     "metadata": {},
     "output_type": "execute_result"
    }
   ],
   "source": [
    "%%sql \n",
    "SELECT main_category, goal, backers, pledged\n",
    "  FROM ksprojects\n",
    " LIMIT 10;"
   ]
  },
  {
   "cell_type": "markdown",
   "id": "e0736543-2151-4931-9900-b10018d86374",
   "metadata": {},
   "source": [
    "#### Filtering by Category"
   ]
  },
  {
   "cell_type": "markdown",
   "id": "94ed16ea-f16f-420d-994d-9f5f7d8a0762",
   "metadata": {},
   "source": [
    "To answer our initial questions, *\"What types of projects are most likely to be successful?\"* and *\"Which projects fail?\"*, we queried the output above.  Having identified the relevant columns, our next step involves refining the dataset by including only those falling within specific categories. \n",
    "\n",
    "In the spirit of `Thomas Edison`, who said, *\"I have not failed. I've just found 10,000 ways that won't work,\"* the product team expresses interest in gaining insights into projects that weren't successful. Therefore, we will filter the data for projects, where the state is either `failed`, `canceled` or `suspended`."
   ]
  },
  {
   "cell_type": "code",
   "execution_count": 4,
   "id": "c0ae03e7-fbaa-4b33-a389-8c4ef4afd9c3",
   "metadata": {
    "scrolled": true
   },
   "outputs": [
    {
     "name": "stdout",
     "output_type": "stream",
     "text": [
      " * sqlite:///ksprojects.db\n",
      "Done.\n"
     ]
    },
    {
     "data": {
      "text/html": [
       "<table>\n",
       "    <thead>\n",
       "        <tr>\n",
       "            <th>main_category</th>\n",
       "            <th>goal</th>\n",
       "            <th>backers</th>\n",
       "            <th>pledged</th>\n",
       "        </tr>\n",
       "    </thead>\n",
       "    <tbody>\n",
       "        <tr>\n",
       "            <td>Publishing</td>\n",
       "            <td>1000.0</td>\n",
       "            <td>0</td>\n",
       "            <td>0.0</td>\n",
       "        </tr>\n",
       "        <tr>\n",
       "            <td>Film &amp; Video</td>\n",
       "            <td>30000.0</td>\n",
       "            <td>15</td>\n",
       "            <td>2421.0</td>\n",
       "        </tr>\n",
       "        <tr>\n",
       "            <td>Film &amp; Video</td>\n",
       "            <td>45000.0</td>\n",
       "            <td>3</td>\n",
       "            <td>220.0</td>\n",
       "        </tr>\n",
       "        <tr>\n",
       "            <td>Music</td>\n",
       "            <td>5000.0</td>\n",
       "            <td>1</td>\n",
       "            <td>1.0</td>\n",
       "        </tr>\n",
       "        <tr>\n",
       "            <td>Film &amp; Video</td>\n",
       "            <td>19500.0</td>\n",
       "            <td>14</td>\n",
       "            <td>1283.0</td>\n",
       "        </tr>\n",
       "        <tr>\n",
       "            <td>Food</td>\n",
       "            <td>25000.0</td>\n",
       "            <td>40</td>\n",
       "            <td>453.0</td>\n",
       "        </tr>\n",
       "        <tr>\n",
       "            <td>Design</td>\n",
       "            <td>125000.0</td>\n",
       "            <td>58</td>\n",
       "            <td>8233.0</td>\n",
       "        </tr>\n",
       "        <tr>\n",
       "            <td>Film &amp; Video</td>\n",
       "            <td>65000.0</td>\n",
       "            <td>43</td>\n",
       "            <td>6240.57</td>\n",
       "        </tr>\n",
       "        <tr>\n",
       "            <td>Publishing</td>\n",
       "            <td>2500.0</td>\n",
       "            <td>0</td>\n",
       "            <td>0.0</td>\n",
       "        </tr>\n",
       "        <tr>\n",
       "            <td>Crafts</td>\n",
       "            <td>5000.0</td>\n",
       "            <td>0</td>\n",
       "            <td>0.0</td>\n",
       "        </tr>\n",
       "    </tbody>\n",
       "</table>"
      ],
      "text/plain": [
       "[('Publishing', 1000.0, 0, 0.0),\n",
       " ('Film & Video', 30000.0, 15, 2421.0),\n",
       " ('Film & Video', 45000.0, 3, 220.0),\n",
       " ('Music', 5000.0, 1, 1.0),\n",
       " ('Film & Video', 19500.0, 14, 1283.0),\n",
       " ('Food', 25000.0, 40, 453.0),\n",
       " ('Design', 125000.0, 58, 8233.0),\n",
       " ('Film & Video', 65000.0, 43, 6240.57),\n",
       " ('Publishing', 2500.0, 0, 0.0),\n",
       " ('Crafts', 5000.0, 0, 0.0)]"
      ]
     },
     "execution_count": 4,
     "metadata": {},
     "output_type": "execute_result"
    }
   ],
   "source": [
    "%%sql\n",
    "SELECT main_category, goal, backers, pledged\n",
    "  FROM ksprojects\n",
    " WHERE state IN ('failed', 'canceled', 'suspended')\n",
    " LIMIT 10;"
   ]
  },
  {
   "cell_type": "markdown",
   "id": "f6fbdcc8-514c-4e0b-b393-4e135bc338c0",
   "metadata": {},
   "source": [
    "#### Filtering by Quantity"
   ]
  },
  {
   "cell_type": "markdown",
   "id": "605f96b1-c4c7-4da2-8214-e4c855b10562",
   "metadata": {},
   "source": [
    "For the purpose of our analysis, we aim to focus exclusively on projects of a specific size. This filtering is necessary, as the database contains numerous small-scale projects that aren't relevant to our analysis. Having successfully filtered our records based on certain categories, our next step involves additional filtering to meet specified quantity criteria. In detail, we will filter the data based on the number of `backers` and the number of money `pledged`.\n",
    "\r\n",
    "\r\n",
    "\r\n",
    "\r\n"
   ]
  },
  {
   "cell_type": "code",
   "execution_count": 5,
   "id": "d5855a6e-b7ea-4fb7-95ee-27f1b3890f2f",
   "metadata": {
    "scrolled": true
   },
   "outputs": [
    {
     "name": "stdout",
     "output_type": "stream",
     "text": [
      " * sqlite:///ksprojects.db\n",
      "Done.\n"
     ]
    },
    {
     "data": {
      "text/html": [
       "<table>\n",
       "    <thead>\n",
       "        <tr>\n",
       "            <th>main_category</th>\n",
       "            <th>backers</th>\n",
       "            <th>pledged</th>\n",
       "            <th>goal</th>\n",
       "        </tr>\n",
       "    </thead>\n",
       "    <tbody>\n",
       "        <tr>\n",
       "            <td>Technology</td>\n",
       "            <td>120</td>\n",
       "            <td>90771.0</td>\n",
       "            <td>250000.0</td>\n",
       "        </tr>\n",
       "        <tr>\n",
       "            <td>Design</td>\n",
       "            <td>647</td>\n",
       "            <td>39693.0</td>\n",
       "            <td>25000.0</td>\n",
       "        </tr>\n",
       "        <tr>\n",
       "            <td>Technology</td>\n",
       "            <td>103</td>\n",
       "            <td>61416.0</td>\n",
       "            <td>5000.0</td>\n",
       "        </tr>\n",
       "        <tr>\n",
       "            <td>Art</td>\n",
       "            <td>257</td>\n",
       "            <td>50230.0</td>\n",
       "            <td>100000.0</td>\n",
       "        </tr>\n",
       "        <tr>\n",
       "            <td>Film &amp; Video</td>\n",
       "            <td>135</td>\n",
       "            <td>23098.0</td>\n",
       "            <td>150000.0</td>\n",
       "        </tr>\n",
       "        <tr>\n",
       "            <td>Film &amp; Video</td>\n",
       "            <td>189</td>\n",
       "            <td>20677.0</td>\n",
       "            <td>50000.0</td>\n",
       "        </tr>\n",
       "        <tr>\n",
       "            <td>Film &amp; Video</td>\n",
       "            <td>118</td>\n",
       "            <td>25877.0</td>\n",
       "            <td>100000.0</td>\n",
       "        </tr>\n",
       "        <tr>\n",
       "            <td>Technology</td>\n",
       "            <td>108</td>\n",
       "            <td>45687.01</td>\n",
       "            <td>60000.0</td>\n",
       "        </tr>\n",
       "        <tr>\n",
       "            <td>Technology</td>\n",
       "            <td>209</td>\n",
       "            <td>33916.0</td>\n",
       "            <td>50000.0</td>\n",
       "        </tr>\n",
       "        <tr>\n",
       "            <td>Technology</td>\n",
       "            <td>310</td>\n",
       "            <td>85017.0</td>\n",
       "            <td>96485.0</td>\n",
       "        </tr>\n",
       "    </tbody>\n",
       "</table>"
      ],
      "text/plain": [
       "[('Technology', 120, 90771.0, 250000.0),\n",
       " ('Design', 647, 39693.0, 25000.0),\n",
       " ('Technology', 103, 61416.0, 5000.0),\n",
       " ('Art', 257, 50230.0, 100000.0),\n",
       " ('Film & Video', 135, 23098.0, 150000.0),\n",
       " ('Film & Video', 189, 20677.0, 50000.0),\n",
       " ('Film & Video', 118, 25877.0, 100000.0),\n",
       " ('Technology', 108, 45687.01, 60000.0),\n",
       " ('Technology', 209, 33916.0, 50000.0),\n",
       " ('Technology', 310, 85017.0, 96485.0)]"
      ]
     },
     "execution_count": 5,
     "metadata": {},
     "output_type": "execute_result"
    }
   ],
   "source": [
    "%%sql\n",
    "SELECT main_category, backers, pledged, goal\n",
    " FROM ksprojects\n",
    "WHERE state IN ('failed', 'canceled', 'suspended') AND backers >= 100 AND pledged >= 20000\n",
    "LIMIT 10;"
   ]
  },
  {
   "cell_type": "markdown",
   "id": "0b774744-d302-44fb-aea3-b2d14d6d0d2f",
   "metadata": {},
   "source": [
    "#### Ordering Results"
   ]
  },
  {
   "cell_type": "markdown",
   "id": "bba018fa-f936-4cad-8918-17226a66d1f6",
   "metadata": {},
   "source": [
    "Beyond the selection of the relevant columns and the application of row filters, sorting your results is a valuable strategy for enhancing data comprehension. In the current context, the product team expresses interest in organizing projects based on categories, along with the corresponding percentage of the funding goal achieved. \n",
    "\n",
    "Therefore, we will develop the `SQL` query before and add the `ORDER BY` command. On top of that, we create a new column consisting of the amount `pledged` divided by the pledge `goal`, calling it `pct_pledged`. And we'll filter the data just by `failed` projects.\n",
    "\r\n",
    "\r\n",
    "\r\n",
    "\r\n"
   ]
  },
  {
   "cell_type": "code",
   "execution_count": 6,
   "id": "1d41ee9d-0f93-4f74-9083-68fe8ba71cdb",
   "metadata": {
    "scrolled": true
   },
   "outputs": [
    {
     "name": "stdout",
     "output_type": "stream",
     "text": [
      " * sqlite:///ksprojects.db\n",
      "Done.\n"
     ]
    },
    {
     "data": {
      "text/html": [
       "<table>\n",
       "    <thead>\n",
       "        <tr>\n",
       "            <th>main_category</th>\n",
       "            <th>backers</th>\n",
       "            <th>pledged</th>\n",
       "            <th>goal</th>\n",
       "            <th>pct_pledged</th>\n",
       "        </tr>\n",
       "    </thead>\n",
       "    <tbody>\n",
       "        <tr>\n",
       "            <td>Art</td>\n",
       "            <td>315</td>\n",
       "            <td>49191.0</td>\n",
       "            <td>50000.0</td>\n",
       "            <td>0.98</td>\n",
       "        </tr>\n",
       "        <tr>\n",
       "            <td>Art</td>\n",
       "            <td>294</td>\n",
       "            <td>52565.25</td>\n",
       "            <td>60000.0</td>\n",
       "            <td>0.88</td>\n",
       "        </tr>\n",
       "        <tr>\n",
       "            <td>Art</td>\n",
       "            <td>172</td>\n",
       "            <td>21310.0</td>\n",
       "            <td>25000.0</td>\n",
       "            <td>0.85</td>\n",
       "        </tr>\n",
       "        <tr>\n",
       "            <td>Art</td>\n",
       "            <td>185</td>\n",
       "            <td>27630.24</td>\n",
       "            <td>35000.0</td>\n",
       "            <td>0.79</td>\n",
       "        </tr>\n",
       "        <tr>\n",
       "            <td>Art</td>\n",
       "            <td>552</td>\n",
       "            <td>37621.97</td>\n",
       "            <td>50000.0</td>\n",
       "            <td>0.75</td>\n",
       "        </tr>\n",
       "        <tr>\n",
       "            <td>Art</td>\n",
       "            <td>159</td>\n",
       "            <td>31657.0</td>\n",
       "            <td>45000.0</td>\n",
       "            <td>0.7</td>\n",
       "        </tr>\n",
       "        <tr>\n",
       "            <td>Art</td>\n",
       "            <td>336</td>\n",
       "            <td>33485.0</td>\n",
       "            <td>52000.0</td>\n",
       "            <td>0.64</td>\n",
       "        </tr>\n",
       "        <tr>\n",
       "            <td>Art</td>\n",
       "            <td>130</td>\n",
       "            <td>20374.99</td>\n",
       "            <td>35000.0</td>\n",
       "            <td>0.58</td>\n",
       "        </tr>\n",
       "        <tr>\n",
       "            <td>Art</td>\n",
       "            <td>133</td>\n",
       "            <td>54387.0</td>\n",
       "            <td>100000.0</td>\n",
       "            <td>0.54</td>\n",
       "        </tr>\n",
       "        <tr>\n",
       "            <td>Art</td>\n",
       "            <td>257</td>\n",
       "            <td>50230.0</td>\n",
       "            <td>100000.0</td>\n",
       "            <td>0.5</td>\n",
       "        </tr>\n",
       "    </tbody>\n",
       "</table>"
      ],
      "text/plain": [
       "[('Art', 315, 49191.0, 50000.0, 0.98),\n",
       " ('Art', 294, 52565.25, 60000.0, 0.88),\n",
       " ('Art', 172, 21310.0, 25000.0, 0.85),\n",
       " ('Art', 185, 27630.24, 35000.0, 0.79),\n",
       " ('Art', 552, 37621.97, 50000.0, 0.75),\n",
       " ('Art', 159, 31657.0, 45000.0, 0.7),\n",
       " ('Art', 336, 33485.0, 52000.0, 0.64),\n",
       " ('Art', 130, 20374.99, 35000.0, 0.58),\n",
       " ('Art', 133, 54387.0, 100000.0, 0.54),\n",
       " ('Art', 257, 50230.0, 100000.0, 0.5)]"
      ]
     },
     "execution_count": 6,
     "metadata": {},
     "output_type": "execute_result"
    }
   ],
   "source": [
    "%%sql\n",
    "SELECT main_category, backers, pledged, goal, ROUND((pledged/goal), 2) AS pct_pledged\n",
    "  FROM ksprojects\n",
    " WHERE state IN ('failed')\n",
    "   AND backers >= 100 AND pledged >= 20000\n",
    " ORDER BY main_category, pct_pledged DESC\n",
    " LIMIT 10;"
   ]
  },
  {
   "cell_type": "markdown",
   "id": "e0fab5a5-17ea-42f8-88ee-07b6e545cb21",
   "metadata": {},
   "source": [
    "#### Conditional Logic: Failed Projects\n",
    "\n",
    "Effectively understanding a dataset often involves categorizing records based on specific conditions, which can be done with `CASE` statements in `SQL`. Although exploring metrics like the number of `backers` for unsuccessful projects is insightful, the critical determinant for the success of a `Kickstarter` project lies in its ability to achieve the `pledged funding goal`."
   ]
  },
  {
   "cell_type": "code",
   "execution_count": 7,
   "id": "54cc2eb9-51e3-414a-99f7-1ae58dbad18f",
   "metadata": {},
   "outputs": [
    {
     "name": "stdout",
     "output_type": "stream",
     "text": [
      " * sqlite:///ksprojects.db\n",
      "Done.\n"
     ]
    },
    {
     "data": {
      "text/html": [
       "<table>\n",
       "    <thead>\n",
       "        <tr>\n",
       "            <th>main_category</th>\n",
       "            <th>backers</th>\n",
       "            <th>pledged</th>\n",
       "            <th>goal</th>\n",
       "            <th>pct_pledged</th>\n",
       "            <th>funding_status</th>\n",
       "        </tr>\n",
       "    </thead>\n",
       "    <tbody>\n",
       "        <tr>\n",
       "            <td>Art</td>\n",
       "            <td>315</td>\n",
       "            <td>49191.0</td>\n",
       "            <td>50000.0</td>\n",
       "            <td>0.98</td>\n",
       "            <td>Nearly funded</td>\n",
       "        </tr>\n",
       "        <tr>\n",
       "            <td>Art</td>\n",
       "            <td>294</td>\n",
       "            <td>52565.25</td>\n",
       "            <td>60000.0</td>\n",
       "            <td>0.88</td>\n",
       "            <td>Nearly funded</td>\n",
       "        </tr>\n",
       "        <tr>\n",
       "            <td>Art</td>\n",
       "            <td>172</td>\n",
       "            <td>21310.0</td>\n",
       "            <td>25000.0</td>\n",
       "            <td>0.85</td>\n",
       "            <td>Nearly funded</td>\n",
       "        </tr>\n",
       "        <tr>\n",
       "            <td>Art</td>\n",
       "            <td>185</td>\n",
       "            <td>27630.24</td>\n",
       "            <td>35000.0</td>\n",
       "            <td>0.79</td>\n",
       "            <td>Nearly funded</td>\n",
       "        </tr>\n",
       "        <tr>\n",
       "            <td>Art</td>\n",
       "            <td>552</td>\n",
       "            <td>37621.97</td>\n",
       "            <td>50000.0</td>\n",
       "            <td>0.75</td>\n",
       "            <td>Nearly funded</td>\n",
       "        </tr>\n",
       "        <tr>\n",
       "            <td>Art</td>\n",
       "            <td>159</td>\n",
       "            <td>31657.0</td>\n",
       "            <td>45000.0</td>\n",
       "            <td>0.7</td>\n",
       "            <td>Not nearly funded</td>\n",
       "        </tr>\n",
       "        <tr>\n",
       "            <td>Art</td>\n",
       "            <td>336</td>\n",
       "            <td>33485.0</td>\n",
       "            <td>52000.0</td>\n",
       "            <td>0.64</td>\n",
       "            <td>Not nearly funded</td>\n",
       "        </tr>\n",
       "        <tr>\n",
       "            <td>Art</td>\n",
       "            <td>130</td>\n",
       "            <td>20374.99</td>\n",
       "            <td>35000.0</td>\n",
       "            <td>0.58</td>\n",
       "            <td>Not nearly funded</td>\n",
       "        </tr>\n",
       "        <tr>\n",
       "            <td>Art</td>\n",
       "            <td>133</td>\n",
       "            <td>54387.0</td>\n",
       "            <td>100000.0</td>\n",
       "            <td>0.54</td>\n",
       "            <td>Not nearly funded</td>\n",
       "        </tr>\n",
       "        <tr>\n",
       "            <td>Art</td>\n",
       "            <td>257</td>\n",
       "            <td>50230.0</td>\n",
       "            <td>100000.0</td>\n",
       "            <td>0.5</td>\n",
       "            <td>Not nearly funded</td>\n",
       "        </tr>\n",
       "    </tbody>\n",
       "</table>"
      ],
      "text/plain": [
       "[('Art', 315, 49191.0, 50000.0, 0.98, 'Nearly funded'),\n",
       " ('Art', 294, 52565.25, 60000.0, 0.88, 'Nearly funded'),\n",
       " ('Art', 172, 21310.0, 25000.0, 0.85, 'Nearly funded'),\n",
       " ('Art', 185, 27630.24, 35000.0, 0.79, 'Nearly funded'),\n",
       " ('Art', 552, 37621.97, 50000.0, 0.75, 'Nearly funded'),\n",
       " ('Art', 159, 31657.0, 45000.0, 0.7, 'Not nearly funded'),\n",
       " ('Art', 336, 33485.0, 52000.0, 0.64, 'Not nearly funded'),\n",
       " ('Art', 130, 20374.99, 35000.0, 0.58, 'Not nearly funded'),\n",
       " ('Art', 133, 54387.0, 100000.0, 0.54, 'Not nearly funded'),\n",
       " ('Art', 257, 50230.0, 100000.0, 0.5, 'Not nearly funded')]"
      ]
     },
     "execution_count": 7,
     "metadata": {},
     "output_type": "execute_result"
    }
   ],
   "source": [
    "%%sql\n",
    "SELECT main_category, backers, pledged, goal,\n",
    "         ROUND((pledged / goal), 2) AS pct_pledged,\n",
    "         CASE\n",
    "            WHEN pledged / goal >= 1 THEN 'Fully funded'\n",
    "            WHEN pledged / goal BETWEEN .75 AND 1 THEN 'Nearly funded'\n",
    "            WHEN pledged / goal < .75 THEN 'Not nearly funded'\n",
    "         END AS funding_status\n",
    "  FROM ksprojects\n",
    " WHERE state IN ('failed') AND backers >= 100 AND pledged >= 20000\n",
    " ORDER BY main_category, pct_pledged DESC\n",
    " LIMIT 10;"
   ]
  },
  {
   "cell_type": "markdown",
   "id": "a1b5df5e-ae91-473c-ad7b-30237ec62b6b",
   "metadata": {},
   "source": [
    "These projects attracted a substantial number of `backers`, with some approaching their `funding goal` closely. However, it's noteworthy that certain projects, despite garnering a commendable number of backers, set ambitious funding goals and therefore failed to succeed the campaign. \n",
    "\n",
    "In summary, a balanced approach is crucial, where the `funding goal` is reasonable, and `backers` contribute a significant amount, avoiding a reliance on minimal `pledges`, such as 5€ contributions."
   ]
  },
  {
   "cell_type": "markdown",
   "id": "9da18371-8333-4bd2-9c26-5c5979ad3311",
   "metadata": {},
   "source": [
    "#### Succesfull Projects\n",
    "\n",
    "Now lets look at successfull `Kickstarter` projects where the amount of `backers` is categorize in three distinct groups: \n",
    "\n",
    "- `small audience`: 50 or less `backers`\n",
    "- `medium audience`: 51 to 150 `backers`\n",
    "- `big audience`: more then 151 `backers`\n",
    "\n",
    "We will sort the output in ascending order, resulting in showing us the lower end of successful projects."
   ]
  },
  {
   "cell_type": "code",
   "execution_count": 8,
   "id": "a9e6a441-0118-44fe-b962-e302ed6c3364",
   "metadata": {},
   "outputs": [
    {
     "name": "stdout",
     "output_type": "stream",
     "text": [
      " * sqlite:///ksprojects.db\n",
      "Done.\n"
     ]
    },
    {
     "data": {
      "text/html": [
       "<table>\n",
       "    <thead>\n",
       "        <tr>\n",
       "            <th>category</th>\n",
       "            <th>state</th>\n",
       "            <th>backers</th>\n",
       "            <th>pct_pledged</th>\n",
       "            <th>audience_size</th>\n",
       "        </tr>\n",
       "    </thead>\n",
       "    <tbody>\n",
       "        <tr>\n",
       "            <td>Shorts</td>\n",
       "            <td>successful</td>\n",
       "            <td>275</td>\n",
       "            <td>85.0</td>\n",
       "            <td>big audience</td>\n",
       "        </tr>\n",
       "        <tr>\n",
       "            <td>Music</td>\n",
       "            <td>successful</td>\n",
       "            <td>7</td>\n",
       "            <td>100.0</td>\n",
       "            <td>small audience</td>\n",
       "        </tr>\n",
       "        <tr>\n",
       "            <td>Product Design</td>\n",
       "            <td>successful</td>\n",
       "            <td>18</td>\n",
       "            <td>100.0</td>\n",
       "            <td>small audience</td>\n",
       "        </tr>\n",
       "        <tr>\n",
       "            <td>Music</td>\n",
       "            <td>successful</td>\n",
       "            <td>34</td>\n",
       "            <td>100.0</td>\n",
       "            <td>small audience</td>\n",
       "        </tr>\n",
       "        <tr>\n",
       "            <td>Publishing</td>\n",
       "            <td>successful</td>\n",
       "            <td>26</td>\n",
       "            <td>100.0</td>\n",
       "            <td>small audience</td>\n",
       "        </tr>\n",
       "        <tr>\n",
       "            <td>Dance</td>\n",
       "            <td>successful</td>\n",
       "            <td>21</td>\n",
       "            <td>100.0</td>\n",
       "            <td>small audience</td>\n",
       "        </tr>\n",
       "        <tr>\n",
       "            <td>Fabrication Tools</td>\n",
       "            <td>successful</td>\n",
       "            <td>57</td>\n",
       "            <td>100.0</td>\n",
       "            <td>medium audience</td>\n",
       "        </tr>\n",
       "        <tr>\n",
       "            <td>Photography</td>\n",
       "            <td>successful</td>\n",
       "            <td>20</td>\n",
       "            <td>100.0</td>\n",
       "            <td>small audience</td>\n",
       "        </tr>\n",
       "        <tr>\n",
       "            <td>Drinks</td>\n",
       "            <td>successful</td>\n",
       "            <td>145</td>\n",
       "            <td>100.0</td>\n",
       "            <td>medium audience</td>\n",
       "        </tr>\n",
       "        <tr>\n",
       "            <td>Comedy</td>\n",
       "            <td>successful</td>\n",
       "            <td>192</td>\n",
       "            <td>100.0</td>\n",
       "            <td>big audience</td>\n",
       "        </tr>\n",
       "    </tbody>\n",
       "</table>"
      ],
      "text/plain": [
       "[('Shorts', 'successful', 275, 85.0, 'big audience'),\n",
       " ('Music', 'successful', 7, 100.0, 'small audience'),\n",
       " ('Product Design', 'successful', 18, 100.0, 'small audience'),\n",
       " ('Music', 'successful', 34, 100.0, 'small audience'),\n",
       " ('Publishing', 'successful', 26, 100.0, 'small audience'),\n",
       " ('Dance', 'successful', 21, 100.0, 'small audience'),\n",
       " ('Fabrication Tools', 'successful', 57, 100.0, 'medium audience'),\n",
       " ('Photography', 'successful', 20, 100.0, 'small audience'),\n",
       " ('Drinks', 'successful', 145, 100.0, 'medium audience'),\n",
       " ('Comedy', 'successful', 192, 100.0, 'big audience')]"
      ]
     },
     "execution_count": 8,
     "metadata": {},
     "output_type": "execute_result"
    }
   ],
   "source": [
    "%%sql\n",
    "SELECT category, state, backers, \n",
    "       ROUND((pledged / goal), 2) * 100 AS pct_pledged,\n",
    "            CASE \n",
    "                WHEN backers <= 50 THEN 'small audience'\n",
    "                WHEN backers BETWEEN 51 AND 150 THEN 'medium audience'\n",
    "                WHEN backers > 151 THEN 'big audience'\n",
    "            END AS audience_size\n",
    "  FROM ksprojects\n",
    " WHERE state IN ('successful')\n",
    " ORDER BY pct_pledged\n",
    " LIMIT 10;"
   ]
  },
  {
   "cell_type": "markdown",
   "id": "380fd543-87fc-4c39-b77d-e659c425244e",
   "metadata": {},
   "source": [
    "The output gives us, among other things, the following insight:\n",
    "\n",
    "- The successful project with the lowest pledged percentage is a project in the `Shorts` with 85% pledged.\n",
    "- In the lower end of the successful projects are five projects with `small audience`, four with `medium sized audience` and just one with a `big audience`.\n",
    "- There are seven different `categories` among the lower ten successful projects."
   ]
  },
  {
   "cell_type": "markdown",
   "id": "282cac83-32fd-4826-89f7-76ffd329a99d",
   "metadata": {},
   "source": [
    "#### What types of projects are most likely to be successful?\n",
    "\n",
    "Lets try to answer the question, which projects are most likely to be successful. To do this, we will group the data set by category so that we can see which categories of successful projects had the most supporters and how much was donated to them in total."
   ]
  },
  {
   "cell_type": "code",
   "execution_count": 9,
   "id": "fd5b6b6c-2c05-4217-9029-0bf96931b8d3",
   "metadata": {
    "scrolled": true
   },
   "outputs": [
    {
     "name": "stdout",
     "output_type": "stream",
     "text": [
      " * sqlite:///ksprojects.db\n",
      "Done.\n"
     ]
    },
    {
     "data": {
      "text/html": [
       "<table>\n",
       "    <thead>\n",
       "        <tr>\n",
       "            <th>category</th>\n",
       "            <th>state</th>\n",
       "            <th>backers</th>\n",
       "            <th>pct_pledged</th>\n",
       "            <th>goal</th>\n",
       "            <th>pledged</th>\n",
       "        </tr>\n",
       "    </thead>\n",
       "    <tbody>\n",
       "        <tr>\n",
       "            <td>Software</td>\n",
       "            <td>successful</td>\n",
       "            <td>3080</td>\n",
       "            <td>117.64</td>\n",
       "            <td>40000.0</td>\n",
       "            <td>47056.86</td>\n",
       "        </tr>\n",
       "        <tr>\n",
       "            <td>Drinks</td>\n",
       "            <td>successful</td>\n",
       "            <td>2784</td>\n",
       "            <td>833.32</td>\n",
       "            <td>15000.0</td>\n",
       "            <td>124998.0</td>\n",
       "        </tr>\n",
       "        <tr>\n",
       "            <td>Gadgets</td>\n",
       "            <td>successful</td>\n",
       "            <td>2412</td>\n",
       "            <td>1321.0</td>\n",
       "            <td>30000.0</td>\n",
       "            <td>396299.0</td>\n",
       "        </tr>\n",
       "        <tr>\n",
       "            <td>Sound</td>\n",
       "            <td>successful</td>\n",
       "            <td>2278</td>\n",
       "            <td>910.69</td>\n",
       "            <td>25000.0</td>\n",
       "            <td>227673.0</td>\n",
       "        </tr>\n",
       "        <tr>\n",
       "            <td>Cookbooks</td>\n",
       "            <td>successful</td>\n",
       "            <td>1261</td>\n",
       "            <td>236.37</td>\n",
       "            <td>20000.0</td>\n",
       "            <td>47273.0</td>\n",
       "        </tr>\n",
       "        <tr>\n",
       "            <td>Periodicals</td>\n",
       "            <td>successful</td>\n",
       "            <td>931</td>\n",
       "            <td>111.12</td>\n",
       "            <td>35000.0</td>\n",
       "            <td>38890.36</td>\n",
       "        </tr>\n",
       "        <tr>\n",
       "            <td>Animation</td>\n",
       "            <td>successful</td>\n",
       "            <td>840</td>\n",
       "            <td>115.15</td>\n",
       "            <td>50000.0</td>\n",
       "            <td>57577.31</td>\n",
       "        </tr>\n",
       "        <tr>\n",
       "            <td>Typography</td>\n",
       "            <td>successful</td>\n",
       "            <td>761</td>\n",
       "            <td>171.7</td>\n",
       "            <td>12000.0</td>\n",
       "            <td>20604.02</td>\n",
       "        </tr>\n",
       "        <tr>\n",
       "            <td>Tabletop Games</td>\n",
       "            <td>successful</td>\n",
       "            <td>761</td>\n",
       "            <td>1883.5</td>\n",
       "            <td>5000.0</td>\n",
       "            <td>94175.0</td>\n",
       "        </tr>\n",
       "        <tr>\n",
       "            <td>Academic</td>\n",
       "            <td>successful</td>\n",
       "            <td>719</td>\n",
       "            <td>506.53</td>\n",
       "            <td>10000.0</td>\n",
       "            <td>50653.0</td>\n",
       "        </tr>\n",
       "    </tbody>\n",
       "</table>"
      ],
      "text/plain": [
       "[('Software', 'successful', 3080, 117.64, 40000.0, 47056.86),\n",
       " ('Drinks', 'successful', 2784, 833.32, 15000.0, 124998.0),\n",
       " ('Gadgets', 'successful', 2412, 1321.0, 30000.0, 396299.0),\n",
       " ('Sound', 'successful', 2278, 910.69, 25000.0, 227673.0),\n",
       " ('Cookbooks', 'successful', 1261, 236.37, 20000.0, 47273.0),\n",
       " ('Periodicals', 'successful', 931, 111.12, 35000.0, 38890.36),\n",
       " ('Animation', 'successful', 840, 115.15, 50000.0, 57577.31),\n",
       " ('Typography', 'successful', 761, 171.7, 12000.0, 20604.02),\n",
       " ('Tabletop Games', 'successful', 761, 1883.5, 5000.0, 94175.0),\n",
       " ('Academic', 'successful', 719, 506.53, 10000.0, 50653.0)]"
      ]
     },
     "execution_count": 9,
     "metadata": {},
     "output_type": "execute_result"
    }
   ],
   "source": [
    "%%sql\n",
    "SELECT category, state, backers,\n",
    "       ROUND((pledged / goal) * 100, 2) AS pct_pledged, goal, pledged\n",
    "  FROM ksprojects\n",
    " WHERE state IN ('successful')\n",
    " GROUP BY category\n",
    " ORDER BY backers DESC\n",
    " LIMIT 10;"
   ]
  },
  {
   "cell_type": "markdown",
   "id": "f75207de-3668-4702-b6fe-74955c2e9ecb",
   "metadata": {},
   "source": [
    "As we can see in the graph above, the `Software` category generated the most `Backers`, followed by the `Drinks` and `gadgets` categories. In the category with the most `backers`, the overall donation target was exceeded by around 18% across all successful software projects. \n",
    "\n",
    "The categories with the second and third most `bakers`, `Drinks` and `Gadgets`, achieve even higher values. The successful projects in `Drinks` exceeded the target values by a total of 833% and the successful projects in `Gadgets` exceeded the target donation goals by a total of 1321%. In monetary terms, for the latter category this would be a total goal of all successful projects of `$30,000` and a total achieved value of `$396,299`.\n",
    "\n",
    "A project in these categories would therefore be very promising and would have the potential to attract a large audience and reach many backers. Nevertheless, it must be noted that this data set only consists of successful projects, another useful indicator would be the ratio of successful to unsuccessful projects per category.\n",
    "\n",
    "To do this, will transform SQL table into a pandas dataframe."
   ]
  },
  {
   "cell_type": "code",
   "execution_count": 10,
   "id": "27564cab-fc89-414e-a476-53ce28b5b141",
   "metadata": {},
   "outputs": [
    {
     "name": "stdout",
     "output_type": "stream",
     "text": [
      " * sqlite:///ksprojects.db\n",
      "Done.\n"
     ]
    }
   ],
   "source": [
    "# Save the SQL output to data\n",
    "data = %sql SELECT category, state, backers, (pledged / goal) * 100 AS pct_pledged FROM ksprojects WHERE state IN ('successful', 'failed')"
   ]
  },
  {
   "cell_type": "code",
   "execution_count": 11,
   "id": "9a5f7585-8c07-478a-aee0-9415c259bfbd",
   "metadata": {
    "scrolled": true
   },
   "outputs": [
    {
     "name": "stdout",
     "output_type": "stream",
     "text": [
      "<class 'pandas.core.frame.DataFrame'>\n",
      "RangeIndex: 331675 entries, 0 to 331674\n",
      "Data columns (total 4 columns):\n",
      " #   Column       Non-Null Count   Dtype  \n",
      "---  ------       --------------   -----  \n",
      " 0   category     331675 non-null  object \n",
      " 1   state        331675 non-null  object \n",
      " 2   backers      331675 non-null  int64  \n",
      " 3   pct_pledged  331675 non-null  float64\n",
      "dtypes: float64(1), int64(1), object(2)\n",
      "memory usage: 10.1+ MB\n"
     ]
    }
   ],
   "source": [
    "# Transform the data to pandas dataframe\n",
    "ksprojects_df = data.DataFrame()\n",
    "\n",
    "# Check the columns and general information about the dataframe\n",
    "ksprojects_df.info()"
   ]
  },
  {
   "cell_type": "code",
   "execution_count": 12,
   "id": "ef3ff85b-ba98-496a-9c4b-52a5faaa559a",
   "metadata": {},
   "outputs": [
    {
     "data": {
      "image/png": "[encoded data removed]",
      "text/plain": [
       "<Figure size 640x480 with 1 Axes>"
      ]
     },
     "metadata": {},
     "output_type": "display_data"
    }
   ],
   "source": [
    "# Create a pie chart based on the value counts of state column\n",
    "fig1, ax = plt.subplots()\n",
    "ax = ksprojects_df['state'].value_counts().plot(kind='pie', autopct='%1.1f%%', colors=['coral', 'grey'], startangle=90, pctdistance=0.85)\n",
    "\n",
    "# Ajust circle\n",
    "centre_circle = plt.Circle((0,0),0.70,fc='white')\n",
    "fig = plt.gcf()\n",
    "fig.gca().add_artist(centre_circle)\n",
    "\n",
    "# Equal aspect ratio ensures that pie is drawn as a circle\n",
    "ax.axis('equal')  \n",
    "plt.tight_layout()\n",
    "plt.title('Distribution of Failed and Successful Projects')\n",
    "plt.ylabel('')\n",
    "\n",
    "plt.show()"
   ]
  },
  {
   "cell_type": "markdown",
   "id": "59b98025-670a-4002-bd69-1dfdd8fc9680",
   "metadata": {},
   "source": [
    "Examining the distribution of projects categorized as `failed` and `successful` above, it is evident that approximately 60% of the projects faced failure, while 40% achieved success. To gain deeper insights, we will further investigate the three pre-identified categories with potential for successful project outcomes: `Software`, `Drinks` and `Gadgets`.\n",
    "\r\n",
    "\r\n",
    "\r\n"
   ]
  },
  {
   "cell_type": "code",
   "execution_count": 13,
   "id": "72f331b7-35cc-471b-8ee0-9cd3cc2403ee",
   "metadata": {},
   "outputs": [
    {
     "data": {
      "image/png": "[encoded data removed]",
      "text/plain": [
       "<Figure size 640x480 with 1 Axes>"
      ]
     },
     "metadata": {},
     "output_type": "display_data"
    }
   ],
   "source": [
    "# Filter the dataframe for three categories, safe to new dataframe 'best_cat'\n",
    "best_cat = ksprojects_df[(ksprojects_df['category'] == 'Software') | (ksprojects_df['category'] == \n",
    "                                                         'Drinks') | (ksprojects_df['category'] == 'Gadgets')]\n",
    "\n",
    "# Create a pie chart for the three categories\n",
    "fig1, ax = plt.subplots()\n",
    "ax = best_cat['category'].value_counts().plot(kind='pie', autopct='%1.1f%%', \n",
    "                                              colors=['coral', 'grey', 'darkcyan'], startangle=90, pctdistance=0.85)\n",
    "# Ajust circle\n",
    "centre_circle = plt.Circle((0,0),0.70,fc='white')\n",
    "fig = plt.gcf()\n",
    "fig.gca().add_artist(centre_circle)\n",
    "\n",
    "# Equal aspect ratio ensures that pie is drawn as a circle\n",
    "ax.axis('equal')  \n",
    "plt.tight_layout()\n",
    "plt.title('Distribution of Software, Gadgets, Drinks Projects')\n",
    "plt.ylabel('')\n",
    "\n",
    "plt.show()"
   ]
  },
  {
   "cell_type": "markdown",
   "id": "cd421c4b-23d9-4357-9e0a-286750ff43a8",
   "metadata": {},
   "source": [
    "In the preceding steps, we initiated the filtering of the dataframe and generated a pie chart. Analyzing the chart reveals a relatively balanced distribution among the three categories: `Software` comprises approximately 37%, `Gadgets` 33%, and `Drinks` 30%. Our next objective is to delve into the success-failure ratio within each category.\n",
    "\r\n",
    "\r\n",
    "\r\n"
   ]
  },
  {
   "cell_type": "code",
   "execution_count": 14,
   "id": "9f743af8-6572-4466-9805-4424564f1c80",
   "metadata": {},
   "outputs": [
    {
     "data": {
      "image/png": "[encoded data removed]",
      "text/plain": [
       "<Figure size 640x480 with 1 Axes>"
      ]
     },
     "metadata": {},
     "output_type": "display_data"
    }
   ],
   "source": [
    "# Group the data by category and count the values for every state, create a pie chart\n",
    "fig1, ax = plt.subplots()\n",
    "best_cat.groupby('category')['state'].value_counts().plot(kind='pie', autopct='%1.1f%%', \n",
    "                                                          colors=['coral', 'salmon', 'darkcyan', 'lightseagreen', 'dimgrey', 'grey'], \n",
    "                                                          startangle=130, pctdistance=0.85)\n",
    "\n",
    "# Ajust circle\n",
    "centre_circle = plt.Circle((0,0),0.70,fc='white')\n",
    "fig = plt.gcf()\n",
    "fig.gca().add_artist(centre_circle)\n",
    "\n",
    "# Equal aspect ratio ensures that pie is drawn as a circle\n",
    "ax.axis('equal')  \n",
    "plt.tight_layout()\n",
    "plt.title('Distribution of Categories: Software, Gadgets, Drinks by State')\n",
    "plt.ylabel('')\n",
    "plt.show()"
   ]
  },
  {
   "cell_type": "markdown",
   "id": "33aff566-6c4f-4919-88f5-9709eb8919af",
   "metadata": {},
   "source": [
    "Upon examination, it becomes evident that the category `Software`, which had the highest number of `backers`, yet only a limited subset of these projects achieved success. Interestingly, the category `Gadgets` exhibits the most favorable success-failure ratio among the top three categories by `backers` count, concurrently holding the highest percentage of pledged funds. Consequently, considering these factors, projects related to `Gadgets` emerge as notably successful within the dataset.\n",
    "\r\n",
    "\r\n",
    "\r\n",
    "\n",
    "\r\n",
    "\r\n",
    "\r\n"
   ]
  },
  {
   "cell_type": "markdown",
   "id": "ce93172d-c3c1-4ec3-a076-1d5beb4c15ef",
   "metadata": {},
   "source": [
    "#### Games Category"
   ]
  },
  {
   "cell_type": "markdown",
   "id": "5726278c-5429-44d7-b002-8890c7b05576",
   "metadata": {
    "scrolled": true
   },
   "source": [
    "Now our focus is on the `Games` category, let's examine the number of `backers` this category attracts and explore the success-failure ratio for projects within this specific category.\n",
    "\r\n",
    "\r\n",
    "\r\n"
   ]
  },
  {
   "cell_type": "code",
   "execution_count": 15,
   "id": "1582588c-3d91-4f18-8d0d-a2651dc29ff3",
   "metadata": {},
   "outputs": [
    {
     "data": {
      "image/png": "[encoded data removed]",
      "text/plain": [
       "<Figure size 640x480 with 1 Axes>"
      ]
     },
     "metadata": {},
     "output_type": "display_data"
    }
   ],
   "source": [
    "# Filter for games category\n",
    "games_df = ksprojects_df[ksprojects_df['category'] == 'Games']\n",
    "\n",
    "# Create pie chart\n",
    "fig1, ax = plt.subplots()\n",
    "games_df['state'].value_counts().plot(kind='pie', autopct='%1.1f%%', \n",
    "                                      colors=['coral', 'grey'], startangle=90, pctdistance=0.85)\n",
    "\n",
    "\n",
    "# Ajust circle\n",
    "centre_circle = plt.Circle((0,0),0.70,fc='white')\n",
    "fig = plt.gcf()\n",
    "fig.gca().add_artist(centre_circle)\n",
    "\n",
    "# Equal aspect ratio ensures that pie is drawn as a circle\n",
    "ax.axis('equal')  \n",
    "plt.tight_layout()\n",
    "plt.title('Category Games: Distribution of Failed and Successful Projects')\n",
    "plt.ylabel('')\n",
    "\n",
    "plt.show()"
   ]
  },
  {
   "cell_type": "markdown",
   "id": "0546f4d8-c52c-4b97-b52f-0859d0eb1f27",
   "metadata": {},
   "source": [
    "The success-failure ratio of projects in the `Games` category is skewed towards failure, with over two-thirds of the projects ending in failure. Now let's examine the count of `backers` differentiated by `state`."
   ]
  },
  {
   "cell_type": "code",
   "execution_count": 16,
   "id": "acdf13fd-cf12-4377-bfa9-bed5817d1c14",
   "metadata": {
    "scrolled": true
   },
   "outputs": [
    {
     "data": {
      "text/plain": [
       "state\n",
       "failed         13.882956\n",
       "successful    296.920411\n",
       "Name: backers, dtype: float64"
      ]
     },
     "execution_count": 16,
     "metadata": {},
     "output_type": "execute_result"
    }
   ],
   "source": [
    "# Group by state and calculate mean backer count \n",
    "games_df.groupby('state')['backers'].mean()"
   ]
  },
  {
   "cell_type": "markdown",
   "id": "6e825782-00f2-4b29-8825-fcc8cb1969d1",
   "metadata": {},
   "source": [
    "In the event of a failed project in the `Games` category, the average number of `backers` is merely 14. Conversely, for successful projects in this category, the mean `backer` count significantly increases to 297. This notable difference suggests that achieving a successful campaign in the `games` category is associated with attaining a `backer` count around the category mean.\n",
    "\r\n",
    "\r\n",
    "\r\n"
   ]
  },
  {
   "cell_type": "markdown",
   "id": "d44c54eb-e547-4cd1-bd3a-e5987037a408",
   "metadata": {},
   "source": [
    "#### Conclusion"
   ]
  },
  {
   "cell_type": "markdown",
   "id": "9bb43fcf-1e7e-46be-b433-e6131fb00761",
   "metadata": {},
   "source": [
    "In conclusion, this project involved a comprehensive analysis of `Kickstarter` data sourced from `Kaggle`. Utilizing `Jupyter Notebook`, we seamlessly integrated `SQL` queries and `Python`. Key findings revealed insights into project success and failure rates, with a focus on categories such as `Software`, `Drinks`, and '`Gadgets`. The examination of `backer` counts in the `Games` category shed light on success-failure ratios, emphasizing the importance of achieving a `backer` count around the category mean for a successful campaign. This integrated approach gave a first impression of the power of combining `SQL` and `Python` within the `Jupyter Notebook` environment for effective and insightful data analysis."
   ]
  }
 ],
 "metadata": {
  "kernelspec": {
   "display_name": "Python 3 (ipykernel)",
   "language": "python",
   "name": "python3"
  },
  "language_info": {
   "codemirror_mode": {
    "name": "ipython",
    "version": 3
   },
   "file_extension": ".py",
   "mimetype": "text/x-python",
   "name": "python",
   "nbconvert_exporter": "python",
   "pygments_lexer": "ipython3",
   "version": "3.10.13"
  }
 },
 "nbformat": 4,
 "nbformat_minor": 5
}
