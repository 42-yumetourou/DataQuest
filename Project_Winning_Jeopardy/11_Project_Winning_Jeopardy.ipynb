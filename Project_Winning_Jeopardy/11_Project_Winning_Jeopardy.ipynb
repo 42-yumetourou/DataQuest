{
 "cells": [
  {
   "cell_type": "markdown",
   "id": "3fb812bd-0cc8-4009-812f-440fa44bb302",
   "metadata": {},
   "source": [
    "<img src=\"Jeopardy_S37_OnSetLogo-smaller.webp\" style=\"display:block; margin:auto\" width=350>\n",
    "\n",
    "<h1><center>Project: Winning Jeopardy</center></h1>\n",
    "\n",
    "`Jeopardy!` is a long-running American television game show created by Merv Griffin. It first premiered in 1964 and has since become one of the most iconic and enduring game shows in television history. The show features a unique format where contestants are presented with general knowledge clues in the form of answers, and they must phrase their responses in the form of questions.\n",
    "\n",
    "The game is divided into three rounds: the Jeopardy round, the Double Jeopardy round, and Final Jeopardy. In each round, contestants select clues from a game board that is divided into categories and point values. Contestants can accumulate points by providing correct responses, and they can also wager points in the Final Jeopardy round based on their confidence in the category.\n",
    "\n",
    "The show's format, challenging questions, and iconic theme music have made it a cultural phenomenon, with fans spanning generations. It has won numerous awards and accolades throughout its history and remains a beloved staple of American television.\n",
    "\n",
    "#### Goal\n",
    "\n",
    "Imagine that you want to compete on Jeopardy, and you're looking for any way to win. In this project, we'll work with a dataset of `Jeopardy!` questions to figure out some patterns in the questions that could help you win.\n",
    "\n",
    "#### Data\n",
    "\n",
    "The dataset contains 20000 rows from the beginning of a full dataset of Jeopardy questions, which you can download [here](https://www.reddit.com/r/datasets/comments/1uyd0t/200000_jeopardy_questions_in_a_json_file/).\n",
    "\n",
    "The data contains the following columns:\n",
    "\n",
    "- `Show Number` - the Jeopardy episode number\n",
    "- `Air Date` - the date the episode aired\n",
    "- `Round` - the round of Jeopardy\n",
    "- `Category` - the category of the question\n",
    "- `Value` - the number of dollars the correct answer is worth\n",
    "- `Question` - the text of the question\n",
    "- `Answer` - the text of the answer\n",
    "\n",
    "\n",
    "*This project was completed as part of the Data Science Career Path offered by dataquest.io.*"
   ]
  },
  {
   "cell_type": "markdown",
   "id": "4f84b009-fc9a-4904-a08c-e1dbcc94d120",
   "metadata": {},
   "source": [
    "#### The Data"
   ]
  },
  {
   "cell_type": "code",
   "execution_count": 1,
   "id": "caba9b67-361a-4828-b72b-3c98115d68e1",
   "metadata": {},
   "outputs": [],
   "source": [
    "# Import relevant packages\n",
    "import pandas as pd\n",
    "import numpy as np\n",
    "from scipy.stats import chisquare\n",
    "import re\n",
    "import random"
   ]
  },
  {
   "cell_type": "code",
   "execution_count": 2,
   "id": "58c3fd4c-1c65-4d67-9309-56eb7a9ee41c",
   "metadata": {},
   "outputs": [],
   "source": [
    "# Read in the json data\n",
    "jeopardy = pd.read_json('jeo.json')"
   ]
  },
  {
   "cell_type": "code",
   "execution_count": 3,
   "id": "c2523474-5d53-4138-9cac-743aa476d7c4",
   "metadata": {},
   "outputs": [
    {
     "name": "stdout",
     "output_type": "stream",
     "text": [
      "<class 'pandas.core.frame.DataFrame'>\n",
      "RangeIndex: 216930 entries, 0 to 216929\n",
      "Data columns (total 7 columns):\n",
      " #   Column       Non-Null Count   Dtype \n",
      "---  ------       --------------   ----- \n",
      " 0   category     216930 non-null  object\n",
      " 1   air_date     216930 non-null  object\n",
      " 2   question     216930 non-null  object\n",
      " 3   value        213296 non-null  object\n",
      " 4   answer       216930 non-null  object\n",
      " 5   round        216930 non-null  object\n",
      " 6   show_number  216930 non-null  int64 \n",
      "dtypes: int64(1), object(6)\n",
      "memory usage: 11.6+ MB\n"
     ]
    }
   ],
   "source": [
    "# Check information of the dataset\n",
    "jeopardy.info()"
   ]
  },
  {
   "cell_type": "code",
   "execution_count": 4,
   "id": "56ca9648-ff00-497a-b34c-f71c23c18bf4",
   "metadata": {},
   "outputs": [
    {
     "data": {
      "text/html": [
       "<div>\n",
       "<style scoped>\n",
       "    .dataframe tbody tr th:only-of-type {\n",
       "        vertical-align: middle;\n",
       "    }\n",
       "\n",
       "    .dataframe tbody tr th {\n",
       "        vertical-align: top;\n",
       "    }\n",
       "\n",
       "    .dataframe thead th {\n",
       "        text-align: right;\n",
       "    }\n",
       "</style>\n",
       "<table border=\"1\" class=\"dataframe\">\n",
       "  <thead>\n",
       "    <tr style=\"text-align: right;\">\n",
       "      <th></th>\n",
       "      <th>category</th>\n",
       "      <th>air_date</th>\n",
       "      <th>question</th>\n",
       "      <th>value</th>\n",
       "      <th>answer</th>\n",
       "      <th>round</th>\n",
       "      <th>show_number</th>\n",
       "    </tr>\n",
       "  </thead>\n",
       "  <tbody>\n",
       "    <tr>\n",
       "      <th>0</th>\n",
       "      <td>HISTORY</td>\n",
       "      <td>2004-12-31</td>\n",
       "      <td>'For the last 8 years of his life, Galileo was...</td>\n",
       "      <td>$200</td>\n",
       "      <td>Copernicus</td>\n",
       "      <td>Jeopardy!</td>\n",
       "      <td>4680</td>\n",
       "    </tr>\n",
       "    <tr>\n",
       "      <th>1</th>\n",
       "      <td>ESPN's TOP 10 ALL-TIME ATHLETES</td>\n",
       "      <td>2004-12-31</td>\n",
       "      <td>'No. 2: 1912 Olympian; football star at Carlis...</td>\n",
       "      <td>$200</td>\n",
       "      <td>Jim Thorpe</td>\n",
       "      <td>Jeopardy!</td>\n",
       "      <td>4680</td>\n",
       "    </tr>\n",
       "    <tr>\n",
       "      <th>2</th>\n",
       "      <td>EVERYBODY TALKS ABOUT IT...</td>\n",
       "      <td>2004-12-31</td>\n",
       "      <td>'The city of Yuma in this state has a record a...</td>\n",
       "      <td>$200</td>\n",
       "      <td>Arizona</td>\n",
       "      <td>Jeopardy!</td>\n",
       "      <td>4680</td>\n",
       "    </tr>\n",
       "    <tr>\n",
       "      <th>3</th>\n",
       "      <td>THE COMPANY LINE</td>\n",
       "      <td>2004-12-31</td>\n",
       "      <td>'In 1963, live on \"The Art Linkletter Show\", t...</td>\n",
       "      <td>$200</td>\n",
       "      <td>McDonald\\'s</td>\n",
       "      <td>Jeopardy!</td>\n",
       "      <td>4680</td>\n",
       "    </tr>\n",
       "    <tr>\n",
       "      <th>4</th>\n",
       "      <td>EPITAPHS &amp; TRIBUTES</td>\n",
       "      <td>2004-12-31</td>\n",
       "      <td>'Signer of the Dec. of Indep., framer of the C...</td>\n",
       "      <td>$200</td>\n",
       "      <td>John Adams</td>\n",
       "      <td>Jeopardy!</td>\n",
       "      <td>4680</td>\n",
       "    </tr>\n",
       "  </tbody>\n",
       "</table>\n",
       "</div>"
      ],
      "text/plain": [
       "                          category    air_date  \\\n",
       "0                          HISTORY  2004-12-31   \n",
       "1  ESPN's TOP 10 ALL-TIME ATHLETES  2004-12-31   \n",
       "2      EVERYBODY TALKS ABOUT IT...  2004-12-31   \n",
       "3                 THE COMPANY LINE  2004-12-31   \n",
       "4              EPITAPHS & TRIBUTES  2004-12-31   \n",
       "\n",
       "                                            question value       answer  \\\n",
       "0  'For the last 8 years of his life, Galileo was...  $200   Copernicus   \n",
       "1  'No. 2: 1912 Olympian; football star at Carlis...  $200   Jim Thorpe   \n",
       "2  'The city of Yuma in this state has a record a...  $200      Arizona   \n",
       "3  'In 1963, live on \"The Art Linkletter Show\", t...  $200  McDonald\\'s   \n",
       "4  'Signer of the Dec. of Indep., framer of the C...  $200   John Adams   \n",
       "\n",
       "       round  show_number  \n",
       "0  Jeopardy!         4680  \n",
       "1  Jeopardy!         4680  \n",
       "2  Jeopardy!         4680  \n",
       "3  Jeopardy!         4680  \n",
       "4  Jeopardy!         4680  "
      ]
     },
     "execution_count": 4,
     "metadata": {},
     "output_type": "execute_result"
    }
   ],
   "source": [
    "# Show the first rows of the dataset\n",
    "jeopardy.head()"
   ]
  },
  {
   "cell_type": "code",
   "execution_count": 5,
   "id": "890649ac-0c92-429d-8c77-c2a50ac6a8bd",
   "metadata": {
    "scrolled": true
   },
   "outputs": [
    {
     "data": {
      "text/plain": [
       "Index(['category', 'air_date', 'question', 'value', 'answer', 'round',\n",
       "       'show_number'],\n",
       "      dtype='object')"
      ]
     },
     "execution_count": 5,
     "metadata": {},
     "output_type": "execute_result"
    }
   ],
   "source": [
    "# Remove spacing in column section\n",
    "jeopardy.columns = jeopardy.columns.str.replace(' ', '')\n",
    "jeopardy.columns"
   ]
  },
  {
   "cell_type": "markdown",
   "id": "abf3b08c-7900-4a49-be5c-8ef7393f8a11",
   "metadata": {},
   "source": [
    "Before we can start doing analysis on the `Jeopardy` questions, we need to normalize all of the text columns (the Question and Answer columns). The idea is to ensure that you put words in lowercase and remove punctuation so `Don't` and `don't` aren't considered to be different words when you compare them."
   ]
  },
  {
   "cell_type": "code",
   "execution_count": 6,
   "id": "7a3fd034-7fe6-400b-a441-d1258b350998",
   "metadata": {},
   "outputs": [],
   "source": [
    "# Create a function to clean the question and answer columns\n",
    "def normalize(string):\n",
    "    string = string.lower()\n",
    "    string = re.sub(\"[^A-Za-z0-9\\s]\", \"\", string)\n",
    "    string = re.sub(\"\\s+\", \" \", string)\n",
    "    return string\n",
    "\n",
    "# Use apply with normalize function for the specific columns\n",
    "jeopardy['clean_question'] = jeopardy['question'].apply(normalize)\n",
    "jeopardy['clean_answer'] = jeopardy['answer'].apply(normalize)"
   ]
  },
  {
   "cell_type": "code",
   "execution_count": 7,
   "id": "bfcc76bf-6b5f-4872-b654-97306d1ebba4",
   "metadata": {
    "scrolled": true
   },
   "outputs": [
    {
     "data": {
      "text/html": [
       "<div>\n",
       "<style scoped>\n",
       "    .dataframe tbody tr th:only-of-type {\n",
       "        vertical-align: middle;\n",
       "    }\n",
       "\n",
       "    .dataframe tbody tr th {\n",
       "        vertical-align: top;\n",
       "    }\n",
       "\n",
       "    .dataframe thead th {\n",
       "        text-align: right;\n",
       "    }\n",
       "</style>\n",
       "<table border=\"1\" class=\"dataframe\">\n",
       "  <thead>\n",
       "    <tr style=\"text-align: right;\">\n",
       "      <th></th>\n",
       "      <th>category</th>\n",
       "      <th>air_date</th>\n",
       "      <th>question</th>\n",
       "      <th>value</th>\n",
       "      <th>answer</th>\n",
       "      <th>round</th>\n",
       "      <th>show_number</th>\n",
       "      <th>clean_question</th>\n",
       "      <th>clean_answer</th>\n",
       "    </tr>\n",
       "  </thead>\n",
       "  <tbody>\n",
       "    <tr>\n",
       "      <th>0</th>\n",
       "      <td>HISTORY</td>\n",
       "      <td>2004-12-31</td>\n",
       "      <td>'For the last 8 years of his life, Galileo was...</td>\n",
       "      <td>$200</td>\n",
       "      <td>Copernicus</td>\n",
       "      <td>Jeopardy!</td>\n",
       "      <td>4680</td>\n",
       "      <td>for the last 8 years of his life galileo was u...</td>\n",
       "      <td>copernicus</td>\n",
       "    </tr>\n",
       "    <tr>\n",
       "      <th>1</th>\n",
       "      <td>ESPN's TOP 10 ALL-TIME ATHLETES</td>\n",
       "      <td>2004-12-31</td>\n",
       "      <td>'No. 2: 1912 Olympian; football star at Carlis...</td>\n",
       "      <td>$200</td>\n",
       "      <td>Jim Thorpe</td>\n",
       "      <td>Jeopardy!</td>\n",
       "      <td>4680</td>\n",
       "      <td>no 2 1912 olympian football star at carlisle i...</td>\n",
       "      <td>jim thorpe</td>\n",
       "    </tr>\n",
       "    <tr>\n",
       "      <th>2</th>\n",
       "      <td>EVERYBODY TALKS ABOUT IT...</td>\n",
       "      <td>2004-12-31</td>\n",
       "      <td>'The city of Yuma in this state has a record a...</td>\n",
       "      <td>$200</td>\n",
       "      <td>Arizona</td>\n",
       "      <td>Jeopardy!</td>\n",
       "      <td>4680</td>\n",
       "      <td>the city of yuma in this state has a record av...</td>\n",
       "      <td>arizona</td>\n",
       "    </tr>\n",
       "    <tr>\n",
       "      <th>3</th>\n",
       "      <td>THE COMPANY LINE</td>\n",
       "      <td>2004-12-31</td>\n",
       "      <td>'In 1963, live on \"The Art Linkletter Show\", t...</td>\n",
       "      <td>$200</td>\n",
       "      <td>McDonald\\'s</td>\n",
       "      <td>Jeopardy!</td>\n",
       "      <td>4680</td>\n",
       "      <td>in 1963 live on the art linkletter show this c...</td>\n",
       "      <td>mcdonalds</td>\n",
       "    </tr>\n",
       "    <tr>\n",
       "      <th>4</th>\n",
       "      <td>EPITAPHS &amp; TRIBUTES</td>\n",
       "      <td>2004-12-31</td>\n",
       "      <td>'Signer of the Dec. of Indep., framer of the C...</td>\n",
       "      <td>$200</td>\n",
       "      <td>John Adams</td>\n",
       "      <td>Jeopardy!</td>\n",
       "      <td>4680</td>\n",
       "      <td>signer of the dec of indep framer of the const...</td>\n",
       "      <td>john adams</td>\n",
       "    </tr>\n",
       "  </tbody>\n",
       "</table>\n",
       "</div>"
      ],
      "text/plain": [
       "                          category    air_date  \\\n",
       "0                          HISTORY  2004-12-31   \n",
       "1  ESPN's TOP 10 ALL-TIME ATHLETES  2004-12-31   \n",
       "2      EVERYBODY TALKS ABOUT IT...  2004-12-31   \n",
       "3                 THE COMPANY LINE  2004-12-31   \n",
       "4              EPITAPHS & TRIBUTES  2004-12-31   \n",
       "\n",
       "                                            question value       answer  \\\n",
       "0  'For the last 8 years of his life, Galileo was...  $200   Copernicus   \n",
       "1  'No. 2: 1912 Olympian; football star at Carlis...  $200   Jim Thorpe   \n",
       "2  'The city of Yuma in this state has a record a...  $200      Arizona   \n",
       "3  'In 1963, live on \"The Art Linkletter Show\", t...  $200  McDonald\\'s   \n",
       "4  'Signer of the Dec. of Indep., framer of the C...  $200   John Adams   \n",
       "\n",
       "       round  show_number                                     clean_question  \\\n",
       "0  Jeopardy!         4680  for the last 8 years of his life galileo was u...   \n",
       "1  Jeopardy!         4680  no 2 1912 olympian football star at carlisle i...   \n",
       "2  Jeopardy!         4680  the city of yuma in this state has a record av...   \n",
       "3  Jeopardy!         4680  in 1963 live on the art linkletter show this c...   \n",
       "4  Jeopardy!         4680  signer of the dec of indep framer of the const...   \n",
       "\n",
       "  clean_answer  \n",
       "0   copernicus  \n",
       "1   jim thorpe  \n",
       "2      arizona  \n",
       "3    mcdonalds  \n",
       "4   john adams  "
      ]
     },
     "execution_count": 7,
     "metadata": {},
     "output_type": "execute_result"
    }
   ],
   "source": [
    "# print the first rows of jeopardy dataset\n",
    "jeopardy.head()"
   ]
  },
  {
   "cell_type": "markdown",
   "id": "6e1a8425-9a96-40de-b40f-0c1529875822",
   "metadata": {},
   "source": [
    "Now that we've normalized the text columns, there are also some other columns to normalize. The `Value` column should be numeric, to allow us to manipulate it easier. We'll need to remove the dollar sign from the beginning of each value and convert the column from text to numeric. The `Air Date` column should also be a datetime, not a string, to enable us to work it easier."
   ]
  },
  {
   "cell_type": "code",
   "execution_count": 8,
   "id": "4ca996dc-c14b-44e0-88ab-f17e1f2dde2f",
   "metadata": {
    "scrolled": true
   },
   "outputs": [],
   "source": [
    "# Create a function to clean the value column\n",
    "def normalize_value(string):\n",
    "    string = re.sub(\"[^A-Za-z0-9\\s]\", \"\", str(string))\n",
    "    try:\n",
    "        string = int(string)\n",
    "    except ValueError:\n",
    "        string = 0\n",
    "    return string\n",
    "\n",
    "# Use function for the value column\n",
    "jeopardy['clean_value'] = jeopardy['value'].apply(normalize_value)"
   ]
  },
  {
   "cell_type": "code",
   "execution_count": 9,
   "id": "9994bdb2-a7f7-4bb6-8fa8-0795aafbdc8b",
   "metadata": {},
   "outputs": [],
   "source": [
    "# Transform air_date to datetime format\n",
    "jeopardy['air_date'] = pd.to_datetime(jeopardy['air_date'])"
   ]
  },
  {
   "cell_type": "code",
   "execution_count": 10,
   "id": "8ffa71c1-a769-453d-b699-bf0a01bc7cab",
   "metadata": {},
   "outputs": [
    {
     "data": {
      "text/html": [
       "<div>\n",
       "<style scoped>\n",
       "    .dataframe tbody tr th:only-of-type {\n",
       "        vertical-align: middle;\n",
       "    }\n",
       "\n",
       "    .dataframe tbody tr th {\n",
       "        vertical-align: top;\n",
       "    }\n",
       "\n",
       "    .dataframe thead th {\n",
       "        text-align: right;\n",
       "    }\n",
       "</style>\n",
       "<table border=\"1\" class=\"dataframe\">\n",
       "  <thead>\n",
       "    <tr style=\"text-align: right;\">\n",
       "      <th></th>\n",
       "      <th>category</th>\n",
       "      <th>air_date</th>\n",
       "      <th>question</th>\n",
       "      <th>value</th>\n",
       "      <th>answer</th>\n",
       "      <th>round</th>\n",
       "      <th>show_number</th>\n",
       "      <th>clean_question</th>\n",
       "      <th>clean_answer</th>\n",
       "      <th>clean_value</th>\n",
       "    </tr>\n",
       "  </thead>\n",
       "  <tbody>\n",
       "    <tr>\n",
       "      <th>0</th>\n",
       "      <td>HISTORY</td>\n",
       "      <td>2004-12-31</td>\n",
       "      <td>'For the last 8 years of his life, Galileo was...</td>\n",
       "      <td>$200</td>\n",
       "      <td>Copernicus</td>\n",
       "      <td>Jeopardy!</td>\n",
       "      <td>4680</td>\n",
       "      <td>for the last 8 years of his life galileo was u...</td>\n",
       "      <td>copernicus</td>\n",
       "      <td>200</td>\n",
       "    </tr>\n",
       "    <tr>\n",
       "      <th>1</th>\n",
       "      <td>ESPN's TOP 10 ALL-TIME ATHLETES</td>\n",
       "      <td>2004-12-31</td>\n",
       "      <td>'No. 2: 1912 Olympian; football star at Carlis...</td>\n",
       "      <td>$200</td>\n",
       "      <td>Jim Thorpe</td>\n",
       "      <td>Jeopardy!</td>\n",
       "      <td>4680</td>\n",
       "      <td>no 2 1912 olympian football star at carlisle i...</td>\n",
       "      <td>jim thorpe</td>\n",
       "      <td>200</td>\n",
       "    </tr>\n",
       "    <tr>\n",
       "      <th>2</th>\n",
       "      <td>EVERYBODY TALKS ABOUT IT...</td>\n",
       "      <td>2004-12-31</td>\n",
       "      <td>'The city of Yuma in this state has a record a...</td>\n",
       "      <td>$200</td>\n",
       "      <td>Arizona</td>\n",
       "      <td>Jeopardy!</td>\n",
       "      <td>4680</td>\n",
       "      <td>the city of yuma in this state has a record av...</td>\n",
       "      <td>arizona</td>\n",
       "      <td>200</td>\n",
       "    </tr>\n",
       "    <tr>\n",
       "      <th>3</th>\n",
       "      <td>THE COMPANY LINE</td>\n",
       "      <td>2004-12-31</td>\n",
       "      <td>'In 1963, live on \"The Art Linkletter Show\", t...</td>\n",
       "      <td>$200</td>\n",
       "      <td>McDonald\\'s</td>\n",
       "      <td>Jeopardy!</td>\n",
       "      <td>4680</td>\n",
       "      <td>in 1963 live on the art linkletter show this c...</td>\n",
       "      <td>mcdonalds</td>\n",
       "      <td>200</td>\n",
       "    </tr>\n",
       "    <tr>\n",
       "      <th>4</th>\n",
       "      <td>EPITAPHS &amp; TRIBUTES</td>\n",
       "      <td>2004-12-31</td>\n",
       "      <td>'Signer of the Dec. of Indep., framer of the C...</td>\n",
       "      <td>$200</td>\n",
       "      <td>John Adams</td>\n",
       "      <td>Jeopardy!</td>\n",
       "      <td>4680</td>\n",
       "      <td>signer of the dec of indep framer of the const...</td>\n",
       "      <td>john adams</td>\n",
       "      <td>200</td>\n",
       "    </tr>\n",
       "  </tbody>\n",
       "</table>\n",
       "</div>"
      ],
      "text/plain": [
       "                          category   air_date  \\\n",
       "0                          HISTORY 2004-12-31   \n",
       "1  ESPN's TOP 10 ALL-TIME ATHLETES 2004-12-31   \n",
       "2      EVERYBODY TALKS ABOUT IT... 2004-12-31   \n",
       "3                 THE COMPANY LINE 2004-12-31   \n",
       "4              EPITAPHS & TRIBUTES 2004-12-31   \n",
       "\n",
       "                                            question value       answer  \\\n",
       "0  'For the last 8 years of his life, Galileo was...  $200   Copernicus   \n",
       "1  'No. 2: 1912 Olympian; football star at Carlis...  $200   Jim Thorpe   \n",
       "2  'The city of Yuma in this state has a record a...  $200      Arizona   \n",
       "3  'In 1963, live on \"The Art Linkletter Show\", t...  $200  McDonald\\'s   \n",
       "4  'Signer of the Dec. of Indep., framer of the C...  $200   John Adams   \n",
       "\n",
       "       round  show_number                                     clean_question  \\\n",
       "0  Jeopardy!         4680  for the last 8 years of his life galileo was u...   \n",
       "1  Jeopardy!         4680  no 2 1912 olympian football star at carlisle i...   \n",
       "2  Jeopardy!         4680  the city of yuma in this state has a record av...   \n",
       "3  Jeopardy!         4680  in 1963 live on the art linkletter show this c...   \n",
       "4  Jeopardy!         4680  signer of the dec of indep framer of the const...   \n",
       "\n",
       "  clean_answer  clean_value  \n",
       "0   copernicus          200  \n",
       "1   jim thorpe          200  \n",
       "2      arizona          200  \n",
       "3    mcdonalds          200  \n",
       "4   john adams          200  "
      ]
     },
     "execution_count": 10,
     "metadata": {},
     "output_type": "execute_result"
    }
   ],
   "source": [
    "# Check first rows of jeopardy\n",
    "jeopardy.head()"
   ]
  },
  {
   "cell_type": "code",
   "execution_count": 11,
   "id": "e3212c9c-f0fd-43a1-89e7-372616f81469",
   "metadata": {
    "scrolled": true
   },
   "outputs": [
    {
     "name": "stdout",
     "output_type": "stream",
     "text": [
      "<class 'pandas.core.frame.DataFrame'>\n",
      "RangeIndex: 216930 entries, 0 to 216929\n",
      "Data columns (total 10 columns):\n",
      " #   Column          Non-Null Count   Dtype         \n",
      "---  ------          --------------   -----         \n",
      " 0   category        216930 non-null  object        \n",
      " 1   air_date        216930 non-null  datetime64[ns]\n",
      " 2   question        216930 non-null  object        \n",
      " 3   value           213296 non-null  object        \n",
      " 4   answer          216930 non-null  object        \n",
      " 5   round           216930 non-null  object        \n",
      " 6   show_number     216930 non-null  int64         \n",
      " 7   clean_question  216930 non-null  object        \n",
      " 8   clean_answer    216930 non-null  object        \n",
      " 9   clean_value     216930 non-null  int64         \n",
      "dtypes: datetime64[ns](1), int64(2), object(7)\n",
      "memory usage: 16.6+ MB\n"
     ]
    }
   ],
   "source": [
    "# Show information about the adjusted jeopardy dataset\n",
    "jeopardy.info()"
   ]
  },
  {
   "cell_type": "markdown",
   "id": "9ec885a3-e838-4601-8e2c-8e4ee16373ad",
   "metadata": {},
   "source": [
    "In order to figure out whether to study past questions, study general knowledge, or not study it all, it would be helpful to figure out two things:\n",
    "\n",
    "- How often the answer can be used for a question.\n",
    "- How often questions are repeated.\n",
    "\n",
    "We'll answer the first question by seeing how many times words in the answer also occur in the question. In order to archieve this goal, we'll write a function that takes in a row in jeopardy, as a Series."
   ]
  },
  {
   "cell_type": "code",
   "execution_count": 12,
   "id": "ac361180-bfc4-4aba-9181-18e3e46139cf",
   "metadata": {},
   "outputs": [],
   "source": [
    "# Create a function which checks if words occur in questions and answers\n",
    "def repeat_question(series):\n",
    "    split_answer = series['clean_answer'].split()\n",
    "    split_question = series['clean_question'].split()\n",
    "    \n",
    "    match_count = 0\n",
    "\n",
    "    for value in split_answer:\n",
    "        if value == 'the':\n",
    "            split_answer.remove(value)\n",
    "    if len(split_answer) == 0:\n",
    "        return 0\n",
    "        \n",
    "    for item in split_answer:\n",
    "        if item in split_question:\n",
    "            match_count += 1\n",
    "\n",
    "    result = match_count / len(split_answer)\n",
    "    return result\n",
    "\n",
    "# Use the function on the dataset, set axis to 1 and create a new column called 'answer_in_question'\n",
    "jeopardy['answer_in_question'] = jeopardy.apply(repeat_question, axis=1)"
   ]
  },
  {
   "cell_type": "code",
   "execution_count": 13,
   "id": "35928149-9ebe-4ff3-94ad-b886887df0d2",
   "metadata": {},
   "outputs": [
    {
     "data": {
      "text/plain": [
       "0.05578233100688502"
      ]
     },
     "execution_count": 13,
     "metadata": {},
     "output_type": "execute_result"
    }
   ],
   "source": [
    "# Check the mean value of new column\n",
    "jeopardy['answer_in_question'].mean()"
   ]
  },
  {
   "cell_type": "markdown",
   "id": "7d0a2ddd-74c6-4c17-a5bf-65c4ff2afdb2",
   "metadata": {},
   "source": [
    "Above we created the function  `repeat_question()`. First, this function creates two new variables, splitted versions of `clean_answer` and `clean_question` columns. It also initiates the `match_count` variable, with value 0. After that, the function looks for `the` values and length 0 in split_answer. This values will be removed or set to 0. In the second last step, the function iterates through `split_answer` and compares the values with values in `split_question`. If these values match, then `match_count` increases by one. The result of `match_count` divided by the length of `split_answer` is returned.\n",
    "\n",
    "On average, the answer only makes up for about 6% of the question. This isn't a huge number, and it means that we probably can't just hope that hearing a question will enable us to determine the answer. We'll probably have to study.t."
   ]
  },
  {
   "cell_type": "markdown",
   "id": "2e39e553-09ac-4479-ad86-de761698a061",
   "metadata": {},
   "source": [
    "#### Recycled Questions\n",
    "\n",
    "Now let's say we want to investigate how often new questions are repeats of older ones. We can't completely answer this, because we only have about 10% of the full Jeopardy question dataset, but we can investigate it at least. Let's do this next."
   ]
  },
  {
   "cell_type": "code",
   "execution_count": 14,
   "id": "a109ec56-5488-4426-9698-dbabba09b6fb",
   "metadata": {},
   "outputs": [
    {
     "name": "stdout",
     "output_type": "stream",
     "text": [
      "0.8654625652482993\n"
     ]
    }
   ],
   "source": [
    "# Initiate a set and a list\n",
    "terms_used = set()\n",
    "question_overlap = []\n",
    "\n",
    "# Loop through jeopardy_sorted\n",
    "jeopardy = jeopardy.sort_values(\"air_date\")\n",
    "\n",
    "for i, row in jeopardy.iterrows():\n",
    "        split_question = row[\"clean_question\"].split(\" \")\n",
    "        split_question = [q for q in split_question if len(q) > 5]\n",
    "        match_count = 0\n",
    "        for word in split_question:\n",
    "            if word in terms_used:\n",
    "                match_count += 1\n",
    "        for word in split_question:\n",
    "            terms_used.add(word)\n",
    "        if len(split_question) > 0:\n",
    "            match_count /= len(split_question)\n",
    "        question_overlap.append(match_count)\n",
    "\n",
    "jeopardy['question_overlap'] = question_overlap\n",
    "print(jeopardy['question_overlap'].mean())"
   ]
  },
  {
   "cell_type": "markdown",
   "id": "6a67a2a9-964a-4b7c-bb95-215ee3f1ffe8",
   "metadata": {},
   "source": [
    "#### Code Explanation"
   ]
  },
  {
   "cell_type": "markdown",
   "id": "3186009f-8775-4d49-823f-49c2d9f98694",
   "metadata": {},
   "source": [
    "1. First we sort the dataset jeopardy based on the column air_date in ascending order. Then we loop  through each row of the sorted jeopardy dataset. For each iteration, i represents the index of the row, and row represents the data (a Series) of the current row. We then split the value of the clean_question column of the current row into a list of words. The list comprehension creates a new list split_question containing only those words from the original split_question list where the length of the word (q) is greater than 5 characters. This filters out words that are 5 characters or shorter.\n",
    "\n",
    "2. We initiate a variable called match_count and set it to 0. This variable will be used to count the number of words in the current question that have been used previously (i.e., are already in the terms_used set).\n",
    "\n",
    "3. We loop through each word (word) in the filtered split_question list and check if the current word (word) has been encountered before, i.e., if it exists in the terms_used set. If the current word (word) has been used before (exists in terms_used), then match_count is incremented by 1.\n",
    "\n",
    "4. Then we loop  through each word (word) in the filtered split_question list again and for each word (word) in the split_question list, regardless of whether it was already in terms_used or not, the word is added to the terms_used set. This set keeps track of all unique words encountered across all questions.\n",
    "\n",
    "5. We check again if there are any words left in the split_question list after filtering out words shorter than 6 characters. If there are words left in the split_question list, this line calculates the ratio of match_count (number of matched words) to the total number of words in the split_question list (len(split_question)). This gives the percentage of words in the current question that have been used before.\n",
    "\n",
    "6. Finally, the calculated overlap ratio (match_count) is appended to a list called question_overlap. This list will contain overlap ratios for each question in the jeopardy data, indicating how much of each question's content has been reused from previous questions."
   ]
  },
  {
   "cell_type": "markdown",
   "id": "25e4e4d5-ed86-4e47-9e73-0478f863cfec",
   "metadata": {},
   "source": [
    "#### Low Value vs. High Value Questions\n",
    "\n",
    "There is about a 87% overlap between terms in new questions and terms in old questions. This only looks at a small set of questions, and it doesn't look at phrases — it looks at single terms. This makes it relatively insignificant, but it does mean that it's worth looking more into the recycling of questions."
   ]
  },
  {
   "cell_type": "code",
   "execution_count": 15,
   "id": "30d1852c-c875-4604-a474-3a577f4eed7a",
   "metadata": {},
   "outputs": [],
   "source": [
    "# Create a function that returns value of 1 or 0\n",
    "def high_low_value(row):\n",
    "    if row['clean_value'] > 800:\n",
    "        value = 1\n",
    "    else:\n",
    "        value = 0\n",
    "    \n",
    "    return value\n",
    "\n",
    "# Use the function to create a new column high_value\n",
    "jeopardy['high_value'] = jeopardy.apply(high_low_value, axis=1)"
   ]
  },
  {
   "cell_type": "code",
   "execution_count": 16,
   "id": "e8658b7e-2883-4278-9287-f0cdd5ba4c03",
   "metadata": {
    "scrolled": true
   },
   "outputs": [
    {
     "data": {
      "text/plain": [
       "high_value\n",
       "0    71.69\n",
       "1    28.31\n",
       "Name: proportion, dtype: float64"
      ]
     },
     "execution_count": 16,
     "metadata": {},
     "output_type": "execute_result"
    }
   ],
   "source": [
    "# Check the distribution of the high_value column\n",
    "round(jeopardy['high_value'].value_counts(normalize=True) * 100, 2)"
   ]
  },
  {
   "cell_type": "code",
   "execution_count": 17,
   "id": "68deef59-c0f1-44d1-b941-7b5d0d149bd2",
   "metadata": {},
   "outputs": [
    {
     "name": "stdout",
     "output_type": "stream",
     "text": [
      "<class 'pandas.core.frame.DataFrame'>\n",
      "Index: 216930 entries, 84523 to 105930\n",
      "Data columns (total 13 columns):\n",
      " #   Column              Non-Null Count   Dtype         \n",
      "---  ------              --------------   -----         \n",
      " 0   category            216930 non-null  object        \n",
      " 1   air_date            216930 non-null  datetime64[ns]\n",
      " 2   question            216930 non-null  object        \n",
      " 3   value               213296 non-null  object        \n",
      " 4   answer              216930 non-null  object        \n",
      " 5   round               216930 non-null  object        \n",
      " 6   show_number         216930 non-null  int64         \n",
      " 7   clean_question      216930 non-null  object        \n",
      " 8   clean_answer        216930 non-null  object        \n",
      " 9   clean_value         216930 non-null  int64         \n",
      " 10  answer_in_question  216930 non-null  float64       \n",
      " 11  question_overlap    216930 non-null  float64       \n",
      " 12  high_value          216930 non-null  int64         \n",
      "dtypes: datetime64[ns](1), float64(2), int64(3), object(7)\n",
      "memory usage: 23.2+ MB\n"
     ]
    }
   ],
   "source": [
    "# Check the info of dataset jeopardy\n",
    "jeopardy.info()"
   ]
  },
  {
   "cell_type": "code",
   "execution_count": 18,
   "id": "572d8619-581a-41a7-9e3c-e95645254a00",
   "metadata": {},
   "outputs": [],
   "source": [
    "# Create a function to categorize questions in high or low value, regarding the categorization before\n",
    "def high_low_count(word):\n",
    "    low_count = 0\n",
    "    high_count = 0\n",
    "\n",
    "    for index, row in jeopardy.iterrows():\n",
    "        split_question = row['clean_question'].split()\n",
    "        if word in split_question:\n",
    "            if row['high_value'] == 1:\n",
    "                high_count += 1\n",
    "            else:\n",
    "                low_count += 1\n",
    "\n",
    "    return high_count, low_count"
   ]
  },
  {
   "cell_type": "markdown",
   "id": "3842bd7a-c443-4547-af3a-226d921fb567",
   "metadata": {},
   "source": [
    "The code above defines a function called high_low_count which takes a word as input and counts how many times that word appears in questions categorized as high-value questions (high_count) and low-value questions (low_count) in the Jeopardy dataset. It iterates through each row of the Jeopardy dataset, splits the question into words, and checks if the input word is present in the question. Depending on whether the question is classified as high-value or low-value (based on the value of the 'high_value' column), it increments the corresponding count. Finally, it returns a tuple containing the counts of high-value and low-value occurrences of the input word."
   ]
  },
  {
   "cell_type": "code",
   "execution_count": 19,
   "id": "faac26fa-3af4-4e6a-a541-f721c6af726e",
   "metadata": {},
   "outputs": [
    {
     "data": {
      "text/plain": [
       "['dentona',\n",
       " 'hrefhttpwwwjarchivecommedia20100615dj08jpg',\n",
       " 'cryophobics',\n",
       " 'protograph',\n",
       " 'kenosha',\n",
       " 'veggiesbr',\n",
       " 'sacrificing',\n",
       " 'hrefhttpwwwjarchivecommedia20110628j06jpg',\n",
       " 'footballs',\n",
       " 'towels']"
      ]
     },
     "execution_count": 19,
     "metadata": {},
     "output_type": "execute_result"
    }
   ],
   "source": [
    "# Create a list\n",
    "comparison_terms = []\n",
    "\n",
    "# Loop in a range of 10 and append a random word to the list\n",
    "for _ in range(10):\n",
    "    comparison_terms.append(random.choice(list(terms_used)))\n",
    "\n",
    "# Check the 10 words appended\n",
    "comparison_terms"
   ]
  },
  {
   "cell_type": "code",
   "execution_count": 20,
   "id": "d4af629f-6964-4a96-8b1d-29394f7a1935",
   "metadata": {},
   "outputs": [
    {
     "data": {
      "text/plain": [
       "[(0, 2),\n",
       " (1, 0),\n",
       " (0, 1),\n",
       " (1, 0),\n",
       " (0, 4),\n",
       " (0, 1),\n",
       " (2, 1),\n",
       " (0, 1),\n",
       " (3, 18),\n",
       " (4, 5)]"
      ]
     },
     "execution_count": 20,
     "metadata": {},
     "output_type": "execute_result"
    }
   ],
   "source": [
    "# Create a empty list\n",
    "observed_expected = []\n",
    "\n",
    "# Loop through the list with 10 words and use the function high_low_count \n",
    "for value in comparison_terms:\n",
    "    result = high_low_count(value)\n",
    "    observed_expected.append(result)\n",
    "\n",
    "# Check the values for these 10 specific words\n",
    "observed_expected"
   ]
  },
  {
   "cell_type": "markdown",
   "id": "7d266db9-863b-454c-8861-ab2135e8117d",
   "metadata": {},
   "source": [
    "Now that we've found the observed counts for a few terms, we can compute the expected counts and the chi-squared value.\n",
    "\n",
    "We'll write code, that calculates the expected counts and performs a chi-squared test for each observed-expected value pair. It iterates through each pair in observed_expected, calculates the total count, calculates the expected counts for high-value and low-value questions, creates arrays for observed and expected counts, performs a chi-squared test using chisquare from the NumPy library, and appends the chi-squared statistic and p-value to a list called chi_squared.\n"
   ]
  },
  {
   "cell_type": "code",
   "execution_count": 21,
   "id": "79ce79f4-c018-465a-a06e-66d41a3bcf80",
   "metadata": {},
   "outputs": [
    {
     "data": {
      "text/plain": [
       "[[0.7899529284667026, 0.3741143592744989],\n",
       " [2.5317964247338085, 0.11157312838169751],\n",
       " [0.3949764642333513, 0.5296950912486695],\n",
       " [2.5317964247338085, 0.11157312838169751],\n",
       " [1.5799058569334052, 0.2087742545638461],\n",
       " [0.3949764642333513, 0.5296950912486695],\n",
       " [2.1740540543895293, 0.14035579428041794],\n",
       " [0.3949764642333513, 0.5296950912486695],\n",
       " [2.0361210587719096, 0.15360089742564473],\n",
       " [1.1536838223971917, 0.2827793222886609]]"
      ]
     },
     "execution_count": 21,
     "metadata": {},
     "output_type": "execute_result"
    }
   ],
   "source": [
    "# Create an empty list\n",
    "chi_squared = []\n",
    "\n",
    "# Save high and low value to variables\n",
    "high_value_count = jeopardy[jeopardy[\"high_value\"] == 1].shape[0]\n",
    "low_value_count = jeopardy[jeopardy[\"high_value\"] == 0].shape[0]\n",
    "\n",
    "for value in observed_expected:\n",
    "    total = sum(value)\n",
    "    total_prop = total / len(jeopardy)\n",
    "    exp_high_value = total_prop * high_value_count\n",
    "    exp_low_value = total_prop * low_value_count\n",
    "\n",
    "    expected = np.array([exp_high_value, exp_low_value])\n",
    "    observed = np.array([value[0], value[1]])\n",
    "    chisquared, p_value = chisquare(observed, expected)\n",
    "    chi_squared.append([chisquared, p_value])\n",
    "\n",
    "# Show the result, firs: chisquared value, second: p_value\n",
    "chi_squared"
   ]
  },
  {
   "cell_type": "markdown",
   "id": "28d87942-d8fa-4ae3-8a03-d562dda00fed",
   "metadata": {},
   "source": [
    "#### Conclusion"
   ]
  },
  {
   "cell_type": "markdown",
   "id": "782497bf-6885-4362-95fc-8afe2f8c1fe0",
   "metadata": {},
   "source": [
    "None of the terms had a significant difference in usage between high value and low value rows. Additionally, most of the frequencies were lower than 5, so the chi-squared test isn't as valid. It would be better to run this test with only terms that have higher frequencies."
   ]
  }
 ],
 "metadata": {
  "kernelspec": {
   "display_name": "Python 3 (ipykernel)",
   "language": "python",
   "name": "python3"
  },
  "language_info": {
   "codemirror_mode": {
    "name": "ipython",
    "version": 3
   },
   "file_extension": ".py",
   "mimetype": "text/x-python",
   "name": "python",
   "nbconvert_exporter": "python",
   "pygments_lexer": "ipython3",
   "version": "3.10.13"
  }
 },
 "nbformat": 4,
 "nbformat_minor": 5
}
